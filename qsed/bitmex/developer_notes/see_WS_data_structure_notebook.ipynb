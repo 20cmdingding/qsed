{
 "cells": [
  {
   "cell_type": "markdown",
   "metadata": {},
   "source": [
    "## instrument"
   ]
  },
  {
   "cell_type": "raw",
   "metadata": {},
   "source": [
    "$ cd ~/Desktop/qsed/qsed \n",
    "$ python -m bitmex.developer_notes.see_WS_data_structure"
   ]
  },
  {
   "cell_type": "raw",
   "metadata": {},
   "source": [
    "[2018-10-15 20:13:03 bitmexWS INFO] ws thread start\n",
    "[2018-10-15 20:13:05 bitmexWS DEBUG] Calling ws.__on_open()\n",
    "[2018-10-15 20:13:05 bitmexWS INFO] Successful connected to BitMEX WebSocket API\n",
    "[2018-10-15 20:13:05 bitmexWS DEBUG] >>> send ping\n",
    "[2018-10-15 20:13:05 bitmexWS INFO] Subscribe to instrument:XBTUSD\n",
    "============================================\n",
    "{'action': 'partial', 'attributes': {'symbol': 'unique'}, 'foreignKeys': {'sellLeg': 'instrument', 'buyLeg': 'instrument', 'inverseLeg': 'instrument'}, 'data': [{'state': 'Open', 'relistInterval': None, 'prevTotalVolume': 95523832265, 'sessionInterval': '2000-01-01T01:00:00.000Z', 'maxPrice': 1000000, 'impactBidPrice': 6439.15, 'lotSize': 1, 'indicativeFundingRate': 0.003549, 'totalVolume': 95529760461, 'fundingInterval': '2000-01-01T08:00:00.000Z', 'limitDownPrice': None, 'listing': '2016-05-04T12:00:00.000Z', 'initMargin': 0.01, 'turnover24h': 4043028336171, 'lowPrice': 6150.5, 'homeNotional24h': 40430.28336171011, 'optionMultiplier': None, 'bidPrice': 6451, 'fundingPremiumSymbol': '.XBTUSDPI8H', 'optionStrikePcnt': None, 'settlCurrency': 'XBt', 'settle': None, 'midPrice': 6451.25, 'prevClosePrice': 6408.69, 'fairPrice': 6399.04, 'takerFee': 0.00075, 'bankruptLimitUpPrice': None, 'positionCurrency': 'USD', 'lastPriceProtected': 6451, 'multiplier': -100000000, 'indicativeSettlePrice': 6387.52, 'lastTickDirection': 'ZeroMinusTick', 'bankruptLimitDownPrice': None, 'fundingRate': 0.001854, 'inverseLeg': '', 'maxOrderQty': 10000000, 'maintMargin': 0.005, 'lastChangePcnt': 0.0368, 'markMethod': 'FairPrice', 'taxed': True, 'sellLeg': '', 'impactAskPrice': 6457.0285, 'publishTime': None, 'turnover': 92252347384, 'fairBasisRate': 2.0301299999999998, 'fairBasis': 11.52, 'timestamp': '2018-10-15T12:13:00.761Z', 'underlyingSymbol': 'XBT=', 'rootSymbol': 'XBT', 'typ': 'FFWCSX', 'expiry': None, 'foreignNotional24h': 257859195, 'reference': 'BMEX', 'volume24h': 257859195, 'vwap': 6377.9578, 'volume': 5928196, 'limitUpPrice': None, 'askPrice': 6451.5, 'riskStep': 10000000000, 'optionUnderlyingPrice': None, 'calcInterval': None, 'prevTotalTurnover': 1366705107553450, 'indicativeTaxRate': 0, 'lastPrice': 6451, 'optionStrikePrice': None, 'front': '2016-05-04T12:00:00.000Z', 'openValue': 3202588316340, 'isInverse': True, 'capped': False, 'quoteToSettleMultiplier': None, 'limit': None, 'markPrice': 6399.04, 'buyLeg': '', 'fundingQuoteSymbol': '.USDBON8H', 'openingTimestamp': '2018-10-15T12:00:00.000Z', 'underlyingToPositionMultiplier': None, 'impactMidPrice': 6448, 'prevPrice24h': 6222, 'rebalanceInterval': None, 'settlementFee': 0, 'optionStrikeRound': None, 'openInterest': 204939420, 'totalTurnover': 1366797359900834, 'closingTimestamp': '2018-10-15T13:00:00.000Z', 'referenceSymbol': '.BXBT', 'underlying': 'XBT', 'rebalanceTimestamp': None, 'publishInterval': None, 'fundingBaseSymbol': '.XBTBON8H', 'riskLimit': 20000000000, 'hasLiquidity': True, 'underlyingToSettleMultiplier': -100000000, 'insuranceFee': 0, 'fairMethod': 'FundingRate', 'makerFee': -0.00025, 'fundingTimestamp': '2018-10-15T20:00:00.000Z', 'settledPrice': None, 'tickSize': 0.5, 'highPrice': 6780, 'deleverage': True, 'symbol': 'XBTUSD', 'isQuanto': False, 'quoteCurrency': 'USD'}], 'table': 'instrument', 'filter': {'symbol': 'XBTUSD'}, 'types': {'state': 'symbol', 'relistInterval': 'timespan', 'prevTotalVolume': 'long', 'sessionInterval': 'timespan', 'maxPrice': 'float', 'impactBidPrice': 'float', 'lotSize': 'long', 'indicativeFundingRate': 'float', 'totalVolume': 'long', 'fundingInterval': 'timespan', 'limitDownPrice': 'float', 'listing': 'timestamp', 'initMargin': 'float', 'turnover24h': 'long', 'lowPrice': 'float', 'homeNotional24h': 'float', 'optionMultiplier': 'float', 'bidPrice': 'float', 'fundingPremiumSymbol': 'symbol', 'optionStrikePcnt': 'float', 'settlCurrency': 'symbol', 'settle': 'timestamp', 'midPrice': 'float', 'prevClosePrice': 'float', 'fairPrice': 'float', 'takerFee': 'float', 'bankruptLimitUpPrice': 'float', 'positionCurrency': 'symbol', 'lastPriceProtected': 'float', 'multiplier': 'long', 'indicativeSettlePrice': 'float', 'lastTickDirection': 'symbol', 'bankruptLimitDownPrice': 'float', 'fundingRate': 'float', 'inverseLeg': 'symbol', 'maxOrderQty': 'long', 'maintMargin': 'float', 'lastChangePcnt': 'float', 'markMethod': 'symbol', 'taxed': 'boolean', 'sellLeg': 'symbol', 'impactAskPrice': 'float', 'publishTime': 'timespan', 'turnover': 'long', 'fairBasisRate': 'float', 'fairBasis': 'float', 'timestamp': 'timestamp', 'underlyingSymbol': 'symbol', 'rootSymbol': 'symbol', 'typ': 'symbol', 'expiry': 'timestamp', 'foreignNotional24h': 'float', 'reference': 'symbol', 'volume24h': 'long', 'vwap': 'float', 'volume': 'long', 'limitUpPrice': 'float', 'askPrice': 'float', 'riskStep': 'long', 'optionUnderlyingPrice': 'float', 'calcInterval': 'timespan', 'prevTotalTurnover': 'long', 'indicativeTaxRate': 'float', 'lastPrice': 'float', 'optionStrikePrice': 'float', 'front': 'timestamp', 'openValue': 'long', 'isInverse': 'boolean', 'capped': 'boolean', 'quoteToSettleMultiplier': 'long', 'limit': 'float', 'markPrice': 'float', 'buyLeg': 'symbol', 'fundingQuoteSymbol': 'symbol', 'openingTimestamp': 'timestamp', 'underlyingToPositionMultiplier': 'long', 'impactMidPrice': 'float', 'prevPrice24h': 'float', 'rebalanceInterval': 'timespan', 'settlementFee': 'float', 'optionStrikeRound': 'float', 'openInterest': 'long', 'totalTurnover': 'long', 'closingTimestamp': 'timestamp', 'referenceSymbol': 'symbol', 'underlying': 'symbol', 'rebalanceTimestamp': 'timestamp', 'publishInterval': 'timespan', 'fundingBaseSymbol': 'symbol', 'riskLimit': 'long', 'hasLiquidity': 'boolean', 'underlyingToSettleMultiplier': 'long', 'insuranceFee': 'float', 'fairMethod': 'symbol', 'makerFee': 'float', 'fundingTimestamp': 'timestamp', 'settledPrice': 'float', 'tickSize': 'float', 'highPrice': 'float', 'deleverage': 'boolean', 'symbol': 'symbol', 'isQuanto': 'boolean', 'quoteCurrency': 'symbol'}, 'keys': ['symbol']}\n",
    "============================================\n",
    "{'action': 'update', 'data': [{'lastTickDirection': 'PlusTick', 'lastChangePcnt': 0.0369, 'timestamp': '2018-10-15T12:13:07.589Z', 'lastPrice': 6451.5, 'symbol': 'XBTUSD'}], 'table': 'instrument'}\n",
    "============================================\n",
    "{'action': 'update', 'data': [{'lastTickDirection': 'ZeroPlusTick', 'timestamp': '2018-10-15T12:13:07.636Z', 'symbol': 'XBTUSD'}], 'table': 'instrument'}\n",
    "============================================\n",
    "{'action': 'update', 'data': [{'lastPriceProtected': 6451.5, 'timestamp': '2018-10-15T12:13:07.636Z', 'symbol': 'XBTUSD'}], 'table': 'instrument'}\n",
    "============================================\n",
    "{'action': 'update', 'data': [{'lastTickDirection': 'ZeroMinusTick', 'lastChangePcnt': 0.0368, 'timestamp': '2018-10-15T12:13:09.103Z', 'lastPrice': 6451, 'symbol': 'XBTUSD'}], 'table': 'instrument'}\n",
    "============================================\n",
    "{'action': 'update', 'data': [{'turnover': 92301501051, 'symbol': 'XBTUSD', 'openValue': 3202588378848, 'totalVolume': 95529763632, 'totalTurnover': 1366797409054501, 'openInterest': 204939424, 'timestamp': '2018-10-15T12:13:09.103Z', 'volume': 5931367}], 'table': 'instrument'}\n",
    "============================================\n",
    "{'action': 'update', 'data': [{'impactBidPrice': 6438.3209, 'impactMidPrice': 6447.5, 'lastPriceProtected': 6451, 'symbol': 'XBTUSD', 'impactAskPrice': 6456.6116, 'timestamp': '2018-10-15T12:13:09.103Z'}], 'table': 'instrument'}\n",
    "[2018-10-15 20:13:10 bitmexWS DEBUG] >>> send ping\n",
    "============================================\n",
    "{'action': 'update', 'data': [{'turnover': 92303485179, 'symbol': 'XBTUSD', 'totalVolume': 95529763760, 'totalTurnover': 1366797411038629, 'timestamp': '2018-10-15T12:13:12.790Z', 'volume': 5931495}], 'table': 'instrument'}\n",
    "============================================\n",
    "{'action': 'update', 'data': [{'lastTickDirection': 'PlusTick', 'lastChangePcnt': 0.0369, 'timestamp': '2018-10-15T12:13:14.219Z', 'lastPrice': 6451.5, 'symbol': 'XBTUSD'}], 'table': 'instrument'}\n",
    "[2018-10-15 20:13:15 bitmexWS DEBUG] >>> send ping\n",
    "============================================\n",
    "{'action': 'update', 'data': [{'lastPriceProtected': 6451.5, 'timestamp': '2018-10-15T12:13:15.000Z', 'symbol': 'XBTUSD'}], 'table': 'instrument'}\n",
    "============================================\n",
    "{'action': 'update', 'data': [{'lastTickDirection': 'MinusTick', 'lastChangePcnt': 0.0368, 'timestamp': '2018-10-15T12:13:17.380Z', 'lastPrice': 6451, 'symbol': 'XBTUSD'}], 'table': 'instrument'}\n",
    "============================================\n",
    "{'action': 'update', 'data': [{'lastTickDirection': 'PlusTick', 'lastChangePcnt': 0.0369, 'timestamp': '2018-10-15T12:13:17.661Z', 'lastPrice': 6451.5, 'symbol': 'XBTUSD'}], 'table': 'instrument'}\n",
    "============================================"
   ]
  },
  {
   "cell_type": "markdown",
   "metadata": {},
   "source": [
    "拆解partial"
   ]
  },
  {
   "cell_type": "raw",
   "metadata": {},
   "source": [
    "{\n",
    "'action': 'partial', \n",
    "\n",
    "'attributes': {'symbol': 'unique'}, \n",
    "\n",
    "'foreignKeys': {'sellLeg': 'instrument', 'buyLeg': 'instrument', 'inverseLeg': 'instrument'}, \n",
    "\n",
    "'data': [\n",
    "{'state': 'Open', 'relistInterval': None, 'prevTotalVolume': 95523832265, 'sessionInterval': '2000-01-01T01:00:00.000Z', 'maxPrice': 1000000, 'impactBidPrice': 6439.15, 'indicativeFundingRate': 0.003549, 'totalVolume': 95529760461, 'fundingInterval': '2000-01-01T08:00:00.000Z', 'limitDownPrice': None, 'listing': '2016-05-04T12:00:00.000Z', 'initMargin': 0.01, 'turnover24h': 4043028336171, 'lowPrice': 6150.5, 'homeNotional24h': 40430.28336171011, 'optionMultiplier': None, 'bidPrice': 6451,  'optionStrikePcnt': None,  'settle': None, 'midPrice': 6451.25, 'prevClosePrice': 6408.69, 'fairPrice': 6399.04, 'takerFee': 0.00075, 'bankruptLimitUpPrice': None,  'lastPriceProtected': 6451, 'multiplier': -100000000, 'indicativeSettlePrice': 6387.52, 'lastTickDirection': 'ZeroMinusTick', 'bankruptLimitDownPrice': None, 'fundingRate': 0.001854, 'inverseLeg': '', 'maxOrderQty': 10000000, 'maintMargin': 0.005, 'lastChangePcnt': 0.0368, 'markMethod': 'FairPrice', 'taxed': True, 'sellLeg': '', 'impactAskPrice': 6457.0285, 'publishTime': None, 'turnover': 92252347384, 'fairBasisRate': 2.0301299999999998, 'fairBasis': 11.52, 'timestamp': '2018-10-15T12:13:00.761Z','typ': 'FFWCSX', 'expiry': None, 'foreignNotional24h': 257859195, 'volume24h': 257859195, 'vwap': 6377.9578, 'volume': 5928196, 'limitUpPrice': None, 'askPrice': 6451.5, 'riskStep': 10000000000, 'optionUnderlyingPrice': None, 'calcInterval': None, 'prevTotalTurnover': 1366705107553450, 'indicativeTaxRate': 0, 'lastPrice': 6451, 'optionStrikePrice': None, 'front': '2016-05-04T12:00:00.000Z', 'openValue': 3202588316340, 'isInverse': True, 'capped': False, 'quoteToSettleMultiplier': None, 'limit': None, 'markPrice': 6399.04, 'buyLeg': '',  'openingTimestamp': '2018-10-15T12:00:00.000Z', 'underlyingToPositionMultiplier': None, 'impactMidPrice': 6448, 'prevPrice24h': 6222, 'rebalanceInterval': None, 'settlementFee': 0, 'optionStrikeRound': None, 'openInterest': 204939420, 'totalTurnover': 1366797359900834, 'closingTimestamp': '2018-10-15T13:00:00.000Z', 'rebalanceTimestamp': None, 'publishInterval': None, 'riskLimit': 20000000000, 'hasLiquidity': True, 'underlyingToSettleMultiplier': -100000000, 'insuranceFee': 0, 'fairMethod': 'FundingRate', 'makerFee': -0.00025, 'fundingTimestamp': '2018-10-15T20:00:00.000Z', 'settledPrice': None, 'highPrice': 6780, 'deleverage': True, 'isQuanto': False,  \n",
    "\n",
    "'symbol': 'XBTUSD',\n",
    "'referenceSymbol': '.BXBT', \n",
    "'positionCurrency': 'USD',\n",
    "'quoteCurrency': 'USD', \n",
    "'underlying': 'XBT', \n",
    "'underlyingSymbol': 'XBT=', \n",
    "'rootSymbol': 'XBT', \n",
    "'settlCurrency': 'XBt',\n",
    "'reference': 'BMEX', \n",
    "'fundingQuoteSymbol': '.USDBON8H',\n",
    "'fundingPremiumSymbol': '.XBTUSDPI8H',\n",
    "'fundingBaseSymbol': '.XBTBON8H',  \n",
    "'tickSize': 0.5, \n",
    "'lotSize': 1}\n",
    "], \n",
    "\n",
    "'table': 'instrument', \n",
    "'filter': {'symbol': 'XBTUSD'}, \n",
    "'types': {'state': 'symbol', 'relistInterval': 'timespan', 'prevTotalVolume': 'long', 'sessionInterval': 'timespan', 'maxPrice': 'float', 'impactBidPrice': 'float', 'lotSize': 'long', 'indicativeFundingRate': 'float', 'totalVolume': 'long', 'fundingInterval': 'timespan', 'limitDownPrice': 'float', 'listing': 'timestamp', 'initMargin': 'float', 'turnover24h': 'long', 'lowPrice': 'float', 'homeNotional24h': 'float', 'optionMultiplier': 'float', 'bidPrice': 'float', 'fundingPremiumSymbol': 'symbol', 'optionStrikePcnt': 'float', 'settlCurrency': 'symbol', 'settle': 'timestamp', 'midPrice': 'float', 'prevClosePrice': 'float', 'fairPrice': 'float', 'takerFee': 'float', 'bankruptLimitUpPrice': 'float', 'positionCurrency': 'symbol', 'lastPriceProtected': 'float', 'multiplier': 'long', 'indicativeSettlePrice': 'float', 'lastTickDirection': 'symbol', 'bankruptLimitDownPrice': 'float', 'fundingRate': 'float', 'inverseLeg': 'symbol', 'maxOrderQty': 'long', 'maintMargin': 'float', 'lastChangePcnt': 'float', 'markMethod': 'symbol', 'taxed': 'boolean', 'sellLeg': 'symbol', 'impactAskPrice': 'float', 'publishTime': 'timespan', 'turnover': 'long', 'fairBasisRate': 'float', 'fairBasis': 'float', 'timestamp': 'timestamp', 'underlyingSymbol': 'symbol', 'rootSymbol': 'symbol', 'typ': 'symbol', 'expiry': 'timestamp', 'foreignNotional24h': 'float', 'reference': 'symbol', 'volume24h': 'long', 'vwap': 'float', 'volume': 'long', 'limitUpPrice': 'float', 'askPrice': 'float', 'riskStep': 'long', 'optionUnderlyingPrice': 'float', 'calcInterval': 'timespan', 'prevTotalTurnover': 'long', 'indicativeTaxRate': 'float', 'lastPrice': 'float', 'optionStrikePrice': 'float', 'front': 'timestamp', 'openValue': 'long', 'isInverse': 'boolean', 'capped': 'boolean', 'quoteToSettleMultiplier': 'long', 'limit': 'float', 'markPrice': 'float', 'buyLeg': 'symbol', 'fundingQuoteSymbol': 'symbol', 'openingTimestamp': 'timestamp', 'underlyingToPositionMultiplier': 'long', 'impactMidPrice': 'float', 'prevPrice24h': 'float', 'rebalanceInterval': 'timespan', 'settlementFee': 'float', 'optionStrikeRound': 'float', 'openInterest': 'long', 'totalTurnover': 'long', 'closingTimestamp': 'timestamp', 'referenceSymbol': 'symbol', 'underlying': 'symbol', 'rebalanceTimestamp': 'timestamp', 'publishInterval': 'timespan', 'fundingBaseSymbol': 'symbol', 'riskLimit': 'long', 'hasLiquidity': 'boolean', 'underlyingToSettleMultiplier': 'long', 'insuranceFee': 'float', 'fairMethod': 'symbol', 'makerFee': 'float', 'fundingTimestamp': 'timestamp', 'settledPrice': 'float', 'tickSize': 'float', 'highPrice': 'float', 'deleverage': 'boolean', 'symbol': 'symbol', 'isQuanto': 'boolean', 'quoteCurrency': 'symbol'}, \n",
    "\n",
    "'keys': ['symbol']}"
   ]
  }
 ],
 "metadata": {
  "anaconda-cloud": {},
  "kernelspec": {
   "display_name": "Python [Root]",
   "language": "python",
   "name": "Python [Root]"
  },
  "language_info": {
   "codemirror_mode": {
    "name": "ipython",
    "version": 3
   },
   "file_extension": ".py",
   "mimetype": "text/x-python",
   "name": "python",
   "nbconvert_exporter": "python",
   "pygments_lexer": "ipython3",
   "version": "3.5.2"
  }
 },
 "nbformat": 4,
 "nbformat_minor": 2
}
