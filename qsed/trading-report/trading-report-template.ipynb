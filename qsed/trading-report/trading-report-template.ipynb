{
 "cells": [
  {
   "cell_type": "code",
   "execution_count": 1,
   "metadata": {
    "collapsed": true
   },
   "outputs": [],
   "source": [
    "from bitmex.bitmexREST import bitmexREST\n",
    "from bitmex.bitmexAccountSettings import bitmexAccountSettings"
   ]
  },
  {
   "cell_type": "code",
   "execution_count": 2,
   "metadata": {
    "collapsed": true
   },
   "outputs": [],
   "source": [
    "acc = bitmexAccountSettings()\n",
    "acc.from_config_file('../bitmex/BITMEX_connect.json')"
   ]
  },
  {
   "cell_type": "code",
   "execution_count": 3,
   "metadata": {
    "collapsed": false
   },
   "outputs": [],
   "source": [
    "rest = bitmexREST(apiKey=acc.apiKey, apiSecret=acc.apiSecret, isTestNet=acc.isTestNet)"
   ]
  },
  {
   "cell_type": "code",
   "execution_count": 5,
   "metadata": {
    "collapsed": true
   },
   "outputs": [],
   "source": [
    "result = rest.query_history_execution('XBTUSD', '2018-10-27 00:00:00', None)"
   ]
  },
  {
   "cell_type": "code",
   "execution_count": 6,
   "metadata": {
    "collapsed": true
   },
   "outputs": [],
   "source": [
    "import pandas as pd"
   ]
  },
  {
   "cell_type": "code",
   "execution_count": 7,
   "metadata": {
    "collapsed": false
   },
   "outputs": [
    {
     "data": {
      "text/html": [
       "<div>\n",
       "<style scoped>\n",
       "    .dataframe tbody tr th:only-of-type {\n",
       "        vertical-align: middle;\n",
       "    }\n",
       "\n",
       "    .dataframe tbody tr th {\n",
       "        vertical-align: top;\n",
       "    }\n",
       "\n",
       "    .dataframe thead th {\n",
       "        text-align: right;\n",
       "    }\n",
       "</style>\n",
       "<table border=\"1\" class=\"dataframe\">\n",
       "  <thead>\n",
       "    <tr style=\"text-align: right;\">\n",
       "      <th></th>\n",
       "      <th>account</th>\n",
       "      <th>avgPx</th>\n",
       "      <th>clOrdID</th>\n",
       "      <th>commission</th>\n",
       "      <th>cumQty</th>\n",
       "      <th>execComm</th>\n",
       "      <th>execID</th>\n",
       "      <th>execType</th>\n",
       "      <th>lastPx</th>\n",
       "      <th>lastQty</th>\n",
       "      <th>leavesQty</th>\n",
       "      <th>ordStatus</th>\n",
       "      <th>ordType</th>\n",
       "      <th>orderID</th>\n",
       "      <th>orderQty</th>\n",
       "      <th>price</th>\n",
       "      <th>side</th>\n",
       "      <th>symbol</th>\n",
       "      <th>text</th>\n",
       "      <th>timestamp</th>\n",
       "    </tr>\n",
       "  </thead>\n",
       "  <tbody>\n",
       "    <tr>\n",
       "      <th>0</th>\n",
       "      <td>101488</td>\n",
       "      <td>6408.50</td>\n",
       "      <td></td>\n",
       "      <td>0.000750</td>\n",
       "      <td>3</td>\n",
       "      <td>35.0</td>\n",
       "      <td>642b15c9-67ee-d473-1ab6-62339a458974</td>\n",
       "      <td>Trade</td>\n",
       "      <td>6408.50</td>\n",
       "      <td>3.0</td>\n",
       "      <td>0</td>\n",
       "      <td>Filled</td>\n",
       "      <td>Limit</td>\n",
       "      <td>a5786111-73d8-fcd8-1237-29c9135d370c</td>\n",
       "      <td>3</td>\n",
       "      <td>6408.50</td>\n",
       "      <td>Buy</td>\n",
       "      <td>XBTUSD</td>\n",
       "      <td>Submission from testnet.bitmex.com</td>\n",
       "      <td>2018-10-27T03:45:53.204Z</td>\n",
       "    </tr>\n",
       "    <tr>\n",
       "      <th>1</th>\n",
       "      <td>101488</td>\n",
       "      <td>6408.50</td>\n",
       "      <td></td>\n",
       "      <td>0.000750</td>\n",
       "      <td>10</td>\n",
       "      <td>117.0</td>\n",
       "      <td>9cb8f756-a17d-7d19-047b-54f5c1abd4ed</td>\n",
       "      <td>Trade</td>\n",
       "      <td>6408.50</td>\n",
       "      <td>10.0</td>\n",
       "      <td>0</td>\n",
       "      <td>Filled</td>\n",
       "      <td>Limit</td>\n",
       "      <td>da51cc3c-d665-e82b-5b6d-74a4682a58cc</td>\n",
       "      <td>10</td>\n",
       "      <td>6409.00</td>\n",
       "      <td>Buy</td>\n",
       "      <td>XBTUSD</td>\n",
       "      <td>Submission from testnet.bitmex.com</td>\n",
       "      <td>2018-10-27T03:46:28.259Z</td>\n",
       "    </tr>\n",
       "    <tr>\n",
       "      <th>2</th>\n",
       "      <td>101488</td>\n",
       "      <td>6417.13</td>\n",
       "      <td></td>\n",
       "      <td>-0.000184</td>\n",
       "      <td>97</td>\n",
       "      <td>-278.0</td>\n",
       "      <td>0e16e649-d5e4-f822-9ec6-680139846227</td>\n",
       "      <td>Funding</td>\n",
       "      <td>6417.13</td>\n",
       "      <td>97.0</td>\n",
       "      <td>0</td>\n",
       "      <td>Filled</td>\n",
       "      <td>Limit</td>\n",
       "      <td>00000000-0000-0000-0000-000000000000</td>\n",
       "      <td>97</td>\n",
       "      <td>6417.13</td>\n",
       "      <td></td>\n",
       "      <td>XBTUSD</td>\n",
       "      <td>Funding</td>\n",
       "      <td>2018-10-27T04:00:00.081Z</td>\n",
       "    </tr>\n",
       "    <tr>\n",
       "      <th>3</th>\n",
       "      <td>101488</td>\n",
       "      <td>6411.00</td>\n",
       "      <td>1540616102912695</td>\n",
       "      <td>0.000750</td>\n",
       "      <td>100</td>\n",
       "      <td>1169.0</td>\n",
       "      <td>b071b879-01e9-0ecd-8935-673fcf70eb64</td>\n",
       "      <td>Trade</td>\n",
       "      <td>6411.00</td>\n",
       "      <td>100.0</td>\n",
       "      <td>0</td>\n",
       "      <td>Filled</td>\n",
       "      <td>Market</td>\n",
       "      <td>17b26017-932d-5ff4-daa0-26b8a4ec6f71</td>\n",
       "      <td>100</td>\n",
       "      <td>6411.00</td>\n",
       "      <td>Sell</td>\n",
       "      <td>XBTUSD</td>\n",
       "      <td>[API][2018-10-27 12:55:02.912705]</td>\n",
       "      <td>2018-10-27T04:55:02.568Z</td>\n",
       "    </tr>\n",
       "    <tr>\n",
       "      <th>4</th>\n",
       "      <td>101488</td>\n",
       "      <td>NaN</td>\n",
       "      <td></td>\n",
       "      <td>NaN</td>\n",
       "      <td>0</td>\n",
       "      <td>NaN</td>\n",
       "      <td>7365d440-5e46-a5df-3dcd-3eaf63e4963e</td>\n",
       "      <td>New</td>\n",
       "      <td>NaN</td>\n",
       "      <td>NaN</td>\n",
       "      <td>99</td>\n",
       "      <td>New</td>\n",
       "      <td>Limit</td>\n",
       "      <td>7d4b9e26-40ca-7fbe-bbc8-dfa7fc13ecb5</td>\n",
       "      <td>99</td>\n",
       "      <td>6416.50</td>\n",
       "      <td>Sell</td>\n",
       "      <td>XBTUSD</td>\n",
       "      <td>Submission from testnet.bitmex.com</td>\n",
       "      <td>2018-10-27T05:23:55.296Z</td>\n",
       "    </tr>\n",
       "    <tr>\n",
       "      <th>5</th>\n",
       "      <td>101488</td>\n",
       "      <td>NaN</td>\n",
       "      <td></td>\n",
       "      <td>NaN</td>\n",
       "      <td>0</td>\n",
       "      <td>NaN</td>\n",
       "      <td>ef8235e9-d861-b5c0-76c7-ca5dbfb38f84</td>\n",
       "      <td>Canceled</td>\n",
       "      <td>NaN</td>\n",
       "      <td>NaN</td>\n",
       "      <td>0</td>\n",
       "      <td>Canceled</td>\n",
       "      <td>Limit</td>\n",
       "      <td>7d4b9e26-40ca-7fbe-bbc8-dfa7fc13ecb5</td>\n",
       "      <td>99</td>\n",
       "      <td>6416.50</td>\n",
       "      <td>Sell</td>\n",
       "      <td>XBTUSD</td>\n",
       "      <td>Canceled: Cancel from testnet.bitmex.com\\nSubm...</td>\n",
       "      <td>2018-10-27T05:24:13.795Z</td>\n",
       "    </tr>\n",
       "    <tr>\n",
       "      <th>6</th>\n",
       "      <td>101488</td>\n",
       "      <td>NaN</td>\n",
       "      <td>1540616104436209</td>\n",
       "      <td>NaN</td>\n",
       "      <td>0</td>\n",
       "      <td>NaN</td>\n",
       "      <td>0d62304e-be6f-157c-4efa-b8e010ab76f1</td>\n",
       "      <td>Canceled</td>\n",
       "      <td>NaN</td>\n",
       "      <td>NaN</td>\n",
       "      <td>0</td>\n",
       "      <td>Canceled</td>\n",
       "      <td>Limit</td>\n",
       "      <td>91ba2c5b-1f0d-e754-eec6-2df6fa415978</td>\n",
       "      <td>120</td>\n",
       "      <td>6365.00</td>\n",
       "      <td>Buy</td>\n",
       "      <td>XBTUSD</td>\n",
       "      <td>Canceled: Cancel from testnet.bitmex.com\\n[API...</td>\n",
       "      <td>2018-10-27T05:46:49.534Z</td>\n",
       "    </tr>\n",
       "  </tbody>\n",
       "</table>\n",
       "</div>"
      ],
      "text/plain": [
       "   account    avgPx           clOrdID  commission  cumQty  execComm  \\\n",
       "0   101488  6408.50                      0.000750       3      35.0   \n",
       "1   101488  6408.50                      0.000750      10     117.0   \n",
       "2   101488  6417.13                     -0.000184      97    -278.0   \n",
       "3   101488  6411.00  1540616102912695    0.000750     100    1169.0   \n",
       "4   101488      NaN                           NaN       0       NaN   \n",
       "5   101488      NaN                           NaN       0       NaN   \n",
       "6   101488      NaN  1540616104436209         NaN       0       NaN   \n",
       "\n",
       "                                 execID  execType   lastPx  lastQty  \\\n",
       "0  642b15c9-67ee-d473-1ab6-62339a458974     Trade  6408.50      3.0   \n",
       "1  9cb8f756-a17d-7d19-047b-54f5c1abd4ed     Trade  6408.50     10.0   \n",
       "2  0e16e649-d5e4-f822-9ec6-680139846227   Funding  6417.13     97.0   \n",
       "3  b071b879-01e9-0ecd-8935-673fcf70eb64     Trade  6411.00    100.0   \n",
       "4  7365d440-5e46-a5df-3dcd-3eaf63e4963e       New      NaN      NaN   \n",
       "5  ef8235e9-d861-b5c0-76c7-ca5dbfb38f84  Canceled      NaN      NaN   \n",
       "6  0d62304e-be6f-157c-4efa-b8e010ab76f1  Canceled      NaN      NaN   \n",
       "\n",
       "   leavesQty ordStatus ordType                               orderID  \\\n",
       "0          0    Filled   Limit  a5786111-73d8-fcd8-1237-29c9135d370c   \n",
       "1          0    Filled   Limit  da51cc3c-d665-e82b-5b6d-74a4682a58cc   \n",
       "2          0    Filled   Limit  00000000-0000-0000-0000-000000000000   \n",
       "3          0    Filled  Market  17b26017-932d-5ff4-daa0-26b8a4ec6f71   \n",
       "4         99       New   Limit  7d4b9e26-40ca-7fbe-bbc8-dfa7fc13ecb5   \n",
       "5          0  Canceled   Limit  7d4b9e26-40ca-7fbe-bbc8-dfa7fc13ecb5   \n",
       "6          0  Canceled   Limit  91ba2c5b-1f0d-e754-eec6-2df6fa415978   \n",
       "\n",
       "   orderQty    price  side  symbol  \\\n",
       "0         3  6408.50   Buy  XBTUSD   \n",
       "1        10  6409.00   Buy  XBTUSD   \n",
       "2        97  6417.13        XBTUSD   \n",
       "3       100  6411.00  Sell  XBTUSD   \n",
       "4        99  6416.50  Sell  XBTUSD   \n",
       "5        99  6416.50  Sell  XBTUSD   \n",
       "6       120  6365.00   Buy  XBTUSD   \n",
       "\n",
       "                                                text                 timestamp  \n",
       "0                 Submission from testnet.bitmex.com  2018-10-27T03:45:53.204Z  \n",
       "1                 Submission from testnet.bitmex.com  2018-10-27T03:46:28.259Z  \n",
       "2                                            Funding  2018-10-27T04:00:00.081Z  \n",
       "3                  [API][2018-10-27 12:55:02.912705]  2018-10-27T04:55:02.568Z  \n",
       "4                 Submission from testnet.bitmex.com  2018-10-27T05:23:55.296Z  \n",
       "5  Canceled: Cancel from testnet.bitmex.com\\nSubm...  2018-10-27T05:24:13.795Z  \n",
       "6  Canceled: Cancel from testnet.bitmex.com\\n[API...  2018-10-27T05:46:49.534Z  "
      ]
     },
     "execution_count": 7,
     "metadata": {},
     "output_type": "execute_result"
    }
   ],
   "source": [
    "df = pd.DataFrame(result)\n",
    "df"
   ]
  },
  {
   "cell_type": "code",
   "execution_count": 10,
   "metadata": {
    "collapsed": false
   },
   "outputs": [],
   "source": [
    "df['DATETIME'] = pd.to_datetime(df.timestamp)"
   ]
  },
  {
   "cell_type": "code",
   "execution_count": 22,
   "metadata": {
    "collapsed": false
   },
   "outputs": [],
   "source": [
    "df_Exec_Trade = df.query('execType == \"Trade\"')\n",
    "df_Exec_New = df.query('execType == \"New\"')\n",
    "df_Exec_Canceled = df.query('execType == \"Canceled\"')"
   ]
  },
  {
   "cell_type": "code",
   "execution_count": 15,
   "metadata": {
    "collapsed": false
   },
   "outputs": [],
   "source": []
  },
  {
   "cell_type": "code",
   "execution_count": 31,
   "metadata": {
    "collapsed": false
   },
   "outputs": [
    {
     "data": {
      "text/plain": [
       "[<matplotlib.lines.Line2D at 0x119513cc0>]"
      ]
     },
     "execution_count": 31,
     "metadata": {},
     "output_type": "execute_result"
    },
    {
     "data": {
      "image/png": "[encoded data removed]",
      "text/plain": [
       "<matplotlib.figure.Figure at 0x119440048>"
      ]
     },
     "metadata": {},
     "output_type": "display_data"
    }
   ],
   "source": [
    "%matplotlib inline\n",
    "import matplotlib.pyplot as plt\n",
    "\n",
    "plt.plot(df_Exec_Trade.DATETIME, df_Exec_Trade.price, 's')\n",
    "plt.plot(df_Exec_New.DATETIME, df_Exec_New.price, 'o')\n",
    "plt.plot(df_Exec_Canceled.DATETIME, df_Exec_Canceled.price, '*')"
   ]
  },
  {
   "cell_type": "code",
   "execution_count": null,
   "metadata": {
    "collapsed": true
   },
   "outputs": [],
   "source": []
  }
 ],
 "metadata": {
  "anaconda-cloud": {},
  "kernelspec": {
   "display_name": "Python [Root]",
   "language": "python",
   "name": "Python [Root]"
  },
  "language_info": {
   "codemirror_mode": {
    "name": "ipython",
    "version": 3
   },
   "file_extension": ".py",
   "mimetype": "text/x-python",
   "name": "python",
   "nbconvert_exporter": "python",
   "pygments_lexer": "ipython3",
   "version": "3.5.2"
  }
 },
 "nbformat": 4,
 "nbformat_minor": 0
}
