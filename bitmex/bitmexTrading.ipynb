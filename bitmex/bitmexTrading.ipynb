{
 "cells": [
  {
   "cell_type": "markdown",
   "metadata": {},
   "source": [
    "## bitMEX trading test"
   ]
  },
  {
   "cell_type": "markdown",
   "metadata": {},
   "source": [
    "目标：跑通bitMEX交易\n",
    "\n",
    "策略：专供测试交易系统的随机策略RandomTargetPostionStrategy：每隔30s发出一个随机的SignalEvent。"
   ]
  },
  {
   "cell_type": "code",
   "execution_count": 13,
   "metadata": {
    "collapsed": true
   },
   "outputs": [],
   "source": [
    "import logging\n",
    "import time\n",
    "import queue"
   ]
  },
  {
   "cell_type": "code",
   "execution_count": null,
   "metadata": {
    "collapsed": true
   },
   "outputs": [],
   "source": [
    "class NaivePortfolio(object):\n",
    "    \"\"\"简单CTA策略的组合管理器\n",
    "    \n",
    "    将各个CTA子策略的signal汇总，计算汇总的target_position， (目前是单一identifier)\n",
    "    当实际仓位与理论仓位不一致时发出OrderEvent，并处理FillEvent。\n",
    "    \"\"\"\n",
    "    \n",
    "    def __init__(self, event_queue, is_test=True):\n",
    "        \n",
    "        self.is_test = True   # 是否测试\n",
    "        self.logger = logging.getLogger()   # 日志\n",
    "        \n",
    "        self.event_queue = event_queue\n",
    "        \n",
    "        self.symbol = 'XBTUSD'\n",
    "        self.lots = 20\n",
    "        \n",
    "        # 目标仓位。\n",
    "        # 当实际仓位与目标仓位不一致时，会触发下单逻辑。\n",
    "        self.target_position = 0\n",
    "        \n",
    "        # 实际仓位。\n",
    "        # 1. 初始化时会主动查询 self.query_positon()  \n",
    "        # 2. 收到成交回报时会更新。  -> 如果程序开着时手动下单，那么程序会收到成交回报，把仓位调回到目标仓位。\n",
    "        self.actual_position = None         \n",
    "        \n",
    "    def onSignalEvent(self, signalEvent):\n",
    "        \"\"\"\n",
    "        signalEvent Handler\n",
    "        \n",
    "        signalEvent格式:\n",
    "        {\n",
    "            identifier: 'Turtle_XBTUSD_1m_9999',\n",
    "            symbol: 'XBTUSD',\n",
    "            direction: -1,\n",
    "        }\n",
    "        \"\"\"\n",
    "        self.logger.info('signalEvent: %s' % signalEvent)\n",
    "        self._signal_event_handler(signalEvent)   # 处理signal_event\n",
    "        \n",
    "    def _signal_event_handler(signalEvent):\n",
    "        if not signalEvent.get('symbol') == self.symbol:\n",
    "            self.logger.error('signalEvent.symbol != bitmexTrader.symbol')\n",
    "            return \n",
    "        if signalEvent.get('direction') in (0, -1, 1):\n",
    "            self.logger.error('invalid signalEvent.direction: %s')\n",
    "            return\n",
    "        self.target_position = signalEvent['direction'] * self.lots   # 设定 target_position\n",
    "        self._trade_to_target()   # 交易\n",
    "        \n",
    "    def _trade_to_target(self):\n",
    "        position_diff = self.target_position - self.actual_position\n",
    "        if position_diff > 0:\n",
    "            direction = 'buy'\n",
    "            limit_price = self.ask1  # 对价下单\n",
    "        elif position_diff < 0:\n",
    "            direction = 'sell'\n",
    "            limit_price = self.bid1   # 对价下单\n",
    "        else:\n",
    "            self.logger.info('target==actual, no need to trade')\n",
    "            return 0\n",
    "        symbol=self.symbol\n",
    "        volume=abs(position_diff)\n",
    "        order_event = orderEvent(symbol, direction, volume, limit_price)   # 构造Order\n",
    "        \n",
    "        # TODO: 如果有未执行的委托单怎么办？\n",
    "        self.event_queue.put(order_event)"
   ]
  },
  {
   "cell_type": "markdown",
   "metadata": {},
   "source": [
    "重新理清思路：\n",
    "\n",
    "portfolio 只负责维护 target_position. 发出 target_position_event -> 提示target_position可能有变化。\n",
    "它的主要功能后续应该是汇总各个子策略的仓位。\n",
    "\n",
    "executor 负责维护actual_position. 处理发单、撤单、查询持仓。\n",
    "\n",
    "第一阶段任务，先以最简单的方式，跑通bitMEX实盘交易：\n",
    "- portofolio线程: 随机生成 target_position 放入队列\n",
    "- executor线程: 循环从队列中取事件，交易"
   ]
  },
  {
   "cell_type": "code",
   "execution_count": 16,
   "metadata": {
    "collapsed": true
   },
   "outputs": [],
   "source": [
    "import threading\n",
    "import random\n",
    "import queue\n",
    "\n",
    "\n",
    "event_q = queue.Queue()  # 事件队列\n",
    "\n",
    "\n",
    "def generate_random_target_positon(event_queue):\n",
    "    \"\"\"随机生成target_position的函数\"\"\"\n",
    "    e = {\n",
    "        'etype': 'TARGET_POSITION',\n",
    "        'target_position': random.sample((0, -1, 1), k=1)[0]\n",
    "    }\n",
    "    event_queue.put(e)\n",
    "\n",
    "\n",
    "# 开一个线程，专门生成 target_position event\n",
    "portfolio_td = threading.Thread(target=generate_random_target_positon, args=(event_q))\n",
    "portfolio_td.start()\n",
    "\n",
    "# 另开一个线程，跑executor\n",
    "bitmex_executor = bitmexExecutor()\n",
    "executor_td = threading.Thread(target=bitmex_executor.run)\n",
    "executor_td.start()\n",
    "\n",
    "# 主程序\n",
    "while True:\n",
    "    try:\n",
    "        event = self.event_queue.get_nowait()\n",
    "    except queue.Empty:\n",
    "        time.sleep(0.5)\n",
    "    else:\n",
    "        if event.etype == 'TARGET_POSITION':\n",
    "            bitmex_executor.onTargetPositionEvent(event)   # 交易"
   ]
  },
  {
   "cell_type": "code",
   "execution_count": 40,
   "metadata": {
    "collapsed": false
   },
   "outputs": [],
   "source": [
    "class bitmexExecutor(object):\n",
    "    \"\"\"bitmex交易执行器\"\"\"\n",
    "    \n",
    "    def __init__(self):\n",
    "        print('init bitmexExecutor')\n",
    "        self.actual_position = self._query_actual_position()   # to-write   \n",
    "        \n",
    "    def run(self):\n",
    "        pass\n",
    "        \n",
    "    def onTargetPositionEvent(self):\n",
    "        pass\n",
    "    \n",
    "    def _query_actual_position(self):\n",
    "        pass    ### \n",
    "    \n",
    "    def _order(self, symbol, side, volume, limit_price=None):\n",
    "        pass    ### \n",
    "        "
   ]
  },
  {
   "cell_type": "code",
   "execution_count": null,
   "metadata": {
    "collapsed": true
   },
   "outputs": [],
   "source": []
  },
  {
   "cell_type": "markdown",
   "metadata": {},
   "source": [
    "## Demo of placing an order"
   ]
  },
  {
   "cell_type": "markdown",
   "metadata": {},
   "source": [
    "**BitMEX 不支持通过 WebSocket 提交或取消委托，这些操作只能通过 HTTP 进行。**\n",
    "\n",
    "我们的服务器支持保持 HTTP 连接和缓存的 SSL 会话。 如果你保持一个有效连接，你会得到与 websocket 类似的延迟，而无须使用 websocket 进行沟通。\n",
    "\n",
    "我们保持活动状态的超时时间为90秒。"
   ]
  },
  {
   "cell_type": "markdown",
   "metadata": {},
   "source": [
    "## bitmexREST"
   ]
  },
  {
   "cell_type": "raw",
   "metadata": {
    "collapsed": true
   },
   "source": [
    "$ python bitmexREST.py"
   ]
  },
  {
   "cell_type": "markdown",
   "metadata": {},
   "source": [
    "## BitMEX WebSocket"
   ]
  },
  {
   "cell_type": "markdown",
   "metadata": {},
   "source": [
    "copy form https://github.com/BitMEX/api-connectors/ and https://github.com/BitMEX/sample-market-maker"
   ]
  },
  {
   "cell_type": "raw",
   "metadata": {},
   "source": [
    "$ python bitmexWS.py"
   ]
  },
  {
   "cell_type": "markdown",
   "metadata": {},
   "source": [
    "## bitmex TargetPosition-Based OMS\n",
    "\n",
    "TODO: seperate bitmex gateway and TargetPosition-Based OMS"
   ]
  },
  {
   "cell_type": "markdown",
   "metadata": {},
   "source": [
    "- bitmexWS\n",
    "    + 行情（无需验证）\n",
    "    + 交易。实时持仓情况、下单回报、成交回报\n",
    "- bitmexREST\n",
    "    + 下单\n",
    "    + 主动持仓查询。仅用于定时校验。\n",
    "    + 查历史行情（无需验证）。仅用于策略程序启动时回看。\n",
    "    \n",
    "\n",
    "OMS has three key member：\n",
    "\n",
    "- `bm_ws_market`  subclass of `bitmexWS`. 【行情】收行情，包括 trades, orderbook, (funding, markprice etc.)\n",
    "- `bm_ws_trading` subclass of `bitmexWS`. 【交易】监听下单回报、成交回报、持仓变动 （保证金）\n",
    "- `bm_rest` instance of `bitmexREST`. 下单函数 `place_order()`，查询函数`get_positions()`\n",
    "\n",
    "\n",
    "`bm_ws_market` subscribe `trade:XBTUSD` and override `onData()`, which do 2 things: \n",
    "1. upate the 4 members  (members: last_price, bar, prev_bar, order_book etc.)\n",
    "2. generate MARKET_EVENT when needed(eg. on_bar_close)\n",
    "\n",
    "`bm_ws_trading` subscribe `order, position, execution` and override `onData()`, which \n",
    "1. update 2 members (unfilled_order, actual_position)\n",
    "2. generate ORDER_EVENT, FILL_EVENT\n",
    "\n",
    "`bm_rest` is used to `place_order()`, do not generate or listen to or handle any event. Another function is query and check positions from WS.\n",
    "\n",
    "and one important function `trade_to_target()`, which make order placing and/or order canceling decision.\n",
    "\n",
    "> 要不这样：     \n",
    "> 把bm_ws_market和bm_rest的一个实例打包成 `bitmexDataHandler`    \n",
    "> 把 bm_ws_trading和bm_rest的另一个实例打包成  `bitmexTrader`"
   ]
  },
  {
   "cell_type": "code",
   "execution_count": 4,
   "metadata": {
    "collapsed": true
   },
   "outputs": [],
   "source": [
    "from bitmexWS import bitmexWS\n",
    "from bitmexREST import bitmexREST\n",
    "from utils import generate_logger"
   ]
  },
  {
   "cell_type": "code",
   "execution_count": null,
   "metadata": {
    "collapsed": true
   },
   "outputs": [],
   "source": []
  },
  {
   "cell_type": "code",
   "execution_count": 5,
   "metadata": {
    "collapsed": false
   },
   "outputs": [],
   "source": [
    "#from qsEvent import MarketEvent\n",
    "#from qsObject import Bar\n",
    "#from utils import calculate_ts\n",
    "\n",
    "class MarketEvent(object):\n",
    "    def __init__(self, data):\n",
    "        self.etype='MARKET'\n",
    "        self.data = data\n",
    "       \n",
    "    \n",
    "class Bar(object):\n",
    "    \n",
    "    def __init__(self, **kwargs):\n",
    "        self.__dict__.update(kwargs)\n",
    "    \n",
    "    def __repr__(self):\n",
    "        return self.__dict__.__repr__()\n",
    "    \n",
    "    \n",
    "def calculate_ts(timestamp, bar_type='1m'):\n",
    "    \"\"\"bitmex-timestamp to ts. eg 2018-09-29T06:00:17.271Z -> 20180929060017\"\"\"\n",
    "    return timestamp[:16].replace('T', ' ')  # TODO: now only allow '1m'"
   ]
  },
  {
   "cell_type": "code",
   "execution_count": 6,
   "metadata": {
    "collapsed": false,
    "scrolled": true
   },
   "outputs": [
    {
     "name": "stderr",
     "output_type": "stream",
     "text": [
      "[2018-09-29 16:21:02 bitmexWS INFO] ws thread start\n",
      "[2018-09-29 16:21:03 bitmexWS DEBUG] Calling ws.__on_open()\n",
      "[2018-09-29 16:21:03 bitmexWS INFO] Successful connected to BitMEX WebSocket API\n",
      "[2018-09-29 16:21:03 bitmexWS DEBUG] >>> send ping\n",
      "[2018-09-29 16:21:04 bitmexWS INFO] Subscribe to trade:XBTUSD\n",
      "[2018-09-29 16:21:04 bitmexWS DEBUG] init_bar: {'high': 6521.5, 'open': 6521.5, 'low': 6521.5, 'ts': '2018-09-29 08:21'}\n",
      "[2018-09-29 16:21:04 bitmexWS DEBUG] Got partial.\n",
      "[2018-09-29 16:21:06 bitmexWS DEBUG] get new data: \n",
      "{'action': 'insert', 'data': [{'homeNotional': 0.0030672, 'side': 'Buy', 'tickDirection': 'MinusTick', 'foreignNotional': 20, 'symbol': 'XBTUSD', 'grossValue': 306720, 'trdMatchID': 'd77a6456-b56f-fde9-4d88-8079bec47e59', 'timestamp': '2018-09-29T08:21:05.160Z', 'price': 6520.5, 'size': 20}, {'homeNotional': 0.0122672, 'side': 'Buy', 'tickDirection': 'PlusTick', 'foreignNotional': 80, 'symbol': 'XBTUSD', 'grossValue': 1226720, 'trdMatchID': 'cf9438d9-b950-73ca-aff8-b333dba69f56', 'timestamp': '2018-09-29T08:21:05.160Z', 'price': 6521.5, 'size': 80}], 'table': 'trade'}\n",
      "[2018-09-29 16:21:06 bitmexWS DEBUG] tick event: {'homeNotional': 0.0030672, 'side': 'Buy', 'tickDirection': 'MinusTick', 'foreignNotional': 20, 'symbol': 'XBTUSD', 'grossValue': 306720, 'trdMatchID': 'd77a6456-b56f-fde9-4d88-8079bec47e59', 'timestamp': '2018-09-29T08:21:05.160Z', 'price': 6520.5, 'size': 20}\n",
      "[2018-09-29 16:21:06 bitmexWS DEBUG] tick event: {'homeNotional': 0.0122672, 'side': 'Buy', 'tickDirection': 'PlusTick', 'foreignNotional': 80, 'symbol': 'XBTUSD', 'grossValue': 1226720, 'trdMatchID': 'cf9438d9-b950-73ca-aff8-b333dba69f56', 'timestamp': '2018-09-29T08:21:05.160Z', 'price': 6521.5, 'size': 80}\n",
      "[2018-09-29 16:21:06 bitmexWS DEBUG] get new data: \n",
      "{'action': 'insert', 'data': [{'homeNotional': 0.015334, 'side': 'Buy', 'tickDirection': 'ZeroPlusTick', 'foreignNotional': 100, 'symbol': 'XBTUSD', 'grossValue': 1533400, 'trdMatchID': 'af29ae8f-3d14-ac30-830c-99077fc03649', 'timestamp': '2018-09-29T08:21:05.191Z', 'price': 6521.5, 'size': 100}], 'table': 'trade'}\n",
      "[2018-09-29 16:21:06 bitmexWS DEBUG] tick event: {'homeNotional': 0.015334, 'side': 'Buy', 'tickDirection': 'ZeroPlusTick', 'foreignNotional': 100, 'symbol': 'XBTUSD', 'grossValue': 1533400, 'trdMatchID': 'af29ae8f-3d14-ac30-830c-99077fc03649', 'timestamp': '2018-09-29T08:21:05.191Z', 'price': 6521.5, 'size': 100}\n",
      "[2018-09-29 16:21:06 bitmexWS DEBUG] get new data: \n",
      "{'action': 'insert', 'data': [{'homeNotional': 0.015334, 'side': 'Buy', 'tickDirection': 'ZeroPlusTick', 'foreignNotional': 100, 'symbol': 'XBTUSD', 'grossValue': 1533400, 'trdMatchID': 'cc150a60-44a5-a18b-3c43-360b2498ea47', 'timestamp': '2018-09-29T08:21:05.218Z', 'price': 6521.5, 'size': 100}], 'table': 'trade'}\n",
      "[2018-09-29 16:21:06 bitmexWS DEBUG] tick event: {'homeNotional': 0.015334, 'side': 'Buy', 'tickDirection': 'ZeroPlusTick', 'foreignNotional': 100, 'symbol': 'XBTUSD', 'grossValue': 1533400, 'trdMatchID': 'cc150a60-44a5-a18b-3c43-360b2498ea47', 'timestamp': '2018-09-29T08:21:05.218Z', 'price': 6521.5, 'size': 100}\n",
      "[2018-09-29 16:21:06 bitmexWS DEBUG] get new data: \n",
      "{'action': 'insert', 'data': [{'homeNotional': 0.015334, 'side': 'Buy', 'tickDirection': 'ZeroPlusTick', 'foreignNotional': 100, 'symbol': 'XBTUSD', 'grossValue': 1533400, 'trdMatchID': '5111c34a-84bd-0e74-0156-eaa35d5a711c', 'timestamp': '2018-09-29T08:21:05.244Z', 'price': 6521.5, 'size': 100}], 'table': 'trade'}\n",
      "[2018-09-29 16:21:06 bitmexWS DEBUG] tick event: {'homeNotional': 0.015334, 'side': 'Buy', 'tickDirection': 'ZeroPlusTick', 'foreignNotional': 100, 'symbol': 'XBTUSD', 'grossValue': 1533400, 'trdMatchID': '5111c34a-84bd-0e74-0156-eaa35d5a711c', 'timestamp': '2018-09-29T08:21:05.244Z', 'price': 6521.5, 'size': 100}\n",
      "[2018-09-29 16:21:06 bitmexWS DEBUG] get new data: \n",
      "{'action': 'insert', 'data': [{'homeNotional': 0.015334, 'side': 'Buy', 'tickDirection': 'ZeroPlusTick', 'foreignNotional': 100, 'symbol': 'XBTUSD', 'grossValue': 1533400, 'trdMatchID': '756935af-6b27-942b-67b0-8a8203552f43', 'timestamp': '2018-09-29T08:21:05.316Z', 'price': 6521.5, 'size': 100}], 'table': 'trade'}\n",
      "[2018-09-29 16:21:06 bitmexWS DEBUG] tick event: {'homeNotional': 0.015334, 'side': 'Buy', 'tickDirection': 'ZeroPlusTick', 'foreignNotional': 100, 'symbol': 'XBTUSD', 'grossValue': 1533400, 'trdMatchID': '756935af-6b27-942b-67b0-8a8203552f43', 'timestamp': '2018-09-29T08:21:05.316Z', 'price': 6521.5, 'size': 100}\n",
      "[2018-09-29 16:21:06 bitmexWS DEBUG] get new data: \n",
      "{'action': 'insert', 'data': [{'homeNotional': 0.015334, 'side': 'Buy', 'tickDirection': 'ZeroPlusTick', 'foreignNotional': 100, 'symbol': 'XBTUSD', 'grossValue': 1533400, 'trdMatchID': '5eec8893-21be-8610-3bb1-2f7aa8b89996', 'timestamp': '2018-09-29T08:21:05.341Z', 'price': 6521.5, 'size': 100}], 'table': 'trade'}\n",
      "[2018-09-29 16:21:06 bitmexWS DEBUG] tick event: {'homeNotional': 0.015334, 'side': 'Buy', 'tickDirection': 'ZeroPlusTick', 'foreignNotional': 100, 'symbol': 'XBTUSD', 'grossValue': 1533400, 'trdMatchID': '5eec8893-21be-8610-3bb1-2f7aa8b89996', 'timestamp': '2018-09-29T08:21:05.341Z', 'price': 6521.5, 'size': 100}\n",
      "[2018-09-29 16:21:06 bitmexWS DEBUG] get new data: \n",
      "{'action': 'insert', 'data': [{'homeNotional': 0.015334, 'side': 'Buy', 'tickDirection': 'ZeroPlusTick', 'foreignNotional': 100, 'symbol': 'XBTUSD', 'grossValue': 1533400, 'trdMatchID': '87fb0dcd-5c8e-569a-d5e9-f120a977e969', 'timestamp': '2018-09-29T08:21:05.366Z', 'price': 6521.5, 'size': 100}], 'table': 'trade'}\n",
      "[2018-09-29 16:21:06 bitmexWS DEBUG] tick event: {'homeNotional': 0.015334, 'side': 'Buy', 'tickDirection': 'ZeroPlusTick', 'foreignNotional': 100, 'symbol': 'XBTUSD', 'grossValue': 1533400, 'trdMatchID': '87fb0dcd-5c8e-569a-d5e9-f120a977e969', 'timestamp': '2018-09-29T08:21:05.366Z', 'price': 6521.5, 'size': 100}\n",
      "[2018-09-29 16:21:06 bitmexWS DEBUG] get new data: \n",
      "{'action': 'insert', 'data': [{'homeNotional': 0.015334, 'side': 'Buy', 'tickDirection': 'ZeroPlusTick', 'foreignNotional': 100, 'symbol': 'XBTUSD', 'grossValue': 1533400, 'trdMatchID': 'd97b263b-5439-6bf3-4404-4028fffc900b', 'timestamp': '2018-09-29T08:21:05.390Z', 'price': 6521.5, 'size': 100}], 'table': 'trade'}\n",
      "[2018-09-29 16:21:06 bitmexWS DEBUG] tick event: {'homeNotional': 0.015334, 'side': 'Buy', 'tickDirection': 'ZeroPlusTick', 'foreignNotional': 100, 'symbol': 'XBTUSD', 'grossValue': 1533400, 'trdMatchID': 'd97b263b-5439-6bf3-4404-4028fffc900b', 'timestamp': '2018-09-29T08:21:05.390Z', 'price': 6521.5, 'size': 100}\n",
      "[2018-09-29 16:21:07 bitmexWS DEBUG] get new data: \n",
      "{'action': 'insert', 'data': [{'homeNotional': 0.015334, 'side': 'Buy', 'tickDirection': 'ZeroPlusTick', 'foreignNotional': 100, 'symbol': 'XBTUSD', 'grossValue': 1533400, 'trdMatchID': 'a849ebdd-87f5-8ba3-6ab8-32c18fe0c3b9', 'timestamp': '2018-09-29T08:21:05.411Z', 'price': 6521.5, 'size': 100}], 'table': 'trade'}\n",
      "[2018-09-29 16:21:07 bitmexWS DEBUG] tick event: {'homeNotional': 0.015334, 'side': 'Buy', 'tickDirection': 'ZeroPlusTick', 'foreignNotional': 100, 'symbol': 'XBTUSD', 'grossValue': 1533400, 'trdMatchID': 'a849ebdd-87f5-8ba3-6ab8-32c18fe0c3b9', 'timestamp': '2018-09-29T08:21:05.411Z', 'price': 6521.5, 'size': 100}\n",
      "[2018-09-29 16:21:07 bitmexWS DEBUG] get new data: \n",
      "{'action': 'insert', 'data': [{'homeNotional': 0.015334, 'side': 'Buy', 'tickDirection': 'ZeroPlusTick', 'foreignNotional': 100, 'symbol': 'XBTUSD', 'grossValue': 1533400, 'trdMatchID': '8107c9f6-2bbe-29d5-7f31-0709eb651e1c', 'timestamp': '2018-09-29T08:21:05.434Z', 'price': 6521.5, 'size': 100}], 'table': 'trade'}\n",
      "[2018-09-29 16:21:07 bitmexWS DEBUG] tick event: {'homeNotional': 0.015334, 'side': 'Buy', 'tickDirection': 'ZeroPlusTick', 'foreignNotional': 100, 'symbol': 'XBTUSD', 'grossValue': 1533400, 'trdMatchID': '8107c9f6-2bbe-29d5-7f31-0709eb651e1c', 'timestamp': '2018-09-29T08:21:05.434Z', 'price': 6521.5, 'size': 100}\n",
      "[2018-09-29 16:21:07 bitmexWS DEBUG] get new data: \n",
      "{'action': 'insert', 'data': [{'homeNotional': 0.015334, 'side': 'Buy', 'tickDirection': 'ZeroPlusTick', 'foreignNotional': 100, 'symbol': 'XBTUSD', 'grossValue': 1533400, 'trdMatchID': 'c3bd1309-c8d6-1084-9e02-ae2f5e40ddb8', 'timestamp': '2018-09-29T08:21:05.457Z', 'price': 6521.5, 'size': 100}], 'table': 'trade'}\n",
      "[2018-09-29 16:21:07 bitmexWS DEBUG] tick event: {'homeNotional': 0.015334, 'side': 'Buy', 'tickDirection': 'ZeroPlusTick', 'foreignNotional': 100, 'symbol': 'XBTUSD', 'grossValue': 1533400, 'trdMatchID': 'c3bd1309-c8d6-1084-9e02-ae2f5e40ddb8', 'timestamp': '2018-09-29T08:21:05.457Z', 'price': 6521.5, 'size': 100}\n",
      "[2018-09-29 16:21:07 bitmexWS DEBUG] get new data: \n",
      "{'action': 'insert', 'data': [{'homeNotional': 0.015334, 'side': 'Buy', 'tickDirection': 'ZeroPlusTick', 'foreignNotional': 100, 'symbol': 'XBTUSD', 'grossValue': 1533400, 'trdMatchID': '2e4df47d-d3c3-6520-22f9-7a60685c5044', 'timestamp': '2018-09-29T08:21:05.477Z', 'price': 6521.5, 'size': 100}], 'table': 'trade'}\n",
      "[2018-09-29 16:21:07 bitmexWS DEBUG] tick event: {'homeNotional': 0.015334, 'side': 'Buy', 'tickDirection': 'ZeroPlusTick', 'foreignNotional': 100, 'symbol': 'XBTUSD', 'grossValue': 1533400, 'trdMatchID': '2e4df47d-d3c3-6520-22f9-7a60685c5044', 'timestamp': '2018-09-29T08:21:05.477Z', 'price': 6521.5, 'size': 100}\n",
      "[2018-09-29 16:21:07 bitmexWS DEBUG] get new data: \n",
      "{'action': 'insert', 'data': [{'homeNotional': 0.015334, 'side': 'Buy', 'tickDirection': 'ZeroPlusTick', 'foreignNotional': 100, 'symbol': 'XBTUSD', 'grossValue': 1533400, 'trdMatchID': 'e957fbbd-1b46-c476-9562-8f61d19fa6b6', 'timestamp': '2018-09-29T08:21:05.503Z', 'price': 6521.5, 'size': 100}], 'table': 'trade'}\n",
      "[2018-09-29 16:21:07 bitmexWS DEBUG] tick event: {'homeNotional': 0.015334, 'side': 'Buy', 'tickDirection': 'ZeroPlusTick', 'foreignNotional': 100, 'symbol': 'XBTUSD', 'grossValue': 1533400, 'trdMatchID': 'e957fbbd-1b46-c476-9562-8f61d19fa6b6', 'timestamp': '2018-09-29T08:21:05.503Z', 'price': 6521.5, 'size': 100}\n",
      "[2018-09-29 16:21:07 bitmexWS DEBUG] get new data: \n",
      "{'action': 'insert', 'data': [{'homeNotional': 0.015336, 'side': 'Buy', 'tickDirection': 'MinusTick', 'foreignNotional': 100, 'symbol': 'XBTUSD', 'grossValue': 1533600, 'trdMatchID': 'f252b7e9-b92e-9757-9846-c66055ac9f42', 'timestamp': '2018-09-29T08:21:05.540Z', 'price': 6520.5, 'size': 100}], 'table': 'trade'}\n",
      "[2018-09-29 16:21:07 bitmexWS DEBUG] tick event: {'homeNotional': 0.015336, 'side': 'Buy', 'tickDirection': 'MinusTick', 'foreignNotional': 100, 'symbol': 'XBTUSD', 'grossValue': 1533600, 'trdMatchID': 'f252b7e9-b92e-9757-9846-c66055ac9f42', 'timestamp': '2018-09-29T08:21:05.540Z', 'price': 6520.5, 'size': 100}\n",
      "[2018-09-29 16:21:07 bitmexWS DEBUG] get new data: \n",
      "{'action': 'insert', 'data': [{'homeNotional': 0.015336, 'side': 'Buy', 'tickDirection': 'ZeroMinusTick', 'foreignNotional': 100, 'symbol': 'XBTUSD', 'grossValue': 1533600, 'trdMatchID': '6a4604b4-db1f-f32a-c7e9-37b3ef80c989', 'timestamp': '2018-09-29T08:21:05.559Z', 'price': 6520.5, 'size': 100}], 'table': 'trade'}\n",
      "[2018-09-29 16:21:07 bitmexWS DEBUG] tick event: {'homeNotional': 0.015336, 'side': 'Buy', 'tickDirection': 'ZeroMinusTick', 'foreignNotional': 100, 'symbol': 'XBTUSD', 'grossValue': 1533600, 'trdMatchID': '6a4604b4-db1f-f32a-c7e9-37b3ef80c989', 'timestamp': '2018-09-29T08:21:05.559Z', 'price': 6520.5, 'size': 100}\n",
      "[2018-09-29 16:21:07 bitmexWS DEBUG] get new data: \n",
      "{'action': 'insert', 'data': [{'homeNotional': 0.00552096, 'side': 'Buy', 'tickDirection': 'ZeroMinusTick', 'foreignNotional': 36, 'symbol': 'XBTUSD', 'grossValue': 552096, 'trdMatchID': '253ab142-e56a-1126-8815-9852dc07d175', 'timestamp': '2018-09-29T08:21:05.587Z', 'price': 6520.5, 'size': 36}, {'homeNotional': 0.00981376, 'side': 'Buy', 'tickDirection': 'PlusTick', 'foreignNotional': 64, 'symbol': 'XBTUSD', 'grossValue': 981376, 'trdMatchID': 'aaa25011-4853-465c-2de3-7a42ef621718', 'timestamp': '2018-09-29T08:21:05.587Z', 'price': 6521.5, 'size': 64}], 'table': 'trade'}\n",
      "[2018-09-29 16:21:07 bitmexWS DEBUG] tick event: {'homeNotional': 0.00552096, 'side': 'Buy', 'tickDirection': 'ZeroMinusTick', 'foreignNotional': 36, 'symbol': 'XBTUSD', 'grossValue': 552096, 'trdMatchID': '253ab142-e56a-1126-8815-9852dc07d175', 'timestamp': '2018-09-29T08:21:05.587Z', 'price': 6520.5, 'size': 36}\n",
      "[2018-09-29 16:21:07 bitmexWS DEBUG] tick event: {'homeNotional': 0.00981376, 'side': 'Buy', 'tickDirection': 'PlusTick', 'foreignNotional': 64, 'symbol': 'XBTUSD', 'grossValue': 981376, 'trdMatchID': 'aaa25011-4853-465c-2de3-7a42ef621718', 'timestamp': '2018-09-29T08:21:05.587Z', 'price': 6521.5, 'size': 64}\n",
      "[2018-09-29 16:21:07 bitmexWS DEBUG] get new data: \n",
      "{'action': 'insert', 'data': [{'homeNotional': 0.015334, 'side': 'Buy', 'tickDirection': 'ZeroPlusTick', 'foreignNotional': 100, 'symbol': 'XBTUSD', 'grossValue': 1533400, 'trdMatchID': 'ffdf6ad6-c1bb-7b14-d5af-670f2164cd4c', 'timestamp': '2018-09-29T08:21:05.639Z', 'price': 6521.5, 'size': 100}], 'table': 'trade'}\n",
      "[2018-09-29 16:21:07 bitmexWS DEBUG] tick event: {'homeNotional': 0.015334, 'side': 'Buy', 'tickDirection': 'ZeroPlusTick', 'foreignNotional': 100, 'symbol': 'XBTUSD', 'grossValue': 1533400, 'trdMatchID': 'ffdf6ad6-c1bb-7b14-d5af-670f2164cd4c', 'timestamp': '2018-09-29T08:21:05.639Z', 'price': 6521.5, 'size': 100}\n",
      "[2018-09-29 16:21:07 bitmexWS DEBUG] get new data: \n",
      "{'action': 'insert', 'data': [{'homeNotional': 0.015334, 'side': 'Buy', 'tickDirection': 'ZeroPlusTick', 'foreignNotional': 100, 'symbol': 'XBTUSD', 'grossValue': 1533400, 'trdMatchID': '4ba1a1e8-a021-380d-4d6e-326f4c8ff7c2', 'timestamp': '2018-09-29T08:21:05.663Z', 'price': 6521.5, 'size': 100}], 'table': 'trade'}\n",
      "[2018-09-29 16:21:07 bitmexWS DEBUG] tick event: {'homeNotional': 0.015334, 'side': 'Buy', 'tickDirection': 'ZeroPlusTick', 'foreignNotional': 100, 'symbol': 'XBTUSD', 'grossValue': 1533400, 'trdMatchID': '4ba1a1e8-a021-380d-4d6e-326f4c8ff7c2', 'timestamp': '2018-09-29T08:21:05.663Z', 'price': 6521.5, 'size': 100}\n",
      "[2018-09-29 16:21:07 bitmexWS DEBUG] get new data: \n",
      "{'action': 'insert', 'data': [{'homeNotional': 0.015334, 'side': 'Buy', 'tickDirection': 'ZeroPlusTick', 'foreignNotional': 100, 'symbol': 'XBTUSD', 'grossValue': 1533400, 'trdMatchID': '8b9a79bf-4a93-cad2-926d-dc8014522411', 'timestamp': '2018-09-29T08:21:05.692Z', 'price': 6521.5, 'size': 100}], 'table': 'trade'}\n",
      "[2018-09-29 16:21:07 bitmexWS DEBUG] tick event: {'homeNotional': 0.015334, 'side': 'Buy', 'tickDirection': 'ZeroPlusTick', 'foreignNotional': 100, 'symbol': 'XBTUSD', 'grossValue': 1533400, 'trdMatchID': '8b9a79bf-4a93-cad2-926d-dc8014522411', 'timestamp': '2018-09-29T08:21:05.692Z', 'price': 6521.5, 'size': 100}\n",
      "[2018-09-29 16:21:07 bitmexWS DEBUG] get new data: \n",
      "{'action': 'insert', 'data': [{'homeNotional': 0.015334, 'side': 'Buy', 'tickDirection': 'ZeroPlusTick', 'foreignNotional': 100, 'symbol': 'XBTUSD', 'grossValue': 1533400, 'trdMatchID': 'f2ab2255-1e00-0562-9a6c-1334280c1643', 'timestamp': '2018-09-29T08:21:05.713Z', 'price': 6521.5, 'size': 100}], 'table': 'trade'}\n",
      "[2018-09-29 16:21:07 bitmexWS DEBUG] tick event: {'homeNotional': 0.015334, 'side': 'Buy', 'tickDirection': 'ZeroPlusTick', 'foreignNotional': 100, 'symbol': 'XBTUSD', 'grossValue': 1533400, 'trdMatchID': 'f2ab2255-1e00-0562-9a6c-1334280c1643', 'timestamp': '2018-09-29T08:21:05.713Z', 'price': 6521.5, 'size': 100}\n",
      "[2018-09-29 16:21:07 bitmexWS DEBUG] get new data: \n",
      "{'action': 'insert', 'data': [{'homeNotional': 0.015334, 'side': 'Buy', 'tickDirection': 'ZeroPlusTick', 'foreignNotional': 100, 'symbol': 'XBTUSD', 'grossValue': 1533400, 'trdMatchID': 'e34e774c-a3ce-2bd2-9a3a-c58ee1a45bd5', 'timestamp': '2018-09-29T08:21:05.747Z', 'price': 6521.5, 'size': 100}], 'table': 'trade'}\n",
      "[2018-09-29 16:21:07 bitmexWS DEBUG] tick event: {'homeNotional': 0.015334, 'side': 'Buy', 'tickDirection': 'ZeroPlusTick', 'foreignNotional': 100, 'symbol': 'XBTUSD', 'grossValue': 1533400, 'trdMatchID': 'e34e774c-a3ce-2bd2-9a3a-c58ee1a45bd5', 'timestamp': '2018-09-29T08:21:05.747Z', 'price': 6521.5, 'size': 100}\n",
      "[2018-09-29 16:21:07 bitmexWS DEBUG] get new data: \n",
      "{'action': 'insert', 'data': [{'homeNotional': 0.015334, 'side': 'Buy', 'tickDirection': 'ZeroPlusTick', 'foreignNotional': 100, 'symbol': 'XBTUSD', 'grossValue': 1533400, 'trdMatchID': '29ba8309-cca3-a2a8-e12a-cf4f4d19078b', 'timestamp': '2018-09-29T08:21:05.768Z', 'price': 6521.5, 'size': 100}], 'table': 'trade'}\n",
      "[2018-09-29 16:21:07 bitmexWS DEBUG] tick event: {'homeNotional': 0.015334, 'side': 'Buy', 'tickDirection': 'ZeroPlusTick', 'foreignNotional': 100, 'symbol': 'XBTUSD', 'grossValue': 1533400, 'trdMatchID': '29ba8309-cca3-a2a8-e12a-cf4f4d19078b', 'timestamp': '2018-09-29T08:21:05.768Z', 'price': 6521.5, 'size': 100}\n",
      "[2018-09-29 16:21:07 bitmexWS DEBUG] get new data: \n",
      "{'action': 'insert', 'data': [{'homeNotional': 0.015334, 'side': 'Buy', 'tickDirection': 'ZeroPlusTick', 'foreignNotional': 100, 'symbol': 'XBTUSD', 'grossValue': 1533400, 'trdMatchID': 'bc0b0bc0-052e-3622-c9c2-7bd473e1bf69', 'timestamp': '2018-09-29T08:21:05.788Z', 'price': 6521.5, 'size': 100}], 'table': 'trade'}\n",
      "[2018-09-29 16:21:07 bitmexWS DEBUG] tick event: {'homeNotional': 0.015334, 'side': 'Buy', 'tickDirection': 'ZeroPlusTick', 'foreignNotional': 100, 'symbol': 'XBTUSD', 'grossValue': 1533400, 'trdMatchID': 'bc0b0bc0-052e-3622-c9c2-7bd473e1bf69', 'timestamp': '2018-09-29T08:21:05.788Z', 'price': 6521.5, 'size': 100}\n",
      "[2018-09-29 16:21:07 bitmexWS DEBUG] get new data: \n",
      "{'action': 'insert', 'data': [{'homeNotional': 0.015334, 'side': 'Buy', 'tickDirection': 'ZeroPlusTick', 'foreignNotional': 100, 'symbol': 'XBTUSD', 'grossValue': 1533400, 'trdMatchID': '4d8e8daa-519e-2199-65c6-bebe0bc94f72', 'timestamp': '2018-09-29T08:21:05.817Z', 'price': 6521.5, 'size': 100}], 'table': 'trade'}\n",
      "[2018-09-29 16:21:07 bitmexWS DEBUG] tick event: {'homeNotional': 0.015334, 'side': 'Buy', 'tickDirection': 'ZeroPlusTick', 'foreignNotional': 100, 'symbol': 'XBTUSD', 'grossValue': 1533400, 'trdMatchID': '4d8e8daa-519e-2199-65c6-bebe0bc94f72', 'timestamp': '2018-09-29T08:21:05.817Z', 'price': 6521.5, 'size': 100}\n",
      "[2018-09-29 16:21:07 bitmexWS DEBUG] get new data: \n",
      "{'action': 'insert', 'data': [{'homeNotional': 0.015334, 'side': 'Buy', 'tickDirection': 'ZeroPlusTick', 'foreignNotional': 100, 'symbol': 'XBTUSD', 'grossValue': 1533400, 'trdMatchID': '6aad90dd-1c62-6256-6180-2e0b42bf99a6', 'timestamp': '2018-09-29T08:21:05.842Z', 'price': 6521.5, 'size': 100}], 'table': 'trade'}\n",
      "[2018-09-29 16:21:07 bitmexWS DEBUG] tick event: {'homeNotional': 0.015334, 'side': 'Buy', 'tickDirection': 'ZeroPlusTick', 'foreignNotional': 100, 'symbol': 'XBTUSD', 'grossValue': 1533400, 'trdMatchID': '6aad90dd-1c62-6256-6180-2e0b42bf99a6', 'timestamp': '2018-09-29T08:21:05.842Z', 'price': 6521.5, 'size': 100}\n",
      "[2018-09-29 16:21:07 bitmexWS DEBUG] get new data: \n",
      "{'action': 'insert', 'data': [{'homeNotional': 0.015334, 'side': 'Buy', 'tickDirection': 'ZeroPlusTick', 'foreignNotional': 100, 'symbol': 'XBTUSD', 'grossValue': 1533400, 'trdMatchID': '4d87f830-fc58-1da6-e9db-848d4087d8a8', 'timestamp': '2018-09-29T08:21:05.873Z', 'price': 6521.5, 'size': 100}], 'table': 'trade'}\n",
      "[2018-09-29 16:21:07 bitmexWS DEBUG] tick event: {'homeNotional': 0.015334, 'side': 'Buy', 'tickDirection': 'ZeroPlusTick', 'foreignNotional': 100, 'symbol': 'XBTUSD', 'grossValue': 1533400, 'trdMatchID': '4d87f830-fc58-1da6-e9db-848d4087d8a8', 'timestamp': '2018-09-29T08:21:05.873Z', 'price': 6521.5, 'size': 100}\n",
      "[2018-09-29 16:21:07 bitmexWS DEBUG] get new data: \n",
      "{'action': 'insert', 'data': [{'homeNotional': 0.015334, 'side': 'Buy', 'tickDirection': 'ZeroPlusTick', 'foreignNotional': 100, 'symbol': 'XBTUSD', 'grossValue': 1533400, 'trdMatchID': 'ec0944da-88b4-6bf4-399d-02eb65e9b20d', 'timestamp': '2018-09-29T08:21:05.894Z', 'price': 6521.5, 'size': 100}], 'table': 'trade'}\n",
      "[2018-09-29 16:21:07 bitmexWS DEBUG] tick event: {'homeNotional': 0.015334, 'side': 'Buy', 'tickDirection': 'ZeroPlusTick', 'foreignNotional': 100, 'symbol': 'XBTUSD', 'grossValue': 1533400, 'trdMatchID': 'ec0944da-88b4-6bf4-399d-02eb65e9b20d', 'timestamp': '2018-09-29T08:21:05.894Z', 'price': 6521.5, 'size': 100}\n",
      "[2018-09-29 16:21:07 bitmexWS DEBUG] get new data: \n",
      "{'action': 'insert', 'data': [{'homeNotional': 0.015334, 'side': 'Buy', 'tickDirection': 'ZeroPlusTick', 'foreignNotional': 100, 'symbol': 'XBTUSD', 'grossValue': 1533400, 'trdMatchID': '4e583eec-6cfb-b419-0032-18500ee55868', 'timestamp': '2018-09-29T08:21:05.923Z', 'price': 6521.5, 'size': 100}], 'table': 'trade'}\n",
      "[2018-09-29 16:21:07 bitmexWS DEBUG] tick event: {'homeNotional': 0.015334, 'side': 'Buy', 'tickDirection': 'ZeroPlusTick', 'foreignNotional': 100, 'symbol': 'XBTUSD', 'grossValue': 1533400, 'trdMatchID': '4e583eec-6cfb-b419-0032-18500ee55868', 'timestamp': '2018-09-29T08:21:05.923Z', 'price': 6521.5, 'size': 100}\n",
      "[2018-09-29 16:21:07 bitmexWS DEBUG] get new data: \n",
      "{'action': 'insert', 'data': [{'homeNotional': 0.0030672, 'side': 'Buy', 'tickDirection': 'MinusTick', 'foreignNotional': 20, 'symbol': 'XBTUSD', 'grossValue': 306720, 'trdMatchID': '9ad4380b-8ebb-d096-c4aa-a4e1c3285621', 'timestamp': '2018-09-29T08:21:05.952Z', 'price': 6520.5, 'size': 20}, {'homeNotional': 0.0122672, 'side': 'Buy', 'tickDirection': 'PlusTick', 'foreignNotional': 80, 'symbol': 'XBTUSD', 'grossValue': 1226720, 'trdMatchID': 'd73d8f8b-6228-75c0-9c7b-b60ed75337d5', 'timestamp': '2018-09-29T08:21:05.952Z', 'price': 6521.5, 'size': 80}], 'table': 'trade'}\n",
      "[2018-09-29 16:21:07 bitmexWS DEBUG] tick event: {'homeNotional': 0.0030672, 'side': 'Buy', 'tickDirection': 'MinusTick', 'foreignNotional': 20, 'symbol': 'XBTUSD', 'grossValue': 306720, 'trdMatchID': '9ad4380b-8ebb-d096-c4aa-a4e1c3285621', 'timestamp': '2018-09-29T08:21:05.952Z', 'price': 6520.5, 'size': 20}\n",
      "[2018-09-29 16:21:07 bitmexWS DEBUG] tick event: {'homeNotional': 0.0122672, 'side': 'Buy', 'tickDirection': 'PlusTick', 'foreignNotional': 80, 'symbol': 'XBTUSD', 'grossValue': 1226720, 'trdMatchID': 'd73d8f8b-6228-75c0-9c7b-b60ed75337d5', 'timestamp': '2018-09-29T08:21:05.952Z', 'price': 6521.5, 'size': 80}\n",
      "[2018-09-29 16:21:07 bitmexWS DEBUG] get new data: \n",
      "{'action': 'insert', 'data': [{'homeNotional': 0.015334, 'side': 'Buy', 'tickDirection': 'ZeroPlusTick', 'foreignNotional': 100, 'symbol': 'XBTUSD', 'grossValue': 1533400, 'trdMatchID': '5d03bd36-377f-7be5-1ccc-536eb0937e71', 'timestamp': '2018-09-29T08:21:05.992Z', 'price': 6521.5, 'size': 100}], 'table': 'trade'}\n",
      "[2018-09-29 16:21:07 bitmexWS DEBUG] tick event: {'homeNotional': 0.015334, 'side': 'Buy', 'tickDirection': 'ZeroPlusTick', 'foreignNotional': 100, 'symbol': 'XBTUSD', 'grossValue': 1533400, 'trdMatchID': '5d03bd36-377f-7be5-1ccc-536eb0937e71', 'timestamp': '2018-09-29T08:21:05.992Z', 'price': 6521.5, 'size': 100}\n",
      "[2018-09-29 16:21:08 bitmexWS DEBUG] >>> send ping\n",
      "[2018-09-29 16:21:13 bitmexWS DEBUG] get new data: \n",
      "{'action': 'insert', 'data': [{'homeNotional': 0.46011, 'side': 'Sell', 'tickDirection': 'MinusTick', 'foreignNotional': 3000, 'symbol': 'XBTUSD', 'grossValue': 46011000, 'trdMatchID': 'd0e5eddc-9fe4-5976-ce2a-21172bf34c4f', 'timestamp': '2018-09-29T08:21:11.793Z', 'price': 6520, 'size': 3000}], 'table': 'trade'}\n",
      "[2018-09-29 16:21:13 bitmexWS DEBUG] tick event: {'homeNotional': 0.46011, 'side': 'Sell', 'tickDirection': 'MinusTick', 'foreignNotional': 3000, 'symbol': 'XBTUSD', 'grossValue': 46011000, 'trdMatchID': 'd0e5eddc-9fe4-5976-ce2a-21172bf34c4f', 'timestamp': '2018-09-29T08:21:11.793Z', 'price': 6520, 'size': 3000}\n",
      "[2018-09-29 16:21:13 bitmexWS DEBUG] >>> send ping\n",
      "[2018-09-29 16:21:18 bitmexWS DEBUG] >>> send ping\n",
      "[2018-09-29 16:21:23 bitmexWS DEBUG] >>> send ping\n",
      "[2018-09-29 16:21:28 bitmexWS DEBUG] get new data: \n",
      "{'action': 'insert', 'data': [{'homeNotional': 0.007668, 'side': 'Buy', 'tickDirection': 'PlusTick', 'foreignNotional': 50, 'symbol': 'XBTUSD', 'grossValue': 766800, 'trdMatchID': 'f5d29660-51f7-8d8a-40a9-515aeda761e9', 'timestamp': '2018-09-29T08:21:26.855Z', 'price': 6520.5, 'size': 50}, {'homeNotional': 0.0030672, 'side': 'Buy', 'tickDirection': 'ZeroPlusTick', 'foreignNotional': 20, 'symbol': 'XBTUSD', 'grossValue': 306720, 'trdMatchID': '8c76bb7b-df81-5973-3fb0-4da55b71a65d', 'timestamp': '2018-09-29T08:21:26.855Z', 'price': 6520.5, 'size': 20}, {'homeNotional': 0.00628776, 'side': 'Buy', 'tickDirection': 'ZeroPlusTick', 'foreignNotional': 41, 'symbol': 'XBTUSD', 'grossValue': 628776, 'trdMatchID': 'd87e5526-a2d2-b1bd-7641-3873baf2f92c', 'timestamp': '2018-09-29T08:21:26.855Z', 'price': 6520.5, 'size': 41}], 'table': 'trade'}\n",
      "[2018-09-29 16:21:28 bitmexWS DEBUG] tick event: {'homeNotional': 0.007668, 'side': 'Buy', 'tickDirection': 'PlusTick', 'foreignNotional': 50, 'symbol': 'XBTUSD', 'grossValue': 766800, 'trdMatchID': 'f5d29660-51f7-8d8a-40a9-515aeda761e9', 'timestamp': '2018-09-29T08:21:26.855Z', 'price': 6520.5, 'size': 50}\n",
      "[2018-09-29 16:21:28 bitmexWS DEBUG] tick event: {'homeNotional': 0.0030672, 'side': 'Buy', 'tickDirection': 'ZeroPlusTick', 'foreignNotional': 20, 'symbol': 'XBTUSD', 'grossValue': 306720, 'trdMatchID': '8c76bb7b-df81-5973-3fb0-4da55b71a65d', 'timestamp': '2018-09-29T08:21:26.855Z', 'price': 6520.5, 'size': 20}\n",
      "[2018-09-29 16:21:28 bitmexWS DEBUG] tick event: {'homeNotional': 0.00628776, 'side': 'Buy', 'tickDirection': 'ZeroPlusTick', 'foreignNotional': 41, 'symbol': 'XBTUSD', 'grossValue': 628776, 'trdMatchID': 'd87e5526-a2d2-b1bd-7641-3873baf2f92c', 'timestamp': '2018-09-29T08:21:26.855Z', 'price': 6520.5, 'size': 41}\n",
      "[2018-09-29 16:21:28 bitmexWS DEBUG] >>> send ping\n",
      "[2018-09-29 16:21:33 bitmexWS DEBUG] >>> send ping\n",
      "[2018-09-29 16:21:38 bitmexWS DEBUG] >>> send ping\n",
      "[2018-09-29 16:21:41 bitmexWS DEBUG] get new data: \n",
      "{'action': 'insert', 'data': [{'homeNotional': 0.02269728, 'side': 'Buy', 'tickDirection': 'ZeroPlusTick', 'foreignNotional': 148, 'symbol': 'XBTUSD', 'grossValue': 2269728, 'trdMatchID': '54797785-1427-35ec-93cf-06fdab1ab4ac', 'timestamp': '2018-09-29T08:21:39.946Z', 'price': 6520.5, 'size': 148}, {'homeNotional': 0.0030672, 'side': 'Buy', 'tickDirection': 'ZeroPlusTick', 'foreignNotional': 20, 'symbol': 'XBTUSD', 'grossValue': 306720, 'trdMatchID': '73508fa4-439d-1350-088d-9fe4b16d6262', 'timestamp': '2018-09-29T08:21:39.946Z', 'price': 6520.5, 'size': 20}, {'homeNotional': 0.007668, 'side': 'Buy', 'tickDirection': 'ZeroPlusTick', 'foreignNotional': 50, 'symbol': 'XBTUSD', 'grossValue': 766800, 'trdMatchID': '0cd429fb-e0a9-504b-3d90-7e71b8ef2a97', 'timestamp': '2018-09-29T08:21:39.946Z', 'price': 6520.5, 'size': 50}, {'homeNotional': 0.10381795, 'side': 'Buy', 'tickDirection': 'PlusTick', 'foreignNotional': 677, 'symbol': 'XBTUSD', 'grossValue': 10381795, 'trdMatchID': '1d613fe0-e788-1cbf-dc0c-fba05a52c1a2', 'timestamp': '2018-09-29T08:21:39.946Z', 'price': 6521, 'size': 677}, {'homeNotional': 7.15959794, 'side': 'Buy', 'tickDirection': 'PlusTick', 'foreignNotional': 46691, 'symbol': 'XBTUSD', 'grossValue': 715959794, 'trdMatchID': 'a85bf8ab-1eab-8764-8cc6-618cbf827e5c', 'timestamp': '2018-09-29T08:21:39.946Z', 'price': 6521.5, 'size': 46691}, {'homeNotional': 0.15011986, 'side': 'Buy', 'tickDirection': 'ZeroPlusTick', 'foreignNotional': 979, 'symbol': 'XBTUSD', 'grossValue': 15011986, 'trdMatchID': '384cde1e-6945-3bbd-bf7b-9cdec0f8ba78', 'timestamp': '2018-09-29T08:21:39.946Z', 'price': 6521.5, 'size': 979}, {'homeNotional': 0.007667, 'side': 'Buy', 'tickDirection': 'ZeroPlusTick', 'foreignNotional': 50, 'symbol': 'XBTUSD', 'grossValue': 766700, 'trdMatchID': 'fc5ddda1-128b-bff7-707b-a56832596e47', 'timestamp': '2018-09-29T08:21:39.946Z', 'price': 6521.5, 'size': 50}, {'homeNotional': 0.00275994, 'side': 'Buy', 'tickDirection': 'PlusTick', 'foreignNotional': 18, 'symbol': 'XBTUSD', 'grossValue': 275994, 'trdMatchID': '87ad2667-af3c-e1d6-5900-78ec7b826ef6', 'timestamp': '2018-09-29T08:21:39.946Z', 'price': 6522, 'size': 18}, {'homeNotional': 0.030666, 'side': 'Buy', 'tickDirection': 'ZeroPlusTick', 'foreignNotional': 200, 'symbol': 'XBTUSD', 'grossValue': 3066600, 'trdMatchID': '88688278-56fe-5518-951b-d80e6ba252a4', 'timestamp': '2018-09-29T08:21:39.946Z', 'price': 6522, 'size': 200}, {'homeNotional': 0.00199277, 'side': 'Buy', 'tickDirection': 'PlusTick', 'foreignNotional': 13, 'symbol': 'XBTUSD', 'grossValue': 199277, 'trdMatchID': '030b018e-8c6f-1a2b-c626-c59d83601d9e', 'timestamp': '2018-09-29T08:21:39.946Z', 'price': 6523.5, 'size': 13}, {'homeNotional': 0.00383175, 'side': 'Buy', 'tickDirection': 'PlusTick', 'foreignNotional': 25, 'symbol': 'XBTUSD', 'grossValue': 383175, 'trdMatchID': '9605e482-62dd-b548-28fc-13ec4df9ceac', 'timestamp': '2018-09-29T08:21:39.946Z', 'price': 6524.5, 'size': 25}, {'homeNotional': 0.0038315, 'side': 'Buy', 'tickDirection': 'PlusTick', 'foreignNotional': 25, 'symbol': 'XBTUSD', 'grossValue': 383150, 'trdMatchID': '513ba945-c9f3-cc03-1a35-f87515f7dce4', 'timestamp': '2018-09-29T08:21:39.946Z', 'price': 6525, 'size': 25}, {'homeNotional': 0.0444454, 'side': 'Buy', 'tickDirection': 'ZeroPlusTick', 'foreignNotional': 290, 'symbol': 'XBTUSD', 'grossValue': 4444540, 'trdMatchID': '2503c7e0-6d5d-b8a2-ed00-44bcb931aed3', 'timestamp': '2018-09-29T08:21:39.946Z', 'price': 6525, 'size': 290}, {'homeNotional': 0.015326, 'side': 'Buy', 'tickDirection': 'ZeroPlusTick', 'foreignNotional': 100, 'symbol': 'XBTUSD', 'grossValue': 1532600, 'trdMatchID': '1120911c-f8b8-e2be-4ea6-cf7a2d7f943a', 'timestamp': '2018-09-29T08:21:39.946Z', 'price': 6525, 'size': 100}, {'homeNotional': 0.00015326, 'side': 'Buy', 'tickDirection': 'ZeroPlusTick', 'foreignNotional': 1, 'symbol': 'XBTUSD', 'grossValue': 15326, 'trdMatchID': 'bd39fb8b-fedb-feba-3b43-24e1dc603f01', 'timestamp': '2018-09-29T08:21:39.946Z', 'price': 6525, 'size': 1}, {'homeNotional': 0.07662, 'side': 'Buy', 'tickDirection': 'PlusTick', 'foreignNotional': 500, 'symbol': 'XBTUSD', 'grossValue': 7662000, 'trdMatchID': '377fd871-cae5-4c32-102e-64a11d04638e', 'timestamp': '2018-09-29T08:21:39.946Z', 'price': 6525.5, 'size': 500}, {'homeNotional': 0.003831, 'side': 'Buy', 'tickDirection': 'ZeroPlusTick', 'foreignNotional': 25, 'symbol': 'XBTUSD', 'grossValue': 383100, 'trdMatchID': 'b743a571-5134-ffbc-e991-b2342e5d9f27', 'timestamp': '2018-09-29T08:21:39.946Z', 'price': 6525.5, 'size': 25}, {'homeNotional': 0.0030648, 'side': 'Buy', 'tickDirection': 'ZeroPlusTick', 'foreignNotional': 20, 'symbol': 'XBTUSD', 'grossValue': 306480, 'trdMatchID': '73daf1cd-87cf-321e-2f00-aef6b021661e', 'timestamp': '2018-09-29T08:21:39.946Z', 'price': 6525.5, 'size': 20}, {'homeNotional': 0.015323, 'side': 'Buy', 'tickDirection': 'PlusTick', 'foreignNotional': 100, 'symbol': 'XBTUSD', 'grossValue': 1532300, 'trdMatchID': '0da7fd62-50cb-ebfa-e196-395227e4ec56', 'timestamp': '2018-09-29T08:21:39.946Z', 'price': 6526, 'size': 100}, {'homeNotional': 0.015323, 'side': 'Buy', 'tickDirection': 'ZeroPlusTick', 'foreignNotional': 100, 'symbol': 'XBTUSD', 'grossValue': 1532300, 'trdMatchID': 'a01f2e95-aae0-e640-cfb9-7d5264e8e149', 'timestamp': '2018-09-29T08:21:39.946Z', 'price': 6526, 'size': 100}, {'homeNotional': 0.15323, 'side': 'Buy', 'tickDirection': 'ZeroPlusTick', 'foreignNotional': 1000, 'symbol': 'XBTUSD', 'grossValue': 15323000, 'trdMatchID': '482ad10b-5426-6692-ddfd-807296cd1549', 'timestamp': '2018-09-29T08:21:39.946Z', 'price': 6526, 'size': 1000}, {'homeNotional': 0.0643566, 'side': 'Buy', 'tickDirection': 'ZeroPlusTick', 'foreignNotional': 420, 'symbol': 'XBTUSD', 'grossValue': 6435660, 'trdMatchID': '9988340a-47be-8e98-b405-ff778334a5fd', 'timestamp': '2018-09-29T08:21:39.946Z', 'price': 6526, 'size': 420}, {'homeNotional': 0.00383075, 'side': 'Buy', 'tickDirection': 'ZeroPlusTick', 'foreignNotional': 25, 'symbol': 'XBTUSD', 'grossValue': 383075, 'trdMatchID': '813c5d1c-bc3c-3a81-5e73-cab00ed2bf6b', 'timestamp': '2018-09-29T08:21:39.946Z', 'price': 6526, 'size': 25}, {'homeNotional': 0.045969, 'side': 'Buy', 'tickDirection': 'ZeroPlusTick', 'foreignNotional': 300, 'symbol': 'XBTUSD', 'grossValue': 4596900, 'trdMatchID': '0f981105-61d8-c1e0-134e-04c25ed36c52', 'timestamp': '2018-09-29T08:21:39.946Z', 'price': 6526, 'size': 300}, {'homeNotional': 0.00260491, 'side': 'Buy', 'tickDirection': 'ZeroPlusTick', 'foreignNotional': 17, 'symbol': 'XBTUSD', 'grossValue': 260491, 'trdMatchID': 'd1d6befb-5d81-6c4f-1016-4ee18868cb75', 'timestamp': '2018-09-29T08:21:39.946Z', 'price': 6526, 'size': 17}, {'homeNotional': 0.00781473, 'side': 'Buy', 'tickDirection': 'ZeroPlusTick', 'foreignNotional': 51, 'symbol': 'XBTUSD', 'grossValue': 781473, 'trdMatchID': '8fe05bff-6563-c52e-3deb-d98e5c4c63c1', 'timestamp': '2018-09-29T08:21:39.946Z', 'price': 6526, 'size': 51}, {'homeNotional': 0.00275814, 'side': 'Buy', 'tickDirection': 'ZeroPlusTick', 'foreignNotional': 18, 'symbol': 'XBTUSD', 'grossValue': 275814, 'trdMatchID': '5c452f52-b9e9-5e92-dcb2-ea16f14c8b58', 'timestamp': '2018-09-29T08:21:39.946Z', 'price': 6526, 'size': 18}, {'homeNotional': 0.091932, 'side': 'Buy', 'tickDirection': 'PlusTick', 'foreignNotional': 600, 'symbol': 'XBTUSD', 'grossValue': 9193200, 'trdMatchID': '7022f08d-2278-6269-15e0-43a98ee5ed57', 'timestamp': '2018-09-29T08:21:39.946Z', 'price': 6526.5, 'size': 600}, {'homeNotional': 0.0038305, 'side': 'Buy', 'tickDirection': 'ZeroPlusTick', 'foreignNotional': 25, 'symbol': 'XBTUSD', 'grossValue': 383050, 'trdMatchID': 'ebcdb0bf-7cda-c9d0-4e67-921e62d8a91f', 'timestamp': '2018-09-29T08:21:39.946Z', 'price': 6526.5, 'size': 25}, {'homeNotional': 0.0015322, 'side': 'Buy', 'tickDirection': 'ZeroPlusTick', 'foreignNotional': 10, 'symbol': 'XBTUSD', 'grossValue': 153220, 'trdMatchID': 'ff86901d-1e25-ec31-74f2-794a7186cab7', 'timestamp': '2018-09-29T08:21:39.946Z', 'price': 6526.5, 'size': 10}, {'homeNotional': 0.00383025, 'side': 'Buy', 'tickDirection': 'PlusTick', 'foreignNotional': 25, 'symbol': 'XBTUSD', 'grossValue': 383025, 'trdMatchID': 'e72bdc2b-1d07-e924-1f33-4f4ca47539d1', 'timestamp': '2018-09-29T08:21:39.946Z', 'price': 6527, 'size': 25}, {'homeNotional': 0.013022, 'side': 'Buy', 'tickDirection': 'PlusTick', 'foreignNotional': 85, 'symbol': 'XBTUSD', 'grossValue': 1302200, 'trdMatchID': '4aa96c0b-6f43-52e5-2f9b-1335356b27f6', 'timestamp': '2018-09-29T08:21:39.946Z', 'price': 6527.5, 'size': 85}, {'homeNotional': 0.00383, 'side': 'Buy', 'tickDirection': 'ZeroPlusTick', 'foreignNotional': 25, 'symbol': 'XBTUSD', 'grossValue': 383000, 'trdMatchID': '2f29ef03-22d6-e297-ef41-ea6d802fa70a', 'timestamp': '2018-09-29T08:21:39.946Z', 'price': 6527.5, 'size': 25}, {'homeNotional': 0.00766, 'side': 'Buy', 'tickDirection': 'ZeroPlusTick', 'foreignNotional': 50, 'symbol': 'XBTUSD', 'grossValue': 766000, 'trdMatchID': '1cea808c-cbdd-82a6-bc11-93baab2f3894', 'timestamp': '2018-09-29T08:21:39.946Z', 'price': 6527.5, 'size': 50}, {'homeNotional': 0.015319, 'side': 'Buy', 'tickDirection': 'PlusTick', 'foreignNotional': 100, 'symbol': 'XBTUSD', 'grossValue': 1531900, 'trdMatchID': '4fac37b4-c77f-2b2e-8387-4c85084e3786', 'timestamp': '2018-09-29T08:21:39.946Z', 'price': 6528, 'size': 100}, {'homeNotional': 0.015319, 'side': 'Buy', 'tickDirection': 'ZeroPlusTick', 'foreignNotional': 100, 'symbol': 'XBTUSD', 'grossValue': 1531900, 'trdMatchID': 'b8b7c047-eece-76b9-d5f0-df9965b915f5', 'timestamp': '2018-09-29T08:21:39.946Z', 'price': 6528, 'size': 100}, {'homeNotional': 0.0076595, 'side': 'Buy', 'tickDirection': 'ZeroPlusTick', 'foreignNotional': 50, 'symbol': 'XBTUSD', 'grossValue': 765950, 'trdMatchID': 'b5cf69ac-7b99-5151-7cd1-7b4be7885253', 'timestamp': '2018-09-29T08:21:39.946Z', 'price': 6528, 'size': 50}, {'homeNotional': 0.00382975, 'side': 'Buy', 'tickDirection': 'ZeroPlusTick', 'foreignNotional': 25, 'symbol': 'XBTUSD', 'grossValue': 382975, 'trdMatchID': 'b92b3677-6a65-2674-22b9-d5467a42e21e', 'timestamp': '2018-09-29T08:21:39.946Z', 'price': 6528, 'size': 25}, {'homeNotional': 0.00382975, 'side': 'Buy', 'tickDirection': 'ZeroPlusTick', 'foreignNotional': 25, 'symbol': 'XBTUSD', 'grossValue': 382975, 'trdMatchID': 'f954a7f2-12b6-ea87-f6e8-dbe7e1427e95', 'timestamp': '2018-09-29T08:21:39.946Z', 'price': 6528, 'size': 25}, {'homeNotional': 0.00382925, 'side': 'Buy', 'tickDirection': 'PlusTick', 'foreignNotional': 25, 'symbol': 'XBTUSD', 'grossValue': 382925, 'trdMatchID': '4cac78b3-1eb2-8c70-b20c-a94e8cd4ce92', 'timestamp': '2018-09-29T08:21:39.946Z', 'price': 6528.5, 'size': 25}, {'homeNotional': 0.015317, 'side': 'Buy', 'tickDirection': 'ZeroPlusTick', 'foreignNotional': 100, 'symbol': 'XBTUSD', 'grossValue': 1531700, 'trdMatchID': '3cb7dd42-20e5-750f-538c-b54cdecaf54e', 'timestamp': '2018-09-29T08:21:39.946Z', 'price': 6528.5, 'size': 100}, {'homeNotional': 0.71331269, 'side': 'Buy', 'tickDirection': 'ZeroPlusTick', 'foreignNotional': 4657, 'symbol': 'XBTUSD', 'grossValue': 71331269, 'trdMatchID': 'ea3fc25d-d82c-1cc1-0e25-5f29b174e6d4', 'timestamp': '2018-09-29T08:21:39.946Z', 'price': 6528.5, 'size': 4657}, {'homeNotional': 0.0091896, 'side': 'Buy', 'tickDirection': 'PlusTick', 'foreignNotional': 60, 'symbol': 'XBTUSD', 'grossValue': 918960, 'trdMatchID': '7de7acc9-1ca5-a4ef-5480-07fc993f0dd6', 'timestamp': '2018-09-29T08:21:39.946Z', 'price': 6529, 'size': 60}, {'homeNotional': 0.0091896, 'side': 'Buy', 'tickDirection': 'ZeroPlusTick', 'foreignNotional': 60, 'symbol': 'XBTUSD', 'grossValue': 918960, 'trdMatchID': '0fd980a9-2700-3ffe-cef1-74176ae4006e', 'timestamp': '2018-09-29T08:21:39.946Z', 'price': 6529, 'size': 60}, {'homeNotional': 0.15316, 'side': 'Buy', 'tickDirection': 'ZeroPlusTick', 'foreignNotional': 1000, 'symbol': 'XBTUSD', 'grossValue': 15316000, 'trdMatchID': '899f3b2b-8c8f-4029-914f-a303bdaa2045', 'timestamp': '2018-09-29T08:21:39.946Z', 'price': 6529, 'size': 1000}, {'homeNotional': 0.003829, 'side': 'Buy', 'tickDirection': 'ZeroPlusTick', 'foreignNotional': 25, 'symbol': 'XBTUSD', 'grossValue': 382900, 'trdMatchID': 'ea1e2d5c-05d4-7345-0da8-2a604b4c6738', 'timestamp': '2018-09-29T08:21:39.946Z', 'price': 6529, 'size': 25}, {'homeNotional': 0.030632, 'side': 'Buy', 'tickDirection': 'ZeroPlusTick', 'foreignNotional': 200, 'symbol': 'XBTUSD', 'grossValue': 3063200, 'trdMatchID': '98877e48-7404-7fbb-7e41-fb7f99ecb717', 'timestamp': '2018-09-29T08:21:39.946Z', 'price': 6529, 'size': 200}, {'homeNotional': 0.03752175, 'side': 'Buy', 'tickDirection': 'PlusTick', 'foreignNotional': 245, 'symbol': 'XBTUSD', 'grossValue': 3752175, 'trdMatchID': 'ccd741f2-bb78-09fa-b517-5826b90724c7', 'timestamp': '2018-09-29T08:21:39.946Z', 'price': 6529.5, 'size': 245}, {'homeNotional': 0.01148625, 'side': 'Buy', 'tickDirection': 'ZeroPlusTick', 'foreignNotional': 75, 'symbol': 'XBTUSD', 'grossValue': 1148625, 'trdMatchID': '53066503-0fae-c3a4-6c80-e5458ed9ded7', 'timestamp': '2018-09-29T08:21:39.946Z', 'price': 6529.5, 'size': 75}, {'homeNotional': 0.0162339, 'side': 'Buy', 'tickDirection': 'ZeroPlusTick', 'foreignNotional': 106, 'symbol': 'XBTUSD', 'grossValue': 1623390, 'trdMatchID': 'a5f37b91-507d-3855-eb4b-09c6db1dc379', 'timestamp': '2018-09-29T08:21:39.946Z', 'price': 6529.5, 'size': 106}, {'homeNotional': 0.045945, 'side': 'Buy', 'tickDirection': 'ZeroPlusTick', 'foreignNotional': 300, 'symbol': 'XBTUSD', 'grossValue': 4594500, 'trdMatchID': '4a4bb110-53cb-49ad-9d50-5b2ce85613c3', 'timestamp': '2018-09-29T08:21:39.946Z', 'price': 6529.5, 'size': 300}, {'homeNotional': 0.00382875, 'side': 'Buy', 'tickDirection': 'ZeroPlusTick', 'foreignNotional': 25, 'symbol': 'XBTUSD', 'grossValue': 382875, 'trdMatchID': 'a4aed0cb-1e83-5a06-575d-e3ad3319b005', 'timestamp': '2018-09-29T08:21:39.946Z', 'price': 6529.5, 'size': 25}, {'homeNotional': 0.0045945, 'side': 'Buy', 'tickDirection': 'ZeroPlusTick', 'foreignNotional': 30, 'symbol': 'XBTUSD', 'grossValue': 459450, 'trdMatchID': '93eb47b7-dbd6-541f-2347-d780f307dbd9', 'timestamp': '2018-09-29T08:21:39.946Z', 'price': 6529.5, 'size': 30}, {'homeNotional': 52.08429226, 'side': 'Buy', 'tickDirection': 'PlusTick', 'foreignNotional': 340109, 'symbol': 'XBTUSD', 'grossValue': 5208429226, 'trdMatchID': '7a0180d3-4fd4-643a-17f3-53aa7f7bfbac', 'timestamp': '2018-09-29T08:21:39.946Z', 'price': 6530, 'size': 340109}], 'table': 'trade'}\n",
      "[2018-09-29 16:21:41 bitmexWS DEBUG] tick event: {'homeNotional': 0.02269728, 'side': 'Buy', 'tickDirection': 'ZeroPlusTick', 'foreignNotional': 148, 'symbol': 'XBTUSD', 'grossValue': 2269728, 'trdMatchID': '54797785-1427-35ec-93cf-06fdab1ab4ac', 'timestamp': '2018-09-29T08:21:39.946Z', 'price': 6520.5, 'size': 148}\n",
      "[2018-09-29 16:21:41 bitmexWS DEBUG] tick event: {'homeNotional': 0.0030672, 'side': 'Buy', 'tickDirection': 'ZeroPlusTick', 'foreignNotional': 20, 'symbol': 'XBTUSD', 'grossValue': 306720, 'trdMatchID': '73508fa4-439d-1350-088d-9fe4b16d6262', 'timestamp': '2018-09-29T08:21:39.946Z', 'price': 6520.5, 'size': 20}\n",
      "[2018-09-29 16:21:41 bitmexWS DEBUG] tick event: {'homeNotional': 0.007668, 'side': 'Buy', 'tickDirection': 'ZeroPlusTick', 'foreignNotional': 50, 'symbol': 'XBTUSD', 'grossValue': 766800, 'trdMatchID': '0cd429fb-e0a9-504b-3d90-7e71b8ef2a97', 'timestamp': '2018-09-29T08:21:39.946Z', 'price': 6520.5, 'size': 50}\n",
      "[2018-09-29 16:21:41 bitmexWS DEBUG] tick event: {'homeNotional': 0.10381795, 'side': 'Buy', 'tickDirection': 'PlusTick', 'foreignNotional': 677, 'symbol': 'XBTUSD', 'grossValue': 10381795, 'trdMatchID': '1d613fe0-e788-1cbf-dc0c-fba05a52c1a2', 'timestamp': '2018-09-29T08:21:39.946Z', 'price': 6521, 'size': 677}\n",
      "[2018-09-29 16:21:41 bitmexWS DEBUG] tick event: {'homeNotional': 7.15959794, 'side': 'Buy', 'tickDirection': 'PlusTick', 'foreignNotional': 46691, 'symbol': 'XBTUSD', 'grossValue': 715959794, 'trdMatchID': 'a85bf8ab-1eab-8764-8cc6-618cbf827e5c', 'timestamp': '2018-09-29T08:21:39.946Z', 'price': 6521.5, 'size': 46691}\n",
      "[2018-09-29 16:21:41 bitmexWS DEBUG] tick event: {'homeNotional': 0.15011986, 'side': 'Buy', 'tickDirection': 'ZeroPlusTick', 'foreignNotional': 979, 'symbol': 'XBTUSD', 'grossValue': 15011986, 'trdMatchID': '384cde1e-6945-3bbd-bf7b-9cdec0f8ba78', 'timestamp': '2018-09-29T08:21:39.946Z', 'price': 6521.5, 'size': 979}\n",
      "[2018-09-29 16:21:41 bitmexWS DEBUG] tick event: {'homeNotional': 0.007667, 'side': 'Buy', 'tickDirection': 'ZeroPlusTick', 'foreignNotional': 50, 'symbol': 'XBTUSD', 'grossValue': 766700, 'trdMatchID': 'fc5ddda1-128b-bff7-707b-a56832596e47', 'timestamp': '2018-09-29T08:21:39.946Z', 'price': 6521.5, 'size': 50}\n",
      "[2018-09-29 16:21:41 bitmexWS DEBUG] tick event: {'homeNotional': 0.00275994, 'side': 'Buy', 'tickDirection': 'PlusTick', 'foreignNotional': 18, 'symbol': 'XBTUSD', 'grossValue': 275994, 'trdMatchID': '87ad2667-af3c-e1d6-5900-78ec7b826ef6', 'timestamp': '2018-09-29T08:21:39.946Z', 'price': 6522, 'size': 18}\n",
      "[2018-09-29 16:21:41 bitmexWS DEBUG] tick event: {'homeNotional': 0.030666, 'side': 'Buy', 'tickDirection': 'ZeroPlusTick', 'foreignNotional': 200, 'symbol': 'XBTUSD', 'grossValue': 3066600, 'trdMatchID': '88688278-56fe-5518-951b-d80e6ba252a4', 'timestamp': '2018-09-29T08:21:39.946Z', 'price': 6522, 'size': 200}\n",
      "[2018-09-29 16:21:41 bitmexWS DEBUG] tick event: {'homeNotional': 0.00199277, 'side': 'Buy', 'tickDirection': 'PlusTick', 'foreignNotional': 13, 'symbol': 'XBTUSD', 'grossValue': 199277, 'trdMatchID': '030b018e-8c6f-1a2b-c626-c59d83601d9e', 'timestamp': '2018-09-29T08:21:39.946Z', 'price': 6523.5, 'size': 13}\n",
      "[2018-09-29 16:21:41 bitmexWS DEBUG] tick event: {'homeNotional': 0.00383175, 'side': 'Buy', 'tickDirection': 'PlusTick', 'foreignNotional': 25, 'symbol': 'XBTUSD', 'grossValue': 383175, 'trdMatchID': '9605e482-62dd-b548-28fc-13ec4df9ceac', 'timestamp': '2018-09-29T08:21:39.946Z', 'price': 6524.5, 'size': 25}\n",
      "[2018-09-29 16:21:41 bitmexWS DEBUG] tick event: {'homeNotional': 0.0038315, 'side': 'Buy', 'tickDirection': 'PlusTick', 'foreignNotional': 25, 'symbol': 'XBTUSD', 'grossValue': 383150, 'trdMatchID': '513ba945-c9f3-cc03-1a35-f87515f7dce4', 'timestamp': '2018-09-29T08:21:39.946Z', 'price': 6525, 'size': 25}\n",
      "[2018-09-29 16:21:41 bitmexWS DEBUG] tick event: {'homeNotional': 0.0444454, 'side': 'Buy', 'tickDirection': 'ZeroPlusTick', 'foreignNotional': 290, 'symbol': 'XBTUSD', 'grossValue': 4444540, 'trdMatchID': '2503c7e0-6d5d-b8a2-ed00-44bcb931aed3', 'timestamp': '2018-09-29T08:21:39.946Z', 'price': 6525, 'size': 290}\n",
      "[2018-09-29 16:21:41 bitmexWS DEBUG] tick event: {'homeNotional': 0.015326, 'side': 'Buy', 'tickDirection': 'ZeroPlusTick', 'foreignNotional': 100, 'symbol': 'XBTUSD', 'grossValue': 1532600, 'trdMatchID': '1120911c-f8b8-e2be-4ea6-cf7a2d7f943a', 'timestamp': '2018-09-29T08:21:39.946Z', 'price': 6525, 'size': 100}\n",
      "[2018-09-29 16:21:41 bitmexWS DEBUG] tick event: {'homeNotional': 0.00015326, 'side': 'Buy', 'tickDirection': 'ZeroPlusTick', 'foreignNotional': 1, 'symbol': 'XBTUSD', 'grossValue': 15326, 'trdMatchID': 'bd39fb8b-fedb-feba-3b43-24e1dc603f01', 'timestamp': '2018-09-29T08:21:39.946Z', 'price': 6525, 'size': 1}\n",
      "[2018-09-29 16:21:41 bitmexWS DEBUG] tick event: {'homeNotional': 0.07662, 'side': 'Buy', 'tickDirection': 'PlusTick', 'foreignNotional': 500, 'symbol': 'XBTUSD', 'grossValue': 7662000, 'trdMatchID': '377fd871-cae5-4c32-102e-64a11d04638e', 'timestamp': '2018-09-29T08:21:39.946Z', 'price': 6525.5, 'size': 500}\n",
      "[2018-09-29 16:21:41 bitmexWS DEBUG] tick event: {'homeNotional': 0.003831, 'side': 'Buy', 'tickDirection': 'ZeroPlusTick', 'foreignNotional': 25, 'symbol': 'XBTUSD', 'grossValue': 383100, 'trdMatchID': 'b743a571-5134-ffbc-e991-b2342e5d9f27', 'timestamp': '2018-09-29T08:21:39.946Z', 'price': 6525.5, 'size': 25}\n",
      "[2018-09-29 16:21:41 bitmexWS DEBUG] tick event: {'homeNotional': 0.0030648, 'side': 'Buy', 'tickDirection': 'ZeroPlusTick', 'foreignNotional': 20, 'symbol': 'XBTUSD', 'grossValue': 306480, 'trdMatchID': '73daf1cd-87cf-321e-2f00-aef6b021661e', 'timestamp': '2018-09-29T08:21:39.946Z', 'price': 6525.5, 'size': 20}\n",
      "[2018-09-29 16:21:41 bitmexWS DEBUG] tick event: {'homeNotional': 0.015323, 'side': 'Buy', 'tickDirection': 'PlusTick', 'foreignNotional': 100, 'symbol': 'XBTUSD', 'grossValue': 1532300, 'trdMatchID': '0da7fd62-50cb-ebfa-e196-395227e4ec56', 'timestamp': '2018-09-29T08:21:39.946Z', 'price': 6526, 'size': 100}\n",
      "[2018-09-29 16:21:41 bitmexWS DEBUG] tick event: {'homeNotional': 0.015323, 'side': 'Buy', 'tickDirection': 'ZeroPlusTick', 'foreignNotional': 100, 'symbol': 'XBTUSD', 'grossValue': 1532300, 'trdMatchID': 'a01f2e95-aae0-e640-cfb9-7d5264e8e149', 'timestamp': '2018-09-29T08:21:39.946Z', 'price': 6526, 'size': 100}\n",
      "[2018-09-29 16:21:41 bitmexWS DEBUG] tick event: {'homeNotional': 0.15323, 'side': 'Buy', 'tickDirection': 'ZeroPlusTick', 'foreignNotional': 1000, 'symbol': 'XBTUSD', 'grossValue': 15323000, 'trdMatchID': '482ad10b-5426-6692-ddfd-807296cd1549', 'timestamp': '2018-09-29T08:21:39.946Z', 'price': 6526, 'size': 1000}\n",
      "[2018-09-29 16:21:41 bitmexWS DEBUG] tick event: {'homeNotional': 0.0643566, 'side': 'Buy', 'tickDirection': 'ZeroPlusTick', 'foreignNotional': 420, 'symbol': 'XBTUSD', 'grossValue': 6435660, 'trdMatchID': '9988340a-47be-8e98-b405-ff778334a5fd', 'timestamp': '2018-09-29T08:21:39.946Z', 'price': 6526, 'size': 420}\n",
      "[2018-09-29 16:21:41 bitmexWS DEBUG] tick event: {'homeNotional': 0.00383075, 'side': 'Buy', 'tickDirection': 'ZeroPlusTick', 'foreignNotional': 25, 'symbol': 'XBTUSD', 'grossValue': 383075, 'trdMatchID': '813c5d1c-bc3c-3a81-5e73-cab00ed2bf6b', 'timestamp': '2018-09-29T08:21:39.946Z', 'price': 6526, 'size': 25}\n",
      "[2018-09-29 16:21:41 bitmexWS DEBUG] tick event: {'homeNotional': 0.045969, 'side': 'Buy', 'tickDirection': 'ZeroPlusTick', 'foreignNotional': 300, 'symbol': 'XBTUSD', 'grossValue': 4596900, 'trdMatchID': '0f981105-61d8-c1e0-134e-04c25ed36c52', 'timestamp': '2018-09-29T08:21:39.946Z', 'price': 6526, 'size': 300}\n",
      "[2018-09-29 16:21:41 bitmexWS DEBUG] tick event: {'homeNotional': 0.00260491, 'side': 'Buy', 'tickDirection': 'ZeroPlusTick', 'foreignNotional': 17, 'symbol': 'XBTUSD', 'grossValue': 260491, 'trdMatchID': 'd1d6befb-5d81-6c4f-1016-4ee18868cb75', 'timestamp': '2018-09-29T08:21:39.946Z', 'price': 6526, 'size': 17}\n",
      "[2018-09-29 16:21:41 bitmexWS DEBUG] tick event: {'homeNotional': 0.00781473, 'side': 'Buy', 'tickDirection': 'ZeroPlusTick', 'foreignNotional': 51, 'symbol': 'XBTUSD', 'grossValue': 781473, 'trdMatchID': '8fe05bff-6563-c52e-3deb-d98e5c4c63c1', 'timestamp': '2018-09-29T08:21:39.946Z', 'price': 6526, 'size': 51}\n",
      "[2018-09-29 16:21:41 bitmexWS DEBUG] tick event: {'homeNotional': 0.00275814, 'side': 'Buy', 'tickDirection': 'ZeroPlusTick', 'foreignNotional': 18, 'symbol': 'XBTUSD', 'grossValue': 275814, 'trdMatchID': '5c452f52-b9e9-5e92-dcb2-ea16f14c8b58', 'timestamp': '2018-09-29T08:21:39.946Z', 'price': 6526, 'size': 18}\n",
      "[2018-09-29 16:21:41 bitmexWS DEBUG] tick event: {'homeNotional': 0.091932, 'side': 'Buy', 'tickDirection': 'PlusTick', 'foreignNotional': 600, 'symbol': 'XBTUSD', 'grossValue': 9193200, 'trdMatchID': '7022f08d-2278-6269-15e0-43a98ee5ed57', 'timestamp': '2018-09-29T08:21:39.946Z', 'price': 6526.5, 'size': 600}\n",
      "[2018-09-29 16:21:41 bitmexWS DEBUG] tick event: {'homeNotional': 0.0038305, 'side': 'Buy', 'tickDirection': 'ZeroPlusTick', 'foreignNotional': 25, 'symbol': 'XBTUSD', 'grossValue': 383050, 'trdMatchID': 'ebcdb0bf-7cda-c9d0-4e67-921e62d8a91f', 'timestamp': '2018-09-29T08:21:39.946Z', 'price': 6526.5, 'size': 25}\n",
      "[2018-09-29 16:21:41 bitmexWS DEBUG] tick event: {'homeNotional': 0.0015322, 'side': 'Buy', 'tickDirection': 'ZeroPlusTick', 'foreignNotional': 10, 'symbol': 'XBTUSD', 'grossValue': 153220, 'trdMatchID': 'ff86901d-1e25-ec31-74f2-794a7186cab7', 'timestamp': '2018-09-29T08:21:39.946Z', 'price': 6526.5, 'size': 10}\n",
      "[2018-09-29 16:21:41 bitmexWS DEBUG] tick event: {'homeNotional': 0.00383025, 'side': 'Buy', 'tickDirection': 'PlusTick', 'foreignNotional': 25, 'symbol': 'XBTUSD', 'grossValue': 383025, 'trdMatchID': 'e72bdc2b-1d07-e924-1f33-4f4ca47539d1', 'timestamp': '2018-09-29T08:21:39.946Z', 'price': 6527, 'size': 25}\n",
      "[2018-09-29 16:21:41 bitmexWS DEBUG] tick event: {'homeNotional': 0.013022, 'side': 'Buy', 'tickDirection': 'PlusTick', 'foreignNotional': 85, 'symbol': 'XBTUSD', 'grossValue': 1302200, 'trdMatchID': '4aa96c0b-6f43-52e5-2f9b-1335356b27f6', 'timestamp': '2018-09-29T08:21:39.946Z', 'price': 6527.5, 'size': 85}\n",
      "[2018-09-29 16:21:41 bitmexWS DEBUG] tick event: {'homeNotional': 0.00383, 'side': 'Buy', 'tickDirection': 'ZeroPlusTick', 'foreignNotional': 25, 'symbol': 'XBTUSD', 'grossValue': 383000, 'trdMatchID': '2f29ef03-22d6-e297-ef41-ea6d802fa70a', 'timestamp': '2018-09-29T08:21:39.946Z', 'price': 6527.5, 'size': 25}\n",
      "[2018-09-29 16:21:41 bitmexWS DEBUG] tick event: {'homeNotional': 0.00766, 'side': 'Buy', 'tickDirection': 'ZeroPlusTick', 'foreignNotional': 50, 'symbol': 'XBTUSD', 'grossValue': 766000, 'trdMatchID': '1cea808c-cbdd-82a6-bc11-93baab2f3894', 'timestamp': '2018-09-29T08:21:39.946Z', 'price': 6527.5, 'size': 50}\n",
      "[2018-09-29 16:21:41 bitmexWS DEBUG] tick event: {'homeNotional': 0.015319, 'side': 'Buy', 'tickDirection': 'PlusTick', 'foreignNotional': 100, 'symbol': 'XBTUSD', 'grossValue': 1531900, 'trdMatchID': '4fac37b4-c77f-2b2e-8387-4c85084e3786', 'timestamp': '2018-09-29T08:21:39.946Z', 'price': 6528, 'size': 100}\n",
      "[2018-09-29 16:21:41 bitmexWS DEBUG] tick event: {'homeNotional': 0.015319, 'side': 'Buy', 'tickDirection': 'ZeroPlusTick', 'foreignNotional': 100, 'symbol': 'XBTUSD', 'grossValue': 1531900, 'trdMatchID': 'b8b7c047-eece-76b9-d5f0-df9965b915f5', 'timestamp': '2018-09-29T08:21:39.946Z', 'price': 6528, 'size': 100}\n",
      "[2018-09-29 16:21:41 bitmexWS DEBUG] tick event: {'homeNotional': 0.0076595, 'side': 'Buy', 'tickDirection': 'ZeroPlusTick', 'foreignNotional': 50, 'symbol': 'XBTUSD', 'grossValue': 765950, 'trdMatchID': 'b5cf69ac-7b99-5151-7cd1-7b4be7885253', 'timestamp': '2018-09-29T08:21:39.946Z', 'price': 6528, 'size': 50}\n",
      "[2018-09-29 16:21:41 bitmexWS DEBUG] tick event: {'homeNotional': 0.00382975, 'side': 'Buy', 'tickDirection': 'ZeroPlusTick', 'foreignNotional': 25, 'symbol': 'XBTUSD', 'grossValue': 382975, 'trdMatchID': 'b92b3677-6a65-2674-22b9-d5467a42e21e', 'timestamp': '2018-09-29T08:21:39.946Z', 'price': 6528, 'size': 25}\n",
      "[2018-09-29 16:21:41 bitmexWS DEBUG] tick event: {'homeNotional': 0.00382975, 'side': 'Buy', 'tickDirection': 'ZeroPlusTick', 'foreignNotional': 25, 'symbol': 'XBTUSD', 'grossValue': 382975, 'trdMatchID': 'f954a7f2-12b6-ea87-f6e8-dbe7e1427e95', 'timestamp': '2018-09-29T08:21:39.946Z', 'price': 6528, 'size': 25}\n",
      "[2018-09-29 16:21:41 bitmexWS DEBUG] tick event: {'homeNotional': 0.00382925, 'side': 'Buy', 'tickDirection': 'PlusTick', 'foreignNotional': 25, 'symbol': 'XBTUSD', 'grossValue': 382925, 'trdMatchID': '4cac78b3-1eb2-8c70-b20c-a94e8cd4ce92', 'timestamp': '2018-09-29T08:21:39.946Z', 'price': 6528.5, 'size': 25}\n",
      "[2018-09-29 16:21:41 bitmexWS DEBUG] tick event: {'homeNotional': 0.015317, 'side': 'Buy', 'tickDirection': 'ZeroPlusTick', 'foreignNotional': 100, 'symbol': 'XBTUSD', 'grossValue': 1531700, 'trdMatchID': '3cb7dd42-20e5-750f-538c-b54cdecaf54e', 'timestamp': '2018-09-29T08:21:39.946Z', 'price': 6528.5, 'size': 100}\n",
      "[2018-09-29 16:21:41 bitmexWS DEBUG] tick event: {'homeNotional': 0.71331269, 'side': 'Buy', 'tickDirection': 'ZeroPlusTick', 'foreignNotional': 4657, 'symbol': 'XBTUSD', 'grossValue': 71331269, 'trdMatchID': 'ea3fc25d-d82c-1cc1-0e25-5f29b174e6d4', 'timestamp': '2018-09-29T08:21:39.946Z', 'price': 6528.5, 'size': 4657}\n",
      "[2018-09-29 16:21:41 bitmexWS DEBUG] tick event: {'homeNotional': 0.0091896, 'side': 'Buy', 'tickDirection': 'PlusTick', 'foreignNotional': 60, 'symbol': 'XBTUSD', 'grossValue': 918960, 'trdMatchID': '7de7acc9-1ca5-a4ef-5480-07fc993f0dd6', 'timestamp': '2018-09-29T08:21:39.946Z', 'price': 6529, 'size': 60}\n",
      "[2018-09-29 16:21:41 bitmexWS DEBUG] tick event: {'homeNotional': 0.0091896, 'side': 'Buy', 'tickDirection': 'ZeroPlusTick', 'foreignNotional': 60, 'symbol': 'XBTUSD', 'grossValue': 918960, 'trdMatchID': '0fd980a9-2700-3ffe-cef1-74176ae4006e', 'timestamp': '2018-09-29T08:21:39.946Z', 'price': 6529, 'size': 60}\n",
      "[2018-09-29 16:21:41 bitmexWS DEBUG] tick event: {'homeNotional': 0.15316, 'side': 'Buy', 'tickDirection': 'ZeroPlusTick', 'foreignNotional': 1000, 'symbol': 'XBTUSD', 'grossValue': 15316000, 'trdMatchID': '899f3b2b-8c8f-4029-914f-a303bdaa2045', 'timestamp': '2018-09-29T08:21:39.946Z', 'price': 6529, 'size': 1000}\n",
      "[2018-09-29 16:21:41 bitmexWS DEBUG] tick event: {'homeNotional': 0.003829, 'side': 'Buy', 'tickDirection': 'ZeroPlusTick', 'foreignNotional': 25, 'symbol': 'XBTUSD', 'grossValue': 382900, 'trdMatchID': 'ea1e2d5c-05d4-7345-0da8-2a604b4c6738', 'timestamp': '2018-09-29T08:21:39.946Z', 'price': 6529, 'size': 25}\n",
      "[2018-09-29 16:21:41 bitmexWS DEBUG] tick event: {'homeNotional': 0.030632, 'side': 'Buy', 'tickDirection': 'ZeroPlusTick', 'foreignNotional': 200, 'symbol': 'XBTUSD', 'grossValue': 3063200, 'trdMatchID': '98877e48-7404-7fbb-7e41-fb7f99ecb717', 'timestamp': '2018-09-29T08:21:39.946Z', 'price': 6529, 'size': 200}\n",
      "[2018-09-29 16:21:41 bitmexWS DEBUG] tick event: {'homeNotional': 0.03752175, 'side': 'Buy', 'tickDirection': 'PlusTick', 'foreignNotional': 245, 'symbol': 'XBTUSD', 'grossValue': 3752175, 'trdMatchID': 'ccd741f2-bb78-09fa-b517-5826b90724c7', 'timestamp': '2018-09-29T08:21:39.946Z', 'price': 6529.5, 'size': 245}\n",
      "[2018-09-29 16:21:41 bitmexWS DEBUG] tick event: {'homeNotional': 0.01148625, 'side': 'Buy', 'tickDirection': 'ZeroPlusTick', 'foreignNotional': 75, 'symbol': 'XBTUSD', 'grossValue': 1148625, 'trdMatchID': '53066503-0fae-c3a4-6c80-e5458ed9ded7', 'timestamp': '2018-09-29T08:21:39.946Z', 'price': 6529.5, 'size': 75}\n",
      "[2018-09-29 16:21:41 bitmexWS DEBUG] tick event: {'homeNotional': 0.0162339, 'side': 'Buy', 'tickDirection': 'ZeroPlusTick', 'foreignNotional': 106, 'symbol': 'XBTUSD', 'grossValue': 1623390, 'trdMatchID': 'a5f37b91-507d-3855-eb4b-09c6db1dc379', 'timestamp': '2018-09-29T08:21:39.946Z', 'price': 6529.5, 'size': 106}\n",
      "[2018-09-29 16:21:41 bitmexWS DEBUG] tick event: {'homeNotional': 0.045945, 'side': 'Buy', 'tickDirection': 'ZeroPlusTick', 'foreignNotional': 300, 'symbol': 'XBTUSD', 'grossValue': 4594500, 'trdMatchID': '4a4bb110-53cb-49ad-9d50-5b2ce85613c3', 'timestamp': '2018-09-29T08:21:39.946Z', 'price': 6529.5, 'size': 300}\n",
      "[2018-09-29 16:21:41 bitmexWS DEBUG] tick event: {'homeNotional': 0.00382875, 'side': 'Buy', 'tickDirection': 'ZeroPlusTick', 'foreignNotional': 25, 'symbol': 'XBTUSD', 'grossValue': 382875, 'trdMatchID': 'a4aed0cb-1e83-5a06-575d-e3ad3319b005', 'timestamp': '2018-09-29T08:21:39.946Z', 'price': 6529.5, 'size': 25}\n",
      "[2018-09-29 16:21:41 bitmexWS DEBUG] tick event: {'homeNotional': 0.0045945, 'side': 'Buy', 'tickDirection': 'ZeroPlusTick', 'foreignNotional': 30, 'symbol': 'XBTUSD', 'grossValue': 459450, 'trdMatchID': '93eb47b7-dbd6-541f-2347-d780f307dbd9', 'timestamp': '2018-09-29T08:21:39.946Z', 'price': 6529.5, 'size': 30}\n",
      "[2018-09-29 16:21:41 bitmexWS DEBUG] tick event: {'homeNotional': 52.08429226, 'side': 'Buy', 'tickDirection': 'PlusTick', 'foreignNotional': 340109, 'symbol': 'XBTUSD', 'grossValue': 5208429226, 'trdMatchID': '7a0180d3-4fd4-643a-17f3-53aa7f7bfbac', 'timestamp': '2018-09-29T08:21:39.946Z', 'price': 6530, 'size': 340109}\n",
      "[2018-09-29 16:21:41 bitmexWS DEBUG] get new data: \n",
      "{'action': 'insert', 'data': [{'homeNotional': 0.206739, 'side': 'Buy', 'tickDirection': 'ZeroPlusTick', 'foreignNotional': 1350, 'symbol': 'XBTUSD', 'grossValue': 20673900, 'trdMatchID': '306c54d4-2c25-de92-77c3-d49465a9cd9d', 'timestamp': '2018-09-29T08:21:40.050Z', 'price': 6530, 'size': 1350}], 'table': 'trade'}\n",
      "[2018-09-29 16:21:41 bitmexWS DEBUG] tick event: {'homeNotional': 0.206739, 'side': 'Buy', 'tickDirection': 'ZeroPlusTick', 'foreignNotional': 1350, 'symbol': 'XBTUSD', 'grossValue': 20673900, 'trdMatchID': '306c54d4-2c25-de92-77c3-d49465a9cd9d', 'timestamp': '2018-09-29T08:21:40.050Z', 'price': 6530, 'size': 1350}\n",
      "[2018-09-29 16:21:41 bitmexWS DEBUG] get new data: \n",
      "{'action': 'insert', 'data': [{'homeNotional': 1.5314, 'side': 'Buy', 'tickDirection': 'ZeroPlusTick', 'foreignNotional': 10000, 'symbol': 'XBTUSD', 'grossValue': 153140000, 'trdMatchID': 'aa3c5892-a199-10ca-f918-1d33020ee1b8', 'timestamp': '2018-09-29T08:21:40.050Z', 'price': 6530, 'size': 10000}], 'table': 'trade'}\n",
      "[2018-09-29 16:21:41 bitmexWS DEBUG] tick event: {'homeNotional': 1.5314, 'side': 'Buy', 'tickDirection': 'ZeroPlusTick', 'foreignNotional': 10000, 'symbol': 'XBTUSD', 'grossValue': 153140000, 'trdMatchID': 'aa3c5892-a199-10ca-f918-1d33020ee1b8', 'timestamp': '2018-09-29T08:21:40.050Z', 'price': 6530, 'size': 10000}\n",
      "[2018-09-29 16:21:43 bitmexWS DEBUG] >>> send ping\n",
      "[2018-09-29 16:21:48 bitmexWS DEBUG] >>> send ping\n",
      "[2018-09-29 16:21:53 bitmexWS DEBUG] >>> send ping\n",
      "[2018-09-29 16:21:54 bitmexWS DEBUG] get new data: \n",
      "{'action': 'insert', 'data': [{'homeNotional': 0.00275814, 'side': 'Buy', 'tickDirection': 'MinusTick', 'foreignNotional': 18, 'symbol': 'XBTUSD', 'grossValue': 275814, 'trdMatchID': '6aae092b-21bc-07df-3700-2582dc4efcae', 'timestamp': '2018-09-29T08:21:52.548Z', 'price': 6526, 'size': 18}, {'homeNotional': 0.00367752, 'side': 'Buy', 'tickDirection': 'ZeroMinusTick', 'foreignNotional': 24, 'symbol': 'XBTUSD', 'grossValue': 367752, 'trdMatchID': 'cfccc6ce-58b0-eb91-c063-077e6fdc2ff3', 'timestamp': '2018-09-29T08:21:52.548Z', 'price': 6526, 'size': 24}, {'homeNotional': 0.0030646, 'side': 'Buy', 'tickDirection': 'ZeroMinusTick', 'foreignNotional': 20, 'symbol': 'XBTUSD', 'grossValue': 306460, 'trdMatchID': '15585e75-1b81-bc8c-a1d2-51bbc5fb9cb3', 'timestamp': '2018-09-29T08:21:52.548Z', 'price': 6526, 'size': 20}, {'homeNotional': 0.045969, 'side': 'Buy', 'tickDirection': 'ZeroMinusTick', 'foreignNotional': 300, 'symbol': 'XBTUSD', 'grossValue': 4596900, 'trdMatchID': '69c5a6d4-f6ab-67fd-1837-3357bbf6dd02', 'timestamp': '2018-09-29T08:21:52.548Z', 'price': 6526, 'size': 300}, {'homeNotional': 0.02313773, 'side': 'Buy', 'tickDirection': 'ZeroMinusTick', 'foreignNotional': 151, 'symbol': 'XBTUSD', 'grossValue': 2313773, 'trdMatchID': '914bd6ad-1487-63ae-01c3-aa98695b19a0', 'timestamp': '2018-09-29T08:21:52.548Z', 'price': 6526, 'size': 151}, {'homeNotional': 0.0076615, 'side': 'Buy', 'tickDirection': 'ZeroMinusTick', 'foreignNotional': 50, 'symbol': 'XBTUSD', 'grossValue': 766150, 'trdMatchID': '5f7c5f10-cbf0-4781-98e3-5bffa2f13f35', 'timestamp': '2018-09-29T08:21:52.548Z', 'price': 6526, 'size': 50}, {'homeNotional': 0.0091932, 'side': 'Buy', 'tickDirection': 'PlusTick', 'foreignNotional': 60, 'symbol': 'XBTUSD', 'grossValue': 919320, 'trdMatchID': '220de3d6-fea8-24f1-fb46-fba0dafefabe', 'timestamp': '2018-09-29T08:21:52.548Z', 'price': 6526.5, 'size': 60}, {'homeNotional': 0.26152947, 'side': 'Buy', 'tickDirection': 'PlusTick', 'foreignNotional': 1707, 'symbol': 'XBTUSD', 'grossValue': 26152947, 'trdMatchID': '9e53594f-5f9b-3c07-a79e-5fe4dc680b1f', 'timestamp': '2018-09-29T08:21:52.548Z', 'price': 6527, 'size': 1707}, {'homeNotional': 0.0076605, 'side': 'Buy', 'tickDirection': 'ZeroPlusTick', 'foreignNotional': 50, 'symbol': 'XBTUSD', 'grossValue': 766050, 'trdMatchID': '5318566c-bd68-c9e0-be6f-8d7f24fca21f', 'timestamp': '2018-09-29T08:21:52.548Z', 'price': 6527, 'size': 50}, {'homeNotional': 0.03064, 'side': 'Buy', 'tickDirection': 'PlusTick', 'foreignNotional': 200, 'symbol': 'XBTUSD', 'grossValue': 3064000, 'trdMatchID': 'f0c16661-4080-ae64-44c9-4f6279a032fb', 'timestamp': '2018-09-29T08:21:52.548Z', 'price': 6527.5, 'size': 200}, {'homeNotional': 0.0027576, 'side': 'Buy', 'tickDirection': 'ZeroPlusTick', 'foreignNotional': 18, 'symbol': 'XBTUSD', 'grossValue': 275760, 'trdMatchID': '1773f65e-436d-99e0-8c96-5264c27154c4', 'timestamp': '2018-09-29T08:21:52.548Z', 'price': 6527.5, 'size': 18}, {'homeNotional': 0.0030632, 'side': 'Buy', 'tickDirection': 'PlusTick', 'foreignNotional': 20, 'symbol': 'XBTUSD', 'grossValue': 306320, 'trdMatchID': 'f9c10bff-0ed3-423a-a6fd-f194d7e1b6c7', 'timestamp': '2018-09-29T08:21:52.548Z', 'price': 6529, 'size': 20}, {'homeNotional': 0.45948, 'side': 'Buy', 'tickDirection': 'ZeroPlusTick', 'foreignNotional': 3000, 'symbol': 'XBTUSD', 'grossValue': 45948000, 'trdMatchID': 'daa2aa9d-27be-62bb-ea42-22545a19a60b', 'timestamp': '2018-09-29T08:21:52.548Z', 'price': 6529, 'size': 3000}, {'homeNotional': 22.74756874, 'side': 'Buy', 'tickDirection': 'PlusTick', 'foreignNotional': 148541, 'symbol': 'XBTUSD', 'grossValue': 2274756874, 'trdMatchID': '819a8c56-4695-fe45-4ff4-00c6af1b7b5d', 'timestamp': '2018-09-29T08:21:52.548Z', 'price': 6530, 'size': 148541}, {'homeNotional': 0.15314, 'side': 'Buy', 'tickDirection': 'ZeroPlusTick', 'foreignNotional': 1000, 'symbol': 'XBTUSD', 'grossValue': 15314000, 'trdMatchID': 'cac324f7-ba72-7fd2-e6eb-805162bb3ee4', 'timestamp': '2018-09-29T08:21:52.548Z', 'price': 6530, 'size': 1000}, {'homeNotional': 1.60797, 'side': 'Buy', 'tickDirection': 'ZeroPlusTick', 'foreignNotional': 10500, 'symbol': 'XBTUSD', 'grossValue': 160797000, 'trdMatchID': '6a9b67ab-97c0-ffbd-dfa3-47be95644c66', 'timestamp': '2018-09-29T08:21:52.548Z', 'price': 6530, 'size': 10500}, {'homeNotional': 0.0038285, 'side': 'Buy', 'tickDirection': 'ZeroPlusTick', 'foreignNotional': 25, 'symbol': 'XBTUSD', 'grossValue': 382850, 'trdMatchID': '92598220-4005-07af-9a3c-35cc910d78f4', 'timestamp': '2018-09-29T08:21:52.548Z', 'price': 6530, 'size': 25}, {'homeNotional': 15.314, 'side': 'Buy', 'tickDirection': 'ZeroPlusTick', 'foreignNotional': 100000, 'symbol': 'XBTUSD', 'grossValue': 1531400000, 'trdMatchID': 'f5f36938-493e-f9bc-d1af-f3b16b284417', 'timestamp': '2018-09-29T08:21:52.548Z', 'price': 6530, 'size': 100000}, {'homeNotional': 15.314, 'side': 'Buy', 'tickDirection': 'ZeroPlusTick', 'foreignNotional': 100000, 'symbol': 'XBTUSD', 'grossValue': 1531400000, 'trdMatchID': 'ba13462f-3a11-d6d0-8b43-70222b22be95', 'timestamp': '2018-09-29T08:21:52.548Z', 'price': 6530, 'size': 100000}, {'homeNotional': 5.25515224, 'side': 'Buy', 'tickDirection': 'ZeroPlusTick', 'foreignNotional': 34316, 'symbol': 'XBTUSD', 'grossValue': 525515224, 'trdMatchID': 'fd815b5e-72d6-cb37-5353-7d47d6f6bec1', 'timestamp': '2018-09-29T08:21:52.548Z', 'price': 6530, 'size': 34316}], 'table': 'trade'}\n",
      "[2018-09-29 16:21:54 bitmexWS DEBUG] tick event: {'homeNotional': 0.00275814, 'side': 'Buy', 'tickDirection': 'MinusTick', 'foreignNotional': 18, 'symbol': 'XBTUSD', 'grossValue': 275814, 'trdMatchID': '6aae092b-21bc-07df-3700-2582dc4efcae', 'timestamp': '2018-09-29T08:21:52.548Z', 'price': 6526, 'size': 18}\n",
      "[2018-09-29 16:21:54 bitmexWS DEBUG] tick event: {'homeNotional': 0.00367752, 'side': 'Buy', 'tickDirection': 'ZeroMinusTick', 'foreignNotional': 24, 'symbol': 'XBTUSD', 'grossValue': 367752, 'trdMatchID': 'cfccc6ce-58b0-eb91-c063-077e6fdc2ff3', 'timestamp': '2018-09-29T08:21:52.548Z', 'price': 6526, 'size': 24}\n",
      "[2018-09-29 16:21:54 bitmexWS DEBUG] tick event: {'homeNotional': 0.0030646, 'side': 'Buy', 'tickDirection': 'ZeroMinusTick', 'foreignNotional': 20, 'symbol': 'XBTUSD', 'grossValue': 306460, 'trdMatchID': '15585e75-1b81-bc8c-a1d2-51bbc5fb9cb3', 'timestamp': '2018-09-29T08:21:52.548Z', 'price': 6526, 'size': 20}\n",
      "[2018-09-29 16:21:54 bitmexWS DEBUG] tick event: {'homeNotional': 0.045969, 'side': 'Buy', 'tickDirection': 'ZeroMinusTick', 'foreignNotional': 300, 'symbol': 'XBTUSD', 'grossValue': 4596900, 'trdMatchID': '69c5a6d4-f6ab-67fd-1837-3357bbf6dd02', 'timestamp': '2018-09-29T08:21:52.548Z', 'price': 6526, 'size': 300}\n",
      "[2018-09-29 16:21:54 bitmexWS DEBUG] tick event: {'homeNotional': 0.02313773, 'side': 'Buy', 'tickDirection': 'ZeroMinusTick', 'foreignNotional': 151, 'symbol': 'XBTUSD', 'grossValue': 2313773, 'trdMatchID': '914bd6ad-1487-63ae-01c3-aa98695b19a0', 'timestamp': '2018-09-29T08:21:52.548Z', 'price': 6526, 'size': 151}\n",
      "[2018-09-29 16:21:54 bitmexWS DEBUG] tick event: {'homeNotional': 0.0076615, 'side': 'Buy', 'tickDirection': 'ZeroMinusTick', 'foreignNotional': 50, 'symbol': 'XBTUSD', 'grossValue': 766150, 'trdMatchID': '5f7c5f10-cbf0-4781-98e3-5bffa2f13f35', 'timestamp': '2018-09-29T08:21:52.548Z', 'price': 6526, 'size': 50}\n",
      "[2018-09-29 16:21:54 bitmexWS DEBUG] tick event: {'homeNotional': 0.0091932, 'side': 'Buy', 'tickDirection': 'PlusTick', 'foreignNotional': 60, 'symbol': 'XBTUSD', 'grossValue': 919320, 'trdMatchID': '220de3d6-fea8-24f1-fb46-fba0dafefabe', 'timestamp': '2018-09-29T08:21:52.548Z', 'price': 6526.5, 'size': 60}\n",
      "[2018-09-29 16:21:54 bitmexWS DEBUG] tick event: {'homeNotional': 0.26152947, 'side': 'Buy', 'tickDirection': 'PlusTick', 'foreignNotional': 1707, 'symbol': 'XBTUSD', 'grossValue': 26152947, 'trdMatchID': '9e53594f-5f9b-3c07-a79e-5fe4dc680b1f', 'timestamp': '2018-09-29T08:21:52.548Z', 'price': 6527, 'size': 1707}\n",
      "[2018-09-29 16:21:54 bitmexWS DEBUG] tick event: {'homeNotional': 0.0076605, 'side': 'Buy', 'tickDirection': 'ZeroPlusTick', 'foreignNotional': 50, 'symbol': 'XBTUSD', 'grossValue': 766050, 'trdMatchID': '5318566c-bd68-c9e0-be6f-8d7f24fca21f', 'timestamp': '2018-09-29T08:21:52.548Z', 'price': 6527, 'size': 50}\n",
      "[2018-09-29 16:21:54 bitmexWS DEBUG] tick event: {'homeNotional': 0.03064, 'side': 'Buy', 'tickDirection': 'PlusTick', 'foreignNotional': 200, 'symbol': 'XBTUSD', 'grossValue': 3064000, 'trdMatchID': 'f0c16661-4080-ae64-44c9-4f6279a032fb', 'timestamp': '2018-09-29T08:21:52.548Z', 'price': 6527.5, 'size': 200}\n",
      "[2018-09-29 16:21:54 bitmexWS DEBUG] tick event: {'homeNotional': 0.0027576, 'side': 'Buy', 'tickDirection': 'ZeroPlusTick', 'foreignNotional': 18, 'symbol': 'XBTUSD', 'grossValue': 275760, 'trdMatchID': '1773f65e-436d-99e0-8c96-5264c27154c4', 'timestamp': '2018-09-29T08:21:52.548Z', 'price': 6527.5, 'size': 18}\n",
      "[2018-09-29 16:21:54 bitmexWS DEBUG] tick event: {'homeNotional': 0.0030632, 'side': 'Buy', 'tickDirection': 'PlusTick', 'foreignNotional': 20, 'symbol': 'XBTUSD', 'grossValue': 306320, 'trdMatchID': 'f9c10bff-0ed3-423a-a6fd-f194d7e1b6c7', 'timestamp': '2018-09-29T08:21:52.548Z', 'price': 6529, 'size': 20}\n",
      "[2018-09-29 16:21:54 bitmexWS DEBUG] tick event: {'homeNotional': 0.45948, 'side': 'Buy', 'tickDirection': 'ZeroPlusTick', 'foreignNotional': 3000, 'symbol': 'XBTUSD', 'grossValue': 45948000, 'trdMatchID': 'daa2aa9d-27be-62bb-ea42-22545a19a60b', 'timestamp': '2018-09-29T08:21:52.548Z', 'price': 6529, 'size': 3000}\n",
      "[2018-09-29 16:21:54 bitmexWS DEBUG] tick event: {'homeNotional': 22.74756874, 'side': 'Buy', 'tickDirection': 'PlusTick', 'foreignNotional': 148541, 'symbol': 'XBTUSD', 'grossValue': 2274756874, 'trdMatchID': '819a8c56-4695-fe45-4ff4-00c6af1b7b5d', 'timestamp': '2018-09-29T08:21:52.548Z', 'price': 6530, 'size': 148541}\n",
      "[2018-09-29 16:21:54 bitmexWS DEBUG] tick event: {'homeNotional': 0.15314, 'side': 'Buy', 'tickDirection': 'ZeroPlusTick', 'foreignNotional': 1000, 'symbol': 'XBTUSD', 'grossValue': 15314000, 'trdMatchID': 'cac324f7-ba72-7fd2-e6eb-805162bb3ee4', 'timestamp': '2018-09-29T08:21:52.548Z', 'price': 6530, 'size': 1000}\n",
      "[2018-09-29 16:21:54 bitmexWS DEBUG] tick event: {'homeNotional': 1.60797, 'side': 'Buy', 'tickDirection': 'ZeroPlusTick', 'foreignNotional': 10500, 'symbol': 'XBTUSD', 'grossValue': 160797000, 'trdMatchID': '6a9b67ab-97c0-ffbd-dfa3-47be95644c66', 'timestamp': '2018-09-29T08:21:52.548Z', 'price': 6530, 'size': 10500}\n",
      "[2018-09-29 16:21:54 bitmexWS DEBUG] tick event: {'homeNotional': 0.0038285, 'side': 'Buy', 'tickDirection': 'ZeroPlusTick', 'foreignNotional': 25, 'symbol': 'XBTUSD', 'grossValue': 382850, 'trdMatchID': '92598220-4005-07af-9a3c-35cc910d78f4', 'timestamp': '2018-09-29T08:21:52.548Z', 'price': 6530, 'size': 25}\n",
      "[2018-09-29 16:21:54 bitmexWS DEBUG] tick event: {'homeNotional': 15.314, 'side': 'Buy', 'tickDirection': 'ZeroPlusTick', 'foreignNotional': 100000, 'symbol': 'XBTUSD', 'grossValue': 1531400000, 'trdMatchID': 'f5f36938-493e-f9bc-d1af-f3b16b284417', 'timestamp': '2018-09-29T08:21:52.548Z', 'price': 6530, 'size': 100000}\n",
      "[2018-09-29 16:21:54 bitmexWS DEBUG] tick event: {'homeNotional': 15.314, 'side': 'Buy', 'tickDirection': 'ZeroPlusTick', 'foreignNotional': 100000, 'symbol': 'XBTUSD', 'grossValue': 1531400000, 'trdMatchID': 'ba13462f-3a11-d6d0-8b43-70222b22be95', 'timestamp': '2018-09-29T08:21:52.548Z', 'price': 6530, 'size': 100000}\n",
      "[2018-09-29 16:21:54 bitmexWS DEBUG] tick event: {'homeNotional': 5.25515224, 'side': 'Buy', 'tickDirection': 'ZeroPlusTick', 'foreignNotional': 34316, 'symbol': 'XBTUSD', 'grossValue': 525515224, 'trdMatchID': 'fd815b5e-72d6-cb37-5353-7d47d6f6bec1', 'timestamp': '2018-09-29T08:21:52.548Z', 'price': 6530, 'size': 34316}\n",
      "[2018-09-29 16:21:55 bitmexWS DEBUG] get new data: \n",
      "{'action': 'insert', 'data': [{'homeNotional': 0.0030646, 'side': 'Buy', 'tickDirection': 'MinusTick', 'foreignNotional': 20, 'symbol': 'XBTUSD', 'grossValue': 306460, 'trdMatchID': 'e02c50a4-3a72-4dda-739a-45364fd5728d', 'timestamp': '2018-09-29T08:21:54.408Z', 'price': 6526, 'size': 20}], 'table': 'trade'}\n",
      "[2018-09-29 16:21:55 bitmexWS DEBUG] tick event: {'homeNotional': 0.0030646, 'side': 'Buy', 'tickDirection': 'MinusTick', 'foreignNotional': 20, 'symbol': 'XBTUSD', 'grossValue': 306460, 'trdMatchID': 'e02c50a4-3a72-4dda-739a-45364fd5728d', 'timestamp': '2018-09-29T08:21:54.408Z', 'price': 6526, 'size': 20}\n",
      "[2018-09-29 16:21:58 bitmexWS DEBUG] >>> send ping\n",
      "[2018-09-29 16:21:59 bitmexWS DEBUG] get new data: \n",
      "{'action': 'insert', 'data': [{'homeNotional': 0.0015321, 'side': 'Buy', 'tickDirection': 'PlusTick', 'foreignNotional': 10, 'symbol': 'XBTUSD', 'grossValue': 153210, 'trdMatchID': 'c3864af8-e9a3-db7b-d313-e288f510908a', 'timestamp': '2018-09-29T08:21:57.507Z', 'price': 6527, 'size': 10}, {'homeNotional': 0.0076605, 'side': 'Buy', 'tickDirection': 'ZeroPlusTick', 'foreignNotional': 50, 'symbol': 'XBTUSD', 'grossValue': 766050, 'trdMatchID': '02504722-4891-494d-792c-47d6b723b7fe', 'timestamp': '2018-09-29T08:21:57.507Z', 'price': 6527, 'size': 50}, {'homeNotional': 0.00781371, 'side': 'Buy', 'tickDirection': 'ZeroPlusTick', 'foreignNotional': 51, 'symbol': 'XBTUSD', 'grossValue': 781371, 'trdMatchID': '673feee1-ff03-4d1a-1a0b-089939951e53', 'timestamp': '2018-09-29T08:21:57.507Z', 'price': 6527, 'size': 51}], 'table': 'trade'}\n",
      "[2018-09-29 16:21:59 bitmexWS DEBUG] tick event: {'homeNotional': 0.0015321, 'side': 'Buy', 'tickDirection': 'PlusTick', 'foreignNotional': 10, 'symbol': 'XBTUSD', 'grossValue': 153210, 'trdMatchID': 'c3864af8-e9a3-db7b-d313-e288f510908a', 'timestamp': '2018-09-29T08:21:57.507Z', 'price': 6527, 'size': 10}\n",
      "[2018-09-29 16:21:59 bitmexWS DEBUG] tick event: {'homeNotional': 0.0076605, 'side': 'Buy', 'tickDirection': 'ZeroPlusTick', 'foreignNotional': 50, 'symbol': 'XBTUSD', 'grossValue': 766050, 'trdMatchID': '02504722-4891-494d-792c-47d6b723b7fe', 'timestamp': '2018-09-29T08:21:57.507Z', 'price': 6527, 'size': 50}\n",
      "[2018-09-29 16:21:59 bitmexWS DEBUG] tick event: {'homeNotional': 0.00781371, 'side': 'Buy', 'tickDirection': 'ZeroPlusTick', 'foreignNotional': 51, 'symbol': 'XBTUSD', 'grossValue': 781371, 'trdMatchID': '673feee1-ff03-4d1a-1a0b-089939951e53', 'timestamp': '2018-09-29T08:21:57.507Z', 'price': 6527, 'size': 51}\n",
      "[2018-09-29 16:22:02 bitmexWS DEBUG] get new data: \n",
      "{'action': 'insert', 'data': [{'homeNotional': 0.01976409, 'side': 'Buy', 'tickDirection': 'ZeroPlusTick', 'foreignNotional': 129, 'symbol': 'XBTUSD', 'grossValue': 1976409, 'trdMatchID': '20f1ce17-c74c-1dc8-6aaa-52713652840b', 'timestamp': '2018-09-29T08:22:00.498Z', 'price': 6527, 'size': 129}, {'homeNotional': 0.01853841, 'side': 'Buy', 'tickDirection': 'ZeroPlusTick', 'foreignNotional': 121, 'symbol': 'XBTUSD', 'grossValue': 1853841, 'trdMatchID': 'aea31139-f4d0-78fe-3431-68ffa4d133d1', 'timestamp': '2018-09-29T08:22:00.498Z', 'price': 6527, 'size': 121}, {'homeNotional': 0.00766, 'side': 'Buy', 'tickDirection': 'PlusTick', 'foreignNotional': 50, 'symbol': 'XBTUSD', 'grossValue': 766000, 'trdMatchID': 'c368fe0d-8448-3113-06de-fe76ca1901b9', 'timestamp': '2018-09-29T08:22:00.498Z', 'price': 6527.5, 'size': 50}], 'table': 'trade'}\n",
      "[2018-09-29 16:22:02 bitmexWS DEBUG] bar_close event. prev_bar is {'high': 6530, 'open': 6521.5, 'low': 6530, 'ts': '2018-09-29 08:21', 'close': 6527}\n",
      "[2018-09-29 16:22:02 bitmexWS DEBUG] bar_open event. current_bar is {'high': 6527, 'open': 6527, 'low': 6527, 'ts': '2018-09-29 08:22'}\n",
      "[2018-09-29 16:22:02 bitmexWS DEBUG] tick event: {'homeNotional': 0.01976409, 'side': 'Buy', 'tickDirection': 'ZeroPlusTick', 'foreignNotional': 129, 'symbol': 'XBTUSD', 'grossValue': 1976409, 'trdMatchID': '20f1ce17-c74c-1dc8-6aaa-52713652840b', 'timestamp': '2018-09-29T08:22:00.498Z', 'price': 6527, 'size': 129}\n",
      "[2018-09-29 16:22:02 bitmexWS DEBUG] tick event: {'homeNotional': 0.01853841, 'side': 'Buy', 'tickDirection': 'ZeroPlusTick', 'foreignNotional': 121, 'symbol': 'XBTUSD', 'grossValue': 1853841, 'trdMatchID': 'aea31139-f4d0-78fe-3431-68ffa4d133d1', 'timestamp': '2018-09-29T08:22:00.498Z', 'price': 6527, 'size': 121}\n",
      "[2018-09-29 16:22:02 bitmexWS DEBUG] tick event: {'homeNotional': 0.00766, 'side': 'Buy', 'tickDirection': 'PlusTick', 'foreignNotional': 50, 'symbol': 'XBTUSD', 'grossValue': 766000, 'trdMatchID': 'c368fe0d-8448-3113-06de-fe76ca1901b9', 'timestamp': '2018-09-29T08:22:00.498Z', 'price': 6527.5, 'size': 50}\n",
      "[2018-09-29 16:22:03 bitmexWS DEBUG] >>> send ping\n"
     ]
    }
   ],
   "source": [
    "class bitmexWSMarket(bitmexWS):\n",
    "    \"\"\"bitmexWS subscribing market data\"\"\"\n",
    "    \n",
    "    def addEventQueue(self, q):\n",
    "        self.eventQueue = q\n",
    "\n",
    "    def subscribe(self, symbol='XBTUSD', bar_type='1m', subscribe_tick=True):\n",
    "        self.symbol = symbol\n",
    "        self.bar_type = bar_type\n",
    "        self.subscribe_tick = subscribe_tick\n",
    "        self.subscribe_topic('trade:%s' % symbol)  # TODO: subscribe more topic, such as order book\n",
    "        self._got_partial = False\n",
    "        self.last_price = None\n",
    "        \n",
    "    def onData(self, msg):\n",
    "        if self._got_partial:\n",
    "            self.logger.debug('get new data: \\n%s' % msg)\n",
    "            self._handle_data(msg['data'])   # msg['data'] is a list of dict\n",
    "        else:\n",
    "            if msg['action'] == 'partial':\n",
    "                self._got_partial = True\n",
    "                self._handle_init_data(msg['data'])\n",
    "                self.logger.debug('Got partial.')\n",
    "            elif msg['action'] == 'insert':\n",
    "                self.logger.debug('drop data before partial')\n",
    "    \n",
    "    def _handle_init_data(self, data):\n",
    "        tick_d = data[-1]\n",
    "        ts = calculate_ts(tick_d['timestamp'], self.bar_type)\n",
    "        tick_price = tick_d['price']\n",
    "        init_bar = Bar(open=tick_price, high=tick_price, low=tick_price, ts=ts)\n",
    "        self.current_bar = init_bar\n",
    "        \n",
    "        self.logger.debug('init_bar: %s' % init_bar)\n",
    "    \n",
    "    def _handle_data(self, data):\n",
    "        # data is list of dict: [{}, {}]\n",
    "        # eg 'data': [{'symbol': 'XBTUSD', 'tickDirection': 'PlusTick', 'timestamp': '2018-09-29T06:00:17.271Z', 'price': 6484.5, 'trdMatchID': '87bd9b19-6747-c804-3eae-7a84fc7abcf8', 'foreignNotional': 30, 'grossValue': 462630, 'homeNotional': 0.0046263, 'side': 'Buy', 'size': 30}]\n",
    "        for tick_d in data:\n",
    "            self._on_tick(tick_d)\n",
    "    \n",
    "    def _on_tick(self, tick_d):\n",
    "        tick_price = tick_d['price']\n",
    "        \n",
    "        # 更新last_price\n",
    "        self.last_tick_price = self.last_price   # move:self.last_price  -> self.last_tick_price\n",
    "        self.last_price = tick_price   # **current**_tick_price\n",
    "        \n",
    "        # bar-generator\n",
    "        ts = calculate_ts(tick_d['timestamp'], self.bar_type)  # 'timestamp': '2018-09-29T06:00:17.271Z'\n",
    "        if ts > self.current_bar.ts:\n",
    "            # bar_close event\n",
    "            self.current_bar.close = self.last_tick_price            \n",
    "            self.prev_bar = self.current_bar\n",
    "            self.current_bar = Bar(open=tick_price, high=tick_price, low=tick_price, ts=ts)\n",
    "            \n",
    "            bar_close_event = MarketEvent(data={'type': 'BAR_CLOSE'})\n",
    "            self.eventQueue.put(bar_close_event)\n",
    "            self.logger.debug('bar_close event. prev_bar is %s' % self.prev_bar)\n",
    "            \n",
    "            \n",
    "            # bar_open event\n",
    "            bar_open_event = MarketEvent(data={'type': 'BAR_OPEN'})\n",
    "            self.eventQueue.put(bar_open_event)\n",
    "            self.logger.debug('bar_open event. current_bar is %s' % self.current_bar)\n",
    "        else:\n",
    "            self.current_bar.high = max(self.current_bar.high, tick_price)\n",
    "            self.current_bar.low = min(self.current_bar.low, tick_price)\n",
    "        # tick event    \n",
    "        if self.subscribe_tick:\n",
    "            tick_event = MarketEvent(data={'type':'TICK'})\n",
    "            self.eventQueue.put(tick_event)\n",
    "            self.logger.debug('tick event: %s' % tick_d)\n",
    "        \n",
    "import queue\n",
    "\n",
    "events = queue.Queue()\n",
    "        \n",
    "bm_ws_market = bitmexWSMarket()\n",
    "bm_ws_market.addEventQueue(events)\n",
    "bm_ws_market.connect()\n",
    "bm_ws_market.subscribe('XBTUSD')"
   ]
  },
  {
   "cell_type": "code",
   "execution_count": 1,
   "metadata": {
    "collapsed": false,
    "scrolled": true
   },
   "outputs": [
    {
     "ename": "NameError",
     "evalue": "name 'events' is not defined",
     "output_type": "error",
     "traceback": [
      "\u001b[0;31m---------------------------------------------------------------------------\u001b[0m",
      "\u001b[0;31mNameError\u001b[0m                                 Traceback (most recent call last)",
      "\u001b[0;32m<ipython-input-1-d5297d14949c>\u001b[0m in \u001b[0;36m<module>\u001b[0;34m()\u001b[0m\n\u001b[0;32m----> 1\u001b[0;31m \u001b[0mevents\u001b[0m\u001b[0;34m.\u001b[0m\u001b[0mqsize\u001b[0m\u001b[0;34m(\u001b[0m\u001b[0;34m)\u001b[0m\u001b[0;34m\u001b[0m\u001b[0m\n\u001b[0m",
      "\u001b[0;31mNameError\u001b[0m: name 'events' is not defined"
     ]
    }
   ],
   "source": [
    "events.qsize()"
   ]
  },
  {
   "cell_type": "code",
   "execution_count": 5,
   "metadata": {
    "collapsed": false
   },
   "outputs": [
    {
     "ename": "NameError",
     "evalue": "name 'events' is not defined",
     "output_type": "error",
     "traceback": [
      "\u001b[0;31m---------------------------------------------------------------------------\u001b[0m",
      "\u001b[0;31mNameError\u001b[0m                                 Traceback (most recent call last)",
      "\u001b[0;32m<ipython-input-5-3ac8a32fa217>\u001b[0m in \u001b[0;36m<module>\u001b[0;34m()\u001b[0m\n\u001b[0;32m----> 1\u001b[0;31m \u001b[0me\u001b[0m \u001b[0;34m=\u001b[0m \u001b[0mevents\u001b[0m\u001b[0;34m.\u001b[0m\u001b[0mget\u001b[0m\u001b[0;34m(\u001b[0m\u001b[0;34m)\u001b[0m\u001b[0;34m\u001b[0m\u001b[0m\n\u001b[0m\u001b[1;32m      2\u001b[0m \u001b[0me\u001b[0m\u001b[0;34m\u001b[0m\u001b[0m\n",
      "\u001b[0;31mNameError\u001b[0m: name 'events' is not defined"
     ]
    }
   ],
   "source": [
    "e = events.get()\n",
    "e"
   ]
  },
  {
   "cell_type": "code",
   "execution_count": 3,
   "metadata": {
    "collapsed": false
   },
   "outputs": [
    {
     "ename": "NameError",
     "evalue": "name 'bm_ws_market' is not defined",
     "output_type": "error",
     "traceback": [
      "\u001b[0;31m---------------------------------------------------------------------------\u001b[0m",
      "\u001b[0;31mNameError\u001b[0m                                 Traceback (most recent call last)",
      "\u001b[0;32m<ipython-input-3-05c4458459d4>\u001b[0m in \u001b[0;36m<module>\u001b[0;34m()\u001b[0m\n\u001b[0;32m----> 1\u001b[0;31m \u001b[0mprint\u001b[0m\u001b[0;34m(\u001b[0m\u001b[0mbm_ws_market\u001b[0m\u001b[0;34m.\u001b[0m\u001b[0mcurrent_bar\u001b[0m\u001b[0;34m)\u001b[0m\u001b[0;34m\u001b[0m\u001b[0m\n\u001b[0m\u001b[1;32m      2\u001b[0m \u001b[0mprint\u001b[0m\u001b[0;34m(\u001b[0m\u001b[0mbm_ws_market\u001b[0m\u001b[0;34m.\u001b[0m\u001b[0mprev_bar\u001b[0m\u001b[0;34m)\u001b[0m\u001b[0;34m\u001b[0m\u001b[0m\n",
      "\u001b[0;31mNameError\u001b[0m: name 'bm_ws_market' is not defined"
     ]
    }
   ],
   "source": [
    "print(bm_ws_market.current_bar)\n",
    "print(bm_ws_market.prev_bar)"
   ]
  },
  {
   "cell_type": "code",
   "execution_count": 4,
   "metadata": {
    "collapsed": false,
    "scrolled": false
   },
   "outputs": [
    {
     "ename": "NameError",
     "evalue": "name 'bm_ws_market' is not defined",
     "output_type": "error",
     "traceback": [
      "\u001b[0;31m---------------------------------------------------------------------------\u001b[0m",
      "\u001b[0;31mNameError\u001b[0m                                 Traceback (most recent call last)",
      "\u001b[0;32m<ipython-input-4-9abfc4d97320>\u001b[0m in \u001b[0;36m<module>\u001b[0;34m()\u001b[0m\n\u001b[0;32m----> 1\u001b[0;31m \u001b[0mbm_ws_market\u001b[0m\u001b[0;34m.\u001b[0m\u001b[0mlast_price\u001b[0m   \u001b[0;31m# 每一秒切个片，丢到 eventQueue，作为marketEvent,不然太频繁了\u001b[0m\u001b[0;34m\u001b[0m\u001b[0m\n\u001b[0m",
      "\u001b[0;31mNameError\u001b[0m: name 'bm_ws_market' is not defined"
     ]
    }
   ],
   "source": [
    "bm_ws_market.last_price   # 每一秒切个片，丢到 eventQueue，作为marketEvent,不然太频繁了"
   ]
  },
  {
   "cell_type": "markdown",
   "metadata": {},
   "source": [
    "### OMS class"
   ]
  },
  {
   "cell_type": "code",
   "execution_count": null,
   "metadata": {
    "collapsed": true
   },
   "outputs": [],
   "source": [
    "class bitmexTargetPositionOMS(object):\n",
    "    \"\"\"bitmex TargetPosition-Based Order Management System\"\"\"\n",
    "    \n",
    "    def __init__(self, bm_ws_market, eventQueue):\n",
    "        self.eventQueue = eventQueue\n",
    "        \n",
    "        # websocket-market\n",
    "        self.bm_ws_market = bm_ws_market   # 外部的，因为DataHandler同时也在用它 or 它就是DataHandler\n",
    "        \n",
    "        # websocket-trading\n",
    "        self.bm_ws_trading = bitmexWSTrading(apiKey, apiSecret)  # TODO. 订阅order, position, execution (to-add: margin)\n",
    "        self.bm_ws_trading.connect()\n",
    "        self.bm_ws_trading.subscribe()\n",
    "        self.bm_ws_trading.wait_for_initial_status()  # 等待的初始信息\n",
    "        self.actual_position = self.bm_ws_trading.actual_positon  # 由websocket接收的信息计算出的实际仓位 `position`\n",
    "        self.unfilled_orders = self.bm_ws_trading.unfilled_orders  # 由websocket接收的信息计算出的未成交委托  `order`\n",
    "        \n",
    "        # rest\n",
    "        self.bm_rest = bitmexREST(apiKey, apiSecret)\n",
    "        \n",
    "    def set_target_position(self, symbol, position):\n",
    "        self.target_position[symbol] = position      \n",
    "        \n",
    "    def trade_to_target(self, symbol):\n",
    "        target_pos = self.target_position.get(symbol)  # int\n",
    "        actual_pos = self.actual_position.get(symbol, 0)  # int\n",
    "    \n",
    "        if target_pos is None:\n",
    "            self.logger.warning('Calling `trade_to_target()` but arg `symbol` is not in self.target_position\\n' + \n",
    "                                'symbol=%\\n' + \n",
    "                                'self.target_position=%s' % (symbol, self.target_position))\n",
    "        \n",
    "        # 这里采用比较暴力的办法：直接cancel_all_orders, 再挂目标仓位与实际仓位差值的单子\n",
    "        # 有优化的空间，eg. bitmex支持改单；\n",
    "        if target_pos == actual_pos\n",
    "            if not unfilled_ord:\n",
    "                self.logger.info('target_pos == actual_pos && no unfilled_ord, nothing to do')\n",
    "            else:\n",
    "                self.bm_rest.cancel_all_order(symbol)\n",
    "        else:\n",
    "            self.bm_rest.cancel_all_order(symbol)  # 先全撤掉\n",
    "            pos_diff = target_pos - actual_pos\n",
    "            direction = 'Buy' if pos_diff > 0 else 'Sell'\n",
    "            price = self.bm_ws_market.ask1 if direction == 'Buy' else self.bm_ws_market.bid1  # 对价下单\n",
    "            order = Order(symbol, direction, abs(pos_diff), price)   # TODO: class Order in qsObject.py\n",
    "            self.bm_rest.place_order(order)\n",
    "            \n",
    "    def _check_actual_position_with_rest(self):\n",
    "        \"\"\"use REST api to query actual_position, check it with self.actual_position. Use a Thread to do this\"\"\"\n",
    "        pass\n",
    "    \n",
    "    "
   ]
  },
  {
   "cell_type": "code",
   "execution_count": null,
   "metadata": {
    "collapsed": true
   },
   "outputs": [],
   "source": [
    "bm_ws_market = bitmexWSMarket()\n",
    "\n",
    "oms = bitmexTargetPositionOMS(bm_ws_market)"
   ]
  },
  {
   "cell_type": "markdown",
   "metadata": {},
   "source": [
    "## Oct 4th"
   ]
  },
  {
   "cell_type": "code",
   "execution_count": 5,
   "metadata": {
    "collapsed": true
   },
   "outputs": [],
   "source": [
    "# summarize TODOS:\n",
    "# class bitmexWSTrading   # Done\n",
    "#   subscribe()\n",
    "#   wait_for_initial_status()\n",
    "#   actual_position\n",
    "#   unfilled_qty\n",
    "# class bitmexWSMarket\n",
    "#   bid1, ask1\n",
    "# qsObject.py\n",
    "#   class Order"
   ]
  },
  {
   "cell_type": "code",
   "execution_count": 6,
   "metadata": {
    "collapsed": true
   },
   "outputs": [],
   "source": [
    "from bitmexWS import bitmexWS\n",
    "from bitmexREST import bitmexREST\n",
    "from utils import generate_logger"
   ]
  },
  {
   "cell_type": "code",
   "execution_count": 7,
   "metadata": {
    "collapsed": true
   },
   "outputs": [],
   "source": [
    "# import copy\n",
    "# g_msg = 'aaaaa'\n",
    "\n",
    "class bitmexWSTrading(bitmexWS):\n",
    "    \"\"\"bitmex Websockt subscribing topics related to live trading\"\"\"\n",
    "    \n",
    "    def subscribe(self, symbols=('XBTUSD', 'ETHUSD')):\n",
    "        self.symbols = symbols\n",
    "        \n",
    "        self.actual_position = {s:0 for s in symbols}                    # {symbol: pos}   str:int\n",
    "        self.unfilled_qty = {s:{'Buy': 0, 'Sell': 0} for s in symbols}    # {symbol: {'Buy': qty, 'Sell': qty}}\n",
    "        \n",
    "        self._got_position_partial = False\n",
    "        \n",
    "        self.subscribe_topic('order')\n",
    "        self.subscribe_topic('position')\n",
    "        self.subscribe_topic('execution')\n",
    "        \n",
    "    def onData(self, msg):\n",
    "        if msg.get('table') == 'position':\n",
    "            self._on_position_msg(msg)\n",
    "        elif msg.get('table') == 'order':\n",
    "            self.__on_order_msg(msg)\n",
    "        elif msg.get('table') == 'execution':\n",
    "            self.__on_execution_msg(msg)\n",
    "    \n",
    "    def _on_position_msg(self, msg):\n",
    "        self.logger.info('Got position msg:')\n",
    "        #print('========================position==================\\n' + msg.__str__())\n",
    "        \n",
    "        #global g_msg\n",
    "        #g_msg = copy.deepcopy(msg)  ###### 将第一个遇到的msg存入全局变量，调试用\n",
    "        \n",
    "        if self._got_position_partial and msg['action'] == 'update':\n",
    "\n",
    "            if msg['data']:\n",
    "                \n",
    "                for d in msg['data']:\n",
    "                    symbol = d.get('symbol')\n",
    "                    if symbol not in self.symbols:\n",
    "                        self.logger.warning('Got position subscription of symbol: %s, not in self.symbols' % symbol)\n",
    "                        continue\n",
    "                    currentQty = d.get('currentQty')\n",
    "                    openOrderBuyQty = d.get('openOrderBuyQty', None)\n",
    "                    openOrderSellQty = d.get('openOrderSellQty', None)\n",
    "                    \n",
    "                    old_pos = self.actual_position.get(symbol)\n",
    "                    old_buy_qty = self.unfilled_qty.get(symbol, {}).get('Buy')\n",
    "                    old_sell_qty = self.unfilled_qty.get(symbol, {}).get('Sell')\n",
    "                    \n",
    "                    if old_pos != currentQty:\n",
    "                        self.actual_position[symbol] = currentQty   \n",
    "                        self.logger.info('█████ Position update (actual_position) █████ %s: %s -> %s' % (symbol, old_pos, currentQty))\n",
    "                    if openOrderBuyQty is not None:\n",
    "                        self.unfilled_qty[symbol]['Buy'] = openOrderBuyQty\n",
    "                        self.logger.info('███ Position update (unfilled_qty, Buy) ███ %s: %s -> %s' % (symbol, old_buy_qty, openOrderBuyQty))\n",
    "                    if openOrderSellQty is not None:\n",
    "                        self.unfilled_qty[symbol]['Sell'] = openOrderSellQty\n",
    "                        self.logger.info('███ Position update (unfilled_qty, Sell) ███ %s: %s -> %s' % (symbol, old_sell_qty, openOrderSellQty))\n",
    "            else:\n",
    "                self.logger.debug('#### Position update #### is []')\n",
    "            \n",
    "        elif msg['action'] == 'partial':\n",
    "            self._got_position_partial = True\n",
    "            \n",
    "            if msg['data']:\n",
    "                for d in msg['data']:\n",
    "                    symbol = d.get('symbol')\n",
    "                    if symbol not in self.symbols:\n",
    "                        self.logger.warning('Got position subscription of symbol: %s, not in self.symbols' % symbol)\n",
    "                        continue\n",
    "                    currentQty = d.get('currentQty')\n",
    "                    openOrderBuyQty = d.get('openOrderBuyQty', 0)                    \n",
    "                    openOrderSellQty = d.get('openOrderSellQty', 0)\n",
    "                    \n",
    "                    self.actual_position[symbol] = currentQty\n",
    "                    self.unfilled_qty[symbol]['Buy'] = openOrderBuyQty\n",
    "                    self.unfilled_qty[symbol]['Sell'] = openOrderSellQty\n",
    "                    \n",
    "                    txt = '%s  pos: %s, buy: %s, sell: %s' % (symbol, currentQty, openOrderBuyQty, openOrderSellQty)\n",
    "                    self.logger.debug('██████████ Position partial ██████████ %s' % txt)\n",
    "            else:\n",
    "                self.logger.debug('██████████  Position partial ██████████  is []')\n",
    "            \n",
    "        \n",
    "        \n",
    "    def __on_order_msg(self, msg):\n",
    "        self.logger.info('Got order msg')\n",
    "        #print('========================order==================\\n' + msg.__str__())\n",
    "        \n",
    "    def __on_execution_msg(self, msg):\n",
    "        self.logger.info('Got execution msg')\n",
    "        #print('========================execution==================\\n' + msg.__str__())\n",
    "            \n",
    "        \n",
    "    def wait_for_initial_status(self):\n",
    "        if self._got_position_partial:\n",
    "            return\n",
    "        else:\n",
    "            time.sleep(1)"
   ]
  },
  {
   "cell_type": "code",
   "execution_count": 8,
   "metadata": {
    "collapsed": false,
    "scrolled": false
   },
   "outputs": [
    {
     "name": "stderr",
     "output_type": "stream",
     "text": [
      "[2018-10-04 19:56:34 bitmexWS INFO] ws thread start\n",
      "[2018-10-04 19:56:35 bitmexWS DEBUG] Calling ws.__on_open()\n",
      "[2018-10-04 19:56:35 bitmexWS INFO] Successful connected to BitMEX WebSocket API\n",
      "[2018-10-04 19:56:35 bitmexWS DEBUG] >>> send ping\n",
      "[2018-10-04 19:56:36 bitmexWS INFO] Subscribe to order\n",
      "[2018-10-04 19:56:36 bitmexWS INFO] Subscribe to position\n",
      "[2018-10-04 19:56:36 bitmexWS INFO] Subscribe to execution\n",
      "[2018-10-04 19:56:36 bitmexWS INFO] Got order msg\n",
      "[2018-10-04 19:56:36 bitmexWS INFO] Got position msg:\n",
      "[2018-10-04 19:56:36 bitmexWS DEBUG] ██████████ Position partial ██████████ ETHUSD  pos: 0, buy: 0, sell: 0\n",
      "[2018-10-04 19:56:36 bitmexWS DEBUG] ██████████ Position partial ██████████ XBTUSD  pos: 26, buy: 0, sell: 0\n",
      "[2018-10-04 19:56:36 bitmexWS INFO] Got execution msg\n"
     ]
    },
    {
     "name": "stdout",
     "output_type": "stream",
     "text": [
      "{'ETHUSD': 0, 'XBTUSD': 26}\n",
      "{'ETHUSD': {'Buy': 0, 'Sell': 0}, 'XBTUSD': {'Buy': 0, 'Sell': 0}}\n"
     ]
    },
    {
     "name": "stderr",
     "output_type": "stream",
     "text": [
      "[2018-10-04 19:56:40 bitmexWS DEBUG] >>> send ping\n",
      "[2018-10-04 19:56:45 bitmexWS DEBUG] >>> send ping\n",
      "[2018-10-04 19:56:47 bitmexWS INFO] Got position msg:\n",
      "[2018-10-04 19:56:50 bitmexWS DEBUG] >>> send ping\n",
      "[2018-10-04 19:56:51 bitmexWS INFO] Got order msg\n",
      "[2018-10-04 19:56:51 bitmexWS INFO] Got execution msg\n",
      "[2018-10-04 19:56:51 bitmexWS INFO] Got order msg\n",
      "[2018-10-04 19:56:51 bitmexWS INFO] Got position msg:\n",
      "[2018-10-04 19:56:51 bitmexWS INFO] ███ Position update (unfilled_qty, Sell) ███ XBTUSD: 0 -> 3\n",
      "[2018-10-04 19:56:51 bitmexWS INFO] Got execution msg\n",
      "[2018-10-04 19:56:51 bitmexWS INFO] Got order msg\n",
      "[2018-10-04 19:56:51 bitmexWS INFO] Got position msg:\n",
      "[2018-10-04 19:56:51 bitmexWS INFO] █████ Position update (actual_position) █████ XBTUSD: 26 -> 23\n",
      "[2018-10-04 19:56:51 bitmexWS INFO] ███ Position update (unfilled_qty, Sell) ███ XBTUSD: 3 -> 0\n",
      "[2018-10-04 19:56:55 bitmexWS DEBUG] >>> send ping\n",
      "[2018-10-04 19:56:57 bitmexWS INFO] Got position msg:\n",
      "[2018-10-04 19:56:58 bitmexWS INFO] Got order msg\n",
      "[2018-10-04 19:56:58 bitmexWS INFO] Got execution msg\n",
      "[2018-10-04 19:56:58 bitmexWS INFO] Got order msg\n",
      "[2018-10-04 19:56:58 bitmexWS INFO] Got position msg:\n",
      "[2018-10-04 19:56:58 bitmexWS INFO] ███ Position update (unfilled_qty, Sell) ███ XBTUSD: 0 -> 3\n",
      "[2018-10-04 19:57:00 bitmexWS DEBUG] >>> send ping\n",
      "[2018-10-04 19:57:01 bitmexWS INFO] Got position msg:\n",
      "[2018-10-04 19:57:02 bitmexWS INFO] Got position msg:\n",
      "[2018-10-04 19:57:05 bitmexWS INFO] Got execution msg\n",
      "[2018-10-04 19:57:05 bitmexWS INFO] Got order msg\n",
      "[2018-10-04 19:57:05 bitmexWS INFO] Got position msg:\n",
      "[2018-10-04 19:57:05 bitmexWS INFO] ███ Position update (unfilled_qty, Sell) ███ XBTUSD: 3 -> 0\n",
      "[2018-10-04 19:57:05 bitmexWS DEBUG] >>> send ping\n",
      "[2018-10-04 19:57:07 bitmexWS INFO] Got position msg:\n",
      "[2018-10-04 19:57:10 bitmexWS DEBUG] >>> send ping\n",
      "[2018-10-04 19:57:15 bitmexWS DEBUG] >>> send ping\n",
      "[2018-10-04 19:57:16 bitmexWS INFO] Got order msg\n",
      "[2018-10-04 19:57:16 bitmexWS INFO] Got execution msg\n",
      "[2018-10-04 19:57:16 bitmexWS INFO] Got order msg\n",
      "[2018-10-04 19:57:17 bitmexWS INFO] Got position msg:\n",
      "[2018-10-04 19:57:17 bitmexWS INFO] Got position msg:\n",
      "[2018-10-04 19:57:17 bitmexWS INFO] ███ Position update (unfilled_qty, Sell) ███ XBTUSD: 0 -> 3\n",
      "[2018-10-04 19:57:20 bitmexWS DEBUG] >>> send ping\n",
      "[2018-10-04 19:57:22 bitmexWS INFO] Got position msg:\n",
      "[2018-10-04 19:57:25 bitmexWS DEBUG] >>> send ping\n",
      "[2018-10-04 19:57:30 bitmexWS DEBUG] >>> send ping\n",
      "[2018-10-04 19:57:35 bitmexWS DEBUG] >>> send ping\n",
      "[2018-10-04 19:57:35 bitmexWS INFO] Got execution msg\n",
      "[2018-10-04 19:57:35 bitmexWS INFO] Got order msg\n",
      "[2018-10-04 19:57:36 bitmexWS INFO] Got position msg:\n",
      "[2018-10-04 19:57:37 bitmexWS INFO] Got position msg:\n",
      "[2018-10-04 19:57:40 bitmexWS DEBUG] >>> send ping\n",
      "[2018-10-04 19:57:45 bitmexWS DEBUG] >>> send ping\n",
      "[2018-10-04 19:57:47 bitmexWS INFO] Got position msg:\n",
      "[2018-10-04 19:57:50 bitmexWS DEBUG] >>> send ping\n",
      "[2018-10-04 19:57:53 bitmexWS INFO] Got execution msg\n",
      "[2018-10-04 19:57:53 bitmexWS INFO] Got order msg\n",
      "[2018-10-04 19:57:53 bitmexWS INFO] Got position msg:\n",
      "[2018-10-04 19:57:53 bitmexWS INFO] ███ Position update (unfilled_qty, Sell) ███ XBTUSD: 3 -> 0\n",
      "[2018-10-04 19:57:55 bitmexWS DEBUG] >>> send ping\n",
      "[2018-10-04 19:57:57 bitmexWS INFO] Got position msg:\n",
      "[2018-10-04 19:58:00 bitmexWS DEBUG] >>> send ping\n",
      "[2018-10-04 19:58:01 bitmexWS INFO] Got position msg:\n"
     ]
    }
   ],
   "source": [
    "#import pdb; pdb.set_trace()            \n",
    "import json\n",
    "import time\n",
    "\n",
    "\n",
    "with open('accounts.json') as f:\n",
    "    acc = json.load(f)\n",
    "\n",
    "apiKey = acc[0]['apiKey']\n",
    "apiSecret = acc[0]['apiSecret']\n",
    "\n",
    "\n",
    "a = bitmexWSTrading(apiKey=apiKey, apiSecret=apiSecret)\n",
    "a.connect()\n",
    "a.subscribe()\n",
    "a.wait_for_initial_status()\n",
    "\n",
    "print(a.actual_position)\n",
    "print(a.unfilled_qty)"
   ]
  },
  {
   "cell_type": "code",
   "execution_count": 9,
   "metadata": {
    "collapsed": false
   },
   "outputs": [
    {
     "name": "stderr",
     "output_type": "stream",
     "text": [
      "[2018-10-04 19:58:03 bitmexWS INFO] Exiting ...\n",
      "[2018-10-04 19:58:05 bitmexWS INFO] ping thread end.\n",
      "[2018-10-04 19:58:06 bitmexWS DEBUG] Calling ws.__on_close()\n",
      "[2018-10-04 19:58:06 bitmexWS INFO] Exit bitmexWS (intended)\n"
     ]
    }
   ],
   "source": [
    "a.exit()"
   ]
  },
  {
   "cell_type": "code",
   "execution_count": 10,
   "metadata": {
    "collapsed": false
   },
   "outputs": [
    {
     "data": {
      "text/plain": [
       "<__main__.bitmexWSTrading at 0x1079425f8>"
      ]
     },
     "execution_count": 10,
     "metadata": {},
     "output_type": "execute_result"
    }
   ],
   "source": [
    "a"
   ]
  },
  {
   "cell_type": "code",
   "execution_count": 11,
   "metadata": {
    "collapsed": false
   },
   "outputs": [
    {
     "data": {
      "text/plain": [
       "{'ETHUSD': 0, 'XBTUSD': 23}"
      ]
     },
     "execution_count": 11,
     "metadata": {},
     "output_type": "execute_result"
    }
   ],
   "source": [
    "a.actual_position"
   ]
  },
  {
   "cell_type": "code",
   "execution_count": 12,
   "metadata": {
    "collapsed": false
   },
   "outputs": [
    {
     "data": {
      "text/plain": [
       "{'ETHUSD': {'Buy': 0, 'Sell': 0}, 'XBTUSD': {'Buy': 0, 'Sell': 0}}"
      ]
     },
     "execution_count": 12,
     "metadata": {},
     "output_type": "execute_result"
    }
   ],
   "source": [
    "a.unfilled_qty"
   ]
  },
  {
   "cell_type": "code",
   "execution_count": null,
   "metadata": {
    "collapsed": true
   },
   "outputs": [],
   "source": []
  }
 ],
 "metadata": {
  "anaconda-cloud": {},
  "kernelspec": {
   "display_name": "Python [Root]",
   "language": "python",
   "name": "Python [Root]"
  },
  "language_info": {
   "codemirror_mode": {
    "name": "ipython",
    "version": 3
   },
   "file_extension": ".py",
   "mimetype": "text/x-python",
   "name": "python",
   "nbconvert_exporter": "python",
   "pygments_lexer": "ipython3",
   "version": "3.5.2"
  }
 },
 "nbformat": 4,
 "nbformat_minor": 2
}
