{
 "cells": [
  {
   "cell_type": "markdown",
   "metadata": {},
   "source": [
    "## bitMEX trading test"
   ]
  },
  {
   "cell_type": "markdown",
   "metadata": {},
   "source": [
    "目标：跑通bitMEX交易\n",
    "\n",
    "策略：专供测试交易系统的随机策略RandomTargetPostionStrategy：每隔30s发出一个随机的SignalEvent。"
   ]
  },
  {
   "cell_type": "code",
   "execution_count": 13,
   "metadata": {
    "collapsed": true
   },
   "outputs": [],
   "source": [
    "import logging\n",
    "import time\n",
    "import queue"
   ]
  },
  {
   "cell_type": "code",
   "execution_count": null,
   "metadata": {
    "collapsed": true
   },
   "outputs": [],
   "source": [
    "class NaivePortfolio(object):\n",
    "    \"\"\"简单CTA策略的组合管理器\n",
    "    \n",
    "    将各个CTA子策略的signal汇总，计算汇总的target_position， (目前是单一identifier)\n",
    "    当实际仓位与理论仓位不一致时发出OrderEvent，并处理FillEvent。\n",
    "    \"\"\"\n",
    "    \n",
    "    def __init__(self, event_queue, is_test=True):\n",
    "        \n",
    "        self.is_test = True   # 是否测试\n",
    "        self.logger = logging.getLogger()   # 日志\n",
    "        \n",
    "        self.event_queue = event_queue\n",
    "        \n",
    "        self.symbol = 'XBTUSD'\n",
    "        self.lots = 20\n",
    "        \n",
    "        # 目标仓位。\n",
    "        # 当实际仓位与目标仓位不一致时，会触发下单逻辑。\n",
    "        self.target_position = 0\n",
    "        \n",
    "        # 实际仓位。\n",
    "        # 1. 初始化时会主动查询 self.query_positon()  \n",
    "        # 2. 收到成交回报时会更新。  -> 如果程序开着时手动下单，那么程序会收到成交回报，把仓位调回到目标仓位。\n",
    "        self.actual_position = None         \n",
    "        \n",
    "    def onSignalEvent(self, signalEvent):\n",
    "        \"\"\"\n",
    "        signalEvent Handler\n",
    "        \n",
    "        signalEvent格式:\n",
    "        {\n",
    "            identifier: 'Turtle_XBTUSD_1m_9999',\n",
    "            symbol: 'XBTUSD',\n",
    "            direction: -1,\n",
    "        }\n",
    "        \"\"\"\n",
    "        self.logger.info('signalEvent: %s' % signalEvent)\n",
    "        self._signal_event_handler(signalEvent)   # 处理signal_event\n",
    "        \n",
    "    def _signal_event_handler(signalEvent):\n",
    "        if not signalEvent.get('symbol') == self.symbol:\n",
    "            self.logger.error('signalEvent.symbol != bitmexTrader.symbol')\n",
    "            return \n",
    "        if signalEvent.get('direction') in (0, -1, 1):\n",
    "            self.logger.error('invalid signalEvent.direction: %s')\n",
    "            return\n",
    "        self.target_position = signalEvent['direction'] * self.lots   # 设定 target_position\n",
    "        self._trade_to_target()   # 交易\n",
    "        \n",
    "    def _trade_to_target(self):\n",
    "        position_diff = self.target_position - self.actual_position\n",
    "        if position_diff > 0:\n",
    "            direction = 'buy'\n",
    "            limit_price = self.ask1  # 对价下单\n",
    "        elif position_diff < 0:\n",
    "            direction = 'sell'\n",
    "            limit_price = self.bid1   # 对价下单\n",
    "        else:\n",
    "            self.logger.info('target==actual, no need to trade')\n",
    "            return 0\n",
    "        symbol=self.symbol\n",
    "        volume=abs(position_diff)\n",
    "        order_event = orderEvent(symbol, direction, volume, limit_price)   # 构造Order\n",
    "        \n",
    "        # TODO: 如果有未执行的委托单怎么办？\n",
    "        self.event_queue.put(order_event)"
   ]
  },
  {
   "cell_type": "markdown",
   "metadata": {},
   "source": [
    "重新理清思路：\n",
    "\n",
    "portfolio 只负责维护 target_position. 发出 target_position_event -> 提示target_position可能有变化。\n",
    "它的主要功能后续应该是汇总各个子策略的仓位。\n",
    "\n",
    "executor 负责维护actual_position. 处理发单、撤单、查询持仓。\n",
    "\n",
    "第一阶段任务，先以最简单的方式，跑通bitMEX实盘交易：\n",
    "- portofolio线程: 随机生成 target_position 放入队列\n",
    "- executor线程: 循环从队列中取事件，交易"
   ]
  },
  {
   "cell_type": "code",
   "execution_count": 16,
   "metadata": {
    "collapsed": true
   },
   "outputs": [],
   "source": [
    "import threading\n",
    "import random\n",
    "import queue\n",
    "\n",
    "\n",
    "event_q = queue.Queue()  # 事件队列\n",
    "\n",
    "\n",
    "def generate_random_target_positon(event_queue):\n",
    "    \"\"\"随机生成target_position的函数\"\"\"\n",
    "    e = {\n",
    "        'etype': 'TARGET_POSITION',\n",
    "        'target_position': random.sample((0, -1, 1), k=1)[0]\n",
    "    }\n",
    "    event_queue.put(e)\n",
    "\n",
    "\n",
    "# 开一个线程，专门生成 target_position event\n",
    "portfolio_td = threading.Thread(target=generate_random_target_positon, args=(event_q))\n",
    "portfolio_td.start()\n",
    "\n",
    "# 另开一个线程，跑executor\n",
    "bitmex_executor = bitmexExecutor()\n",
    "executor_td = threading.Thread(target=bitmex_executor.run)\n",
    "executor_td.start()\n",
    "\n",
    "# 主程序\n",
    "while True:\n",
    "    try:\n",
    "        event = self.event_queue.get_nowait()\n",
    "    except queue.Empty:\n",
    "        time.sleep(0.5)\n",
    "    else:\n",
    "        if event.etype == 'TARGET_POSITION':\n",
    "            bitmex_executor.onTargetPositionEvent(event)   # 交易"
   ]
  },
  {
   "cell_type": "code",
   "execution_count": 40,
   "metadata": {
    "collapsed": false
   },
   "outputs": [],
   "source": [
    "class bitmexExecutor(object):\n",
    "    \"\"\"bitmex交易执行器\"\"\"\n",
    "    \n",
    "    def __init__(self):\n",
    "        print('init bitmexExecutor')\n",
    "        self.actual_position = self._query_actual_position()   # to-write   \n",
    "        \n",
    "    def run(self):\n",
    "        pass\n",
    "        \n",
    "    def onTargetPositionEvent(self):\n",
    "        pass\n",
    "    \n",
    "    def _query_actual_position(self):\n",
    "        pass    ### \n",
    "    \n",
    "    def _order(self, symbol, side, volume, limit_price=None):\n",
    "        pass    ### \n",
    "        "
   ]
  },
  {
   "cell_type": "code",
   "execution_count": null,
   "metadata": {
    "collapsed": true
   },
   "outputs": [],
   "source": []
  },
  {
   "cell_type": "markdown",
   "metadata": {},
   "source": [
    "## Demo of placing an order"
   ]
  },
  {
   "cell_type": "markdown",
   "metadata": {},
   "source": [
    "**BitMEX 不支持通过 WebSocket 提交或取消委托，这些操作只能通过 HTTP 进行。**\n",
    "\n",
    "我们的服务器支持保持 HTTP 连接和缓存的 SSL 会话。 如果你保持一个有效连接，你会得到与 websocket 类似的延迟，而无须使用 websocket 进行沟通。\n",
    "\n",
    "我们保持活动状态的超时时间为90秒。"
   ]
  },
  {
   "cell_type": "markdown",
   "metadata": {},
   "source": [
    "## bitmexREST"
   ]
  },
  {
   "cell_type": "code",
   "execution_count": 4,
   "metadata": {
    "collapsed": true
   },
   "outputs": [],
   "source": [
    "import requests\n",
    "import datetime\n",
    "import json\n",
    "from APIKeyAuthWithExpires import APIKeyAuthWithExpires\n",
    "\n",
    "class bitmexREST(object):\n",
    "    \"\"\"bitmex REST connection\"\"\"\n",
    "    \n",
    "    def __init__(self, apiKey, apiSecret, is_test=True):\n",
    "        self.apiKey = apiKey\n",
    "        self.apiSecret = apiSecret\n",
    "        self.is_test = is_test\n",
    "        \n",
    "        self.base_url = 'https://testnet.bitmex.com/api/v1/' if is_test else ''   # no real trading now\n",
    "        self.clientOrderID = 0\n",
    "        \n",
    "    def _send_http_request(self, verb, path, postdict=None, query=None):\n",
    "        \"\"\"send HTTP request\"\"\"\n",
    "        url = self.base_url + path\n",
    "        auth = APIKeyAuthWithExpires(self.apiKey, self.apiSecret)\n",
    "        return requests.request(verb, url, json=postdict, params=query, auth=auth)\n",
    "    \n",
    "    def place_order(self, symbol, side, qty, limit_price, text=''):\n",
    "        \"\"\"place order\"\"\"\n",
    "        \n",
    "        path = 'order'\n",
    "        post_dict = {\n",
    "            'symbol': symbol,\n",
    "            'side': side,   # 'Buy' or 'Sell'\n",
    "            'orderQty': qty,\n",
    "            'price': limit_price,\n",
    "            'ordType': 'Limit' if limit_price else 'Market',\n",
    "            'clOrdID': self.clientOrderID,\n",
    "            'text': self._add_ts(text)\n",
    "        }\n",
    "        self.clientOrderID += 1\n",
    "        return self._send_http_request('POST', path, post_dict)\n",
    "        \n",
    "    def cancel_order(self, orderID=None, clOrdID=None, text=''):\n",
    "        path = 'order'\n",
    "        post_dict = {\n",
    "            'orderID': orderID,\n",
    "            'clOrdID': clOrdID,\n",
    "            'text': self._add_ts(text)\n",
    "        }\n",
    "        return self._send_http_request('DELETE', path, postdict=post_dict)\n",
    "    \n",
    "    def cancel_all_orders(self, symbol=None, side=None, text=''):\n",
    "        path = 'order/all'\n",
    "        post_dict = {\n",
    "            'symbol': symbol,\n",
    "            'filter': json.dumps({'side': side})  # side: 'Buy' or 'Sell'\n",
    "        }\n",
    "        return self._send_http_request('DELETE', path, postdict=post_dict)\n",
    "        \n",
    "        \n",
    "    def get_open_orders(self, symbol=None):\n",
    "        \"\"\"Get open orders\"\"\"\n",
    "        \n",
    "        path = 'order'\n",
    "        query = {\n",
    "            'symbol': symbol,\n",
    "            'filter': json.dumps({\"ordStatus\": \"New\"})\n",
    "        }\n",
    "        return self._send_http_request('GET', path, query=query)\n",
    "    \n",
    "    def get_positions(self, symbol=None):\n",
    "        \"\"\"Get positions\"\"\"\n",
    "        \n",
    "        path = 'position'\n",
    "        query = {}\n",
    "        if symbol:\n",
    "            query.update({'filter': json.dumps({'symbol': symbol})})\n",
    "        return self._send_http_request('GET', path, query=query)\n",
    "    \n",
    "    @staticmethod\n",
    "    def _add_ts(text):\n",
    "        return '[API][%s] %s' % (str(datetime.datetime.now()), text)"
   ]
  },
  {
   "cell_type": "code",
   "execution_count": 11,
   "metadata": {
    "collapsed": true
   },
   "outputs": [],
   "source": [
    "import json\n",
    "\n",
    "\n",
    "with open('accounts.json') as f:\n",
    "    acc = json.load(f)\n",
    "\n",
    "apiKey = acc[0]['apiKey']\n",
    "apiSecret = acc[0]['apiSecret']"
   ]
  },
  {
   "cell_type": "code",
   "execution_count": 2,
   "metadata": {
    "collapsed": false
   },
   "outputs": [],
   "source": [
    "bm = bitmexREST(apiKey, apiSecret)\n",
    "\n",
    "res = bm.get_positions()\n",
    "if res.ok:\n",
    "    print(res.json()[0]['symbol'], res.json()[0]['currentQty'])\n",
    "\n",
    "res = res = bm.get_open_orders()\n",
    "if res.ok:\n",
    "    print(res.json())\n",
    "\n",
    "res = bm.place_order(symbol='XBTUSD', side='Sell', qty=100, limit_price=None)\n",
    "if res.ok:\n",
    "    print(res.json())\n",
    "\n",
    "res = bm.place_order(symbol='XBTUSD', side='Buy', qty=120, limit_price=6365.0)\n",
    "if res.ok:\n",
    "    print(res.json())"
   ]
  },
  {
   "cell_type": "code",
   "execution_count": null,
   "metadata": {
    "collapsed": true
   },
   "outputs": [],
   "source": []
  },
  {
   "cell_type": "markdown",
   "metadata": {},
   "source": [
    "## BitMEX WebSocket"
   ]
  },
  {
   "cell_type": "markdown",
   "metadata": {},
   "source": [
    "copy form https://github.com/BitMEX/api-connectors/ and https://github.com/BitMEX/sample-market-maker"
   ]
  },
  {
   "cell_type": "code",
   "execution_count": 1,
   "metadata": {
    "collapsed": false,
    "scrolled": true
   },
   "outputs": [],
   "source": [
    "import websocket\n",
    "import threading\n",
    "import json\n",
    "import time\n",
    "import logging\n",
    "from APIKeyAuth import generate_nonce, generate_signature\n",
    "\n",
    "\n",
    "with open('accounts.json') as f:\n",
    "    acc = json.load(f)\n",
    "\n",
    "apiKey = acc[0]['apiKey']\n",
    "apiSecret = acc[0]['apiSecret']\n",
    "#print(apiKey)\n",
    "#print(apiSecret)"
   ]
  },
  {
   "cell_type": "code",
   "execution_count": 2,
   "metadata": {
    "collapsed": false
   },
   "outputs": [],
   "source": [
    "class bitmexWS(object):\n",
    "    \"\"\"bitMEX WebSocket\"\"\"\n",
    "    \n",
    "    def __init__(self, apiKey=None, apiSecret=None, is_test=True):\n",
    "        \n",
    "        self.logger = logging.getLogger()\n",
    "        self.logger.setLevel(logging.INFO)\n",
    "        \n",
    "        self.apiKey = apiKey\n",
    "        self.apiSecret = apiSecret\n",
    "        self.shouldAuth = apiKey is not None and apiSecret is not None\n",
    "        \n",
    "        self.is_test = is_test\n",
    "        self.ws_url = 'wss://testnet.bitmex.com/realtime' if is_test else ''\n",
    "        \n",
    "        self.ws = None\n",
    "        self.wst = None\n",
    "        self.ping_td = None\n",
    "        self.connected = False\n",
    "        \n",
    "    def connect(self):\n",
    "        self.__connect()\n",
    "        self.__wait_for_connected()\n",
    "        self.__start_ping_thread()\n",
    "        \n",
    "    def __wait_for_connected(self):\n",
    "        while not self.connected:\n",
    "            time.sleep(0.1)\n",
    "            \n",
    "    def __start_ping_thread(self):\n",
    "        self.ping_td = threading.Thread(target=self.__send_ping_forever)\n",
    "        self.ping_td.start()\n",
    "            \n",
    "    def __send_ping_forever(self):\n",
    "        while self.connected:\n",
    "            print('>>> seng ping...')\n",
    "            self.ws.send('ping')\n",
    "            time.sleep(5)\n",
    "        \n",
    "    def exit(self):\n",
    "        self.connected = False\n",
    "        self.logger.info('Exiting ...')\n",
    "        if self.ping_td:\n",
    "            self.ping_td.join()\n",
    "            self.logger.info('ping thread end.')\n",
    "        if self.ws:\n",
    "            self.ws.close()\n",
    "        self.logger.info('======================= Exit(intended) =======================')\n",
    "        \n",
    "    def __connect(self):\n",
    "        \"\"\"connect to websocket in a thread\"\"\"\n",
    "        \n",
    "        self.ws = websocket.WebSocketApp(self.ws_url,\n",
    "                                         on_message=self.__on_message,\n",
    "                                         on_close=self.__on_close,\n",
    "                                         on_open=self.__on_open,\n",
    "                                         on_error=self.__on_error,\n",
    "                                         header=self.__get_auth()\n",
    "                                        )\n",
    "        self.wst = threading.Thread(target=lambda: self.ws.run_forever())\n",
    "        self.wst.start()\n",
    "        ('ws threading started')\n",
    "        \n",
    "    def __get_auth(self):\n",
    "        \"\"\"return auth headers\"\"\"\n",
    "        \n",
    "        if self.shouldAuth is False:\n",
    "            return []\n",
    "        \n",
    "        nonce = generate_nonce()\n",
    "        return [\n",
    "            'api-nonce:' + str(nonce),\n",
    "            'api-signature:' + generate_signature(self.apiSecret, 'GET', '/realtime', nonce, ''),\n",
    "            'api-key:' + self.apiKey\n",
    "        ]\n",
    "    \n",
    "    def __send_command(self, command, args=None):\n",
    "        \"\"\"send a row command\"\"\"\n",
    "        if args is None:\n",
    "            args = []\n",
    "        self.ws.send(json.dumps({'op': command, 'args': args}))\n",
    "        \n",
    "    def __on_message(self, ws, message):\n",
    "        \"\"\"Handler for parsing WS messages\"\"\"\n",
    "        \n",
    "        print(\"========================== MESSAGE ==========================\")\n",
    "        print(message)\n",
    "        \n",
    "        if message == 'pong':\n",
    "            return\n",
    "        \n",
    "        msg = json.loads(message)\n",
    "        \n",
    "        # 1. Welcome info\n",
    "        if 'info' in msg:\n",
    "            if msg['info'] == 'Welcome to the BitMEX Realtime API.':\n",
    "                self.connected = True\n",
    "                self.logger.info('================ Successful connected to BitMEX WebSocket API ================')\n",
    "                \n",
    "        # 2. subscription\n",
    "        elif 'subscribe' in msg:\n",
    "            if msg['success']:\n",
    "                self.logger.info('Subscribe to %s' % msg['subscribe'])\n",
    "            else:\n",
    "                self.logger.warn('Subscription not success: %s' % msg)\n",
    "                \n",
    "        # 3. table\n",
    "        elif 'table' in msg:\n",
    "            self.onData(msg)\n",
    "        else:\n",
    "            self.logger.warn('Unclassified msg; %s' % msg)\n",
    "    \n",
    "    def onData(self, msg):\n",
    "        print(msg)   # expected to be overwrite\n",
    "        \n",
    "    def __on_error(self, ws, error):\n",
    "        print('Error: %s' % error)\n",
    "        \n",
    "    def __on_close(self, ws):\n",
    "        print('close')\n",
    "        \n",
    "    def __on_open(self, ws):\n",
    "        print('open')\n",
    "            \n",
    "    def subscribe_topic(self, topic):\n",
    "        # {\"op\": \"subscribe\", \"args\": [<SubscriptionTopic>]}\n",
    "        self.__send_command('subscribe', [topic])\n",
    "        "
   ]
  },
  {
   "cell_type": "code",
   "execution_count": 3,
   "metadata": {
    "collapsed": false,
    "scrolled": true
   },
   "outputs": [
    {
     "name": "stdout",
     "output_type": "stream",
     "text": [
      "open\n",
      "========================== MESSAGE ==========================\n",
      "{\"info\":\"Welcome to the BitMEX Realtime API.\",\"version\":\"2018-09-07T19:34:23.000Z\",\"timestamp\":\"2018-09-11T09:01:14.091Z\",\"docs\":\"https://testnet.bitmex.com/app/wsAPI\",\"limit\":{\"remaining\":39}}\n",
      ">>> seng ping...\n",
      "========================== MESSAGE ==========================\n",
      "pong\n",
      "========================== MESSAGE ==========================\n",
      "{\"table\":\"order\",\"action\":\"partial\",\"keys\":[\"orderID\"],\"types\":{\"orderID\":\"guid\",\"clOrdID\":\"symbol\",\"clOrdLinkID\":\"symbol\",\"account\":\"long\",\"symbol\":\"symbol\",\"side\":\"symbol\",\"simpleOrderQty\":\"float\",\"orderQty\":\"long\",\"price\":\"float\",\"displayQty\":\"long\",\"stopPx\":\"float\",\"pegOffsetValue\":\"float\",\"pegPriceType\":\"symbol\",\"currency\":\"symbol\",\"settlCurrency\":\"symbol\",\"ordType\":\"symbol\",\"timeInForce\":\"symbol\",\"execInst\":\"symbol\",\"contingencyType\":\"symbol\",\"exDestination\":\"symbol\",\"ordStatus\":\"symbol\",\"triggered\":\"symbol\",\"workingIndicator\":\"boolean\",\"ordRejReason\":\"symbol\",\"simpleLeavesQty\":\"float\",\"leavesQty\":\"long\",\"simpleCumQty\":\"float\",\"cumQty\":\"long\",\"avgPx\":\"float\",\"multiLegReportingType\":\"symbol\",\"text\":\"symbol\",\"transactTime\":\"timestamp\",\"timestamp\":\"timestamp\"},\"foreignKeys\":{\"symbol\":\"instrument\",\"side\":\"side\",\"ordStatus\":\"ordStatus\"},\"attributes\":{\"orderID\":\"grouped\",\"account\":\"grouped\",\"ordStatus\":\"grouped\",\"workingIndicator\":\"grouped\"},\"filter\":{\"account\":101488},\"data\":[{\"orderID\":\"1c4075ce-21eb-9adc-eb91-a08f041c1165\",\"clOrdID\":\"\",\"clOrdLinkID\":\"\",\"account\":101488,\"symbol\":\"XBTUSD\",\"side\":\"Sell\",\"simpleOrderQty\":null,\"orderQty\":30,\"price\":6500,\"displayQty\":null,\"stopPx\":null,\"pegOffsetValue\":null,\"pegPriceType\":\"\",\"currency\":\"USD\",\"settlCurrency\":\"XBt\",\"ordType\":\"Limit\",\"timeInForce\":\"GoodTillCancel\",\"execInst\":\"\",\"contingencyType\":\"\",\"exDestination\":\"XBME\",\"ordStatus\":\"New\",\"triggered\":\"\",\"workingIndicator\":true,\"ordRejReason\":\"\",\"simpleLeavesQty\":0.0046,\"leavesQty\":30,\"simpleCumQty\":0,\"cumQty\":0,\"avgPx\":null,\"multiLegReportingType\":\"SingleSecurity\",\"text\":\"Submission from testnet.bitmex.com\",\"transactTime\":\"2018-09-10T14:06:58.646Z\",\"timestamp\":\"2018-09-10T14:06:58.646Z\"},{\"orderID\":\"08f1ff9f-ec97-1588-f343-defaaad7d111\",\"clOrdID\":\"\",\"clOrdLinkID\":\"\",\"account\":101488,\"symbol\":\"XBTUSD\",\"side\":\"Buy\",\"simpleOrderQty\":null,\"orderQty\":30,\"price\":6100,\"displayQty\":null,\"stopPx\":null,\"pegOffsetValue\":null,\"pegPriceType\":\"\",\"currency\":\"USD\",\"settlCurrency\":\"XBt\",\"ordType\":\"Limit\",\"timeInForce\":\"GoodTillCancel\",\"execInst\":\"\",\"contingencyType\":\"\",\"exDestination\":\"XBME\",\"ordStatus\":\"New\",\"triggered\":\"\",\"workingIndicator\":true,\"ordRejReason\":\"\",\"simpleLeavesQty\":0.0048,\"leavesQty\":30,\"simpleCumQty\":0,\"cumQty\":0,\"avgPx\":null,\"multiLegReportingType\":\"SingleSecurity\",\"text\":\"Submission from testnet.bitmex.com\",\"transactTime\":\"2018-09-10T14:07:16.692Z\",\"timestamp\":\"2018-09-10T14:07:16.692Z\"}]}\n",
      "{'table': 'order', 'data': [{'text': 'Submission from testnet.bitmex.com', 'clOrdID': '', 'simpleCumQty': 0, 'multiLegReportingType': 'SingleSecurity', 'displayQty': None, 'simpleLeavesQty': 0.0046, 'workingIndicator': True, 'timeInForce': 'GoodTillCancel', 'price': 6500, 'simpleOrderQty': None, 'orderID': '1c4075ce-21eb-9adc-eb91-a08f041c1165', 'clOrdLinkID': '', 'transactTime': '2018-09-10T14:06:58.646Z', 'orderQty': 30, 'pegOffsetValue': None, 'execInst': '', 'symbol': 'XBTUSD', 'account': 101488, 'cumQty': 0, 'ordRejReason': '', 'timestamp': '2018-09-10T14:06:58.646Z', 'stopPx': None, 'exDestination': 'XBME', 'ordType': 'Limit', 'side': 'Sell', 'leavesQty': 30, 'pegPriceType': '', 'currency': 'USD', 'ordStatus': 'New', 'triggered': '', 'contingencyType': '', 'avgPx': None, 'settlCurrency': 'XBt'}, {'text': 'Submission from testnet.bitmex.com', 'clOrdID': '', 'simpleCumQty': 0, 'multiLegReportingType': 'SingleSecurity', 'displayQty': None, 'simpleLeavesQty': 0.0048, 'workingIndicator': True, 'timeInForce': 'GoodTillCancel', 'price': 6100, 'simpleOrderQty': None, 'orderID': '08f1ff9f-ec97-1588-f343-defaaad7d111', 'clOrdLinkID': '', 'transactTime': '2018-09-10T14:07:16.692Z', 'orderQty': 30, 'pegOffsetValue': None, 'execInst': '', 'symbol': 'XBTUSD', 'account': 101488, 'cumQty': 0, 'ordRejReason': '', 'timestamp': '2018-09-10T14:07:16.692Z', 'stopPx': None, 'exDestination': 'XBME', 'ordType': 'Limit', 'side': 'Buy', 'leavesQty': 30, 'pegPriceType': '', 'currency': 'USD', 'ordStatus': 'New', 'triggered': '', 'contingencyType': '', 'avgPx': None, 'settlCurrency': 'XBt'}], 'action': 'partial', 'types': {'text': 'symbol', 'clOrdID': 'symbol', 'simpleCumQty': 'float', 'multiLegReportingType': 'symbol', 'displayQty': 'long', 'simpleLeavesQty': 'float', 'workingIndicator': 'boolean', 'timeInForce': 'symbol', 'price': 'float', 'simpleOrderQty': 'float', 'orderID': 'guid', 'clOrdLinkID': 'symbol', 'transactTime': 'timestamp', 'orderQty': 'long', 'pegOffsetValue': 'float', 'execInst': 'symbol', 'symbol': 'symbol', 'account': 'long', 'cumQty': 'long', 'ordRejReason': 'symbol', 'timestamp': 'timestamp', 'stopPx': 'float', 'exDestination': 'symbol', 'ordType': 'symbol', 'side': 'symbol', 'leavesQty': 'long', 'pegPriceType': 'symbol', 'currency': 'symbol', 'ordStatus': 'symbol', 'triggered': 'symbol', 'contingencyType': 'symbol', 'avgPx': 'float', 'settlCurrency': 'symbol'}, 'foreignKeys': {'symbol': 'instrument', 'ordStatus': 'ordStatus', 'side': 'side'}, 'keys': ['orderID'], 'attributes': {'workingIndicator': 'grouped', 'ordStatus': 'grouped', 'account': 'grouped', 'orderID': 'grouped'}, 'filter': {'account': 101488}}\n",
      "========================== MESSAGE ==========================\n",
      "{\"success\":true,\"subscribe\":\"order\",\"request\":{\"op\":\"subscribe\",\"args\":[\"order\"]}}\n",
      "========================== MESSAGE ==========================\n",
      "{\"success\":true,\"subscribe\":\"instrument:XBTUSD\",\"request\":{\"op\":\"subscribe\",\"args\":[\"instrument:XBTUSD\"]}}\n",
      "========================== MESSAGE ==========================\n",
      "{\"table\":\"instrument\",\"action\":\"partial\",\"keys\":[\"symbol\"],\"types\":{\"symbol\":\"symbol\",\"rootSymbol\":\"symbol\",\"state\":\"symbol\",\"typ\":\"symbol\",\"listing\":\"timestamp\",\"front\":\"timestamp\",\"expiry\":\"timestamp\",\"settle\":\"timestamp\",\"relistInterval\":\"timespan\",\"inverseLeg\":\"symbol\",\"sellLeg\":\"symbol\",\"buyLeg\":\"symbol\",\"optionStrikePcnt\":\"float\",\"optionStrikeRound\":\"float\",\"optionStrikePrice\":\"float\",\"optionMultiplier\":\"float\",\"positionCurrency\":\"symbol\",\"underlying\":\"symbol\",\"quoteCurrency\":\"symbol\",\"underlyingSymbol\":\"symbol\",\"reference\":\"symbol\",\"referenceSymbol\":\"symbol\",\"calcInterval\":\"timespan\",\"publishInterval\":\"timespan\",\"publishTime\":\"timespan\",\"maxOrderQty\":\"long\",\"maxPrice\":\"float\",\"lotSize\":\"long\",\"tickSize\":\"float\",\"multiplier\":\"long\",\"settlCurrency\":\"symbol\",\"underlyingToPositionMultiplier\":\"long\",\"underlyingToSettleMultiplier\":\"long\",\"quoteToSettleMultiplier\":\"long\",\"isQuanto\":\"boolean\",\"isInverse\":\"boolean\",\"initMargin\":\"float\",\"maintMargin\":\"float\",\"riskLimit\":\"long\",\"riskStep\":\"long\",\"limit\":\"float\",\"capped\":\"boolean\",\"taxed\":\"boolean\",\"deleverage\":\"boolean\",\"makerFee\":\"float\",\"takerFee\":\"float\",\"settlementFee\":\"float\",\"insuranceFee\":\"float\",\"fundingBaseSymbol\":\"symbol\",\"fundingQuoteSymbol\":\"symbol\",\"fundingPremiumSymbol\":\"symbol\",\"fundingTimestamp\":\"timestamp\",\"fundingInterval\":\"timespan\",\"fundingRate\":\"float\",\"indicativeFundingRate\":\"float\",\"rebalanceTimestamp\":\"timestamp\",\"rebalanceInterval\":\"timespan\",\"openingTimestamp\":\"timestamp\",\"closingTimestamp\":\"timestamp\",\"sessionInterval\":\"timespan\",\"prevClosePrice\":\"float\",\"limitDownPrice\":\"float\",\"limitUpPrice\":\"float\",\"bankruptLimitDownPrice\":\"float\",\"bankruptLimitUpPrice\":\"float\",\"prevTotalVolume\":\"long\",\"totalVolume\":\"long\",\"volume\":\"long\",\"volume24h\":\"long\",\"prevTotalTurnover\":\"long\",\"totalTurnover\":\"long\",\"turnover\":\"long\",\"turnover24h\":\"long\",\"homeNotional24h\":\"float\",\"foreignNotional24h\":\"float\",\"prevPrice24h\":\"float\",\"vwap\":\"float\",\"highPrice\":\"float\",\"lowPrice\":\"float\",\"lastPrice\":\"float\",\"lastPriceProtected\":\"float\",\"lastTickDirection\":\"symbol\",\"lastChangePcnt\":\"float\",\"bidPrice\":\"float\",\"midPrice\":\"float\",\"askPrice\":\"float\",\"impactBidPrice\":\"float\",\"impactMidPrice\":\"float\",\"impactAskPrice\":\"float\",\"hasLiquidity\":\"boolean\",\"openInterest\":\"long\",\"openValue\":\"long\",\"fairMethod\":\"symbol\",\"fairBasisRate\":\"float\",\"fairBasis\":\"float\",\"fairPrice\":\"float\",\"markMethod\":\"symbol\",\"markPrice\":\"float\",\"indicativeTaxRate\":\"float\",\"indicativeSettlePrice\":\"float\",\"optionUnderlyingPrice\":\"float\",\"settledPrice\":\"float\",\"timestamp\":\"timestamp\"},\"foreignKeys\":{\"inverseLeg\":\"instrument\",\"sellLeg\":\"instrument\",\"buyLeg\":\"instrument\"},\"attributes\":{\"symbol\":\"unique\"},\"filter\":{\"symbol\":\"XBTUSD\"},\"data\":[{\"symbol\":\"XBTUSD\",\"rootSymbol\":\"XBT\",\"state\":\"Open\",\"typ\":\"FFWCSX\",\"listing\":\"2016-05-04T12:00:00.000Z\",\"front\":\"2016-05-04T12:00:00.000Z\",\"expiry\":null,\"settle\":null,\"relistInterval\":null,\"inverseLeg\":\"\",\"sellLeg\":\"\",\"buyLeg\":\"\",\"optionStrikePcnt\":null,\"optionStrikeRound\":null,\"optionStrikePrice\":null,\"optionMultiplier\":null,\"positionCurrency\":\"USD\",\"underlying\":\"XBT\",\"quoteCurrency\":\"USD\",\"underlyingSymbol\":\"XBT=\",\"reference\":\"BMEX\",\"referenceSymbol\":\".BXBT\",\"calcInterval\":null,\"publishInterval\":null,\"publishTime\":null,\"maxOrderQty\":10000000,\"maxPrice\":1000000,\"lotSize\":1,\"tickSize\":0.5,\"multiplier\":-100000000,\"settlCurrency\":\"XBt\",\"underlyingToPositionMultiplier\":null,\"underlyingToSettleMultiplier\":-100000000,\"quoteToSettleMultiplier\":null,\"isQuanto\":false,\"isInverse\":true,\"initMargin\":0.01,\"maintMargin\":0.005,\"riskLimit\":20000000000,\"riskStep\":10000000000,\"limit\":null,\"capped\":false,\"taxed\":true,\"deleverage\":true,\"makerFee\":-0.00025,\"takerFee\":0.00075,\"settlementFee\":0,\"insuranceFee\":0,\"fundingBaseSymbol\":\".XBTBON8H\",\"fundingQuoteSymbol\":\".USDBON8H\",\"fundingPremiumSymbol\":\".XBTUSDPI8H\",\"fundingTimestamp\":\"2018-09-11T12:00:00.000Z\",\"fundingInterval\":\"2000-01-01T08:00:00.000Z\",\"fundingRate\":0.0001,\"indicativeFundingRate\":0.00171,\"rebalanceTimestamp\":null,\"rebalanceInterval\":null,\"openingTimestamp\":\"2018-09-11T08:00:00.000Z\",\"closingTimestamp\":\"2018-09-11T10:00:00.000Z\",\"sessionInterval\":\"2000-01-01T02:00:00.000Z\",\"prevClosePrice\":6304.63,\"limitDownPrice\":null,\"limitUpPrice\":null,\"bankruptLimitDownPrice\":null,\"bankruptLimitUpPrice\":null,\"prevTotalVolume\":89529638942,\"totalVolume\":89535426755,\"volume\":5787813,\"volume24h\":344210426,\"prevTotalTurnover\":1274241219471227,\"totalTurnover\":1274333004364236,\"turnover\":91784893009,\"turnover24h\":5454701936561,\"homeNotional24h\":54547.01936560999,\"foreignNotional24h\":344210426,\"prevPrice24h\":6327,\"vwap\":6310.7409,\"highPrice\":6499,\"lowPrice\":6227.5,\"lastPrice\":6323,\"lastPriceProtected\":6323,\"lastTickDirection\":\"ZeroMinusTick\",\"lastChangePcnt\":-0.0006,\"bidPrice\":6323,\"midPrice\":6323.25,\"askPrice\":6323.5,\"impactBidPrice\":6321.9117,\"impactMidPrice\":6323,\"impactAskPrice\":6324.3107,\"hasLiquidity\":true,\"openInterest\":207382761,\"openValue\":3282246958347,\"fairMethod\":\"FundingRate\",\"fairBasisRate\":0.1095,\"fairBasis\":0.24,\"fairPrice\":6318.16,\"markMethod\":\"FairPrice\",\"markPrice\":6318.16,\"indicativeTaxRate\":0,\"indicativeSettlePrice\":6317.92,\"optionUnderlyingPrice\":null,\"settledPrice\":null,\"timestamp\":\"2018-09-11T09:01:05.505Z\"}]}\n",
      "{'table': 'instrument', 'data': [{'underlyingToSettleMultiplier': -100000000, 'sessionInterval': '2000-01-01T02:00:00.000Z', 'state': 'Open', 'optionUnderlyingPrice': None, 'fairPrice': 6318.16, 'maintMargin': 0.005, 'totalVolume': 89535426755, 'takerFee': 0.00075, 'fundingPremiumSymbol': '.XBTUSDPI8H', 'bidPrice': 6323, 'referenceSymbol': '.BXBT', 'quoteToSettleMultiplier': None, 'bankruptLimitUpPrice': None, 'prevTotalTurnover': 1274241219471227, 'lastPriceProtected': 6323, 'bankruptLimitDownPrice': None, 'indicativeTaxRate': 0, 'impactBidPrice': 6321.9117, 'markMethod': 'FairPrice', 'volume': 5787813, 'underlying': 'XBT', 'isInverse': True, 'underlyingToPositionMultiplier': None, 'expiry': None, 'tickSize': 0.5, 'lotSize': 1, 'rebalanceTimestamp': None, 'rootSymbol': 'XBT', 'foreignNotional24h': 344210426, 'fairBasis': 0.24, 'fairMethod': 'FundingRate', 'optionMultiplier': None, 'typ': 'FFWCSX', 'limitUpPrice': None, 'markPrice': 6318.16, 'openingTimestamp': '2018-09-11T08:00:00.000Z', 'rebalanceInterval': None, 'turnover': 91784893009, 'quoteCurrency': 'USD', 'limit': None, 'askPrice': 6323.5, 'indicativeFundingRate': 0.00171, 'insuranceFee': 0, 'highPrice': 6499, 'reference': 'BMEX', 'initMargin': 0.01, 'fundingInterval': '2000-01-01T08:00:00.000Z', 'totalTurnover': 1274333004364236, 'lastPrice': 6323, 'riskLimit': 20000000000, 'openInterest': 207382761, 'limitDownPrice': None, 'capped': False, 'indicativeSettlePrice': 6317.92, 'settledPrice': None, 'prevClosePrice': 6304.63, 'makerFee': -0.00025, 'fundingRate': 0.0001, 'publishInterval': None, 'impactMidPrice': 6323, 'impactAskPrice': 6324.3107, 'optionStrikePcnt': None, 'lastTickDirection': 'ZeroMinusTick', 'lowPrice': 6227.5, 'buyLeg': '', 'lastChangePcnt': -0.0006, 'underlyingSymbol': 'XBT=', 'maxPrice': 1000000, 'openValue': 3282246958347, 'turnover24h': 5454701936561, 'isQuanto': False, 'prevTotalVolume': 89529638942, 'riskStep': 10000000000, 'hasLiquidity': True, 'listing': '2016-05-04T12:00:00.000Z', 'settlCurrency': 'XBt', 'homeNotional24h': 54547.01936560999, 'volume24h': 344210426, 'fundingBaseSymbol': '.XBTBON8H', 'vwap': 6310.7409, 'prevPrice24h': 6327, 'settlementFee': 0, 'settle': None, 'multiplier': -100000000, 'publishTime': None, 'deleverage': True, 'positionCurrency': 'USD', 'inverseLeg': '', 'calcInterval': None, 'fairBasisRate': 0.1095, 'taxed': True, 'timestamp': '2018-09-11T09:01:05.505Z', 'sellLeg': '', 'symbol': 'XBTUSD', 'optionStrikePrice': None, 'midPrice': 6323.25, 'maxOrderQty': 10000000, 'fundingQuoteSymbol': '.USDBON8H', 'relistInterval': None, 'fundingTimestamp': '2018-09-11T12:00:00.000Z', 'front': '2016-05-04T12:00:00.000Z', 'optionStrikeRound': None, 'closingTimestamp': '2018-09-11T10:00:00.000Z'}], 'action': 'partial', 'types': {'underlyingToSettleMultiplier': 'long', 'sessionInterval': 'timespan', 'state': 'symbol', 'optionUnderlyingPrice': 'float', 'fairPrice': 'float', 'maintMargin': 'float', 'totalVolume': 'long', 'takerFee': 'float', 'fundingPremiumSymbol': 'symbol', 'bidPrice': 'float', 'referenceSymbol': 'symbol', 'quoteToSettleMultiplier': 'long', 'bankruptLimitUpPrice': 'float', 'prevTotalTurnover': 'long', 'lastPriceProtected': 'float', 'bankruptLimitDownPrice': 'float', 'indicativeTaxRate': 'float', 'impactBidPrice': 'float', 'markMethod': 'symbol', 'volume': 'long', 'underlying': 'symbol', 'isInverse': 'boolean', 'underlyingToPositionMultiplier': 'long', 'expiry': 'timestamp', 'tickSize': 'float', 'lotSize': 'long', 'rebalanceTimestamp': 'timestamp', 'rootSymbol': 'symbol', 'foreignNotional24h': 'float', 'fairBasis': 'float', 'fairMethod': 'symbol', 'optionMultiplier': 'float', 'typ': 'symbol', 'limitUpPrice': 'float', 'markPrice': 'float', 'openingTimestamp': 'timestamp', 'rebalanceInterval': 'timespan', 'turnover': 'long', 'quoteCurrency': 'symbol', 'limit': 'float', 'askPrice': 'float', 'indicativeFundingRate': 'float', 'insuranceFee': 'float', 'highPrice': 'float', 'reference': 'symbol', 'initMargin': 'float', 'fundingInterval': 'timespan', 'totalTurnover': 'long', 'lastPrice': 'float', 'riskLimit': 'long', 'openInterest': 'long', 'limitDownPrice': 'float', 'capped': 'boolean', 'indicativeSettlePrice': 'float', 'settledPrice': 'float', 'prevClosePrice': 'float', 'makerFee': 'float', 'fundingRate': 'float', 'publishInterval': 'timespan', 'impactMidPrice': 'float', 'impactAskPrice': 'float', 'optionStrikePcnt': 'float', 'lastTickDirection': 'symbol', 'lowPrice': 'float', 'buyLeg': 'symbol', 'lastChangePcnt': 'float', 'underlyingSymbol': 'symbol', 'maxPrice': 'float', 'openValue': 'long', 'turnover24h': 'long', 'isQuanto': 'boolean', 'prevTotalVolume': 'long', 'riskStep': 'long', 'hasLiquidity': 'boolean', 'listing': 'timestamp', 'settlCurrency': 'symbol', 'homeNotional24h': 'float', 'volume24h': 'long', 'fundingBaseSymbol': 'symbol', 'vwap': 'float', 'prevPrice24h': 'float', 'settlementFee': 'float', 'settle': 'timestamp', 'multiplier': 'long', 'publishTime': 'timespan', 'deleverage': 'boolean', 'positionCurrency': 'symbol', 'inverseLeg': 'symbol', 'calcInterval': 'timespan', 'fairBasisRate': 'float', 'taxed': 'boolean', 'timestamp': 'timestamp', 'sellLeg': 'symbol', 'symbol': 'symbol', 'optionStrikePrice': 'float', 'midPrice': 'float', 'maxOrderQty': 'long', 'fundingQuoteSymbol': 'symbol', 'relistInterval': 'timespan', 'fundingTimestamp': 'timestamp', 'front': 'timestamp', 'optionStrikeRound': 'float', 'closingTimestamp': 'timestamp'}, 'foreignKeys': {'sellLeg': 'instrument', 'inverseLeg': 'instrument', 'buyLeg': 'instrument'}, 'keys': ['symbol'], 'attributes': {'symbol': 'unique'}, 'filter': {'symbol': 'XBTUSD'}}\n",
      "========================== MESSAGE ==========================\n",
      "{\"table\":\"instrument\",\"action\":\"update\",\"data\":[{\"symbol\":\"XBTUSD\",\"lastPrice\":6339.5,\"lastTickDirection\":\"ZeroPlusTick\",\"lastChangePcnt\":0.002,\"timestamp\":\"2018-09-11T09:01:15.064Z\"}]}\n",
      "{'table': 'instrument', 'data': [{'lastTickDirection': 'ZeroPlusTick', 'symbol': 'XBTUSD', 'lastChangePcnt': 0.002, 'lastPrice': 6339.5, 'timestamp': '2018-09-11T09:01:15.064Z'}], 'action': 'update'}\n",
      "========================== MESSAGE ==========================\n",
      "{\"table\":\"instrument\",\"action\":\"update\",\"data\":[{\"symbol\":\"XBTUSD\",\"lastPrice\":6324.5,\"lastTickDirection\":\"PlusTick\",\"lastChangePcnt\":-0.0004,\"timestamp\":\"2018-09-11T09:01:16.047Z\"}]}\n",
      "{'table': 'instrument', 'data': [{'lastTickDirection': 'PlusTick', 'symbol': 'XBTUSD', 'lastChangePcnt': -0.0004, 'lastPrice': 6324.5, 'timestamp': '2018-09-11T09:01:16.047Z'}], 'action': 'update'}\n",
      "========================== MESSAGE ==========================\n",
      "{\"table\":\"instrument\",\"action\":\"update\",\"data\":[{\"symbol\":\"XBTUSD\",\"lastPrice\":6325.5,\"lastChangePcnt\":-0.0002,\"timestamp\":\"2018-09-11T09:01:16.047Z\"}]}\n",
      "{'table': 'instrument', 'data': [{'symbol': 'XBTUSD', 'lastChangePcnt': -0.0002, 'lastPrice': 6325.5, 'timestamp': '2018-09-11T09:01:16.047Z'}], 'action': 'update'}\n",
      "========================== MESSAGE ==========================\n",
      "{\"table\":\"instrument\",\"action\":\"update\",\"data\":[{\"symbol\":\"XBTUSD\",\"lastPriceProtected\":6324.3107,\"timestamp\":\"2018-09-11T09:01:16.047Z\"}]}\n",
      "{'table': 'instrument', 'data': [{'symbol': 'XBTUSD', 'lastPriceProtected': 6324.3107, 'timestamp': '2018-09-11T09:01:16.047Z'}], 'action': 'update'}\n",
      "========================== MESSAGE ==========================\n",
      "{\"table\":\"instrument\",\"action\":\"update\",\"data\":[{\"symbol\":\"XBTUSD\",\"lastPrice\":6322.5,\"lastTickDirection\":\"ZeroMinusTick\",\"lastChangePcnt\":-0.0007,\"timestamp\":\"2018-09-11T09:01:16.155Z\"}]}\n",
      "{'table': 'instrument', 'data': [{'lastTickDirection': 'ZeroMinusTick', 'symbol': 'XBTUSD', 'lastChangePcnt': -0.0007, 'lastPrice': 6322.5, 'timestamp': '2018-09-11T09:01:16.155Z'}], 'action': 'update'}\n",
      "========================== MESSAGE ==========================\n",
      "{\"table\":\"instrument\",\"action\":\"update\",\"data\":[{\"symbol\":\"XBTUSD\",\"lastPrice\":6340,\"lastTickDirection\":\"ZeroPlusTick\",\"lastChangePcnt\":0.0021,\"timestamp\":\"2018-09-11T09:01:16.170Z\"}]}\n",
      "{'table': 'instrument', 'data': [{'lastTickDirection': 'ZeroPlusTick', 'symbol': 'XBTUSD', 'lastChangePcnt': 0.0021, 'lastPrice': 6340, 'timestamp': '2018-09-11T09:01:16.170Z'}], 'action': 'update'}\n",
      "========================== MESSAGE ==========================\n",
      "{\"table\":\"instrument\",\"action\":\"update\",\"data\":[{\"symbol\":\"XBTUSD\",\"lastPrice\":6323.5,\"lastTickDirection\":\"ZeroMinusTick\",\"lastChangePcnt\":-0.0006,\"timestamp\":\"2018-09-11T09:01:17.442Z\"}]}\n",
      "{'table': 'instrument', 'data': [{'lastTickDirection': 'ZeroMinusTick', 'symbol': 'XBTUSD', 'lastChangePcnt': -0.0006, 'lastPrice': 6323.5, 'timestamp': '2018-09-11T09:01:17.442Z'}], 'action': 'update'}\n"
     ]
    }
   ],
   "source": [
    "bmws = bitmexWS(apiKey=apiKey, apiSecret=apiSecret)\n",
    "bmws.connect()\n",
    "\n",
    "bmws.subscribe_topic('order')   # manual send orders and make fill events on website\n",
    "bmws.subscribe_topic('instrument:XBTUSD')"
   ]
  },
  {
   "cell_type": "code",
   "execution_count": 4,
   "metadata": {
    "collapsed": false
   },
   "outputs": [
    {
     "name": "stdout",
     "output_type": "stream",
     "text": [
      "========================== MESSAGE ==========================\n",
      "{\"table\":\"instrument\",\"action\":\"update\",\"data\":[{\"symbol\":\"XBTUSD\",\"impactMidPrice\":6329,\"impactAskPrice\":6335.1283,\"timestamp\":\"2018-09-11T09:01:19.100Z\"}]}\n",
      "{'table': 'instrument', 'data': [{'impactMidPrice': 6329, 'symbol': 'XBTUSD', 'impactAskPrice': 6335.1283, 'timestamp': '2018-09-11T09:01:19.100Z'}], 'action': 'update'}\n",
      "close\n"
     ]
    }
   ],
   "source": [
    "bmws.exit()"
   ]
  },
  {
   "cell_type": "code",
   "execution_count": null,
   "metadata": {
    "collapsed": true
   },
   "outputs": [],
   "source": [
    "\n"
   ]
  },
  {
   "cell_type": "markdown",
   "metadata": {},
   "source": [
    "## Notes"
   ]
  },
  {
   "cell_type": "markdown",
   "metadata": {},
   "source": [
    "订阅order主题，接收到的table"
   ]
  },
  {
   "cell_type": "raw",
   "metadata": {},
   "source": [
    "partial:\n",
    "\n",
    "========================== MESSAGE ==========================\n",
    "{\"table\":\"order\",\n",
    "\"action\":\"partial\",\n",
    "\"keys\":[\"orderID\"],\n",
    "\"types\":{\"orderID\":\"guid\",\"clOrdID\":\"symbol\",\"clOrdLinkID\":\"symbol\",\"account\":\"long\",\"symbol\":\"symbol\",\"side\":\"symbol\",\"simpleOrderQty\":\"float\",\"orderQty\":\"long\",\"price\":\"float\",\"displayQty\":\"long\",\"stopPx\":\"float\",\"pegOffsetValue\":\"float\",\"pegPriceType\":\"symbol\",\"currency\":\"symbol\",\"settlCurrency\":\"symbol\",\"ordType\":\"symbol\",\"timeInForce\":\"symbol\",\"execInst\":\"symbol\",\"contingencyType\":\"symbol\",\"exDestination\":\"symbol\",\"ordStatus\":\"symbol\",\"triggered\":\"symbol\",\"workingIndicator\":\"boolean\",\"ordRejReason\":\"symbol\",\"simpleLeavesQty\":\"float\",\"leavesQty\":\"long\",\"simpleCumQty\":\"float\",\"cumQty\":\"long\",\"avgPx\":\"float\",\"multiLegReportingType\":\"symbol\",\"text\":\"symbol\",\"transactTime\":\"timestamp\",\"timestamp\":\"timestamp\"},\n",
    "\"foreignKeys\":{\"symbol\":\"instrument\",\"side\":\"side\",\"ordStatus\":\"ordStatus\"},\n",
    "\"attributes\":{\"orderID\":\"grouped\",\"account\":\"grouped\",\"ordStatus\":\"grouped\",\"workingIndicator\":\"grouped\"},\n",
    "\"filter\":{\"account\":101488},\n",
    "\"data\":[\n",
    "\n",
    "{\n",
    "\"orderID\":\"bc84e8aa-3315-9a1b-65b6-935262a3dd9d\",\n",
    "\"clOrdID\":\"\",\n",
    "\"clOrdLinkID\":\"\",\n",
    "\"account\":101488,\n",
    "\"symbol\":\"XBTUSD\",\n",
    "\"side\":\"Buy\",\n",
    "\"simpleOrderQty\":null,\n",
    "\"orderQty\":30,\n",
    "\"price\":6270,\n",
    "\n",
    "\"displayQty\":null,\"stopPx\":null,\"pegOffsetValue\":null,\"pegPriceType\":\"\",\"currency\":\"USD\",\"settlCurrency\":\"XBt\",\"ordType\":\"Limit\",\"timeInForce\":\"GoodTillCancel\",\"execInst\":\"\",\"contingencyType\":\"\",\"exDestination\":\"XBME\",\n",
    "\n",
    "\"ordStatus\":\"New\",\n",
    "\n",
    "\"triggered\":\"\",\"workingIndicator\":true,\"ordRejReason\":\"\",\"simpleLeavesQty\":0.0048,\"leavesQty\":30,\"simpleCumQty\":0,\"cumQty\":0,\"avgPx\":null,\"multiLegReportingType\":\"SingleSecurity\",\n",
    "\n",
    "\"text\":\"Submission from testnet.bitmex.com\",\n",
    "\"transactTime\":\"2018-09-10T10:52:49.605Z\",\n",
    "\"timestamp\":\"2018-09-10T10:52:49.605Z\"}\n",
    "]}"
   ]
  },
  {
   "cell_type": "raw",
   "metadata": {},
   "source": [
    "insert && update:\n",
    "\n",
    "========================== MESSAGE ==========================\n",
    "{\"table\":\"order\",\n",
    "\"action\":\"insert\",\n",
    "\"data\":[{\n",
    "\"orderID\":\"1c4075ce-21eb-9adc-eb91-a08f041c1165\",\n",
    "\"clOrdID\":\"\",\n",
    "\"clOrdLinkID\":\"\",\n",
    "\"account\":101488,\n",
    "\"symbol\":\"XBTUSD\",\n",
    "\"side\":\"Sell\",\n",
    "\"simpleOrderQty\":null,\n",
    "\"orderQty\":30,\n",
    "\"price\":6500,\n",
    "\"displayQty\":null,\"stopPx\":null,\"pegOffsetValue\":null,\"pegPriceType\":\"\",\"currency\":\"USD\",\"settlCurrency\":\"XBt\",\"ordType\":\"Limit\",\"timeInForce\":\"GoodTillCancel\",\"execInst\":\"\",\"contingencyType\":\"\",\"exDestination\":\"XBME\",\"ordStatus\":\"New\",\"triggered\":\"\",\n",
    "\n",
    "\"workingIndicator\":false,\n",
    "\n",
    "\"ordRejReason\":\"\",\"simpleLeavesQty\":0.0046,\"leavesQty\":30,\"simpleCumQty\":0,\"cumQty\":0,\"avgPx\":null,\"multiLegReportingType\":\"SingleSecurity\",\n",
    "\"text\":\"Submission from testnet.bitmex.com\",\n",
    "\"transactTime\":\"2018-09-10T14:06:58.646Z\",\n",
    "\"timestamp\":\"2018-09-10T14:06:58.646Z\"}]}\n",
    "========================== MESSAGE ==========================\n",
    "{\"table\":\"order\",\n",
    "\"action\":\"update\",\n",
    "\"data\":[{\"orderID\":\"1c4075ce-21eb-9adc-eb91-a08f041c1165\",\n",
    "\n",
    "\"workingIndicator\":true,\n",
    "\n",
    "\"clOrdID\":\"\",\"account\":101488,\"symbol\":\"XBTUSD\",\"timestamp\":\"2018-09-10T14:06:58.646Z\"}]}"
   ]
  },
  {
   "cell_type": "code",
   "execution_count": null,
   "metadata": {
    "collapsed": true
   },
   "outputs": [],
   "source": []
  }
 ],
 "metadata": {
  "anaconda-cloud": {},
  "kernelspec": {
   "display_name": "Python [Root]",
   "language": "python",
   "name": "Python [Root]"
  },
  "language_info": {
   "codemirror_mode": {
    "name": "ipython",
    "version": 3
   },
   "file_extension": ".py",
   "mimetype": "text/x-python",
   "name": "python",
   "nbconvert_exporter": "python",
   "pygments_lexer": "ipython3",
   "version": "3.5.2"
  }
 },
 "nbformat": 4,
 "nbformat_minor": 2
}
