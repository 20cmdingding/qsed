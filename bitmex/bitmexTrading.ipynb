{
 "cells": [
  {
   "cell_type": "markdown",
   "metadata": {},
   "source": [
    "## bitMEX trading test"
   ]
  },
  {
   "cell_type": "markdown",
   "metadata": {},
   "source": [
    "目标：跑通bitMEX交易\n",
    "\n",
    "策略：专供测试交易系统的随机策略RandomTargetPostionStrategy：每隔30s发出一个随机的SignalEvent。"
   ]
  },
  {
   "cell_type": "code",
   "execution_count": 13,
   "metadata": {
    "collapsed": true
   },
   "outputs": [],
   "source": [
    "import logging\n",
    "import time\n",
    "import queue"
   ]
  },
  {
   "cell_type": "code",
   "execution_count": null,
   "metadata": {
    "collapsed": true
   },
   "outputs": [],
   "source": [
    "class NaivePortfolio(object):\n",
    "    \"\"\"简单CTA策略的组合管理器\n",
    "    \n",
    "    将各个CTA子策略的signal汇总，计算汇总的target_position， (目前是单一identifier)\n",
    "    当实际仓位与理论仓位不一致时发出OrderEvent，并处理FillEvent。\n",
    "    \"\"\"\n",
    "    \n",
    "    def __init__(self, event_queue, is_test=True):\n",
    "        \n",
    "        self.is_test = True   # 是否测试\n",
    "        self.logger = logging.getLogger()   # 日志\n",
    "        \n",
    "        self.event_queue = event_queue\n",
    "        \n",
    "        self.symbol = 'XBTUSD'\n",
    "        self.lots = 20\n",
    "        \n",
    "        # 目标仓位。\n",
    "        # 当实际仓位与目标仓位不一致时，会触发下单逻辑。\n",
    "        self.target_position = 0\n",
    "        \n",
    "        # 实际仓位。\n",
    "        # 1. 初始化时会主动查询 self.query_positon()  \n",
    "        # 2. 收到成交回报时会更新。  -> 如果程序开着时手动下单，那么程序会收到成交回报，把仓位调回到目标仓位。\n",
    "        self.actual_position = None         \n",
    "        \n",
    "    def onSignalEvent(self, signalEvent):\n",
    "        \"\"\"\n",
    "        signalEvent Handler\n",
    "        \n",
    "        signalEvent格式:\n",
    "        {\n",
    "            identifier: 'Turtle_XBTUSD_1m_9999',\n",
    "            symbol: 'XBTUSD',\n",
    "            direction: -1,\n",
    "        }\n",
    "        \"\"\"\n",
    "        self.logger.info('signalEvent: %s' % signalEvent)\n",
    "        self._signal_event_handler(signalEvent)   # 处理signal_event\n",
    "        \n",
    "    def _signal_event_handler(signalEvent):\n",
    "        if not signalEvent.get('symbol') == self.symbol:\n",
    "            self.logger.error('signalEvent.symbol != bitmexTrader.symbol')\n",
    "            return \n",
    "        if signalEvent.get('direction') in (0, -1, 1):\n",
    "            self.logger.error('invalid signalEvent.direction: %s')\n",
    "            return\n",
    "        self.target_position = signalEvent['direction'] * self.lots   # 设定 target_position\n",
    "        self._trade_to_target()   # 交易\n",
    "        \n",
    "    def _trade_to_target(self):\n",
    "        position_diff = self.target_position - self.actual_position\n",
    "        if position_diff > 0:\n",
    "            direction = 'buy'\n",
    "            limit_price = self.ask1  # 对价下单\n",
    "        elif position_diff < 0:\n",
    "            direction = 'sell'\n",
    "            limit_price = self.bid1   # 对价下单\n",
    "        else:\n",
    "            self.logger.info('target==actual, no need to trade')\n",
    "            return 0\n",
    "        symbol=self.symbol\n",
    "        volume=abs(position_diff)\n",
    "        order_event = orderEvent(symbol, direction, volume, limit_price)   # 构造Order\n",
    "        \n",
    "        # TODO: 如果有未执行的委托单怎么办？\n",
    "        self.event_queue.put(order_event)"
   ]
  },
  {
   "cell_type": "markdown",
   "metadata": {},
   "source": [
    "重新理清思路：\n",
    "\n",
    "portfolio 只负责维护 target_position. 发出 target_position_event -> 提示target_position可能有变化。\n",
    "它的主要功能后续应该是汇总各个子策略的仓位。\n",
    "\n",
    "executor 负责维护actual_position. 处理发单、撤单、查询持仓。\n",
    "\n",
    "第一阶段任务，先以最简单的方式，跑通bitMEX实盘交易：\n",
    "- portofolio线程: 随机生成 target_position 放入队列\n",
    "- executor线程: 循环从队列中取事件，交易"
   ]
  },
  {
   "cell_type": "code",
   "execution_count": null,
   "metadata": {
    "collapsed": true
   },
   "outputs": [],
   "source": []
  },
  {
   "cell_type": "markdown",
   "metadata": {},
   "source": [
    "## Demo of placing an order"
   ]
  },
  {
   "cell_type": "markdown",
   "metadata": {},
   "source": [
    "**BitMEX 不支持通过 WebSocket 提交或取消委托，这些操作只能通过 HTTP 进行。**\n",
    "\n",
    "我们的服务器支持保持 HTTP 连接和缓存的 SSL 会话。 如果你保持一个有效连接，你会得到与 websocket 类似的延迟，而无须使用 websocket 进行沟通。\n",
    "\n",
    "我们保持活动状态的超时时间为90秒。"
   ]
  },
  {
   "cell_type": "markdown",
   "metadata": {},
   "source": [
    "## bitmexREST"
   ]
  },
  {
   "cell_type": "raw",
   "metadata": {
    "collapsed": true
   },
   "source": [
    "$ python bitmexREST.py"
   ]
  },
  {
   "cell_type": "markdown",
   "metadata": {},
   "source": [
    "## BitMEX WebSocket"
   ]
  },
  {
   "cell_type": "markdown",
   "metadata": {},
   "source": [
    "copy form https://github.com/BitMEX/api-connectors/ and https://github.com/BitMEX/sample-market-maker"
   ]
  },
  {
   "cell_type": "raw",
   "metadata": {},
   "source": [
    "$ python bitmexWS.py"
   ]
  },
  {
   "cell_type": "markdown",
   "metadata": {},
   "source": [
    "## bitmex TargetPosition-Based OMS\n",
    "\n",
    "TODO: seperate bitmex gateway and TargetPosition-Based OMS"
   ]
  },
  {
   "cell_type": "markdown",
   "metadata": {},
   "source": [
    "- bitmexWS\n",
    "    + 行情（无需验证）\n",
    "    + 交易。实时持仓情况、下单回报、成交回报\n",
    "- bitmexREST\n",
    "    + 下单\n",
    "    + 主动持仓查询。仅用于定时校验。\n",
    "    + 查历史行情（无需验证）。仅用于策略程序启动时回看。\n",
    "    \n",
    "\n",
    "OMS has three key member：\n",
    "\n",
    "- `bm_ws_market`  subclass of `bitmexWS`. 【行情】收行情，包括 trades, orderbook, (funding, markprice etc.)\n",
    "- `bm_ws_trading` subclass of `bitmexWS`. 【交易】监听下单回报、成交回报、持仓变动 （保证金）\n",
    "- `bm_rest` instance of `bitmexREST`. 下单函数 `place_order()`，查询函数`get_positions()`\n",
    "\n",
    "\n",
    "`bm_ws_market` subscribe `trade:XBTUSD` and override `onData()`, which do 2 things: \n",
    "1. upate the 4 members  (members: last_price, bar, prev_bar, order_book etc.)\n",
    "2. generate MARKET_EVENT when needed(eg. on_bar_close)\n",
    "\n",
    "`bm_ws_trading` subscribe `order, position, execution` and override `onData()`, which \n",
    "1. update 2 members (unfilled_order, actual_position)\n",
    "2. generate ORDER_EVENT, FILL_EVENT\n",
    "\n",
    "`bm_rest` is used to `place_order()`, do not generate or listen to or handle any event. Another function is query and check positions from WS.\n",
    "\n",
    "and one important function `trade_to_target()`, which make order placing and/or order canceling decision.\n",
    "\n",
    "> 要不这样：     \n",
    "> 把bm_ws_market和bm_rest的一个实例打包成 `bitmexDataHandler`    \n",
    "> 把 bm_ws_trading和bm_rest的另一个实例打包成  `bitmexTrader`"
   ]
  },
  {
   "cell_type": "markdown",
   "metadata": {},
   "source": [
    "### bitmexWS - Market"
   ]
  },
  {
   "cell_type": "code",
   "execution_count": 1,
   "metadata": {
    "collapsed": false
   },
   "outputs": [],
   "source": [
    "from bitmexWS import bitmexWS\n",
    "from bitmexREST import bitmexREST\n",
    "from utils import generate_logger\n",
    "\n",
    "#from qsEvent import MarketEvent\n",
    "#from qsObject import Bar\n",
    "#from utils import calculate_ts\n",
    "\n",
    "class MarketEvent(object):\n",
    "    def __init__(self, data):\n",
    "        self.etype='MARKET'\n",
    "        self.data = data\n",
    "       \n",
    "    \n",
    "class Bar(object):\n",
    "    \n",
    "    def __init__(self, **kwargs):\n",
    "        self.__dict__.update(kwargs)\n",
    "    \n",
    "    def __repr__(self):\n",
    "        return self.__dict__.__repr__()\n",
    "    \n",
    "    \n",
    "def calculate_ts(timestamp, bar_type='1m'):\n",
    "    \"\"\"bitmex-timestamp to ts. eg 2018-09-29T06:00:17.271Z -> 20180929060017\"\"\"\n",
    "    return timestamp[:16].replace('T', ' ')  # TODO: now only allow '1m'\n",
    "\n",
    "class bitmexWSMarket(bitmexWS):\n",
    "    \"\"\"bitmexWS subscribing market data (single symbol)\"\"\"\n",
    "    \n",
    "    def __init__(self, *args, **kwargs):\n",
    "        super().__init__(*args, **kwargs)\n",
    "        self.logger = generate_logger('bitmexWS_Market')\n",
    "    \n",
    "    def addEventQueue(self, q):\n",
    "        self.eventQueue = q\n",
    "\n",
    "    def subscribe(self, symbol='XBTUSD', bar_type='1m', subscribe_tick=True):\n",
    "        self.symbol = symbol\n",
    "        self.bar_type = bar_type\n",
    "        self.subscribe_tick = subscribe_tick\n",
    "        self.subscribe_topic('trade:%s' % symbol)  # TODO: subscribe more topic, such as order book\n",
    "        self._got_partial = False\n",
    "        self.last_price = None\n",
    "        \n",
    "    def wait_for_lastprice(self):\n",
    "        while self.last_price is None:\n",
    "            self.logger.debug('waiting for lastprice ...')\n",
    "            time.sleep(1)\n",
    "        \n",
    "    def onData(self, msg):\n",
    "        if self._got_partial:\n",
    "            self._handle_data(msg['data'])   # msg['data'] is a list of dict\n",
    "        else:\n",
    "            if msg['action'] == 'partial':\n",
    "                self._got_partial = True\n",
    "                self._handle_init_data(msg['data'])\n",
    "                self.logger.debug('Got partial.')\n",
    "            elif msg['action'] == 'insert':\n",
    "                self.logger.debug('drop data before partial')\n",
    "    \n",
    "    def _handle_init_data(self, data):\n",
    "        tick_d = data[-1]\n",
    "        ts = calculate_ts(tick_d['timestamp'], self.bar_type)\n",
    "        tick_price = tick_d['price']\n",
    "        self.last_price = tick_price\n",
    "        init_bar = Bar(open=tick_price, high=tick_price, low=tick_price, ts=ts)\n",
    "        self.current_bar = init_bar\n",
    "        self.logger.debug('init_bar: %s' % init_bar)\n",
    "    \n",
    "    def _handle_data(self, data):\n",
    "        # data is list of dict: [{}, {}]\n",
    "        # eg 'data': [{'symbol': 'XBTUSD', 'tickDirection': 'PlusTick', 'timestamp': '2018-09-29T06:00:17.271Z', 'price': 6484.5, 'trdMatchID': '87bd9b19-6747-c804-3eae-7a84fc7abcf8', 'foreignNotional': 30, 'grossValue': 462630, 'homeNotional': 0.0046263, 'side': 'Buy', 'size': 30}]\n",
    "        for tick_d in data:\n",
    "            self._on_tick(tick_d)\n",
    "    \n",
    "    def _on_tick(self, tick_d):\n",
    "        tick_price = tick_d['price']\n",
    "        \n",
    "        # 更新last_price\n",
    "        self.last_tick_price = self.last_price   # move:self.last_price  -> self.last_tick_price\n",
    "        self.last_price = tick_price   # **current**_tick_price\n",
    "        \n",
    "        # bar-generator\n",
    "        ts = calculate_ts(tick_d['timestamp'], self.bar_type)  # 'timestamp': '2018-09-29T06:00:17.271Z'\n",
    "        if ts > self.current_bar.ts:\n",
    "            # bar_close event\n",
    "            self.current_bar.close = self.last_tick_price            \n",
    "            self.prev_bar = self.current_bar\n",
    "            self.current_bar = Bar(open=tick_price, high=tick_price, low=tick_price, ts=ts)\n",
    "            \n",
    "            bar_close_event = MarketEvent(data={'type': 'BAR_CLOSE'})\n",
    "            self.eventQueue.put(bar_close_event)\n",
    "            self.logger.debug('bar_close event. prev_bar is %s' % self.prev_bar)\n",
    "            \n",
    "            \n",
    "            # bar_open event\n",
    "            bar_open_event = MarketEvent(data={'type': 'BAR_OPEN'})\n",
    "            self.eventQueue.put(bar_open_event)\n",
    "            self.logger.debug('bar_open event. current_bar is %s' % self.current_bar)\n",
    "        else:\n",
    "            self.current_bar.high = max(self.current_bar.high, tick_price)\n",
    "            self.current_bar.low = min(self.current_bar.low, tick_price)\n",
    "        # tick event    \n",
    "        if self.subscribe_tick:\n",
    "            tick_event = MarketEvent(data={'type':'TICK'})\n",
    "            self.eventQueue.put(tick_event)\n",
    "            self.logger.debug('tick event: last_price is %s' % tick_d['price'])\n",
    "        "
   ]
  },
  {
   "cell_type": "raw",
   "metadata": {
    "collapsed": false,
    "scrolled": true
   },
   "source": [
    "import queue\n",
    "import time\n",
    "\n",
    "\n",
    "events = queue.Queue()\n",
    "        \n",
    "bm_ws_market = bitmexWSMarket()\n",
    "bm_ws_market.addEventQueue(events)\n",
    "bm_ws_market.connect()\n",
    "bm_ws_market.subscribe('XBTUSD')\n",
    "time.sleep(60)\n",
    "bm_ws_market.exit()"
   ]
  },
  {
   "cell_type": "raw",
   "metadata": {
    "collapsed": false
   },
   "source": [
    "print(bm_ws_market.current_bar)\n",
    "print(bm_ws_market.prev_bar)\n",
    "print(bm_ws_market.last_price)   # 每一秒切个片，丢到 eventQueue，作为marketEvent,不然太频繁了"
   ]
  },
  {
   "cell_type": "raw",
   "metadata": {},
   "source": [
    "bm_ws_market.exit()"
   ]
  },
  {
   "cell_type": "markdown",
   "metadata": {},
   "source": [
    "## bitmexWSTrading"
   ]
  },
  {
   "cell_type": "code",
   "execution_count": 2,
   "metadata": {
    "collapsed": true
   },
   "outputs": [],
   "source": [
    "# summarize TODOS:\n",
    "# class bitmexWSTrading   # Done\n",
    "#   subscribe()\n",
    "#   wait_for_initial_status()\n",
    "#   actual_position\n",
    "#   unfilled_qty\n",
    "# class bitmexWSMarket   # delay. use last_price + slippage\n",
    "#   bid1, ask1\n",
    "# qsObject.py\n",
    "#   class Order"
   ]
  },
  {
   "cell_type": "code",
   "execution_count": 3,
   "metadata": {
    "collapsed": false
   },
   "outputs": [],
   "source": [
    "from bitmexWS import bitmexWS\n",
    "from bitmexREST import bitmexREST\n",
    "from utils import generate_logger\n",
    "\n",
    "\n",
    "class bitmexWSTrading(bitmexWS):\n",
    "    \"\"\"bitmex Websockt subscribing topics related to live trading\"\"\"\n",
    "    \n",
    "    def __init__(self, *args, **kwargs):\n",
    "        super().__init__(*args, **kwargs)\n",
    "        self.logger = generate_logger('bitmexWS_Trading')\n",
    "\n",
    "    def subscribe(self, symbols=('XBTUSD', 'ETHUSD')):\n",
    "        self.symbols = symbols\n",
    "        \n",
    "        self.actual_position = {s:0 for s in symbols}                    # {symbol: pos}   str:int\n",
    "        self.unfilled_qty = {s:{'Buy': 0, 'Sell': 0} for s in symbols}    # {symbol: {'Buy': qty, 'Sell': qty}}\n",
    "        \n",
    "        self._got_position_partial = False\n",
    "        \n",
    "        s = ','.join(self.symbols)\n",
    "        self.subscribe_topic('order:%s' % s)\n",
    "        self.subscribe_topic('position:%s' % s)\n",
    "        self.subscribe_topic('execution:%s' % s)\n",
    "        \n",
    "    def onData(self, msg):\n",
    "        if msg.get('table') == 'position':\n",
    "            self._on_position_msg(msg)\n",
    "        elif msg.get('table') == 'order':\n",
    "            self.__on_order_msg(msg)\n",
    "        elif msg.get('table') == 'execution':\n",
    "            self.__on_execution_msg(msg)\n",
    "    \n",
    "    def _on_position_msg(self, msg):\n",
    "        self.logger.info('Got position msg:')\n",
    "        #print('========================position==================\\n' + msg.__str__())\n",
    "        \n",
    "        #global g_msg\n",
    "        #g_msg = copy.deepcopy(msg)  ###### 将第一个遇到的msg存入全局变量，调试用\n",
    "        \n",
    "        if self._got_position_partial and msg['action'] == 'update':\n",
    "\n",
    "            if msg['data']:\n",
    "                \n",
    "                for d in msg['data']:\n",
    "                    symbol = d.get('symbol')\n",
    "                    if symbol not in self.symbols:\n",
    "                        self.logger.warning('Got position subscription of symbol: %s, not in self.symbols' % symbol)\n",
    "                        continue\n",
    "                    currentQty = d.get('currentQty')\n",
    "                    openOrderBuyQty = d.get('openOrderBuyQty', None)\n",
    "                    openOrderSellQty = d.get('openOrderSellQty', None)\n",
    "                    \n",
    "                    old_pos = self.actual_position.get(symbol)\n",
    "                    old_buy_qty = self.unfilled_qty.get(symbol, {}).get('Buy')\n",
    "                    old_sell_qty = self.unfilled_qty.get(symbol, {}).get('Sell')\n",
    "                    \n",
    "                    if old_pos != currentQty:\n",
    "                        self.actual_position[symbol] = currentQty   \n",
    "                        self.logger.info('█████ Position update (actual_position) █████ %s: %s -> %s' % (symbol, old_pos, currentQty))\n",
    "                    if openOrderBuyQty is not None:\n",
    "                        self.unfilled_qty[symbol]['Buy'] = openOrderBuyQty\n",
    "                        self.logger.info('███ Position update (unfilled_qty, Buy) ███ %s: %s -> %s' % (symbol, old_buy_qty, openOrderBuyQty))\n",
    "                    if openOrderSellQty is not None:\n",
    "                        self.unfilled_qty[symbol]['Sell'] = openOrderSellQty\n",
    "                        self.logger.info('███ Position update (unfilled_qty, Sell) ███ %s: %s -> %s' % (symbol, old_sell_qty, openOrderSellQty))\n",
    "            else:\n",
    "                self.logger.debug('#### Position update #### is []')\n",
    "            \n",
    "        elif msg['action'] == 'partial':\n",
    "            self._got_position_partial = True\n",
    "            \n",
    "            if msg['data']:\n",
    "                for d in msg['data']:\n",
    "                    symbol = d.get('symbol')\n",
    "                    if symbol not in self.symbols:\n",
    "                        self.logger.warning('Got position subscription of symbol: %s, not in self.symbols' % symbol)\n",
    "                        continue\n",
    "                    currentQty = d.get('currentQty')\n",
    "                    openOrderBuyQty = d.get('openOrderBuyQty', 0)                    \n",
    "                    openOrderSellQty = d.get('openOrderSellQty', 0)\n",
    "                    \n",
    "                    self.actual_position[symbol] = currentQty\n",
    "                    self.unfilled_qty[symbol]['Buy'] = openOrderBuyQty\n",
    "                    self.unfilled_qty[symbol]['Sell'] = openOrderSellQty\n",
    "                    \n",
    "                    txt = '%s  pos: %s, buy: %s, sell: %s' % (symbol, currentQty, openOrderBuyQty, openOrderSellQty)\n",
    "                    self.logger.debug('██████████ Position partial ██████████ %s' % txt)\n",
    "            else:\n",
    "                self.logger.debug('██████████  Position partial ██████████  is []')\n",
    "            \n",
    "        \n",
    "        \n",
    "    def __on_order_msg(self, msg):\n",
    "        self.logger.info('Got order msg')\n",
    "        #print('========================order==================\\n' + msg.__str__())\n",
    "        \n",
    "    def __on_execution_msg(self, msg):\n",
    "        self.logger.info('Got execution msg')\n",
    "        #print('========================execution==================\\n' + msg.__str__())\n",
    "            \n",
    "        \n",
    "    def wait_for_initial_status(self):\n",
    "        if self._got_position_partial:\n",
    "            return\n",
    "        else:\n",
    "            time.sleep(1)"
   ]
  },
  {
   "cell_type": "raw",
   "metadata": {
    "collapsed": false,
    "scrolled": false
   },
   "source": [
    "#import pdb; pdb.set_trace()            \n",
    "import json\n",
    "import time\n",
    "\n",
    "\n",
    "with open('accounts.json') as f:\n",
    "    acc = json.load(f)\n",
    "\n",
    "apiKey = acc[0]['apiKey']\n",
    "apiSecret = acc[0]['apiSecret']\n",
    "\n",
    "\n",
    "a = bitmexWSTrading(apiKey=apiKey, apiSecret=apiSecret)\n",
    "a.connect()\n",
    "a.subscribe(symbols=('XBTUSD',))\n",
    "a.wait_for_initial_status()\n",
    "\n",
    "print(a.actual_position)\n",
    "print(a.unfilled_qty)\n",
    "\n",
    "time.sleep(20)\n",
    "a.exit()"
   ]
  },
  {
   "cell_type": "raw",
   "metadata": {
    "collapsed": false
   },
   "source": [
    "print(a.actual_position)\n",
    "print(a.unfilled_qty)"
   ]
  },
  {
   "cell_type": "code",
   "execution_count": null,
   "metadata": {
    "collapsed": true
   },
   "outputs": [],
   "source": []
  },
  {
   "cell_type": "markdown",
   "metadata": {},
   "source": [
    "### bitmex REST"
   ]
  },
  {
   "cell_type": "raw",
   "metadata": {},
   "source": [
    "from bitmexREST import bitmexREST\n",
    "import json\n",
    "\n",
    "# 有验证的bitmexREST实例\n",
    "with open('accounts.json') as f:\n",
    "        acc = json.load(f)\n",
    "\n",
    "apiKey = acc[0]['apiKey']\n",
    "apiSecret = acc[0]['apiSecret']\n",
    "\n",
    "bm = bitmexREST(apiKey, apiSecret)"
   ]
  },
  {
   "cell_type": "raw",
   "metadata": {},
   "source": [
    "res = bm.get_positions()\n",
    "if res.ok:\n",
    "    print(res.json()[0]['symbol'], res.json()[0]['currentQty'])\n",
    "\n",
    "res = res = bm.get_open_orders()\n",
    "if res.ok:\n",
    "    print(res.json())"
   ]
  },
  {
   "cell_type": "raw",
   "metadata": {},
   "source": [
    "res = bm.place_order(symbol='XBTUSD', side='Sell', qty=10, limit_price=6700.0)\n",
    "if res.ok:\n",
    "    print(res.json())\n",
    "\n",
    "res = bm.place_order(symbol='XBTUSD', side='Buy', qty=12, limit_price=6300.0)\n",
    "if res.ok:\n",
    "    print(res.json())"
   ]
  },
  {
   "cell_type": "markdown",
   "metadata": {},
   "source": [
    "### OMS class"
   ]
  },
  {
   "cell_type": "code",
   "execution_count": 4,
   "metadata": {
    "collapsed": false
   },
   "outputs": [],
   "source": [
    "from utils import generate_logger\n",
    "\n",
    "\n",
    "class bitmexTargetPositionOMS(object):\n",
    "    \"\"\"bitmex TargetPosition-Based Order Management System\"\"\"\n",
    "    \n",
    "    def __init__(self, bm_ws_market, eventQueue, apiKey, apiSecret, symbols):\n",
    "        \n",
    "        # 日志\n",
    "        self.logger = generate_logger('OMS')\n",
    "        \n",
    "        # 绑定事件队列， 队列中只有 TARGET_POSITION_EVENT，另开一个线程来push目标仓位\n",
    "        self.eventQueue = eventQueue\n",
    "        \n",
    "        # 目标仓位 {symbol: pos}\n",
    "        self.target_position = {}\n",
    "        \n",
    "        # 标的\n",
    "        self.symbols = symbols\n",
    "        \n",
    "        # websocket-market\n",
    "        self.bm_ws_market = bm_ws_market   # 外部的，因为DataHandler同时也在用它 or 它就是DataHandler\n",
    "        \n",
    "        # websocket-trading\n",
    "        self.bm_ws_trading = bitmexWSTrading(apiKey, apiSecret)\n",
    "        self.bm_ws_trading.connect()\n",
    "        self.bm_ws_trading.subscribe(self.symbols)\n",
    "        self.bm_ws_trading.wait_for_initial_status()  # 等待的初始信息\n",
    "        self.actual_position = self.bm_ws_trading.actual_position  # 由websocket接收的信息计算出的实际仓位 `position`\n",
    "        self.unfilled_qty = self.bm_ws_trading.unfilled_qty  # 由websocket接收的信息计算出的未成交委托  `order`\n",
    "        \n",
    "        # rest\n",
    "        self.bm_rest = bitmexREST(apiKey, apiSecret)\n",
    "        \n",
    "    def exit(self):\n",
    "        self.bm_ws_trading.exit()\n",
    "        self.bm_ws_market.exit()\n",
    "        \n",
    "    def set_target_position(self, symbol, position):\n",
    "        self.target_position[symbol] = position      \n",
    "        \n",
    "    def trade_to_target(self, symbol):\n",
    "        if symbol not in self.symbols:\n",
    "            self.logger.warning('Calling `trade_to_target` but arg `symbol` is not in self.symbols\\n' + \n",
    "                                'symbol=%s\\n' + \n",
    "                                'self.symbols=%s' % (symbol, self.symbols))\n",
    "            \n",
    "        target_pos = self.target_position.get(symbol)  # int\n",
    "        actual_pos = self.actual_position.get(symbol, 0)  # int\n",
    "        \n",
    "        if target_pos is None:\n",
    "            self.logger.warning('Calling `trade_to_target()` but arg `symbol` is not in self.target_position\\n' + \n",
    "                                'symbol=%\\n' + \n",
    "                                'self.target_position=%s' % (symbol, self.target_position))\n",
    "        \n",
    "        # 这里采用比较暴力的办法：直接cancel_all_orders, 再挂目标仓位与实际仓位差值的单子\n",
    "        # 有优化的空间，eg. bitmex支持改单；\n",
    "        if target_pos == actual_pos:\n",
    "            unfilled_qty = self.unfilled_qty[symbol]  # {'Buy': 1, 'Sell': 1}\n",
    "            total_unfilled_qty = sum([abs(x) for x in unfilled_qty.values()])\n",
    "            if total_unfilled_qty == 0:\n",
    "                self.logger.info('target_pos == actual_pos && unfilled_qty is 0, nothing to do')\n",
    "            else:\n",
    "                self.bm_rest.cancel_all_order(symbol)\n",
    "        else:\n",
    "            self.bm_rest.cancel_all_orders(symbol)  # 先全撤掉\n",
    "            # 构造order\n",
    "            pos_diff = target_pos - actual_pos\n",
    "            side = 'Buy' if pos_diff > 0 else 'Sell'\n",
    "            slippage = 0.5 * 5                  # 测试：5个滑点\n",
    "            drc = 1 if side == 'Buy' else -1\n",
    "            price = self.bm_ws_market.last_price + drc * slippage\n",
    "            # 下单\n",
    "            try:\n",
    "                res = self.bm_rest.place_order(symbol=symbol, side=side, qty=abs(pos_diff), limit_price=price)\n",
    "            except Exception as e:\n",
    "                print('When placing order, an Error raise:\\n %s' % e)\n",
    "            else:                \n",
    "                if res.ok:\n",
    "                    self.logger.info('Successfully Place Order:\\n%s' % res.json())\n",
    "                else:\n",
    "                    self.logger.info('Placeing Order Failed:\\n%s' % res.json())\n",
    "                \n",
    "    def _check_actual_position_with_rest(self):\n",
    "        \"\"\"use REST api to query actual_position, check it with self.actual_position. Use a Thread to do this\"\"\"\n",
    "        pass"
   ]
  },
  {
   "cell_type": "code",
   "execution_count": null,
   "metadata": {
    "collapsed": true
   },
   "outputs": [],
   "source": []
  },
  {
   "cell_type": "code",
   "execution_count": 5,
   "metadata": {
    "collapsed": false,
    "scrolled": true
   },
   "outputs": [
    {
     "name": "stderr",
     "output_type": "stream",
     "text": [
      "[2018-10-05 15:22:22 bitmexWS_Market INFO] ws thread start\n",
      "[2018-10-05 15:22:24 bitmexWS_Market DEBUG] Calling ws.__on_open()\n",
      "[2018-10-05 15:22:24 bitmexWS_Market INFO] Successful connected to BitMEX WebSocket API\n",
      "[2018-10-05 15:22:24 bitmexWS_Market DEBUG] >>> send ping\n",
      "[2018-10-05 15:22:24 bitmexWS_Market DEBUG] waiting for lastprice ...\n",
      "[2018-10-05 15:22:24 bitmexWS_Market INFO] Subscribe to trade:XBTUSD\n",
      "[2018-10-05 15:22:24 bitmexWS_Market DEBUG] init_bar: {'low': 6544, 'high': 6544, 'open': 6544, 'ts': '2018-10-05 07:22'}\n",
      "[2018-10-05 15:22:24 bitmexWS_Market DEBUG] Got partial.\n",
      "[2018-10-05 15:22:25 bitmexWS_Trading INFO] ws thread start\n",
      "[2018-10-05 15:22:27 bitmexWS_Trading DEBUG] Calling ws.__on_open()\n",
      "[2018-10-05 15:22:27 bitmexWS_Trading INFO] Successful connected to BitMEX WebSocket API\n",
      "[2018-10-05 15:22:27 bitmexWS_Trading DEBUG] >>> send ping\n",
      "[2018-10-05 15:22:28 bitmexWS_Trading INFO] Subscribe to order:XBTUSD\n",
      "[2018-10-05 15:22:28 bitmexWS_Trading INFO] Subscribe to position:XBTUSD\n",
      "[2018-10-05 15:22:28 bitmexWS_Trading INFO] Subscribe to execution:XBTUSD\n",
      "[2018-10-05 15:22:28 bitmexWS_Trading INFO] Got order msg\n",
      "[2018-10-05 15:22:28 bitmexWS_Trading INFO] Got position msg:\n",
      "[2018-10-05 15:22:28 bitmexWS_Trading DEBUG] ██████████ Position partial ██████████ XBTUSD  pos: 7, buy: 0, sell: 0\n",
      "[2018-10-05 15:22:28 bitmexWS_Trading INFO] Got execution msg\n",
      "[2018-10-05 15:22:28 bitmexREST INFO] Canceling All Orders... symbol=XBTUSD, side=None\n"
     ]
    },
    {
     "name": "stdout",
     "output_type": "stream",
     "text": [
      "▲▲▲▲▲ target_posion: {'XBTUSD': 3} ▲▲▲▲▲\n"
     ]
    },
    {
     "name": "stderr",
     "output_type": "stream",
     "text": [
      "[2018-10-05 15:22:29 bitmexWS_Market DEBUG] >>> send ping\n",
      "[2018-10-05 15:22:30 bitmexREST INFO] Placing Order... post_dict is {'text': '[API][2018-10-05 15:22:30.645134] ', 'orderQty': 4, 'price': 6541.5, 'symbol': 'XBTUSD', 'side': 'Sell', 'clOrdID': 1538724150645130, 'ordType': 'Limit'}\n",
      "[2018-10-05 15:22:32 bitmexWS_Trading INFO] Got position msg:\n",
      "[2018-10-05 15:22:32 bitmexWS_Trading INFO] Got order msg\n",
      "[2018-10-05 15:22:32 OMS INFO] Successfully Place Order:\n",
      "{'timestamp': '2018-10-05T07:22:32.064Z', 'leavesQty': 0, 'cumQty': 4, 'simpleOrderQty': None, 'price': 6541.5, 'transactTime': '2018-10-05T07:22:32.064Z', 'clOrdID': '1538724150645130', 'side': 'Sell', 'settlCurrency': 'XBt', 'ordType': 'Limit', 'workingIndicator': False, 'symbol': 'XBTUSD', 'pegOffsetValue': None, 'orderQty': 4, 'orderID': '04730b85-d41d-7029-d769-fd4961e525c0', 'stopPx': None, 'execInst': '', 'triggered': '', 'clOrdLinkID': '', 'exDestination': 'XBME', 'simpleLeavesQty': 0, 'contingencyType': '', 'multiLegReportingType': 'SingleSecurity', 'currency': 'USD', 'ordStatus': 'Filled', 'pegPriceType': '', 'avgPx': 6544, 'displayQty': None, 'simpleCumQty': 0.00061036, 'ordRejReason': '', 'timeInForce': 'GoodTillCancel', 'text': '[API][2018-10-05 15:22:30.645134]', 'account': 101488}\n",
      "[2018-10-05 15:22:32 bitmexWS_Trading INFO] Got position msg:\n",
      "[2018-10-05 15:22:32 bitmexWS_Trading INFO] ███ Position update (unfilled_qty, Sell) ███ XBTUSD: 0 -> 4\n",
      "[2018-10-05 15:22:32 bitmexWS_Trading INFO] Got position msg:\n",
      "[2018-10-05 15:22:32 bitmexWS_Trading INFO] █████ Position update (actual_position) █████ XBTUSD: 7 -> 3\n",
      "[2018-10-05 15:22:32 bitmexWS_Trading INFO] ███ Position update (unfilled_qty, Sell) ███ XBTUSD: 4 -> 0\n",
      "[2018-10-05 15:22:32 bitmexWS_Market DEBUG] tick event: last_price is 6544[2018-10-05 15:22:32 bitmexWS_Trading INFO] Got execution msg\n",
      "\n",
      "[2018-10-05 15:22:32 bitmexWS_Trading INFO] Got order msg\n",
      "[2018-10-05 15:22:32 bitmexWS_Trading INFO] Got execution msg\n",
      "[2018-10-05 15:22:32 bitmexWS_Trading INFO] Got order msg\n",
      "[2018-10-05 15:22:32 bitmexWS_Trading DEBUG] >>> send ping\n"
     ]
    },
    {
     "name": "stdout",
     "output_type": "stream",
     "text": [
      "Event: <__main__.MarketEvent object at 0x107a21ba8>\n"
     ]
    },
    {
     "name": "stderr",
     "output_type": "stream",
     "text": [
      "[2018-10-05 15:22:34 bitmexWS_Market DEBUG] >>> send ping\n",
      "[2018-10-05 15:22:37 bitmexREST INFO] Canceling All Orders... symbol=XBTUSD, side=None\n"
     ]
    },
    {
     "name": "stdout",
     "output_type": "stream",
     "text": [
      "▲▲▲▲▲ target_posion: {'XBTUSD': 1} ▲▲▲▲▲\n"
     ]
    },
    {
     "name": "stderr",
     "output_type": "stream",
     "text": [
      "[2018-10-05 15:22:37 bitmexWS_Trading INFO] Got position msg:\n",
      "[2018-10-05 15:22:37 bitmexWS_Trading DEBUG] >>> send ping\n",
      "[2018-10-05 15:22:38 bitmexREST INFO] Placing Order... post_dict is {'text': '[API][2018-10-05 15:22:38.979639] ', 'orderQty': 2, 'price': 6541.5, 'symbol': 'XBTUSD', 'side': 'Sell', 'clOrdID': 1538724158979634, 'ordType': 'Limit'}\n",
      "[2018-10-05 15:22:39 bitmexWS_Market DEBUG] >>> send ping\n",
      "[2018-10-05 15:22:40 bitmexWS_Trading INFO] Got order msg\n",
      "[2018-10-05 15:22:40 OMS INFO] Successfully Place Order:\n",
      "{'timestamp': '2018-10-05T07:22:40.369Z', 'leavesQty': 0, 'cumQty': 2, 'simpleOrderQty': None, 'price': 6541.5, 'transactTime': '2018-10-05T07:22:40.369Z', 'clOrdID': '1538724158979634', 'side': 'Sell', 'settlCurrency': 'XBt', 'ordType': 'Limit', 'workingIndicator': False, 'symbol': 'XBTUSD', 'pegOffsetValue': None, 'orderQty': 2, 'orderID': 'ff5243ec-57e9-899d-fbcb-773286a0adfb', 'stopPx': None, 'execInst': '', 'triggered': '', 'clOrdLinkID': '', 'exDestination': 'XBME', 'simpleLeavesQty': 0, 'contingencyType': '', 'multiLegReportingType': 'SingleSecurity', 'currency': 'USD', 'ordStatus': 'Filled', 'pegPriceType': '', 'avgPx': 6544, 'displayQty': None, 'simpleCumQty': 0.00030518, 'ordRejReason': '', 'timeInForce': 'GoodTillCancel', 'text': '[API][2018-10-05 15:22:38.979639]', 'account': 101488}\n",
      "[2018-10-05 15:22:40 bitmexWS_Trading INFO] Got execution msg\n",
      "[2018-10-05 15:22:40 bitmexWS_Trading INFO] Got order msg\n",
      "[2018-10-05 15:22:40 bitmexWS_Trading INFO] Got execution msg\n",
      "[2018-10-05 15:22:40 bitmexWS_Trading INFO] Got order msg\n",
      "[2018-10-05 15:22:40 bitmexWS_Trading INFO] Got position msg:\n",
      "[2018-10-05 15:22:40 bitmexWS_Trading INFO] ███ Position update (unfilled_qty, Sell) ███ XBTUSD: 0 -> 2\n",
      "[2018-10-05 15:22:40 bitmexWS_Market DEBUG] tick event: last_price is 6544\n",
      "[2018-10-05 15:22:40 bitmexWS_Trading INFO] Got position msg:\n",
      "[2018-10-05 15:22:40 bitmexWS_Trading INFO] █████ Position update (actual_position) █████ XBTUSD: 3 -> 1\n",
      "[2018-10-05 15:22:40 bitmexWS_Trading INFO] ███ Position update (unfilled_qty, Sell) ███ XBTUSD: 2 -> 0\n"
     ]
    },
    {
     "name": "stdout",
     "output_type": "stream",
     "text": [
      "Event: <__main__.MarketEvent object at 0x107a21dd8>\n"
     ]
    },
    {
     "name": "stderr",
     "output_type": "stream",
     "text": [
      "[2018-10-05 15:22:42 bitmexWS_Trading INFO] Got position msg:\n",
      "[2018-10-05 15:22:42 bitmexWS_Trading DEBUG] >>> send ping\n",
      "[2018-10-05 15:22:44 bitmexWS_Market DEBUG] >>> send ping\n",
      "[2018-10-05 15:22:47 bitmexWS_Trading DEBUG] >>> send ping\n",
      "[2018-10-05 15:22:49 bitmexWS_Market DEBUG] >>> send ping\n",
      "[2018-10-05 15:22:52 bitmexWS_Trading INFO] Got position msg:\n",
      "[2018-10-05 15:22:52 bitmexREST INFO] Canceling All Orders... symbol=XBTUSD, side=None\n"
     ]
    },
    {
     "name": "stdout",
     "output_type": "stream",
     "text": [
      "▲▲▲▲▲ target_posion: {'XBTUSD': 4} ▲▲▲▲▲\n"
     ]
    },
    {
     "name": "stderr",
     "output_type": "stream",
     "text": [
      "[2018-10-05 15:22:52 bitmexWS_Trading DEBUG] >>> send ping\n",
      "[2018-10-05 15:22:54 bitmexWS_Market DEBUG] >>> send ping\n",
      "[2018-10-05 15:22:54 bitmexREST INFO] Placing Order... post_dict is {'text': '[API][2018-10-05 15:22:54.362048] ', 'orderQty': 3, 'price': 6546.5, 'symbol': 'XBTUSD', 'side': 'Buy', 'clOrdID': 1538724174362045, 'ordType': 'Limit'}\n",
      "[2018-10-05 15:22:55 bitmexWS_Trading INFO] Got order msg\n",
      "[2018-10-05 15:22:55 bitmexWS_Trading INFO] Got execution msg\n",
      "[2018-10-05 15:22:55 OMS INFO] Successfully Place Order:\n",
      "{'timestamp': '2018-10-05T07:22:55.755Z', 'leavesQty': 0, 'cumQty': 3, 'simpleOrderQty': None, 'price': 6546.5, 'transactTime': '2018-10-05T07:22:55.755Z', 'clOrdID': '1538724174362045', 'side': 'Buy', 'settlCurrency': 'XBt', 'ordType': 'Limit', 'workingIndicator': False, 'symbol': 'XBTUSD', 'pegOffsetValue': None, 'orderQty': 3, 'orderID': 'aa461bb1-49a2-56e8-38c0-2d0f128e850c', 'stopPx': None, 'execInst': '', 'triggered': '', 'clOrdLinkID': '', 'exDestination': 'XBME', 'simpleLeavesQty': 0, 'contingencyType': '', 'multiLegReportingType': 'SingleSecurity', 'currency': 'USD', 'ordStatus': 'Filled', 'pegPriceType': '', 'avgPx': 6544.5, 'displayQty': None, 'simpleCumQty': 0.0004584, 'ordRejReason': '', 'timeInForce': 'GoodTillCancel', 'text': '[API][2018-10-05 15:22:54.362048]', 'account': 101488}\n",
      "[2018-10-05 15:22:55 bitmexWS_Trading INFO] Got order msg\n",
      "[2018-10-05 15:22:55 bitmexWS_Trading INFO] Got execution msg\n",
      "[2018-10-05 15:22:55 bitmexWS_Market DEBUG] tick event: last_price is 6544.5\n",
      "[2018-10-05 15:22:56 bitmexWS_Trading INFO] Got order msg\n",
      "[2018-10-05 15:22:56 bitmexWS_Trading INFO] Got position msg:\n",
      "[2018-10-05 15:22:56 bitmexWS_Trading INFO] ███ Position update (unfilled_qty, Buy) ███ XBTUSD: 0 -> 3\n",
      "[2018-10-05 15:22:56 bitmexWS_Trading INFO] Got position msg:\n",
      "[2018-10-05 15:22:56 bitmexWS_Trading INFO] █████ Position update (actual_position) █████ XBTUSD: 1 -> 4\n",
      "[2018-10-05 15:22:56 bitmexWS_Trading INFO] ███ Position update (unfilled_qty, Buy) ███ XBTUSD: 3 -> 0\n"
     ]
    },
    {
     "name": "stdout",
     "output_type": "stream",
     "text": [
      "Event: <__main__.MarketEvent object at 0x107a1e908>\n"
     ]
    },
    {
     "name": "stderr",
     "output_type": "stream",
     "text": [
      "[2018-10-05 15:22:57 bitmexWS_Trading DEBUG] >>> send ping\n",
      "[2018-10-05 15:22:59 bitmexWS_Market DEBUG] >>> send ping\n",
      "[2018-10-05 15:23:01 bitmexWS_Trading INFO] Got position msg:\n",
      "[2018-10-05 15:23:02 bitmexWS_Trading INFO] Got position msg:\n",
      "[2018-10-05 15:23:02 bitmexWS_Trading DEBUG] >>> send ping\n",
      "[2018-10-05 15:23:03 bitmexWS_Market DEBUG] bar_close event. prev_bar is {'low': 6544, 'high': 6544.5, 'open': 6544, 'ts': '2018-10-05 07:22', 'close': 6544.5}\n",
      "[2018-10-05 15:23:03 bitmexWS_Market DEBUG] bar_open event. current_bar is {'low': 6544, 'high': 6544, 'open': 6544, 'ts': '2018-10-05 07:23'}\n",
      "[2018-10-05 15:23:03 bitmexWS_Market DEBUG] tick event: last_price is 6544\n"
     ]
    },
    {
     "name": "stdout",
     "output_type": "stream",
     "text": [
      "Event: <__main__.MarketEvent object at 0x107a1e240>\n",
      "Event: <__main__.MarketEvent object at 0x107a1e048>\n",
      "Event: <__main__.MarketEvent object at 0x107a1ee48>\n"
     ]
    },
    {
     "name": "stderr",
     "output_type": "stream",
     "text": [
      "[2018-10-05 15:23:04 bitmexWS_Market DEBUG] >>> send ping\n",
      "[2018-10-05 15:23:07 OMS INFO] target_pos == actual_pos && unfilled_qty is 0, nothing to do\n"
     ]
    },
    {
     "name": "stdout",
     "output_type": "stream",
     "text": [
      "▲▲▲▲▲ target_posion: {'XBTUSD': 4} ▲▲▲▲▲\n"
     ]
    },
    {
     "name": "stderr",
     "output_type": "stream",
     "text": [
      "[2018-10-05 15:23:07 bitmexWS_Trading DEBUG] >>> send ping\n",
      "[2018-10-05 15:23:09 bitmexWS_Market DEBUG] >>> send ping\n",
      "[2018-10-05 15:23:12 bitmexWS_Trading INFO] Got position msg:\n",
      "[2018-10-05 15:23:12 bitmexWS_Trading DEBUG] >>> send ping\n",
      "[2018-10-05 15:23:14 bitmexWS_Market DEBUG] >>> send ping\n",
      "[2018-10-05 15:23:17 bitmexWS_Trading DEBUG] >>> send ping\n",
      "[2018-10-05 15:23:19 bitmexWS_Market DEBUG] >>> send ping\n",
      "[2018-10-05 15:23:20 bitmexWS_Market DEBUG] tick event: last_price is 6544.5\n",
      "[2018-10-05 15:23:20 bitmexWS_Market DEBUG] tick event: last_price is 6544.5\n",
      "[2018-10-05 15:23:20 bitmexWS_Market DEBUG] tick event: last_price is 6544.5\n"
     ]
    },
    {
     "name": "stdout",
     "output_type": "stream",
     "text": [
      "Event: <__main__.MarketEvent object at 0x107a1ef28>\n",
      "Event: <__main__.MarketEvent object at 0x107a21d68>\n",
      "Event: <__main__.MarketEvent object at 0x107a21c88>\n"
     ]
    },
    {
     "name": "stderr",
     "output_type": "stream",
     "text": [
      "[2018-10-05 15:23:22 bitmexWS_Trading INFO] Got position msg:\n",
      "[2018-10-05 15:23:22 bitmexREST INFO] Canceling All Orders... symbol=XBTUSD, side=None\n"
     ]
    },
    {
     "name": "stdout",
     "output_type": "stream",
     "text": [
      "▲▲▲▲▲ target_posion: {'XBTUSD': -8} ▲▲▲▲▲\n"
     ]
    },
    {
     "name": "stderr",
     "output_type": "stream",
     "text": [
      "[2018-10-05 15:23:22 bitmexWS_Trading DEBUG] >>> send ping\n",
      "[2018-10-05 15:23:24 bitmexWS_Market DEBUG] >>> send ping\n",
      "[2018-10-05 15:23:24 bitmexREST INFO] Placing Order... post_dict is {'text': '[API][2018-10-05 15:23:24.425978] ', 'orderQty': 12, 'price': 6542.0, 'symbol': 'XBTUSD', 'side': 'Sell', 'clOrdID': 1538724204425968, 'ordType': 'Limit'}\n",
      "[2018-10-05 15:23:26 bitmexWS_Trading INFO] Got order msg\n",
      "[2018-10-05 15:23:26 OMS INFO] Successfully Place Order:\n",
      "{'timestamp': '2018-10-05T07:23:25.795Z', 'leavesQty': 0, 'cumQty': 12, 'simpleOrderQty': None, 'price': 6542, 'transactTime': '2018-10-05T07:23:25.795Z', 'clOrdID': '1538724204425968', 'side': 'Sell', 'settlCurrency': 'XBt', 'ordType': 'Limit', 'workingIndicator': False, 'symbol': 'XBTUSD', 'pegOffsetValue': None, 'orderQty': 12, 'orderID': '95607ff8-2c14-979a-4770-1ce4ba85b0a6', 'stopPx': None, 'execInst': '', 'triggered': '', 'clOrdLinkID': '', 'exDestination': 'XBME', 'simpleLeavesQty': 0, 'contingencyType': '', 'multiLegReportingType': 'SingleSecurity', 'currency': 'USD', 'ordStatus': 'Filled', 'pegPriceType': '', 'avgPx': 6544, 'displayQty': None, 'simpleCumQty': 0.00183288, 'ordRejReason': '', 'timeInForce': 'GoodTillCancel', 'text': '[API][2018-10-05 15:23:24.425978]', 'account': 101488}\n",
      "[2018-10-05 15:23:26 bitmexWS_Trading INFO] Got execution msg\n",
      "[2018-10-05 15:23:26 bitmexWS_Market DEBUG] tick event: last_price is 6544[2018-10-05 15:23:26 bitmexWS_Trading INFO] Got order msg\n",
      "\n",
      "[2018-10-05 15:23:26 bitmexWS_Trading INFO] Got position msg:\n",
      "[2018-10-05 15:23:26 bitmexWS_Trading INFO] ███ Position update (unfilled_qty, Sell) ███ XBTUSD: 0 -> 12\n",
      "[2018-10-05 15:23:26 bitmexWS_Trading INFO] Got execution msg\n",
      "[2018-10-05 15:23:26 bitmexWS_Trading INFO] Got order msg\n",
      "[2018-10-05 15:23:26 bitmexWS_Trading INFO] Got position msg:\n",
      "[2018-10-05 15:23:26 bitmexWS_Trading INFO] █████ Position update (actual_position) █████ XBTUSD: 4 -> -8\n",
      "[2018-10-05 15:23:26 bitmexWS_Trading INFO] ███ Position update (unfilled_qty, Sell) ███ XBTUSD: 12 -> 0\n"
     ]
    },
    {
     "name": "stdout",
     "output_type": "stream",
     "text": [
      "Event: <__main__.MarketEvent object at 0x107a49898>\n"
     ]
    },
    {
     "name": "stderr",
     "output_type": "stream",
     "text": [
      "[2018-10-05 15:23:27 bitmexWS_Trading DEBUG] >>> send ping\n",
      "[2018-10-05 15:23:29 bitmexWS_Market DEBUG] >>> send ping\n",
      "[2018-10-05 15:23:32 bitmexWS_Trading INFO] Got position msg:\n",
      "[2018-10-05 15:23:32 bitmexWS_Trading DEBUG] >>> send ping\n",
      "[2018-10-05 15:23:34 bitmexWS_Market DEBUG] >>> send ping\n",
      "[2018-10-05 15:23:37 bitmexREST INFO] Canceling All Orders... symbol=XBTUSD, side=None\n"
     ]
    },
    {
     "name": "stdout",
     "output_type": "stream",
     "text": [
      "▲▲▲▲▲ target_posion: {'XBTUSD': 8} ▲▲▲▲▲\n"
     ]
    },
    {
     "name": "stderr",
     "output_type": "stream",
     "text": [
      "[2018-10-05 15:23:37 bitmexWS_Trading DEBUG] >>> send ping\n",
      "[2018-10-05 15:23:39 bitmexREST INFO] Placing Order... post_dict is {'text': '[API][2018-10-05 15:23:39.191370] ', 'orderQty': 16, 'price': 6546.5, 'symbol': 'XBTUSD', 'side': 'Buy', 'clOrdID': 1538724219191366, 'ordType': 'Limit'}\n",
      "[2018-10-05 15:23:39 bitmexWS_Market DEBUG] >>> send ping\n"
     ]
    },
    {
     "ename": "KeyboardInterrupt",
     "evalue": "",
     "output_type": "error",
     "traceback": [
      "\u001b[0;31m---------------------------------------------------------------------------\u001b[0m",
      "\u001b[0;31mKeyboardInterrupt\u001b[0m                         Traceback (most recent call last)",
      "\u001b[0;32m<ipython-input-5-ba8bda28b09d>\u001b[0m in \u001b[0;36m<module>\u001b[0;34m()\u001b[0m\n\u001b[1;32m     74\u001b[0m                 \u001b[0moms\u001b[0m\u001b[0;34m.\u001b[0m\u001b[0mset_target_position\u001b[0m\u001b[0;34m(\u001b[0m\u001b[0msym\u001b[0m\u001b[0;34m,\u001b[0m \u001b[0mpos\u001b[0m\u001b[0;34m)\u001b[0m  \u001b[0;31m# 设定目标仓位\u001b[0m\u001b[0;34m\u001b[0m\u001b[0m\n\u001b[1;32m     75\u001b[0m                 \u001b[0mprint\u001b[0m\u001b[0;34m(\u001b[0m\u001b[0;34m'▲▲▲▲▲ target_posion: %s ▲▲▲▲▲'\u001b[0m \u001b[0;34m%\u001b[0m \u001b[0;34m(\u001b[0m\u001b[0moms\u001b[0m\u001b[0;34m.\u001b[0m\u001b[0mtarget_position\u001b[0m\u001b[0;34m)\u001b[0m\u001b[0;34m)\u001b[0m\u001b[0;34m\u001b[0m\u001b[0m\n\u001b[0;32m---> 76\u001b[0;31m             \u001b[0moms\u001b[0m\u001b[0;34m.\u001b[0m\u001b[0mtrade_to_target\u001b[0m\u001b[0;34m(\u001b[0m\u001b[0msymbol\u001b[0m\u001b[0;34m)\u001b[0m    \u001b[0;31m# 交易\u001b[0m\u001b[0;34m\u001b[0m\u001b[0m\n\u001b[0m\u001b[1;32m     77\u001b[0m         \u001b[0;32melse\u001b[0m\u001b[0;34m:\u001b[0m\u001b[0;34m\u001b[0m\u001b[0m\n\u001b[1;32m     78\u001b[0m             \u001b[0mprint\u001b[0m\u001b[0;34m(\u001b[0m\u001b[0;34m'Event: %s'\u001b[0m \u001b[0;34m%\u001b[0m \u001b[0mevent\u001b[0m\u001b[0;34m)\u001b[0m\u001b[0;34m\u001b[0m\u001b[0m\n",
      "\u001b[0;32m<ipython-input-4-6ddb4aa4120c>\u001b[0m in \u001b[0;36mtrade_to_target\u001b[0;34m(self, symbol)\u001b[0m\n\u001b[1;32m     73\u001b[0m             \u001b[0;31m# 下单\u001b[0m\u001b[0;34m\u001b[0m\u001b[0;34m\u001b[0m\u001b[0m\n\u001b[1;32m     74\u001b[0m             \u001b[0;32mtry\u001b[0m\u001b[0;34m:\u001b[0m\u001b[0;34m\u001b[0m\u001b[0m\n\u001b[0;32m---> 75\u001b[0;31m                 \u001b[0mres\u001b[0m \u001b[0;34m=\u001b[0m \u001b[0mself\u001b[0m\u001b[0;34m.\u001b[0m\u001b[0mbm_rest\u001b[0m\u001b[0;34m.\u001b[0m\u001b[0mplace_order\u001b[0m\u001b[0;34m(\u001b[0m\u001b[0msymbol\u001b[0m\u001b[0;34m=\u001b[0m\u001b[0msymbol\u001b[0m\u001b[0;34m,\u001b[0m \u001b[0mside\u001b[0m\u001b[0;34m=\u001b[0m\u001b[0mside\u001b[0m\u001b[0;34m,\u001b[0m \u001b[0mqty\u001b[0m\u001b[0;34m=\u001b[0m\u001b[0mabs\u001b[0m\u001b[0;34m(\u001b[0m\u001b[0mpos_diff\u001b[0m\u001b[0;34m)\u001b[0m\u001b[0;34m,\u001b[0m \u001b[0mlimit_price\u001b[0m\u001b[0;34m=\u001b[0m\u001b[0mprice\u001b[0m\u001b[0;34m)\u001b[0m\u001b[0;34m\u001b[0m\u001b[0m\n\u001b[0m\u001b[1;32m     76\u001b[0m             \u001b[0;32mexcept\u001b[0m \u001b[0mException\u001b[0m \u001b[0;32mas\u001b[0m \u001b[0me\u001b[0m\u001b[0;34m:\u001b[0m\u001b[0;34m\u001b[0m\u001b[0m\n\u001b[1;32m     77\u001b[0m                 \u001b[0mprint\u001b[0m\u001b[0;34m(\u001b[0m\u001b[0;34m'When placing order, an Error raise:\\n %s'\u001b[0m \u001b[0;34m%\u001b[0m \u001b[0me\u001b[0m\u001b[0;34m)\u001b[0m\u001b[0;34m\u001b[0m\u001b[0m\n",
      "\u001b[0;32m/Users/jiaru2014/Desktop/qsed/bitmex/bitmexREST.py\u001b[0m in \u001b[0;36mplace_order\u001b[0;34m(self, symbol, side, qty, limit_price, text)\u001b[0m\n\u001b[1;32m     42\u001b[0m         \u001b[0mself\u001b[0m\u001b[0;34m.\u001b[0m\u001b[0mclientOrderID\u001b[0m \u001b[0;34m+=\u001b[0m \u001b[0;36m1\u001b[0m\u001b[0;34m\u001b[0m\u001b[0m\n\u001b[1;32m     43\u001b[0m         \u001b[0mself\u001b[0m\u001b[0;34m.\u001b[0m\u001b[0mlogger\u001b[0m\u001b[0;34m.\u001b[0m\u001b[0minfo\u001b[0m\u001b[0;34m(\u001b[0m\u001b[0;34m'Placing Order... post_dict is %s'\u001b[0m \u001b[0;34m%\u001b[0m \u001b[0mpost_dict\u001b[0m\u001b[0;34m)\u001b[0m\u001b[0;34m\u001b[0m\u001b[0m\n\u001b[0;32m---> 44\u001b[0;31m         \u001b[0;32mreturn\u001b[0m \u001b[0mself\u001b[0m\u001b[0;34m.\u001b[0m\u001b[0m_send_http_request\u001b[0m\u001b[0;34m(\u001b[0m\u001b[0;34m'POST'\u001b[0m\u001b[0;34m,\u001b[0m \u001b[0mpath\u001b[0m\u001b[0;34m,\u001b[0m \u001b[0mpost_dict\u001b[0m\u001b[0;34m)\u001b[0m\u001b[0;34m\u001b[0m\u001b[0m\n\u001b[0m\u001b[1;32m     45\u001b[0m \u001b[0;34m\u001b[0m\u001b[0m\n\u001b[1;32m     46\u001b[0m     \u001b[0;32mdef\u001b[0m \u001b[0mcancel_order\u001b[0m\u001b[0;34m(\u001b[0m\u001b[0mself\u001b[0m\u001b[0;34m,\u001b[0m \u001b[0morderID\u001b[0m\u001b[0;34m=\u001b[0m\u001b[0;32mNone\u001b[0m\u001b[0;34m,\u001b[0m \u001b[0mclOrdID\u001b[0m\u001b[0;34m=\u001b[0m\u001b[0;32mNone\u001b[0m\u001b[0;34m,\u001b[0m \u001b[0mtext\u001b[0m\u001b[0;34m=\u001b[0m\u001b[0;34m''\u001b[0m\u001b[0;34m)\u001b[0m\u001b[0;34m:\u001b[0m\u001b[0;34m\u001b[0m\u001b[0m\n",
      "\u001b[0;32m/Users/jiaru2014/Desktop/qsed/bitmex/bitmexREST.py\u001b[0m in \u001b[0;36m_send_http_request\u001b[0;34m(self, verb, path, postdict, query)\u001b[0m\n\u001b[1;32m     25\u001b[0m         \u001b[0murl\u001b[0m \u001b[0;34m=\u001b[0m \u001b[0mself\u001b[0m\u001b[0;34m.\u001b[0m\u001b[0mbase_url\u001b[0m \u001b[0;34m+\u001b[0m \u001b[0mpath\u001b[0m\u001b[0;34m\u001b[0m\u001b[0m\n\u001b[1;32m     26\u001b[0m         \u001b[0mauth\u001b[0m \u001b[0;34m=\u001b[0m \u001b[0mAPIKeyAuthWithExpires\u001b[0m\u001b[0;34m(\u001b[0m\u001b[0mself\u001b[0m\u001b[0;34m.\u001b[0m\u001b[0mapiKey\u001b[0m\u001b[0;34m,\u001b[0m \u001b[0mself\u001b[0m\u001b[0;34m.\u001b[0m\u001b[0mapiSecret\u001b[0m\u001b[0;34m)\u001b[0m\u001b[0;34m\u001b[0m\u001b[0m\n\u001b[0;32m---> 27\u001b[0;31m         \u001b[0;32mreturn\u001b[0m \u001b[0mrequests\u001b[0m\u001b[0;34m.\u001b[0m\u001b[0mrequest\u001b[0m\u001b[0;34m(\u001b[0m\u001b[0mverb\u001b[0m\u001b[0;34m,\u001b[0m \u001b[0murl\u001b[0m\u001b[0;34m,\u001b[0m \u001b[0mjson\u001b[0m\u001b[0;34m=\u001b[0m\u001b[0mpostdict\u001b[0m\u001b[0;34m,\u001b[0m \u001b[0mparams\u001b[0m\u001b[0;34m=\u001b[0m\u001b[0mquery\u001b[0m\u001b[0;34m,\u001b[0m \u001b[0mauth\u001b[0m\u001b[0;34m=\u001b[0m\u001b[0mauth\u001b[0m\u001b[0;34m)\u001b[0m\u001b[0;34m\u001b[0m\u001b[0m\n\u001b[0m\u001b[1;32m     28\u001b[0m \u001b[0;34m\u001b[0m\u001b[0m\n\u001b[1;32m     29\u001b[0m     \u001b[0;32mdef\u001b[0m \u001b[0mplace_order\u001b[0m\u001b[0;34m(\u001b[0m\u001b[0mself\u001b[0m\u001b[0;34m,\u001b[0m \u001b[0msymbol\u001b[0m\u001b[0;34m,\u001b[0m \u001b[0mside\u001b[0m\u001b[0;34m,\u001b[0m \u001b[0mqty\u001b[0m\u001b[0;34m,\u001b[0m \u001b[0mlimit_price\u001b[0m\u001b[0;34m,\u001b[0m \u001b[0mtext\u001b[0m\u001b[0;34m=\u001b[0m\u001b[0;34m''\u001b[0m\u001b[0;34m)\u001b[0m\u001b[0;34m:\u001b[0m\u001b[0;34m\u001b[0m\u001b[0m\n",
      "\u001b[0;32m/Users/jiaru2014/anaconda3/lib/python3.5/site-packages/requests/api.py\u001b[0m in \u001b[0;36mrequest\u001b[0;34m(method, url, **kwargs)\u001b[0m\n\u001b[1;32m     56\u001b[0m     \u001b[0;31m# cases, and look like a memory leak in others.\u001b[0m\u001b[0;34m\u001b[0m\u001b[0;34m\u001b[0m\u001b[0m\n\u001b[1;32m     57\u001b[0m     \u001b[0;32mwith\u001b[0m \u001b[0msessions\u001b[0m\u001b[0;34m.\u001b[0m\u001b[0mSession\u001b[0m\u001b[0;34m(\u001b[0m\u001b[0;34m)\u001b[0m \u001b[0;32mas\u001b[0m \u001b[0msession\u001b[0m\u001b[0;34m:\u001b[0m\u001b[0;34m\u001b[0m\u001b[0m\n\u001b[0;32m---> 58\u001b[0;31m         \u001b[0;32mreturn\u001b[0m \u001b[0msession\u001b[0m\u001b[0;34m.\u001b[0m\u001b[0mrequest\u001b[0m\u001b[0;34m(\u001b[0m\u001b[0mmethod\u001b[0m\u001b[0;34m=\u001b[0m\u001b[0mmethod\u001b[0m\u001b[0;34m,\u001b[0m \u001b[0murl\u001b[0m\u001b[0;34m=\u001b[0m\u001b[0murl\u001b[0m\u001b[0;34m,\u001b[0m \u001b[0;34m**\u001b[0m\u001b[0mkwargs\u001b[0m\u001b[0;34m)\u001b[0m\u001b[0;34m\u001b[0m\u001b[0m\n\u001b[0m\u001b[1;32m     59\u001b[0m \u001b[0;34m\u001b[0m\u001b[0m\n\u001b[1;32m     60\u001b[0m \u001b[0;34m\u001b[0m\u001b[0m\n",
      "\u001b[0;32m/Users/jiaru2014/anaconda3/lib/python3.5/site-packages/requests/sessions.py\u001b[0m in \u001b[0;36mrequest\u001b[0;34m(self, method, url, params, data, headers, cookies, files, auth, timeout, allow_redirects, proxies, hooks, stream, verify, cert, json)\u001b[0m\n\u001b[1;32m    506\u001b[0m         }\n\u001b[1;32m    507\u001b[0m         \u001b[0msend_kwargs\u001b[0m\u001b[0;34m.\u001b[0m\u001b[0mupdate\u001b[0m\u001b[0;34m(\u001b[0m\u001b[0msettings\u001b[0m\u001b[0;34m)\u001b[0m\u001b[0;34m\u001b[0m\u001b[0m\n\u001b[0;32m--> 508\u001b[0;31m         \u001b[0mresp\u001b[0m \u001b[0;34m=\u001b[0m \u001b[0mself\u001b[0m\u001b[0;34m.\u001b[0m\u001b[0msend\u001b[0m\u001b[0;34m(\u001b[0m\u001b[0mprep\u001b[0m\u001b[0;34m,\u001b[0m \u001b[0;34m**\u001b[0m\u001b[0msend_kwargs\u001b[0m\u001b[0;34m)\u001b[0m\u001b[0;34m\u001b[0m\u001b[0m\n\u001b[0m\u001b[1;32m    509\u001b[0m \u001b[0;34m\u001b[0m\u001b[0m\n\u001b[1;32m    510\u001b[0m         \u001b[0;32mreturn\u001b[0m \u001b[0mresp\u001b[0m\u001b[0;34m\u001b[0m\u001b[0m\n",
      "\u001b[0;32m/Users/jiaru2014/anaconda3/lib/python3.5/site-packages/requests/sessions.py\u001b[0m in \u001b[0;36msend\u001b[0;34m(self, request, **kwargs)\u001b[0m\n\u001b[1;32m    616\u001b[0m \u001b[0;34m\u001b[0m\u001b[0m\n\u001b[1;32m    617\u001b[0m         \u001b[0;31m# Send the request\u001b[0m\u001b[0;34m\u001b[0m\u001b[0;34m\u001b[0m\u001b[0m\n\u001b[0;32m--> 618\u001b[0;31m         \u001b[0mr\u001b[0m \u001b[0;34m=\u001b[0m \u001b[0madapter\u001b[0m\u001b[0;34m.\u001b[0m\u001b[0msend\u001b[0m\u001b[0;34m(\u001b[0m\u001b[0mrequest\u001b[0m\u001b[0;34m,\u001b[0m \u001b[0;34m**\u001b[0m\u001b[0mkwargs\u001b[0m\u001b[0;34m)\u001b[0m\u001b[0;34m\u001b[0m\u001b[0m\n\u001b[0m\u001b[1;32m    619\u001b[0m \u001b[0;34m\u001b[0m\u001b[0m\n\u001b[1;32m    620\u001b[0m         \u001b[0;31m# Total elapsed time of the request (approximately)\u001b[0m\u001b[0;34m\u001b[0m\u001b[0;34m\u001b[0m\u001b[0m\n",
      "\u001b[0;32m/Users/jiaru2014/anaconda3/lib/python3.5/site-packages/requests/adapters.py\u001b[0m in \u001b[0;36msend\u001b[0;34m(self, request, stream, timeout, verify, cert, proxies)\u001b[0m\n\u001b[1;32m    438\u001b[0m                     \u001b[0mdecode_content\u001b[0m\u001b[0;34m=\u001b[0m\u001b[0;32mFalse\u001b[0m\u001b[0;34m,\u001b[0m\u001b[0;34m\u001b[0m\u001b[0m\n\u001b[1;32m    439\u001b[0m                     \u001b[0mretries\u001b[0m\u001b[0;34m=\u001b[0m\u001b[0mself\u001b[0m\u001b[0;34m.\u001b[0m\u001b[0mmax_retries\u001b[0m\u001b[0;34m,\u001b[0m\u001b[0;34m\u001b[0m\u001b[0m\n\u001b[0;32m--> 440\u001b[0;31m                     \u001b[0mtimeout\u001b[0m\u001b[0;34m=\u001b[0m\u001b[0mtimeout\u001b[0m\u001b[0;34m\u001b[0m\u001b[0m\n\u001b[0m\u001b[1;32m    441\u001b[0m                 )\n\u001b[1;32m    442\u001b[0m \u001b[0;34m\u001b[0m\u001b[0m\n",
      "\u001b[0;32m/Users/jiaru2014/anaconda3/lib/python3.5/site-packages/urllib3/connectionpool.py\u001b[0m in \u001b[0;36murlopen\u001b[0;34m(self, method, url, body, headers, retries, redirect, assert_same_host, timeout, pool_timeout, release_conn, chunked, body_pos, **response_kw)\u001b[0m\n\u001b[1;32m    599\u001b[0m                                                   \u001b[0mtimeout\u001b[0m\u001b[0;34m=\u001b[0m\u001b[0mtimeout_obj\u001b[0m\u001b[0;34m,\u001b[0m\u001b[0;34m\u001b[0m\u001b[0m\n\u001b[1;32m    600\u001b[0m                                                   \u001b[0mbody\u001b[0m\u001b[0;34m=\u001b[0m\u001b[0mbody\u001b[0m\u001b[0;34m,\u001b[0m \u001b[0mheaders\u001b[0m\u001b[0;34m=\u001b[0m\u001b[0mheaders\u001b[0m\u001b[0;34m,\u001b[0m\u001b[0;34m\u001b[0m\u001b[0m\n\u001b[0;32m--> 601\u001b[0;31m                                                   chunked=chunked)\n\u001b[0m\u001b[1;32m    602\u001b[0m \u001b[0;34m\u001b[0m\u001b[0m\n\u001b[1;32m    603\u001b[0m             \u001b[0;31m# If we're going to release the connection in ``finally:``, then\u001b[0m\u001b[0;34m\u001b[0m\u001b[0;34m\u001b[0m\u001b[0m\n",
      "\u001b[0;32m/Users/jiaru2014/anaconda3/lib/python3.5/site-packages/urllib3/connectionpool.py\u001b[0m in \u001b[0;36m_make_request\u001b[0;34m(self, conn, method, url, timeout, chunked, **httplib_request_kw)\u001b[0m\n\u001b[1;32m    344\u001b[0m         \u001b[0;31m# Trigger any extra validation we need to do.\u001b[0m\u001b[0;34m\u001b[0m\u001b[0;34m\u001b[0m\u001b[0m\n\u001b[1;32m    345\u001b[0m         \u001b[0;32mtry\u001b[0m\u001b[0;34m:\u001b[0m\u001b[0;34m\u001b[0m\u001b[0m\n\u001b[0;32m--> 346\u001b[0;31m             \u001b[0mself\u001b[0m\u001b[0;34m.\u001b[0m\u001b[0m_validate_conn\u001b[0m\u001b[0;34m(\u001b[0m\u001b[0mconn\u001b[0m\u001b[0;34m)\u001b[0m\u001b[0;34m\u001b[0m\u001b[0m\n\u001b[0m\u001b[1;32m    347\u001b[0m         \u001b[0;32mexcept\u001b[0m \u001b[0;34m(\u001b[0m\u001b[0mSocketTimeout\u001b[0m\u001b[0;34m,\u001b[0m \u001b[0mBaseSSLError\u001b[0m\u001b[0;34m)\u001b[0m \u001b[0;32mas\u001b[0m \u001b[0me\u001b[0m\u001b[0;34m:\u001b[0m\u001b[0;34m\u001b[0m\u001b[0m\n\u001b[1;32m    348\u001b[0m             \u001b[0;31m# Py2 raises this as a BaseSSLError, Py3 raises it as socket timeout.\u001b[0m\u001b[0;34m\u001b[0m\u001b[0;34m\u001b[0m\u001b[0m\n",
      "\u001b[0;32m/Users/jiaru2014/anaconda3/lib/python3.5/site-packages/urllib3/connectionpool.py\u001b[0m in \u001b[0;36m_validate_conn\u001b[0;34m(self, conn)\u001b[0m\n\u001b[1;32m    848\u001b[0m         \u001b[0;31m# Force connect early to allow us to validate the connection.\u001b[0m\u001b[0;34m\u001b[0m\u001b[0;34m\u001b[0m\u001b[0m\n\u001b[1;32m    849\u001b[0m         \u001b[0;32mif\u001b[0m \u001b[0;32mnot\u001b[0m \u001b[0mgetattr\u001b[0m\u001b[0;34m(\u001b[0m\u001b[0mconn\u001b[0m\u001b[0;34m,\u001b[0m \u001b[0;34m'sock'\u001b[0m\u001b[0;34m,\u001b[0m \u001b[0;32mNone\u001b[0m\u001b[0;34m)\u001b[0m\u001b[0;34m:\u001b[0m  \u001b[0;31m# AppEngine might not have  `.sock`\u001b[0m\u001b[0;34m\u001b[0m\u001b[0m\n\u001b[0;32m--> 850\u001b[0;31m             \u001b[0mconn\u001b[0m\u001b[0;34m.\u001b[0m\u001b[0mconnect\u001b[0m\u001b[0;34m(\u001b[0m\u001b[0;34m)\u001b[0m\u001b[0;34m\u001b[0m\u001b[0m\n\u001b[0m\u001b[1;32m    851\u001b[0m \u001b[0;34m\u001b[0m\u001b[0m\n\u001b[1;32m    852\u001b[0m         \u001b[0;32mif\u001b[0m \u001b[0;32mnot\u001b[0m \u001b[0mconn\u001b[0m\u001b[0;34m.\u001b[0m\u001b[0mis_verified\u001b[0m\u001b[0;34m:\u001b[0m\u001b[0;34m\u001b[0m\u001b[0m\n",
      "\u001b[0;32m/Users/jiaru2014/anaconda3/lib/python3.5/site-packages/urllib3/connection.py\u001b[0m in \u001b[0;36mconnect\u001b[0;34m(self)\u001b[0m\n\u001b[1;32m    324\u001b[0m             \u001b[0mca_cert_dir\u001b[0m\u001b[0;34m=\u001b[0m\u001b[0mself\u001b[0m\u001b[0;34m.\u001b[0m\u001b[0mca_cert_dir\u001b[0m\u001b[0;34m,\u001b[0m\u001b[0;34m\u001b[0m\u001b[0m\n\u001b[1;32m    325\u001b[0m             \u001b[0mserver_hostname\u001b[0m\u001b[0;34m=\u001b[0m\u001b[0mhostname\u001b[0m\u001b[0;34m,\u001b[0m\u001b[0;34m\u001b[0m\u001b[0m\n\u001b[0;32m--> 326\u001b[0;31m             ssl_context=context)\n\u001b[0m\u001b[1;32m    327\u001b[0m \u001b[0;34m\u001b[0m\u001b[0m\n\u001b[1;32m    328\u001b[0m         \u001b[0;32mif\u001b[0m \u001b[0mself\u001b[0m\u001b[0;34m.\u001b[0m\u001b[0massert_fingerprint\u001b[0m\u001b[0;34m:\u001b[0m\u001b[0;34m\u001b[0m\u001b[0m\n",
      "\u001b[0;32m/Users/jiaru2014/anaconda3/lib/python3.5/site-packages/urllib3/util/ssl_.py\u001b[0m in \u001b[0;36mssl_wrap_socket\u001b[0;34m(sock, keyfile, certfile, cert_reqs, ca_certs, server_hostname, ssl_version, ciphers, ssl_context, ca_cert_dir)\u001b[0m\n\u001b[1;32m    327\u001b[0m         \u001b[0mcontext\u001b[0m\u001b[0;34m.\u001b[0m\u001b[0mload_cert_chain\u001b[0m\u001b[0;34m(\u001b[0m\u001b[0mcertfile\u001b[0m\u001b[0;34m,\u001b[0m \u001b[0mkeyfile\u001b[0m\u001b[0;34m)\u001b[0m\u001b[0;34m\u001b[0m\u001b[0m\n\u001b[1;32m    328\u001b[0m     \u001b[0;32mif\u001b[0m \u001b[0mHAS_SNI\u001b[0m\u001b[0;34m:\u001b[0m  \u001b[0;31m# Platform-specific: OpenSSL with enabled SNI\u001b[0m\u001b[0;34m\u001b[0m\u001b[0m\n\u001b[0;32m--> 329\u001b[0;31m         \u001b[0;32mreturn\u001b[0m \u001b[0mcontext\u001b[0m\u001b[0;34m.\u001b[0m\u001b[0mwrap_socket\u001b[0m\u001b[0;34m(\u001b[0m\u001b[0msock\u001b[0m\u001b[0;34m,\u001b[0m \u001b[0mserver_hostname\u001b[0m\u001b[0;34m=\u001b[0m\u001b[0mserver_hostname\u001b[0m\u001b[0;34m)\u001b[0m\u001b[0;34m\u001b[0m\u001b[0m\n\u001b[0m\u001b[1;32m    330\u001b[0m \u001b[0;34m\u001b[0m\u001b[0m\n\u001b[1;32m    331\u001b[0m     warnings.warn(\n",
      "\u001b[0;32m/Users/jiaru2014/anaconda3/lib/python3.5/site-packages/urllib3/contrib/pyopenssl.py\u001b[0m in \u001b[0;36mwrap_socket\u001b[0;34m(self, sock, server_side, do_handshake_on_connect, suppress_ragged_eofs, server_hostname)\u001b[0m\n\u001b[1;32m    439\u001b[0m         \u001b[0;32mwhile\u001b[0m \u001b[0;32mTrue\u001b[0m\u001b[0;34m:\u001b[0m\u001b[0;34m\u001b[0m\u001b[0m\n\u001b[1;32m    440\u001b[0m             \u001b[0;32mtry\u001b[0m\u001b[0;34m:\u001b[0m\u001b[0;34m\u001b[0m\u001b[0m\n\u001b[0;32m--> 441\u001b[0;31m                 \u001b[0mcnx\u001b[0m\u001b[0;34m.\u001b[0m\u001b[0mdo_handshake\u001b[0m\u001b[0;34m(\u001b[0m\u001b[0;34m)\u001b[0m\u001b[0;34m\u001b[0m\u001b[0m\n\u001b[0m\u001b[1;32m    442\u001b[0m             \u001b[0;32mexcept\u001b[0m \u001b[0mOpenSSL\u001b[0m\u001b[0;34m.\u001b[0m\u001b[0mSSL\u001b[0m\u001b[0;34m.\u001b[0m\u001b[0mWantReadError\u001b[0m\u001b[0;34m:\u001b[0m\u001b[0;34m\u001b[0m\u001b[0m\n\u001b[1;32m    443\u001b[0m                 \u001b[0mrd\u001b[0m \u001b[0;34m=\u001b[0m \u001b[0mutil\u001b[0m\u001b[0;34m.\u001b[0m\u001b[0mwait_for_read\u001b[0m\u001b[0;34m(\u001b[0m\u001b[0msock\u001b[0m\u001b[0;34m,\u001b[0m \u001b[0msock\u001b[0m\u001b[0;34m.\u001b[0m\u001b[0mgettimeout\u001b[0m\u001b[0;34m(\u001b[0m\u001b[0;34m)\u001b[0m\u001b[0;34m)\u001b[0m\u001b[0;34m\u001b[0m\u001b[0m\n",
      "\u001b[0;32m/Users/jiaru2014/anaconda3/lib/python3.5/site-packages/OpenSSL/SSL.py\u001b[0m in \u001b[0;36mdo_handshake\u001b[0;34m(self)\u001b[0m\n\u001b[1;32m   1440\u001b[0m         \u001b[0;34m:\u001b[0m\u001b[0;32mreturn\u001b[0m\u001b[0;34m:\u001b[0m \u001b[0;32mNone\u001b[0m\u001b[0;34m.\u001b[0m\u001b[0;34m\u001b[0m\u001b[0m\n\u001b[1;32m   1441\u001b[0m         \"\"\"\n\u001b[0;32m-> 1442\u001b[0;31m         \u001b[0mresult\u001b[0m \u001b[0;34m=\u001b[0m \u001b[0m_lib\u001b[0m\u001b[0;34m.\u001b[0m\u001b[0mSSL_do_handshake\u001b[0m\u001b[0;34m(\u001b[0m\u001b[0mself\u001b[0m\u001b[0;34m.\u001b[0m\u001b[0m_ssl\u001b[0m\u001b[0;34m)\u001b[0m\u001b[0;34m\u001b[0m\u001b[0m\n\u001b[0m\u001b[1;32m   1443\u001b[0m         \u001b[0mself\u001b[0m\u001b[0;34m.\u001b[0m\u001b[0m_raise_ssl_error\u001b[0m\u001b[0;34m(\u001b[0m\u001b[0mself\u001b[0m\u001b[0;34m.\u001b[0m\u001b[0m_ssl\u001b[0m\u001b[0;34m,\u001b[0m \u001b[0mresult\u001b[0m\u001b[0;34m)\u001b[0m\u001b[0;34m\u001b[0m\u001b[0m\n\u001b[1;32m   1444\u001b[0m \u001b[0;34m\u001b[0m\u001b[0m\n",
      "\u001b[0;31mKeyboardInterrupt\u001b[0m: "
     ]
    }
   ],
   "source": [
    "## thread to push TARGET_POSITION_EVENT\n",
    "\n",
    "import threading\n",
    "import numpy as np\n",
    "import queue\n",
    "import time\n",
    "\n",
    "# global\n",
    "event_q = queue.Queue()  # 事件队列\n",
    "symbol = 'XBTUSD'  # symbol\n",
    "\n",
    "def generate_random_target_positon():\n",
    "    \"\"\"随机生成target_position的函数\"\"\"\n",
    "    \n",
    "    global event_q\n",
    "    global symbol\n",
    "    \n",
    "    symbols = (symbol,)  #('XBTUSD', 'ETHUSD')\n",
    "    n_symbols = len(symbols)\n",
    "    \n",
    "    while True:\n",
    "        pos = np.random.normal(0, 5, n_symbols).astype(int)\n",
    "        e = {\n",
    "            'etype': 'TARGET_POSITION_EVENT',\n",
    "            'data': {s:int(p) for s,p in zip(symbols, pos)}   # NOTE: np.int64 is not json serilizable\n",
    "        }\n",
    "        event_q.put(e)\n",
    "        time.sleep(15)\n",
    "\n",
    "\n",
    "# 开一个线程，专门生成 target_position event\n",
    "target_position_td = threading.Thread(target=generate_random_target_positon, args=())\n",
    "target_position_td.start()\n",
    "\n",
    "\n",
    "############################ OMS ############################\n",
    "\n",
    "# market\n",
    "bm_ws_market = bitmexWSMarket()\n",
    "bm_ws_market.addEventQueue(event_q)\n",
    "bm_ws_market.connect()\n",
    "bm_ws_market.subscribe(symbol)   # 目前只实现了单品种\n",
    "bm_ws_market.wait_for_lastprice()  \n",
    "\n",
    "# apiKey, apiSecret\n",
    "import json\n",
    "\n",
    "\n",
    "with open('accounts.json') as f:\n",
    "        acc = json.load(f)\n",
    "\n",
    "apiKey = acc[0]['apiKey']\n",
    "apiSecret = acc[0]['apiSecret']\n",
    "\n",
    "\n",
    "oms = bitmexTargetPositionOMS(bm_ws_market, event_q, apiKey, apiSecret, (symbol,))\n",
    "\n",
    "\n",
    "# # 一次性测试 trade_to_target()\n",
    "# oms.set_target_position('XBTUSD', 7)\n",
    "# oms.trade_to_target('XBTUSD')\n",
    "\n",
    "\n",
    "\n",
    "# 主程序\n",
    "\n",
    "# oms.run()  # todo: encapsulate into oms.run()\n",
    "\n",
    "while True:\n",
    "    try:\n",
    "        event = event_q.get_nowait()\n",
    "    except queue.Empty:\n",
    "        time.sleep(0.5)\n",
    "    else:\n",
    "        if isinstance(event, dict) and event['etype'] == 'TARGET_POSITION_EVENT':\n",
    "            for sym, pos in event['data'].items():\n",
    "                oms.set_target_position(sym, pos)  # 设定目标仓位\n",
    "                print('▲▲▲▲▲ target_posion: %s ▲▲▲▲▲' % (oms.target_position))\n",
    "            oms.trade_to_target(symbol)    # 交易\n",
    "        else:\n",
    "            print('Event: %s' % event.__repr__())"
   ]
  },
  {
   "cell_type": "code",
   "execution_count": 6,
   "metadata": {
    "collapsed": false
   },
   "outputs": [
    {
     "name": "stderr",
     "output_type": "stream",
     "text": [
      "[2018-10-05 15:23:43 bitmexWS_Trading INFO] Exiting ...\n",
      "[2018-10-05 15:23:44 bitmexWS_Market DEBUG] >>> send ping\n",
      "[2018-10-05 15:23:47 bitmexWS_Trading INFO] Got position msg:\n",
      "[2018-10-05 15:23:47 bitmexWS_Trading INFO] ping thread end.\n",
      "[2018-10-05 15:23:48 bitmexWS_Trading DEBUG] Calling ws.__on_close()\n",
      "[2018-10-05 15:23:48 bitmexWS_Trading INFO] Exit bitmexWS (intended)\n",
      "[2018-10-05 15:23:48 bitmexWS_Market INFO] Exiting ...\n",
      "[2018-10-05 15:23:49 bitmexWS_Market INFO] ping thread end.\n",
      "[2018-10-05 15:23:49 bitmexWS_Market DEBUG] Calling ws.__on_close()\n",
      "[2018-10-05 15:23:49 bitmexWS_Market INFO] Exit bitmexWS (intended)\n"
     ]
    }
   ],
   "source": [
    "#bm_ws_market.exit()\n",
    "#oms.bm_ws_trading.exit()\n",
    "\n",
    "oms.exit()"
   ]
  },
  {
   "cell_type": "code",
   "execution_count": 7,
   "metadata": {
    "collapsed": false
   },
   "outputs": [
    {
     "name": "stdout",
     "output_type": "stream",
     "text": [
      "{'XBTUSD': -8}\n",
      "{'XBTUSD': {'Buy': 0, 'Sell': 0}}\n",
      "6544\n"
     ]
    }
   ],
   "source": [
    "print(oms.bm_ws_trading.actual_position)\n",
    "print(oms.bm_ws_trading.unfilled_qty)\n",
    "print(oms.bm_ws_market.last_price)"
   ]
  },
  {
   "cell_type": "code",
   "execution_count": null,
   "metadata": {
    "collapsed": true
   },
   "outputs": [],
   "source": []
  }
 ],
 "metadata": {
  "anaconda-cloud": {},
  "kernelspec": {
   "display_name": "Python [Root]",
   "language": "python",
   "name": "Python [Root]"
  },
  "language_info": {
   "codemirror_mode": {
    "name": "ipython",
    "version": 3
   },
   "file_extension": ".py",
   "mimetype": "text/x-python",
   "name": "python",
   "nbconvert_exporter": "python",
   "pygments_lexer": "ipython3",
   "version": "3.5.2"
  }
 },
 "nbformat": 4,
 "nbformat_minor": 2
}
