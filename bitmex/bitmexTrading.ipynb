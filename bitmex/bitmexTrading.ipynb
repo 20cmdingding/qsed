{
 "cells": [
  {
   "cell_type": "markdown",
   "metadata": {},
   "source": [
    "## bitMEX trading test"
   ]
  },
  {
   "cell_type": "markdown",
   "metadata": {},
   "source": [
    "目标：跑通bitMEX交易\n",
    "\n",
    "策略：专供测试交易系统的随机策略RandomTargetPostionStrategy：每隔30s发出一个随机的SignalEvent。"
   ]
  },
  {
   "cell_type": "code",
   "execution_count": 13,
   "metadata": {
    "collapsed": true
   },
   "outputs": [],
   "source": [
    "import logging\n",
    "import time\n",
    "import queue"
   ]
  },
  {
   "cell_type": "code",
   "execution_count": null,
   "metadata": {
    "collapsed": true
   },
   "outputs": [],
   "source": [
    "class NaivePortfolio(object):\n",
    "    \"\"\"简单CTA策略的组合管理器\n",
    "    \n",
    "    将各个CTA子策略的signal汇总，计算汇总的target_position， (目前是单一identifier)\n",
    "    当实际仓位与理论仓位不一致时发出OrderEvent，并处理FillEvent。\n",
    "    \"\"\"\n",
    "    \n",
    "    def __init__(self, event_queue, is_test=True):\n",
    "        \n",
    "        self.is_test = True   # 是否测试\n",
    "        self.logger = logging.getLogger()   # 日志\n",
    "        \n",
    "        self.event_queue = event_queue\n",
    "        \n",
    "        self.symbol = 'XBTUSD'\n",
    "        self.lots = 20\n",
    "        \n",
    "        # 目标仓位。\n",
    "        # 当实际仓位与目标仓位不一致时，会触发下单逻辑。\n",
    "        self.target_position = 0\n",
    "        \n",
    "        # 实际仓位。\n",
    "        # 1. 初始化时会主动查询 self.query_positon()  \n",
    "        # 2. 收到成交回报时会更新。  -> 如果程序开着时手动下单，那么程序会收到成交回报，把仓位调回到目标仓位。\n",
    "        self.actual_position = None         \n",
    "        \n",
    "    def onSignalEvent(self, signalEvent):\n",
    "        \"\"\"\n",
    "        signalEvent Handler\n",
    "        \n",
    "        signalEvent格式:\n",
    "        {\n",
    "            identifier: 'Turtle_XBTUSD_1m_9999',\n",
    "            symbol: 'XBTUSD',\n",
    "            direction: -1,\n",
    "        }\n",
    "        \"\"\"\n",
    "        self.logger.info('signalEvent: %s' % signalEvent)\n",
    "        self._signal_event_handler(signalEvent)   # 处理signal_event\n",
    "        \n",
    "    def _signal_event_handler(signalEvent):\n",
    "        if not signalEvent.get('symbol') == self.symbol:\n",
    "            self.logger.error('signalEvent.symbol != bitmexTrader.symbol')\n",
    "            return \n",
    "        if signalEvent.get('direction') in (0, -1, 1):\n",
    "            self.logger.error('invalid signalEvent.direction: %s')\n",
    "            return\n",
    "        self.target_position = signalEvent['direction'] * self.lots   # 设定 target_position\n",
    "        self._trade_to_target()   # 交易\n",
    "        \n",
    "    def _trade_to_target(self):\n",
    "        position_diff = self.target_position - self.actual_position\n",
    "        if position_diff > 0:\n",
    "            direction = 'buy'\n",
    "            limit_price = self.ask1  # 对价下单\n",
    "        elif position_diff < 0:\n",
    "            direction = 'sell'\n",
    "            limit_price = self.bid1   # 对价下单\n",
    "        else:\n",
    "            self.logger.info('target==actual, no need to trade')\n",
    "            return 0\n",
    "        symbol=self.symbol\n",
    "        volume=abs(position_diff)\n",
    "        order_event = orderEvent(symbol, direction, volume, limit_price)   # 构造Order\n",
    "        \n",
    "        # TODO: 如果有未执行的委托单怎么办？\n",
    "        self.event_queue.put(order_event)"
   ]
  },
  {
   "cell_type": "markdown",
   "metadata": {},
   "source": [
    "重新理清思路：\n",
    "\n",
    "portfolio 只负责维护 target_position. 发出 target_position_event -> 提示target_position可能有变化。\n",
    "它的主要功能后续应该是汇总各个子策略的仓位。\n",
    "\n",
    "executor 负责维护actual_position. 处理发单、撤单、查询持仓。\n",
    "\n",
    "第一阶段任务，先以最简单的方式，跑通bitMEX实盘交易：\n",
    "- portofolio线程: 随机生成 target_position 放入队列\n",
    "- executor线程: 循环从队列中取事件，交易"
   ]
  },
  {
   "cell_type": "code",
   "execution_count": 16,
   "metadata": {
    "collapsed": true
   },
   "outputs": [],
   "source": [
    "import threading\n",
    "import random\n",
    "import queue\n",
    "\n",
    "\n",
    "event_q = queue.Queue()  # 事件队列\n",
    "\n",
    "\n",
    "def generate_random_target_positon(event_queue):\n",
    "    \"\"\"随机生成target_position的函数\"\"\"\n",
    "    e = {\n",
    "        'etype': 'TARGET_POSITION',\n",
    "        'target_position': random.sample((0, -1, 1), k=1)[0]\n",
    "    }\n",
    "    event_queue.put(e)\n",
    "\n",
    "\n",
    "# 开一个线程，专门生成 target_position event\n",
    "portfolio_td = threading.Thread(target=generate_random_target_positon, args=(event_q))\n",
    "portfolio_td.start()\n",
    "\n",
    "# 另开一个线程，跑executor\n",
    "bitmex_executor = bitmexExecutor()\n",
    "executor_td = threading.Thread(target=bitmex_executor.run)\n",
    "executor_td.start()\n",
    "\n",
    "# 主程序\n",
    "while True:\n",
    "    try:\n",
    "        event = self.event_queue.get_nowait()\n",
    "    except queue.Empty:\n",
    "        time.sleep(0.5)\n",
    "    else:\n",
    "        if event.etype == 'TARGET_POSITION':\n",
    "            bitmex_executor.onTargetPositionEvent(event)   # 交易"
   ]
  },
  {
   "cell_type": "code",
   "execution_count": 40,
   "metadata": {
    "collapsed": false
   },
   "outputs": [],
   "source": [
    "class bitmexExecutor(object):\n",
    "    \"\"\"bitmex交易执行器\"\"\"\n",
    "    \n",
    "    def __init__(self):\n",
    "        print('init bitmexExecutor')\n",
    "        self.actual_position = self._query_actual_position()   # to-write   \n",
    "        \n",
    "    def run(self):\n",
    "        pass\n",
    "        \n",
    "    def onTargetPositionEvent(self):\n",
    "        pass\n",
    "    \n",
    "    def _query_actual_position(self):\n",
    "        pass    ### \n",
    "    \n",
    "    def _order(self, symbol, side, volume, limit_price=None):\n",
    "        pass    ### \n",
    "        "
   ]
  },
  {
   "cell_type": "code",
   "execution_count": null,
   "metadata": {
    "collapsed": true
   },
   "outputs": [],
   "source": []
  },
  {
   "cell_type": "markdown",
   "metadata": {},
   "source": [
    "## Demo of placing an order"
   ]
  },
  {
   "cell_type": "markdown",
   "metadata": {},
   "source": [
    "**BitMEX 不支持通过 WebSocket 提交或取消委托，这些操作只能通过 HTTP 进行。**\n",
    "\n",
    "我们的服务器支持保持 HTTP 连接和缓存的 SSL 会话。 如果你保持一个有效连接，你会得到与 websocket 类似的延迟，而无须使用 websocket 进行沟通。\n",
    "\n",
    "我们保持活动状态的超时时间为90秒。"
   ]
  },
  {
   "cell_type": "markdown",
   "metadata": {},
   "source": [
    "## bitmexREST"
   ]
  },
  {
   "cell_type": "code",
   "execution_count": 4,
   "metadata": {
    "collapsed": true
   },
   "outputs": [],
   "source": [
    "import requests\n",
    "import datetime\n",
    "import json\n",
    "from APIKeyAuthWithExpires import APIKeyAuthWithExpires\n",
    "\n",
    "class bitmexREST(object):\n",
    "    \"\"\"bitmex REST connection\"\"\"\n",
    "    \n",
    "    def __init__(self, apiKey, apiSecret, is_test=True):\n",
    "        self.apiKey = apiKey\n",
    "        self.apiSecret = apiSecret\n",
    "        self.is_test = is_test\n",
    "        \n",
    "        self.base_url = 'https://testnet.bitmex.com/api/v1/' if is_test else ''   # no real trading now\n",
    "        self.clientOrderID = 0\n",
    "        \n",
    "    def _send_http_request(self, verb, path, postdict=None, query=None):\n",
    "        \"\"\"send HTTP request\"\"\"\n",
    "        url = self.base_url + path\n",
    "        auth = APIKeyAuthWithExpires(self.apiKey, self.apiSecret)\n",
    "        return requests.request(verb, url, json=postdict, params=query, auth=auth)\n",
    "    \n",
    "    def place_order(self, symbol, side, qty, limit_price, text=''):\n",
    "        \"\"\"place order\"\"\"\n",
    "        \n",
    "        path = 'order'\n",
    "        post_dict = {\n",
    "            'symbol': symbol,\n",
    "            'side': side,   # 'Buy' or 'Sell'\n",
    "            'orderQty': qty,\n",
    "            'price': limit_price,\n",
    "            'ordType': 'Limit' if limit_price else 'Market',\n",
    "            'clOrdID': self.clientOrderID,\n",
    "            'text': self._add_ts(text)\n",
    "        }\n",
    "        self.clientOrderID += 1\n",
    "        return self._send_http_request('POST', path, post_dict)\n",
    "        \n",
    "    def cancel_order(self, orderID=None, clOrdID=None, text=''):\n",
    "        path = 'order'\n",
    "        post_dict = {\n",
    "            'orderID': orderID,\n",
    "            'clOrdID': clOrdID,\n",
    "            'text': self._add_ts(text)\n",
    "        }\n",
    "        return self._send_http_request('DELETE', path, postdict=post_dict)\n",
    "    \n",
    "    def cancel_all_orders(self, symbol=None, side=None, text=''):\n",
    "        path = 'order/all'\n",
    "        post_dict = {\n",
    "            'symbol': symbol,\n",
    "            'filter': json.dumps({'side': side})  # side: 'Buy' or 'Sell'\n",
    "        }\n",
    "        return self._send_http_request('DELETE', path, postdict=post_dict)\n",
    "        \n",
    "        \n",
    "    def get_open_orders(self, symbol=None):\n",
    "        \"\"\"Get open orders\"\"\"\n",
    "        \n",
    "        path = 'order'\n",
    "        query = {\n",
    "            'symbol': symbol,\n",
    "            'filter': json.dumps({\"ordStatus\": \"New\"})\n",
    "        }\n",
    "        return self._send_http_request('GET', path, query=query)\n",
    "    \n",
    "    def get_positions(self, symbol=None):\n",
    "        \"\"\"Get positions\"\"\"\n",
    "        \n",
    "        path = 'position'\n",
    "        query = {}\n",
    "        if symbol:\n",
    "            query.update({'filter': json.dumps({'symbol': symbol})})\n",
    "        return self._send_http_request('GET', path, query=query)\n",
    "    \n",
    "    @staticmethod\n",
    "    def _add_ts(text):\n",
    "        return '[API][%s] %s' % (str(datetime.datetime.now()), text)"
   ]
  },
  {
   "cell_type": "code",
   "execution_count": 2,
   "metadata": {
    "collapsed": false
   },
   "outputs": [],
   "source": [
    "import json\n",
    "\n",
    "\n",
    "with open('accounts.json') as f:\n",
    "    acc = json.load(f)\n",
    "\n",
    "apiKey = acc[0]['apiKey']\n",
    "apiSecret = acc[0]['apiSecret']\n",
    "\n",
    "\n",
    "bm = bitmexREST(apiKey, apiSecret)\n",
    "\n",
    "res = bm.get_positions()\n",
    "if res.ok:\n",
    "    print(res.json()[0]['symbol'], res.json()[0]['currentQty'])\n",
    "\n",
    "res = res = bm.get_open_orders()\n",
    "if res.ok:\n",
    "    print(res.json())\n",
    "\n",
    "res = bm.place_order(symbol='XBTUSD', side='Sell', qty=100, limit_price=None)\n",
    "if res.ok:\n",
    "    print(res.json())\n",
    "\n",
    "res = bm.place_order(symbol='XBTUSD', side='Buy', qty=120, limit_price=6365.0)\n",
    "if res.ok:\n",
    "    print(res.json())"
   ]
  },
  {
   "cell_type": "code",
   "execution_count": null,
   "metadata": {
    "collapsed": true
   },
   "outputs": [],
   "source": []
  }
 ],
 "metadata": {
  "anaconda-cloud": {},
  "kernelspec": {
   "display_name": "Python [Root]",
   "language": "python",
   "name": "Python [Root]"
  },
  "language_info": {
   "codemirror_mode": {
    "name": "ipython",
    "version": 3
   },
   "file_extension": ".py",
   "mimetype": "text/x-python",
   "name": "python",
   "nbconvert_exporter": "python",
   "pygments_lexer": "ipython3",
   "version": "3.5.2"
  }
 },
 "nbformat": 4,
 "nbformat_minor": 2
}
