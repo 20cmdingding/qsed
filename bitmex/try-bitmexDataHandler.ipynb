{
 "cells": [
  {
   "cell_type": "markdown",
   "metadata": {},
   "source": [
    "## what to do next\n",
    "\n",
    "class bitmexDataHandler\n",
    "- bm_ws_market  订阅 成交明细，买一卖一\n",
    "- snapshot()   500毫秒一个切片，发送MarketEvent\n",
    "\n",
    "其中bm_ws_market中的如下成员有用：\n",
    "- prev_bar\n",
    "- current_bar\n",
    "- bid1, ask1\n",
    "\n",
    "todo:\n",
    "1. utils.calc_ts()\n",
    "2. 发布订阅 bar_type, bm_ws_market.subscribe('XBTUSD', ['1m', '5m'], false)\n",
    "3. bar和last_price需要有两个时间戳：交易所时间和本机实际收到的时间\n",
    "4. 定义一些全局变量，eg. 枚举类 BarType, def n_minutes()获取对应的分钟数\n",
    "\n",
    "bar_type 可以拼成任何时间周期，eg. 9m, 17m, 18m, 可以有shift   \n",
    "所以bar_type的格式是这样的： '9m3s', '18m25s'   \n",
    "trading_day, ts = 20180101, 190015   \n",
    "目前可以实现的： trading_day, ts = calc_td_ts()， ts保留至秒钟"
   ]
  },
  {
   "cell_type": "code",
   "execution_count": 2,
   "metadata": {
    "collapsed": true
   },
   "outputs": [],
   "source": [
    "# MarketEvent需定义格式：\n",
    "\n",
    "class MarketEvent(object):\n",
    "    def __init__(self, channel, market_event_type):\n",
    "        self.etype ='MARKET'\n",
    "        self.channel = channel\n",
    "        self.market_event_type = market_event_type\n",
    "\n",
    "# channel:\n",
    "# symbol:bar_type\n",
    "# eg. XBTUSD:1m, XBTUSD:snapshot, XBTUSD:tick\n",
    "\n",
    "# market_event_type:\n",
    "# BAR_OPEN, BAR_CLOSE, \n",
    "# SNAPSHOT, （格式同国内500ms切片，open,hightest,lowest,last,volume,oi,bid1,ask1）\n",
    "# TICK,\n",
    "# OB_TOP, OB_10, OB_ALL\n",
    "\n",
    "# 注意 MARKET_EVENT 只是提示“有事件”，但它自身不带data"
   ]
  },
  {
   "cell_type": "code",
   "execution_count": null,
   "metadata": {
    "collapsed": true
   },
   "outputs": [],
   "source": []
  },
  {
   "cell_type": "code",
   "execution_count": 180,
   "metadata": {
    "collapsed": false
   },
   "outputs": [
    {
     "data": {
      "text/plain": [
       "True"
      ]
     },
     "execution_count": 180,
     "metadata": {},
     "output_type": "execute_result"
    }
   ],
   "source": [
    "a = () \n",
    "isinstance(a, tuple)"
   ]
  },
  {
   "cell_type": "code",
   "execution_count": null,
   "metadata": {
    "collapsed": true
   },
   "outputs": [],
   "source": [
    "\n"
   ]
  },
  {
   "cell_type": "markdown",
   "metadata": {},
   "source": [
    "## GlobalSettings.py"
   ]
  },
  {
   "cell_type": "code",
   "execution_count": 197,
   "metadata": {
    "collapsed": true
   },
   "outputs": [],
   "source": [
    "# qsSettings.py\n",
    "import json\n",
    "\n",
    "\n",
    "class GlobalSettings(object):\n",
    "    \"\"\"全局设置\"\"\"\n",
    "    \n",
    "    def  __init__(self):\n",
    "        self.account = None\n",
    "        self.apiKey = None\n",
    "        self.apiSecret = None\n",
    "        self.is_test = True   # always True until real trading\n",
    "        self.loglevel = 'debug'\n",
    "        self.logfile = 'default-log.log'\n",
    "        self.symbols = ['XBTUSD']    # todo: from strategies config\n",
    "    \n",
    "    def from_config_file(self, file):\n",
    "        \"\"\"读取配置文件\"\"\"\n",
    "        \n",
    "        with open(file) as f:\n",
    "            st = json.load(f)\n",
    "            \n",
    "        self.account = st['account']['userName']\n",
    "        self.apiKey = st['account']['apiKey']\n",
    "        self.apiSecret = st['account']['apiSecret']\n",
    "        self.loglevel = st['log']['logLevel']\n",
    "        self.logfile = st['log']['logFile']"
   ]
  },
  {
   "cell_type": "markdown",
   "metadata": {},
   "source": [
    "## DataHandler.py"
   ]
  },
  {
   "cell_type": "code",
   "execution_count": 248,
   "metadata": {
    "collapsed": true
   },
   "outputs": [],
   "source": [
    "class Orderbook(object): \n",
    "    def __init__(self, symbol=None, bid1=None, bid1vol=None, ask1=None, ask1vol=None, timestamp=None):\n",
    "        self.symbol = symbol\n",
    "        self.bid1 = bid1\n",
    "        self.bid1vol = bid1vol\n",
    "        self.ask1 = ask1\n",
    "        self.ask1vol = ask1vol\n",
    "        self.timestamp = timestamp\n",
    "        \n",
    "    def __repr__(self):\n",
    "        return self.__dict__.__repr__()\n",
    "        \n",
    "\n",
    "class Tick(object): \n",
    "    def __init__(self, symbol=None, price=None, volume=None, direction=None, timestamp=None):\n",
    "        self.symbol = symbol\n",
    "        self.price = price\n",
    "        self.volume = volume\n",
    "        self.direction = direction\n",
    "        self.timestamp = timestamp\n",
    "        \n",
    "    def __repr__(self):\n",
    "        return self.__dict__.__repr__()\n",
    "    \n",
    "class Bar(object):\n",
    "    pass\n",
    "\n",
    "class Snapshot(object):\n",
    "    pass"
   ]
  },
  {
   "cell_type": "code",
   "execution_count": 185,
   "metadata": {
    "collapsed": false
   },
   "outputs": [],
   "source": [
    "from bitmexWSMarket import bitmexWSMarket\n",
    "from bitmexREST import bitmexREST\n",
    "from utils import generate_logger, calculate_td_ts\n",
    "import queue\n",
    "\n",
    "\n",
    "class bitmexDataHandler(object):\n",
    "    def __init__(self, g, event_q):\n",
    "        self.g = g                            # global settings\n",
    "        self.symbols = g.symbols              # 订阅的标的\n",
    "        self.market_data_q = queue.Queue()    # MarketData 队列（带数据）\n",
    "        self.event_q = event_q                # 事件队列\n",
    "        seff.logger.generate_logger('DataHandler', g.loglevel, g.logfile)\n",
    "        \n",
    "    def run(self):\n",
    "        self.__construct_bm_ws_market()\n",
    "        \n",
    "        while True:\n",
    "            try:\n",
    "                data = self.market_data_q.get(timeout=100)\n",
    "            except queue.Empty:\n",
    "                self.logger.warning('no data in market_data_q for 100 seconds')\n",
    "            else:\n",
    "                if isinstance(data, Tick):\n",
    "                    self.processTick(data)\n",
    "                elif isinstance(data, Orderbook):\n",
    "                    self.processOrderbook(data)\n",
    "                else:\n",
    "                    self.logger.warning('Invalid data type from market_data_q: %s' % data)\n",
    "                \n",
    "        \n",
    "    def __construct_bm_ws_market(self):\n",
    "        self.bm_ws_market = bitmexWSMarket(apiKey=None, apiSecret=None, \n",
    "                                           is_test=self.g.is_test, loglevel=self.g.loglevel, logfile=self.g.logfile)\n",
    "        self.bm_ws_market.connect()\n",
    "        self.bm_ws_market.add_market_data_q(self.market_data_q)\n",
    "        for s in self.symbols:\n",
    "            self.bm_ws_market.subscribe(s, trade=True, orderbook=True)  # todo subscirbe(symbol, trades, orderbook)\n",
    "        self.bm_ws_market.wait_for_data()   # todo wait_for_data()\n",
    "        \n",
    "\n",
    "    def processTick(self, tick):\n",
    "        self.logger.debug('Processing Tick... %s' % tick)\n",
    "        # 1. 更新last_price\n",
    "        self.__update_last_price(tick)\n",
    "        \n",
    "        # 2. if 该symbol订阅了tick事件，推送（全局事件队列）\n",
    "        if False:\n",
    "            self.__push_tick_event(tick.symbol)\n",
    "        \n",
    "        # 3. 生成bar\n",
    "        self.__bar(tick)\n",
    "    \n",
    "    def processOrderbook(self, ob):\n",
    "        # 更新Orderbook\n",
    "        pass\n",
    "    \n",
    "    def register_bar_event(self, symbol, bar_type):\n",
    "        pass\n",
    "    \n",
    "    def snapshot(self, symbol):\n",
    "        \"\"\"参照国内期货快照数据结构\"\"\"\n",
    "        pass\n",
    "    \n",
    "    "
   ]
  },
  {
   "cell_type": "markdown",
   "metadata": {},
   "source": [
    "## main.py"
   ]
  },
  {
   "cell_type": "code",
   "execution_count": 194,
   "metadata": {
    "collapsed": true
   },
   "outputs": [],
   "source": [
    "# 主程序\n",
    "import queue"
   ]
  },
  {
   "cell_type": "code",
   "execution_count": 195,
   "metadata": {
    "collapsed": false
   },
   "outputs": [
    {
     "data": {
      "text/plain": [
       "{'account': 'jiaru2015@gmail.com',\n",
       " 'apiKey': 'ob_a0KcC21NpHnFx7lym9-Jp',\n",
       " 'apiSecret': 'XHbcrDUt6Aw_sNYLFDto6U4PeurF-uqDK8TE8e15Stgee0gR',\n",
       " 'is_test': True,\n",
       " 'logfile': 'test-bitmex-trading.log',\n",
       " 'loglevel': 'debug',\n",
       " 'symbols': ['XBTUSD']}"
      ]
     },
     "execution_count": 195,
     "metadata": {},
     "output_type": "execute_result"
    }
   ],
   "source": [
    "# 加载全局设置\n",
    "g = GlobalSettings()\n",
    "g.from_config_file('global_settings.json')\n",
    "g.__dict__"
   ]
  },
  {
   "cell_type": "code",
   "execution_count": 196,
   "metadata": {
    "collapsed": true
   },
   "outputs": [],
   "source": [
    "# 事件队列\n",
    "event_q = queue.Queue()"
   ]
  },
  {
   "cell_type": "code",
   "execution_count": 175,
   "metadata": {
    "collapsed": true
   },
   "outputs": [],
   "source": [
    "# DataHandler\n",
    "datahandler = bitmexDataHandler(g, event_q)\n",
    "datahandler.register_bar_event('XBTUSD', '1m')\n",
    "# for s,bar_type in params.subscription:\n",
    "#     datahandler.register_bar_event(s, bar_type)\n",
    "datahandler.run()"
   ]
  },
  {
   "cell_type": "code",
   "execution_count": 177,
   "metadata": {
    "collapsed": true
   },
   "outputs": [],
   "source": []
  },
  {
   "cell_type": "markdown",
   "metadata": {},
   "source": [
    "## bitmexWSMarket2.py"
   ]
  },
  {
   "cell_type": "code",
   "execution_count": 256,
   "metadata": {
    "collapsed": false
   },
   "outputs": [
    {
     "name": "stderr",
     "output_type": "stream",
     "text": [
      "[2018-10-06 18:08:20 bitmexWS_Market2 INFO] ws thread start\n",
      "[2018-10-06 18:08:20 bitmexWS_Market2 INFO] ws thread start\n",
      "[2018-10-06 18:08:20 bitmexWS_Market2 INFO] ws thread start\n",
      "[2018-10-06 18:08:20 bitmexWS_Market2 INFO] ws thread start\n",
      "[2018-10-06 18:08:20 bitmexWS_Market2 INFO] ws thread start\n",
      "[2018-10-06 18:08:22 bitmexWS_Market2 DEBUG] Calling ws.__on_open()\n",
      "[2018-10-06 18:08:22 bitmexWS_Market2 DEBUG] Calling ws.__on_open()\n",
      "[2018-10-06 18:08:22 bitmexWS_Market2 DEBUG] Calling ws.__on_open()\n",
      "[2018-10-06 18:08:22 bitmexWS_Market2 DEBUG] Calling ws.__on_open()\n",
      "[2018-10-06 18:08:22 bitmexWS_Market2 DEBUG] Calling ws.__on_open()\n",
      "[2018-10-06 18:08:22 bitmexWS_Market2 INFO] Successful connected to BitMEX WebSocket API\n",
      "[2018-10-06 18:08:22 bitmexWS_Market2 INFO] Successful connected to BitMEX WebSocket API\n",
      "[2018-10-06 18:08:22 bitmexWS_Market2 INFO] Successful connected to BitMEX WebSocket API\n",
      "[2018-10-06 18:08:22 bitmexWS_Market2 INFO] Successful connected to BitMEX WebSocket API\n",
      "[2018-10-06 18:08:22 bitmexWS_Market2 INFO] Successful connected to BitMEX WebSocket API\n",
      "[2018-10-06 18:08:22 bitmexWS_Market2 DEBUG] >>> send ping\n",
      "[2018-10-06 18:08:22 bitmexWS_Market2 DEBUG] >>> send ping\n",
      "[2018-10-06 18:08:22 bitmexWS_Market2 DEBUG] >>> send ping\n",
      "[2018-10-06 18:08:22 bitmexWS_Market2 DEBUG] >>> send ping\n",
      "[2018-10-06 18:08:22 bitmexWS_Market2 DEBUG] >>> send ping\n"
     ]
    },
    {
     "name": "stdout",
     "output_type": "stream",
     "text": [
      "===============================================\n"
     ]
    },
    {
     "name": "stderr",
     "output_type": "stream",
     "text": [
      "[2018-10-06 18:08:22 bitmexWS_Market2 INFO] Subscribe to trade:XBTUSD\n",
      "[2018-10-06 18:08:22 bitmexWS_Market2 INFO] Subscribe to trade:XBTUSD\n",
      "[2018-10-06 18:08:22 bitmexWS_Market2 INFO] Subscribe to trade:XBTUSD\n",
      "[2018-10-06 18:08:22 bitmexWS_Market2 INFO] Subscribe to trade:XBTUSD\n",
      "[2018-10-06 18:08:22 bitmexWS_Market2 INFO] Subscribe to trade:XBTUSD\n",
      "[2018-10-06 18:08:22 bitmexWS_Market2 INFO] Subscribe to quote:XBTUSD\n",
      "[2018-10-06 18:08:22 bitmexWS_Market2 INFO] Subscribe to quote:XBTUSD\n",
      "[2018-10-06 18:08:22 bitmexWS_Market2 INFO] Subscribe to quote:XBTUSD\n",
      "[2018-10-06 18:08:22 bitmexWS_Market2 INFO] Subscribe to quote:XBTUSD\n",
      "[2018-10-06 18:08:22 bitmexWS_Market2 INFO] Subscribe to quote:XBTUSD\n"
     ]
    },
    {
     "name": "stdout",
     "output_type": "stream",
     "text": [
      "{'direction': 'Sell', 'volume': 100, 'timestamp': '2018-10-06T10:08:19.774Z', 'symbol': 'XBTUSD', 'price': 6564}\n",
      "{'timestamp': '2018-10-06T10:08:21.534Z', 'ask1vol': 343003, 'bid1': 6564, 'bid1vol': 13235, 'symbol': 'XBTUSD', 'ask1': 6564.5}\n",
      "{'direction': 'Sell', 'volume': 20, 'timestamp': '2018-10-06T10:08:26.196Z', 'symbol': 'XBTUSD', 'price': 6564}\n"
     ]
    },
    {
     "name": "stderr",
     "output_type": "stream",
     "text": [
      "[2018-10-06 18:08:27 bitmexWS_Market2 DEBUG] >>> send ping\n",
      "[2018-10-06 18:08:27 bitmexWS_Market2 DEBUG] >>> send ping\n",
      "[2018-10-06 18:08:27 bitmexWS_Market2 DEBUG] >>> send ping\n",
      "[2018-10-06 18:08:27 bitmexWS_Market2 DEBUG] >>> send ping\n",
      "[2018-10-06 18:08:27 bitmexWS_Market2 DEBUG] >>> send ping\n"
     ]
    },
    {
     "name": "stdout",
     "output_type": "stream",
     "text": [
      "{'timestamp': '2018-10-06T10:08:26.196Z', 'ask1vol': 343003, 'bid1': 6564, 'bid1vol': 13215, 'symbol': 'XBTUSD', 'ask1': 6564.5}\n",
      "{'timestamp': '2018-10-06T10:08:26.380Z', 'ask1vol': 343003, 'bid1': 6564, 'bid1vol': 13280, 'symbol': 'XBTUSD', 'ask1': 6564.5}\n"
     ]
    },
    {
     "ename": "KeyboardInterrupt",
     "evalue": "",
     "output_type": "error",
     "traceback": [
      "\u001b[0;31m---------------------------------------------------------------------------\u001b[0m",
      "\u001b[0;31mKeyboardInterrupt\u001b[0m                         Traceback (most recent call last)",
      "\u001b[0;32m<ipython-input-256-7b88bc87dc4e>\u001b[0m in \u001b[0;36m<module>\u001b[0;34m()\u001b[0m\n\u001b[1;32m    109\u001b[0m     \u001b[0;32mwhile\u001b[0m \u001b[0;32mTrue\u001b[0m\u001b[0;34m:\u001b[0m\u001b[0;34m\u001b[0m\u001b[0m\n\u001b[1;32m    110\u001b[0m         \u001b[0;32mtry\u001b[0m\u001b[0;34m:\u001b[0m\u001b[0;34m\u001b[0m\u001b[0m\n\u001b[0;32m--> 111\u001b[0;31m             \u001b[0ma\u001b[0m \u001b[0;34m=\u001b[0m \u001b[0mmarket_data_q\u001b[0m\u001b[0;34m.\u001b[0m\u001b[0mget\u001b[0m\u001b[0;34m(\u001b[0m\u001b[0mtimeout\u001b[0m\u001b[0;34m=\u001b[0m\u001b[0;36m10\u001b[0m\u001b[0;34m)\u001b[0m\u001b[0;34m\u001b[0m\u001b[0m\n\u001b[0m\u001b[1;32m    112\u001b[0m         \u001b[0;32mexcept\u001b[0m \u001b[0mqueue\u001b[0m\u001b[0;34m.\u001b[0m\u001b[0mEmpty\u001b[0m\u001b[0;34m:\u001b[0m\u001b[0;34m\u001b[0m\u001b[0m\n\u001b[1;32m    113\u001b[0m             \u001b[0mprint\u001b[0m\u001b[0;34m(\u001b[0m\u001b[0;34m'waring: no data in 10 sec'\u001b[0m\u001b[0;34m)\u001b[0m\u001b[0;34m\u001b[0m\u001b[0m\n",
      "\u001b[0;32m/Users/jiaru2014/anaconda3/lib/python3.5/queue.py\u001b[0m in \u001b[0;36mget\u001b[0;34m(self, block, timeout)\u001b[0m\n\u001b[1;32m    171\u001b[0m                     \u001b[0;32mif\u001b[0m \u001b[0mremaining\u001b[0m \u001b[0;34m<=\u001b[0m \u001b[0;36m0.0\u001b[0m\u001b[0;34m:\u001b[0m\u001b[0;34m\u001b[0m\u001b[0m\n\u001b[1;32m    172\u001b[0m                         \u001b[0;32mraise\u001b[0m \u001b[0mEmpty\u001b[0m\u001b[0;34m\u001b[0m\u001b[0m\n\u001b[0;32m--> 173\u001b[0;31m                     \u001b[0mself\u001b[0m\u001b[0;34m.\u001b[0m\u001b[0mnot_empty\u001b[0m\u001b[0;34m.\u001b[0m\u001b[0mwait\u001b[0m\u001b[0;34m(\u001b[0m\u001b[0mremaining\u001b[0m\u001b[0;34m)\u001b[0m\u001b[0;34m\u001b[0m\u001b[0m\n\u001b[0m\u001b[1;32m    174\u001b[0m             \u001b[0mitem\u001b[0m \u001b[0;34m=\u001b[0m \u001b[0mself\u001b[0m\u001b[0;34m.\u001b[0m\u001b[0m_get\u001b[0m\u001b[0;34m(\u001b[0m\u001b[0;34m)\u001b[0m\u001b[0;34m\u001b[0m\u001b[0m\n\u001b[1;32m    175\u001b[0m             \u001b[0mself\u001b[0m\u001b[0;34m.\u001b[0m\u001b[0mnot_full\u001b[0m\u001b[0;34m.\u001b[0m\u001b[0mnotify\u001b[0m\u001b[0;34m(\u001b[0m\u001b[0;34m)\u001b[0m\u001b[0;34m\u001b[0m\u001b[0m\n",
      "\u001b[0;32m/Users/jiaru2014/anaconda3/lib/python3.5/threading.py\u001b[0m in \u001b[0;36mwait\u001b[0;34m(self, timeout)\u001b[0m\n\u001b[1;32m    295\u001b[0m             \u001b[0;32melse\u001b[0m\u001b[0;34m:\u001b[0m\u001b[0;34m\u001b[0m\u001b[0m\n\u001b[1;32m    296\u001b[0m                 \u001b[0;32mif\u001b[0m \u001b[0mtimeout\u001b[0m \u001b[0;34m>\u001b[0m \u001b[0;36m0\u001b[0m\u001b[0;34m:\u001b[0m\u001b[0;34m\u001b[0m\u001b[0m\n\u001b[0;32m--> 297\u001b[0;31m                     \u001b[0mgotit\u001b[0m \u001b[0;34m=\u001b[0m \u001b[0mwaiter\u001b[0m\u001b[0;34m.\u001b[0m\u001b[0macquire\u001b[0m\u001b[0;34m(\u001b[0m\u001b[0;32mTrue\u001b[0m\u001b[0;34m,\u001b[0m \u001b[0mtimeout\u001b[0m\u001b[0;34m)\u001b[0m\u001b[0;34m\u001b[0m\u001b[0m\n\u001b[0m\u001b[1;32m    298\u001b[0m                 \u001b[0;32melse\u001b[0m\u001b[0;34m:\u001b[0m\u001b[0;34m\u001b[0m\u001b[0m\n\u001b[1;32m    299\u001b[0m                     \u001b[0mgotit\u001b[0m \u001b[0;34m=\u001b[0m \u001b[0mwaiter\u001b[0m\u001b[0;34m.\u001b[0m\u001b[0macquire\u001b[0m\u001b[0;34m(\u001b[0m\u001b[0;32mFalse\u001b[0m\u001b[0;34m)\u001b[0m\u001b[0;34m\u001b[0m\u001b[0m\n",
      "\u001b[0;31mKeyboardInterrupt\u001b[0m: "
     ]
    }
   ],
   "source": [
    "from bitmexWS import bitmexWS\n",
    "from bitmexREST import bitmexREST\n",
    "from utils import generate_logger\n",
    "import time\n",
    "#from DataHandler import Tick, Orderbook\n",
    "\n",
    "\n",
    "class bitmexWSMarket2(bitmexWS):\n",
    "    \"\"\"bitmexWS subscribing market data (single symbol)\"\"\"\n",
    "    \n",
    "    def __init__(self, *args, **kwargs):\n",
    "        \"\"\"\n",
    "        self.symbols:\n",
    "        {\n",
    "          'XBTUSD': Snapshot(last_price, bid1, ask1, bid1vol, ask1vol, \n",
    "                              last_price_ts, orderbook_ts,\n",
    "                              last_price_receiveTime, orderbook_receiveTime)\n",
    "        }\n",
    "        \"\"\"\n",
    "        super().__init__(*args, **kwargs)\n",
    "        self.logger = generate_logger('bitmexWS_Market2')\n",
    "        self.symbols = {}   \n",
    "    \n",
    "    def add_market_data_q(self, q):\n",
    "        self.market_data_q = q\n",
    "\n",
    "    def subscribe(self, symbol, trade=True, orderbook=False):\n",
    "        self.symbols[symbol] = dict(trade=trade, orderbook=orderbook)  # 每订阅一个symbol, 都将其添加进self.symbols字典中\n",
    "        if trade:\n",
    "            self.subscribe_topic('trade:%s' % symbol)  # 订阅成交明细\n",
    "        if orderbook:\n",
    "            self.subscribe_topic('quote:%s' % symbol)  # 订阅一档委托单簿\n",
    "        \n",
    "    def wait_for_data(self, symbols=None, trade=None, orderbook=None):\n",
    "        \"\"\"等待第一个数据的到来\n",
    "        symbols: by default wait for all self.symbols\n",
    "        trade: if true: 检查last_price是否为None\n",
    "        orderbook:  if true: 检查bid1&&bid2是否都不为None\n",
    "        \"\"\"\n",
    "        if symbols is None:\n",
    "            symbols = self.symbols\n",
    "        if trade is None:\n",
    "            trade = False\n",
    "        if orderbook is None:\n",
    "            orderbook = False\n",
    "        while True:\n",
    "            b_trade = not trade or all(self.symbols[s].last_price is not None for s in symbols)\n",
    "            b_orderbook = not orderbook or all(self.symbols[s].bid1 is not None and self.symbols[s].ask1 is not None for s in symbols)\n",
    "            if b_trade and b_orderbook:\n",
    "                return\n",
    "            self.logger.debug('waiting for data ...')\n",
    "            time.sleep(1)\n",
    "        \n",
    "    def onData(self, msg):   # 不处理partial了\n",
    "        msg_handler_dict = {\n",
    "            'quote': self.__process_quote_msg,\n",
    "            'trade': self.__process_trade_msg,\n",
    "        }\n",
    "        tb = msg.get('table')\n",
    "        if tb in msg_handler_dict:\n",
    "            func = msg_handler_dict[tb]\n",
    "            func(msg)\n",
    "    \n",
    "    def __process_quote_msg(self, msg):\n",
    "        \"\"\"处理quote订阅：\n",
    "        组装 Orderbook()\n",
    "        丢进 market_data_q\n",
    "        \"\"\"\n",
    "        quote_s = msg['data']\n",
    "        for quote in quote_s:\n",
    "            ob = Orderbook(symbol=quote['symbol'], \n",
    "                           bid1=quote['bidPrice'], bid1vol=quote['bidSize'], \n",
    "                           ask1=quote['askPrice'], ask1vol=quote['askSize'], \n",
    "                           timestamp = quote['timestamp'])\n",
    "            self.market_data_q.put(ob)\n",
    "    \n",
    "    def __process_trade_msg(self, msg):\n",
    "        \"\"\"处理trade订阅：\n",
    "        组装 Tick()\n",
    "        丢进 market_data_q\n",
    "        \"\"\"\n",
    "        tick_s = msg['data']\n",
    "        for tick in tick_s:\n",
    "            tk = Tick(symbol=tick['symbol'],\n",
    "                      price=tick['price'],\n",
    "                      volume=tick['size'],\n",
    "                      direction=tick['side'],\n",
    "                      timestamp = tick['timestamp'])\n",
    "            self.market_data_q.put(tk)\n",
    "    \n",
    " \n",
    "        \n",
    "if __name__ == '__main__':\n",
    "    import queue\n",
    "    import time\n",
    "    \n",
    "    market_data_q = queue.Queue()\n",
    "    \n",
    "    bm_ws_market = bitmexWSMarket2(apiKey=None, apiSecret=None, \n",
    "                                   is_test=g.is_test, loglevel=g.loglevel, logfile=g.logfile)\n",
    "    bm_ws_market.connect()\n",
    "    bm_ws_market.add_market_data_q(market_data_q)\n",
    "    for s in g.symbols:\n",
    "        bm_ws_market.subscribe(s, trade=True, orderbook=True)\n",
    "    bm_ws_market.wait_for_data()\n",
    "\n",
    "    \n",
    "    print('===============================================')\n",
    "    while True:\n",
    "        try:\n",
    "            a = market_data_q.get(timeout=10)\n",
    "        except queue.Empty:\n",
    "            print('waring: no data in 10 sec')\n",
    "        else:\n",
    "            print(a)"
   ]
  },
  {
   "cell_type": "code",
   "execution_count": 257,
   "metadata": {
    "collapsed": false
   },
   "outputs": [
    {
     "name": "stderr",
     "output_type": "stream",
     "text": [
      "[2018-10-06 18:08:33 bitmexWS_Market2 INFO] Exiting ...\n",
      "[2018-10-06 18:08:33 bitmexWS_Market2 INFO] Exiting ...\n",
      "[2018-10-06 18:08:33 bitmexWS_Market2 INFO] Exiting ...\n",
      "[2018-10-06 18:08:33 bitmexWS_Market2 INFO] Exiting ...\n",
      "[2018-10-06 18:08:33 bitmexWS_Market2 INFO] Exiting ...\n",
      "[2018-10-06 18:08:37 bitmexWS_Market2 INFO] ping thread end.\n",
      "[2018-10-06 18:08:37 bitmexWS_Market2 INFO] ping thread end.\n",
      "[2018-10-06 18:08:37 bitmexWS_Market2 INFO] ping thread end.\n",
      "[2018-10-06 18:08:37 bitmexWS_Market2 INFO] ping thread end.\n",
      "[2018-10-06 18:08:37 bitmexWS_Market2 INFO] ping thread end.\n",
      "[2018-10-06 18:08:37 bitmexWS_Market2 DEBUG] Calling ws.__on_close()\n",
      "[2018-10-06 18:08:37 bitmexWS_Market2 DEBUG] Calling ws.__on_close()\n",
      "[2018-10-06 18:08:37 bitmexWS_Market2 INFO] Exit bitmexWS (intended)\n",
      "[2018-10-06 18:08:37 bitmexWS_Market2 DEBUG] Calling ws.__on_close()\n",
      "[2018-10-06 18:08:37 bitmexWS_Market2 INFO] Exit bitmexWS (intended)\n",
      "[2018-10-06 18:08:37 bitmexWS_Market2 DEBUG] Calling ws.__on_close()\n",
      "[2018-10-06 18:08:37 bitmexWS_Market2 INFO] Exit bitmexWS (intended)\n",
      "[2018-10-06 18:08:37 bitmexWS_Market2 DEBUG] Calling ws.__on_close()\n",
      "[2018-10-06 18:08:37 bitmexWS_Market2 INFO] Exit bitmexWS (intended)\n",
      "[2018-10-06 18:08:37 bitmexWS_Market2 INFO] Exit bitmexWS (intended)\n"
     ]
    }
   ],
   "source": [
    "bm_ws_market.exit()"
   ]
  },
  {
   "cell_type": "code",
   "execution_count": null,
   "metadata": {
    "collapsed": true
   },
   "outputs": [],
   "source": []
  }
 ],
 "metadata": {
  "kernelspec": {
   "display_name": "Python [Root]",
   "language": "python",
   "name": "Python [Root]"
  },
  "language_info": {
   "codemirror_mode": {
    "name": "ipython",
    "version": 3
   },
   "file_extension": ".py",
   "mimetype": "text/x-python",
   "name": "python",
   "nbconvert_exporter": "python",
   "pygments_lexer": "ipython3",
   "version": "3.5.2"
  }
 },
 "nbformat": 4,
 "nbformat_minor": 2
}
