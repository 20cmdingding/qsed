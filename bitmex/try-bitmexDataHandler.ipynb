{
 "cells": [
  {
   "cell_type": "markdown",
   "metadata": {},
   "source": [
    "## what to do next\n",
    "\n",
    "class bitmexDataHandler\n",
    "- bm_ws_market  订阅 成交明细，买一卖一\n",
    "- snapshot()   500毫秒一个切片，发送MarketEvent\n",
    "\n",
    "其中bm_ws_market中的如下成员有用：\n",
    "- prev_bar\n",
    "- current_bar\n",
    "- bid1, ask1\n",
    "\n",
    "todo:\n",
    "1. utils.calc_ts()\n",
    "2. 发布订阅 bar_type, bm_ws_market.subscribe('XBTUSD', ['1m', '5m'], false)\n",
    "3. bar和last_price需要有两个时间戳：交易所时间和本机实际收到的时间\n",
    "4. 定义一些全局变量，eg. 枚举类 BarType, def n_minutes()获取对应的分钟数\n",
    "\n",
    "bar_type 可以拼成任何时间周期，eg. 9m, 17m, 18m, 可以有shift   \n",
    "所以bar_type的格式是这样的： '9m3s', '18m25s'   \n",
    "trading_day, ts = 20180101, 190015   \n",
    "目前可以实现的： trading_day, ts = calc_td_ts()， ts保留至秒钟"
   ]
  },
  {
   "cell_type": "raw",
   "metadata": {},
   "source": [
    "# MarketEvent需定义格式：\n",
    "\n",
    "class MarketEvent(object):\n",
    "    def __init__(self, channel, market_event_type):\n",
    "        self.etype ='MARKET'\n",
    "        self.channel = channel\n",
    "        self.market_event_type = market_event_type\n",
    "\n",
    "# channel:\n",
    "# symbol:bar_type\n",
    "# eg. XBTUSD:1m, XBTUSD:snapshot, XBTUSD:tick\n",
    "\n",
    "# market_event_type:\n",
    "# BAR_OPEN, BAR_CLOSE, \n",
    "# SNAPSHOT, （格式同国内500ms切片，open,hightest,lowest,last,volume,oi,bid1,ask1）\n",
    "# TICK,\n",
    "# OB_TOP, OB_10, OB_ALL\n",
    "\n",
    "# 注意 MARKET_EVENT 只是提示“有事件”，但它自身不带data"
   ]
  },
  {
   "cell_type": "code",
   "execution_count": null,
   "metadata": {
    "collapsed": true
   },
   "outputs": [],
   "source": []
  },
  {
   "cell_type": "markdown",
   "metadata": {
    "collapsed": true
   },
   "source": [
    "## next (Otc 7th)"
   ]
  },
  {
   "cell_type": "raw",
   "metadata": {},
   "source": [
    "1. MarketEvent 定义格式,push to main event_q\n",
    "2. register_tick/orderbook event\n",
    "push_tick_event\n",
    "push_order_event"
   ]
  },
  {
   "cell_type": "markdown",
   "metadata": {},
   "source": [
    "## next: 路线图"
   ]
  },
  {
   "cell_type": "markdown",
   "metadata": {},
   "source": [
    "1. 切换回 master 分支\n",
    "2. 重新组织结构：\n",
    "    + 将DataHandler中的MarketData定义剥离出来\n",
    "    + 主目录下文件清理\n",
    "3. 定义事件，写事件引擎\n",
    "    + event/eventType.py, \n",
    "    + evetn/eventEvgine.py\n",
    "4. 将 bitmex/main.py 封装成 MainEngine\n",
    "5. MainEngine, EventEngine与`DataHandler`联调\n",
    "6. 写Strategy\n",
    "7. `Strategy`, DataHandler 与 EventEngine 联调\n",
    "8. 写Portfolio\n",
    "9. `Protoflio`, Strategy, DataHandler 与 EventEngine 联调"
   ]
  },
  {
   "cell_type": "markdown",
   "metadata": {},
   "source": [
    "![](figs/structure.jpeg)"
   ]
  },
  {
   "cell_type": "code",
   "execution_count": null,
   "metadata": {
    "collapsed": true
   },
   "outputs": [],
   "source": []
  }
 ],
 "metadata": {
  "kernelspec": {
   "display_name": "Python [Root]",
   "language": "python",
   "name": "Python [Root]"
  },
  "language_info": {
   "codemirror_mode": {
    "name": "ipython",
    "version": 3
   },
   "file_extension": ".py",
   "mimetype": "text/x-python",
   "name": "python",
   "nbconvert_exporter": "python",
   "pygments_lexer": "ipython3",
   "version": "3.5.2"
  }
 },
 "nbformat": 4,
 "nbformat_minor": 2
}
