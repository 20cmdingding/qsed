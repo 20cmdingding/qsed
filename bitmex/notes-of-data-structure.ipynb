{
 "cells": [
  {
   "cell_type": "markdown",
   "metadata": {},
   "source": [
    "## 订阅position，不下单，只观察"
   ]
  },
  {
   "cell_type": "markdown",
   "metadata": {},
   "source": [
    "> 先是收到partial, 当前仓位状态\n",
    "> \n",
    "> 后面会不断收到update, 更新的内容主要是 lastPrice 和 markPrice，而 currentQty 不变\n",
    "\n",
    "![](figs/position-1.png)\n",
    "![](figs/position-2.png)"
   ]
  },
  {
   "cell_type": "markdown",
   "metadata": {},
   "source": [
    "### position: partial的数据结构"
   ]
  },
  {
   "cell_type": "raw",
   "metadata": {},
   "source": [
    "{  \n",
    "   'types':{  },\n",
    "   'data':[  \n",
    "      { \n",
    "          'currentTimestamp':'2018-10-04T06:20:00.109Z'  # 时间戳\n",
    "          'currentQty':-60,        # 目前持有的仓位\n",
    "          'symbol':'XBTUSD',       # 标的\n",
    "      },\n",
    "      {  }\n",
    "   ],\n",
    "   'foreignKeys':{  \n",
    "      'symbol':'instrument'\n",
    "   },\n",
    "   'filter':{  \n",
    "      'account':101488\n",
    "   },\n",
    "   'attributes':{  \n",
    "      'symbol':'grouped',\n",
    "      'underlying':'grouped',\n",
    "      'account':'sorted',\n",
    "      'quoteCurrency':'grouped',\n",
    "      'currency':'grouped'\n",
    "   },\n",
    "   'keys':[  \n",
    "      'account',\n",
    "      'symbol',\n",
    "      'currency'\n",
    "   ],\n",
    "   'table':'position',\n",
    "   'action':'partial'\n",
    "}"
   ]
  },
  {
   "cell_type": "markdown",
   "metadata": {},
   "source": [
    "## 订阅order， 不下单，只观察"
   ]
  },
  {
   "cell_type": "markdown",
   "metadata": {},
   "source": [
    "![](figs/order.png)"
   ]
  },
  {
   "cell_type": "markdown",
   "metadata": {},
   "source": [
    "##  订阅execution，不下单，只观察"
   ]
  },
  {
   "cell_type": "markdown",
   "metadata": {},
   "source": [
    "一开始收到一个partial,之后再没有了\n",
    "\n",
    "![](figs/execution.png)"
   ]
  },
  {
   "cell_type": "markdown",
   "metadata": {},
   "source": [
    "## 实验：手动下单，观察收到的message\n",
    "\n",
    "同时订阅 order, position, execution\n",
    "\n",
    "买入30 XBTUSD@6546.5"
   ]
  },
  {
   "cell_type": "markdown",
   "metadata": {},
   "source": [
    "### 结论\n",
    "\n",
    "(订阅) --> 按照订阅顺序收到三个partial     \n",
    "--> (下单) --> order && execution insert --> order (work=True) --> position( + openOrdBuyQty)      \n",
    "--> (成交) --> execution insert && order update(Filled, work=false) --> position(openOrdXXQty=0)\n",
    "\n",
    "结论：盯住position"
   ]
  },
  {
   "cell_type": "raw",
   "metadata": {},
   "source": [
    "# 收到消息的顺序：\n",
    "\n",
    "### 获取初始状态： order, position, execution 三个订阅的partial\n",
    "\n",
    "order: partial ====================================\n",
    "{'data': [], 'table': 'order', 'action': 'partial', ...}\n",
    "\n",
    "position: parital ====================================\n",
    "{'data': [\n",
    "    {'currentQty': -20,symbol:'XBTUSD'}\n",
    "], 'table': 'position', 'action': 'partial'}\n",
    "\n",
    "execution: partial ====================================\n",
    "{'data': [], 'table': 'execution', 'action': 'partial'}\n",
    "\n",
    "####################\n",
    "### 网页上手动下单 ###\n",
    "####################\n",
    "\n",
    "order:insert --> execution:insert --> order:update(workingIndicator:True) --> position:update\n",
    "\n",
    "============order==========\n",
    "{'table': 'order', 'action': 'insert', 'data': [\n",
    "{\n",
    "'leavesQty': 5,  \n",
    "'orderID': '2904343d-31a3-425f-7466-985412e91468',\n",
    "'workingIndicator': False, \n",
    "'side': 'Buy', \n",
    "'price': 6549.5,\n",
    "'orderQty': 5, \n",
    "'ordType': 'Limit', \n",
    "'ordStatus': 'New', \n",
    "'symbol': 'XBTUSD', \n",
    "'text': 'Submission from testnet.bitmex.com'}]}\n",
    "\n",
    "========================execution==================\n",
    "{'table': 'execution', 'action': 'insert', 'data': [{'leavesQty': 5, ...\n",
    "\n",
    "========================order==================\n",
    "order:update\n",
    "{'table': 'order', 'action': 'update', 'data': [{... 'workingIndicator': True}]}\n",
    "\n",
    "========================position==================\n",
    "position:update\n",
    "{'table': 'position', 'action': 'update', 'data': [{...\n",
    "    'symbol': 'XBTUSD', 'currentQty': -20, 'openOrderBuyQty': 5}]}\n",
    "\n",
    "\n",
    "####################\n",
    "###  订单全部成交  ###\n",
    "####################\n",
    "\n",
    "execution:insert --> order:update --> position:update\n",
    "\n",
    "========================execution==================\n",
    "{'table': 'execution', 'action': 'insert', 'data': [{'leavesQty': 0, 'orderID': '2904343d-31a3-425f-7466-985412e91468'\n",
    "\n",
    "========================order==================\n",
    "{'table': 'order', 'action': 'update', 'data': [{\n",
    "'leavesQty': 0, \n",
    "'orderID': '2904343d-31a3-425f-7466-985412e91468', \n",
    "'ordStatus': 'Filled', \n",
    "'symbol': 'XBTUSD', \n",
    "'workingIndicator': False}]}\n",
    "\n",
    "========================position==================\n",
    "{'table': 'position', 'action': 'update', 'data': [{'currentQty': -15, 'openOrderBuyQty': 0\n",
    "\n",
    "####################\n",
    "###  几秒后  ###\n",
    "####################\n",
    "\n",
    "========================position==================\n",
    "{'table': 'position', 'action': 'update', 'data': [{'currentTimestamp': '2018-10-04T07:08:21.041Z', 'simpleQty': -0.0023, 'liquidationPrice': 100000000, 'account': 101488, 'currentQty': -15, 'timestamp': '2018-10-04T07:08:21.041Z', 'symbol': 'XBTUSD', 'currency': 'XBt', 'markPrice': 6564.69, 'lastPrice': 6564.69}]}"
   ]
  },
  {
   "cell_type": "markdown",
   "metadata": {},
   "source": [
    "全纪录："
   ]
  },
  {
   "cell_type": "raw",
   "metadata": {},
   "source": [
    "[2018-10-04 15:08:03 bitmexWS INFO] ws thread start\n",
    "[2018-10-04 15:08:05 bitmexWS DEBUG] Calling ws.__on_open()\n",
    "[2018-10-04 15:08:05 bitmexWS INFO] Successful connected to BitMEX WebSocket API\n",
    "[2018-10-04 15:08:05 bitmexWS DEBUG] >>> send ping\n",
    "[2018-10-04 15:08:05 bitmexWS INFO] Subscribe to order\n",
    "[2018-10-04 15:08:05 bitmexWS INFO] Subscribe to position\n",
    "[2018-10-04 15:08:05 bitmexWS INFO] Subscribe to execution\n",
    "[2018-10-04 15:08:05 bitmexWS INFO] Got order msg\n",
    "[2018-10-04 15:08:05 bitmexWS INFO] Got position msg:\n",
    "[2018-10-04 15:08:05 bitmexWS INFO] Got execution msg\n",
    "========================order==================\n",
    "{'data': [], 'table': 'order', 'action': 'partial', 'types': {'leavesQty': 'long', 'simpleOrderQty': 'float', 'orderID': 'guid', 'avgPx': 'float', 'settlCurrency': 'symbol', 'displayQty': 'long', 'simpleCumQty': 'float', 'workingIndicator': 'boolean', 'side': 'symbol', 'account': 'long', 'execInst': 'symbol', 'clOrdLinkID': 'symbol', 'contingencyType': 'symbol', 'ordRejReason': 'symbol', 'multiLegReportingType': 'symbol', 'simpleLeavesQty': 'float', 'price': 'float', 'stopPx': 'float', 'triggered': 'symbol', 'orderQty': 'long', 'timestamp': 'timestamp', 'ordType': 'symbol', 'pegOffsetValue': 'float', 'exDestination': 'symbol', 'clOrdID': 'symbol', 'timeInForce': 'symbol', 'ordStatus': 'symbol', 'currency': 'symbol', 'pegPriceType': 'symbol', 'transactTime': 'timestamp', 'symbol': 'symbol', 'cumQty': 'long', 'text': 'symbol'}, 'filter': {'account': 101488}, 'foreignKeys': {'side': 'side', 'symbol': 'instrument', 'ordStatus': 'ordStatus'}, 'attributes': {'ordStatus': 'grouped', 'account': 'grouped', 'workingIndicator': 'grouped', 'orderID': 'grouped'}, 'keys': ['orderID']}\n",
    "========================position==================\n",
    "{'data': [{'bankruptPrice': None, 'shortBankrupt': 0, 'deleveragePercentile': None, 'markPrice': None, 'rebalancedPnl': 0, 'varMargin': 0, 'liquidationPrice': None, 'lastPrice': None, 'execSellCost': 0, 'simpleValue': 0, 'taxableMargin': 0, 'realisedPnl': 0, 'unrealisedPnl': 0, 'markValue': 0, 'foreignNotional': 0, 'unrealisedRoePcnt': 0, 'posMargin': 0, 'posLoss': 0, 'grossOpenPremium': 0, 'currentQty': 0, 'posAllowance': 0, 'homeNotional': 0, 'longBankrupt': 0, 'openingComm': 0, 'marginCallPrice': None, 'realisedCost': 0, 'isOpen': False, 'posState': '', 'taxBase': 0, 'realisedTax': 0, 'breakEvenPrice': None, 'sessionMargin': 0, 'maintMarginReq': 0.01, 'unrealisedTax': 0, 'avgCostPrice': None, 'currentComm': 0, 'avgEntryPrice': None, 'simplePnlPcnt': 0, 'openOrderBuyQty': 0, 'maintMargin': 0, 'posCost': 0, 'openingTimestamp': '2018-10-04T07:00:00.000Z', 'account': 101488, 'execComm': 0, 'openOrderSellQty': 0, 'unrealisedPnlPcnt': 0, 'posMaint': 0, 'posCross': 0, 'quoteCurrency': 'USD', 'currentCost': 0, 'indicativeTax': 0, 'execSellQty': 0, 'timestamp': '2018-10-04T07:00:00.246Z', 'commission': 0.00075, 'realisedGrossPnl': 0, 'unrealisedCost': 0, 'posInit': 0, 'openOrderSellCost': 0, 'currency': 'XBt', 'execBuyQty': 0, 'posCost2': 0, 'simpleCost': 0, 'openOrderSellPremium': 0, 'grossOpenCost': 0, 'posComm': 0, 'prevClosePrice': 219.11, 'currentTimestamp': '2018-10-04T07:00:00.246Z', 'prevRealisedPnl': 1993, 'execBuyCost': 0, 'execQty': 0, 'grossExecCost': 0, 'prevUnrealisedPnl': 0, 'underlying': 'ETH', 'simpleQty': 0, 'openingCost': 0, 'riskLimit': 5000000000, 'riskValue': 0, 'initMargin': 0, 'openOrderBuyPremium': 0, 'simplePnl': 0, 'lastValue': 0, 'targetExcessMargin': 0, 'unrealisedGrossPnl': 0, 'initMarginReq': 0.02, 'openOrderBuyCost': 0, 'crossMargin': True, 'symbol': 'ETHUSD', 'execCost': 0, 'leverage': 50, 'openingQty': 0, 'indicativeTaxRate': 0}, {'bankruptPrice': 100000000, 'shortBankrupt': 0, 'deleveragePercentile': 1, 'markPrice': 6564.66, 'rebalancedPnl': -2257, 'varMargin': 0, 'liquidationPrice': 100000000, 'lastPrice': 6564.66, 'execSellCost': 0, 'simpleValue': -20.5, 'taxableMargin': 0, 'realisedPnl': -4102, 'unrealisedPnl': -7920, 'markValue': 304660, 'foreignNotional': 20, 'unrealisedRoePcnt': -2.5338, 'posMargin': 11304, 'posLoss': 20217, 'grossOpenPremium': 0, 'currentQty': -20, 'posAllowance': 0, 'homeNotional': -0.0030466, 'longBankrupt': 0, 'openingComm': -10072, 'marginCallPrice': 100000000, 'realisedCost': 14060, 'isOpen': True, 'posState': '', 'taxBase': 0, 'realisedTax': 0, 'breakEvenPrice': 6270.5, 'sessionMargin': 0, 'maintMarginReq': 0.005, 'unrealisedTax': 0, 'avgCostPrice': 6398.5, 'currentComm': -9958, 'avgEntryPrice': 6398.5, 'simplePnlPcnt': -0.025, 'openOrderBuyQty': 0, 'maintMargin': 3384, 'posCost': 312580, 'openingTimestamp': '2018-10-04T07:00:00.000Z', 'account': 101488, 'execComm': 114, 'openOrderSellQty': 0, 'unrealisedPnlPcnt': -0.0253, 'posMaint': 1821, 'posCross': 28137, 'quoteCurrency': 'USD', 'currentCost': 326640, 'indicativeTax': 0, 'execSellQty': 0, 'timestamp': '2018-10-04T07:08:00.081Z', 'commission': 0.00075, 'realisedGrossPnl': -14060, 'unrealisedCost': 312580, 'posInit': 3126, 'openOrderSellCost': 0, 'currency': 'XBt', 'execBuyQty': 10, 'posCost2': 332797, 'simpleCost': -20, 'openOrderSellPremium': 0, 'grossOpenCost': 0, 'posComm': 258, 'prevClosePrice': 6553.62, 'currentTimestamp': '2018-10-04T07:08:00.081Z', 'prevRealisedPnl': 4501, 'execBuyCost': 152850, 'execQty': 10, 'grossExecCost': 0, 'prevUnrealisedPnl': 0, 'underlying': 'XBT', 'simpleQty': -0.0031, 'openingCost': 479490, 'riskLimit': 20000000000, 'riskValue': 304660, 'initMargin': 0, 'openOrderBuyPremium': 0, 'simplePnl': -0.5, 'lastValue': 304660, 'targetExcessMargin': 0, 'unrealisedGrossPnl': -7920, 'initMarginReq': 0.01, 'openOrderBuyCost': 0, 'crossMargin': True, 'symbol': 'XBTUSD', 'execCost': -152850, 'leverage': 100, 'openingQty': -30, 'indicativeTaxRate': 0}], 'table': 'position', 'action': 'partial', 'types': {'bankruptPrice': 'float', 'shortBankrupt': 'long', 'deleveragePercentile': 'float', 'markPrice': 'float', 'rebalancedPnl': 'long', 'varMargin': 'long', 'liquidationPrice': 'float', 'lastPrice': 'float', 'execSellCost': 'long', 'simpleValue': 'float', 'taxableMargin': 'long', 'realisedPnl': 'long', 'unrealisedPnl': 'long', 'markValue': 'long', 'foreignNotional': 'float', 'unrealisedRoePcnt': 'float', 'posMargin': 'long', 'posLoss': 'long', 'grossOpenPremium': 'long', 'currentQty': 'long', 'posAllowance': 'long', 'homeNotional': 'float', 'longBankrupt': 'long', 'openingComm': 'long', 'marginCallPrice': 'float', 'realisedCost': 'long', 'isOpen': 'boolean', 'posState': 'symbol', 'taxBase': 'long', 'realisedTax': 'long', 'breakEvenPrice': 'float', 'sessionMargin': 'long', 'maintMarginReq': 'float', 'unrealisedTax': 'long', 'avgCostPrice': 'float', 'currentComm': 'long', 'avgEntryPrice': 'float', 'simplePnlPcnt': 'float', 'openOrderBuyQty': 'long', 'maintMargin': 'long', 'posCost': 'long', 'openingTimestamp': 'timestamp', 'account': 'long', 'execComm': 'long', 'openOrderSellQty': 'long', 'unrealisedPnlPcnt': 'float', 'posMaint': 'long', 'posCross': 'long', 'quoteCurrency': 'symbol', 'currentCost': 'long', 'indicativeTax': 'long', 'execSellQty': 'long', 'timestamp': 'timestamp', 'commission': 'float', 'realisedGrossPnl': 'long', 'unrealisedCost': 'long', 'posInit': 'long', 'openOrderSellCost': 'long', 'currency': 'symbol', 'execBuyQty': 'long', 'posCost2': 'long', 'simpleCost': 'float', 'openOrderSellPremium': 'long', 'grossOpenCost': 'long', 'posComm': 'long', 'prevClosePrice': 'float', 'currentTimestamp': 'timestamp', 'prevRealisedPnl': 'long', 'execBuyCost': 'long', 'execQty': 'long', 'grossExecCost': 'long', 'prevUnrealisedPnl': 'long', 'underlying': 'symbol', 'simpleQty': 'float', 'openingCost': 'long', 'riskLimit': 'long', 'riskValue': 'long', 'initMargin': 'long', 'openOrderBuyPremium': 'long', 'simplePnl': 'float', 'lastValue': 'long', 'targetExcessMargin': 'long', 'unrealisedGrossPnl': 'long', 'initMarginReq': 'float', 'openOrderBuyCost': 'long', 'crossMargin': 'boolean', 'symbol': 'symbol', 'execCost': 'long', 'leverage': 'float', 'openingQty': 'long', 'indicativeTaxRate': 'float'}, 'filter': {'account': 101488}, 'foreignKeys': {'symbol': 'instrument'}, 'attributes': {'symbol': 'grouped', 'account': 'sorted', 'quoteCurrency': 'grouped', 'currency': 'grouped', 'underlying': 'grouped'}, 'keys': ['account', 'symbol', 'currency']}\n",
    "========================execution==================\n",
    "{'data': [], 'table': 'execution', 'action': 'partial', 'types': {'leavesQty': 'long', 'ordType': 'symbol', 'simpleOrderQty': 'float', 'execComm': 'long', 'lastLiquidityInd': 'symbol', 'text': 'symbol', 'trdMatchID': 'guid', 'multiLegReportingType': 'symbol', 'commission': 'float', 'ordRejReason': 'symbol', 'homeNotional': 'float', 'avgPx': 'float', 'foreignNotional': 'float', 'simpleLeavesQty': 'float', 'orderID': 'guid', 'lastMkt': 'symbol', 'pegOffsetValue': 'float', 'price': 'float', 'clOrdID': 'symbol', 'timeInForce': 'symbol', 'currency': 'symbol', 'cumQty': 'long', 'lastQty': 'long', 'execID': 'guid', 'transactTime': 'timestamp', 'orderQty': 'long', 'settlCurrency': 'symbol', 'displayQty': 'long', 'workingIndicator': 'boolean', 'side': 'symbol', 'tradePublishIndicator': 'symbol', 'clOrdLinkID': 'symbol', 'contingencyType': 'symbol', 'execType': 'symbol', 'symbol': 'symbol', 'stopPx': 'float', 'triggered': 'symbol', 'underlyingLastPx': 'float', 'lastPx': 'float', 'timestamp': 'timestamp', 'execInst': 'symbol', 'exDestination': 'symbol', 'ordStatus': 'symbol', 'account': 'long', 'pegPriceType': 'symbol', 'simpleCumQty': 'float', 'execCost': 'long'}, 'filter': {'account': 101488}, 'foreignKeys': {'side': 'side', 'symbol': 'instrument', 'ordStatus': 'ordStatus'}, 'attributes': {'transactTime': 'sorted', 'execID': 'grouped', 'execType': 'grouped', 'account': 'grouped'}, 'keys': ['execID']}\n",
    "[2018-10-04 15:08:10 bitmexWS DEBUG] >>> send ping\n",
    "[2018-10-04 15:08:11 bitmexWS INFO] Got order msg\n",
    "[2018-10-04 15:08:11 bitmexWS INFO] Got execution msg\n",
    "[2018-10-04 15:08:11 bitmexWS INFO] Got order msg\n",
    "[2018-10-04 15:08:11 bitmexWS INFO] Got position msg:\n",
    "[2018-10-04 15:08:11 bitmexWS INFO] Got execution msg\n",
    "[2018-10-04 15:08:11 bitmexWS INFO] Got order msg\n",
    "[2018-10-04 15:08:11 bitmexWS INFO] Got position msg:\n",
    "========================order==================\n",
    "{'table': 'order', 'action': 'insert', 'data': [{'leavesQty': 5, 'simpleOrderQty': None, 'orderID': '2904343d-31a3-425f-7466-985412e91468', 'avgPx': None, 'settlCurrency': 'XBt', 'displayQty': None, 'simpleCumQty': 0, 'workingIndicator': False, 'side': 'Buy', 'account': 101488, 'execInst': '', 'clOrdLinkID': '', 'contingencyType': '', 'ordRejReason': '', 'multiLegReportingType': 'SingleSecurity', 'simpleLeavesQty': 0.0008, 'price': 6549.5, 'stopPx': None, 'triggered': '', 'orderQty': 5, 'timestamp': '2018-10-04T07:08:10.495Z', 'ordType': 'Limit', 'pegOffsetValue': None, 'exDestination': 'XBME', 'clOrdID': '', 'timeInForce': 'GoodTillCancel', 'ordStatus': 'New', 'currency': 'USD', 'pegPriceType': '', 'transactTime': '2018-10-04T07:08:10.495Z', 'symbol': 'XBTUSD', 'cumQty': 0, 'text': 'Submission from testnet.bitmex.com'}]}\n",
    "========================execution==================\n",
    "{'table': 'execution', 'action': 'insert', 'data': [{'leavesQty': 5, 'ordType': 'Limit', 'simpleOrderQty': None, 'execComm': None, 'lastLiquidityInd': '', 'text': 'Submission from testnet.bitmex.com', 'trdMatchID': '00000000-0000-0000-0000-000000000000', 'multiLegReportingType': 'SingleSecurity', 'commission': None, 'ordRejReason': '', 'homeNotional': None, 'avgPx': None, 'foreignNotional': None, 'simpleLeavesQty': 0.0008, 'orderID': '2904343d-31a3-425f-7466-985412e91468', 'lastMkt': '', 'pegOffsetValue': None, 'price': 6549.5, 'clOrdID': '', 'timeInForce': 'GoodTillCancel', 'currency': 'USD', 'cumQty': 0, 'lastQty': None, 'execID': '91327529-cd74-1ad7-f39b-0cf1044e4217', 'transactTime': '2018-10-04T07:08:10.495Z', 'orderQty': 5, 'settlCurrency': 'XBt', 'displayQty': None, 'workingIndicator': True, 'side': 'Buy', 'tradePublishIndicator': '', 'clOrdLinkID': '', 'contingencyType': '', 'execType': 'New', 'symbol': 'XBTUSD', 'stopPx': None, 'triggered': '', 'underlyingLastPx': None, 'lastPx': None, 'timestamp': '2018-10-04T07:08:10.495Z', 'execInst': '', 'exDestination': 'XBME', 'ordStatus': 'New', 'account': 101488, 'pegPriceType': '', 'simpleCumQty': 0, 'execCost': None}]}\n",
    "========================order==================\n",
    "{'table': 'order', 'action': 'update', 'data': [{'clOrdID': '', 'account': 101488, 'timestamp': '2018-10-04T07:08:10.495Z', 'orderID': '2904343d-31a3-425f-7466-985412e91468', 'symbol': 'XBTUSD', 'workingIndicator': True}]}\n",
    "========================position==================\n",
    "{'table': 'position', 'action': 'update', 'data': [{'simpleQty': -0.0031, 'liquidationPrice': 100000000, 'account': 101488, 'timestamp': '2018-10-04T07:08:10.496Z', 'openOrderBuyCost': -76355, 'symbol': 'XBTUSD', 'currentQty': -20, 'currency': 'XBt', 'markPrice': 6564.66, 'openOrderBuyQty': 5}]}\n",
    "========================execution==================\n",
    "{'table': 'execution', 'action': 'insert', 'data': [{'leavesQty': 0, 'ordType': 'Limit', 'simpleOrderQty': None, 'execComm': 57, 'lastLiquidityInd': 'RemovedLiquidity', 'text': 'Submission from testnet.bitmex.com', 'trdMatchID': '1fe7e08b-f9e2-f265-4a43-293f77815331', 'multiLegReportingType': 'SingleSecurity', 'commission': 0.00075, 'ordRejReason': '', 'homeNotional': 0.00076355, 'avgPx': 6548.5, 'foreignNotional': -5, 'simpleLeavesQty': 0, 'orderID': '2904343d-31a3-425f-7466-985412e91468', 'lastMkt': 'XBME', 'pegOffsetValue': None, 'price': 6549.5, 'clOrdID': '', 'timeInForce': 'GoodTillCancel', 'currency': 'USD', 'cumQty': 5, 'lastQty': 5, 'execID': '3d6c6c92-d8ba-bfd5-3a91-ef6d71719aff', 'transactTime': '2018-10-04T07:08:10.495Z', 'orderQty': 5, 'settlCurrency': 'XBt', 'displayQty': None, 'workingIndicator': False, 'side': 'Buy', 'tradePublishIndicator': 'PublishTrade', 'clOrdLinkID': '', 'contingencyType': '', 'execType': 'Trade', 'symbol': 'XBTUSD', 'stopPx': None, 'triggered': '', 'underlyingLastPx': None, 'lastPx': 6548.5, 'timestamp': '2018-10-04T07:08:10.495Z', 'execInst': '', 'exDestination': 'XBME', 'ordStatus': 'Filled', 'account': 101488, 'pegPriceType': '', 'simpleCumQty': 0.00078145, 'execCost': -76355}]}\n",
    "========================order==================\n",
    "{'table': 'order', 'action': 'update', 'data': [{'leavesQty': 0, 'avgPx': 6548.5, 'timestamp': '2018-10-04T07:08:10.495Z', 'orderID': '2904343d-31a3-425f-7466-985412e91468', 'cumQty': 5, 'clOrdID': '', 'ordStatus': 'Filled', 'account': 101488, 'symbol': 'XBTUSD', 'workingIndicator': False, 'simpleLeavesQty': 0, 'simpleCumQty': 0.00078145}]}\n",
    "========================position==================\n",
    "{'table': 'position', 'action': 'update', 'data': [{'posLoss': 15163, 'homeNotional': -0.00228495, 'execComm': 171, 'lastValue': 228495, 'posComm': 194, 'markPrice': 6564.66, 'simpleCost': -15, 'currentTimestamp': '2018-10-04T07:08:10.497Z', 'posMaint': 1367, 'realisedCost': 15850, 'execQty': 15, 'posCost': 234435, 'simpleValue': -15.5, 'currency': 'XBt', 'realisedPnl': -5949, 'currentCost': 250285, 'unrealisedPnl': -5940, 'simpleQty': -0.0023, 'posInit': 2345, 'liquidationPrice': 100000000, 'execBuyCost': 229205, 'markValue': 228495, 'foreignNotional': 15, 'riskValue': 228495, 'breakEvenPrice': 6181.5, 'symbol': 'XBTUSD', 'timestamp': '2018-10-04T07:08:10.497Z', 'realisedGrossPnl': -15850, 'posMargin': 8479, 'unrealisedCost': 234435, 'posCross': 21103, 'posCost2': 249598, 'unrealisedGrossPnl': -5940, 'account': 101488, 'currentQty': -15, 'openOrderBuyCost': 0, 'simplePnlPcnt': -0.0333, 'execBuyQty': 15, 'execCost': -229205, 'openOrderBuyQty': 0, 'maintMargin': 2539, 'currentComm': -9901}]}\n",
    "[2018-10-04 15:08:15 bitmexWS DEBUG] >>> send ping\n",
    "[2018-10-04 15:08:20 bitmexWS DEBUG] >>> send ping\n",
    "[2018-10-04 15:08:22 bitmexWS INFO] Got position msg:\n",
    "========================position==================\n",
    "{'table': 'position', 'action': 'update', 'data': [{'currentTimestamp': '2018-10-04T07:08:21.041Z', 'simpleQty': -0.0023, 'liquidationPrice': 100000000, 'account': 101488, 'currentQty': -15, 'timestamp': '2018-10-04T07:08:21.041Z', 'symbol': 'XBTUSD', 'currency': 'XBt', 'markPrice': 6564.69, 'lastPrice': 6564.69}]}\n",
    "[2018-10-04 15:08:25 bitmexWS INFO] Exiting ...\n",
    "[2018-10-04 15:08:25 bitmexWS INFO] ping thread end.\n",
    "[2018-10-04 15:08:25 bitmexWS DEBUG] Calling ws.__on_close()\n",
    "[2018-10-04 15:08:25 bitmexWS INFO] Exit bitmexWS (intended)"
   ]
  },
  {
   "cell_type": "markdown",
   "metadata": {},
   "source": [
    "## Order - in details"
   ]
  },
  {
   "cell_type": "raw",
   "metadata": {},
   "source": [
    "订阅order主题，接收到的table\n",
    "\n",
    "partial:\n",
    "\n",
    "========================== MESSAGE ==========================\n",
    "{\"table\":\"order\",\n",
    "\"action\":\"partial\",\n",
    "\"keys\":[\"orderID\"],\n",
    "\"types\":{\"orderID\":\"guid\",\"clOrdID\":\"symbol\",\"clOrdLinkID\":\"symbol\",\"account\":\"long\",\"symbol\":\"symbol\",\"side\":\"symbol\",\"simpleOrderQty\":\"float\",\"orderQty\":\"long\",\"price\":\"float\",\"displayQty\":\"long\",\"stopPx\":\"float\",\"pegOffsetValue\":\"float\",\"pegPriceType\":\"symbol\",\"currency\":\"symbol\",\"settlCurrency\":\"symbol\",\"ordType\":\"symbol\",\"timeInForce\":\"symbol\",\"execInst\":\"symbol\",\"contingencyType\":\"symbol\",\"exDestination\":\"symbol\",\"ordStatus\":\"symbol\",\"triggered\":\"symbol\",\"workingIndicator\":\"boolean\",\"ordRejReason\":\"symbol\",\"simpleLeavesQty\":\"float\",\"leavesQty\":\"long\",\"simpleCumQty\":\"float\",\"cumQty\":\"long\",\"avgPx\":\"float\",\"multiLegReportingType\":\"symbol\",\"text\":\"symbol\",\"transactTime\":\"timestamp\",\"timestamp\":\"timestamp\"},\n",
    "\"foreignKeys\":{\"symbol\":\"instrument\",\"side\":\"side\",\"ordStatus\":\"ordStatus\"},\n",
    "\"attributes\":{\"orderID\":\"grouped\",\"account\":\"grouped\",\"ordStatus\":\"grouped\",\"workingIndicator\":\"grouped\"},\n",
    "\"filter\":{\"account\":101488},\n",
    "\"data\":[\n",
    "\n",
    "{\n",
    "\"orderID\":\"bc84e8aa-3315-9a1b-65b6-935262a3dd9d\",\n",
    "\"clOrdID\":\"\",\n",
    "\"clOrdLinkID\":\"\",\n",
    "\"account\":101488,\n",
    "\"symbol\":\"XBTUSD\",\n",
    "\"side\":\"Buy\",\n",
    "\"simpleOrderQty\":null,\n",
    "\"orderQty\":30,\n",
    "\"price\":6270,\n",
    "\n",
    "\"displayQty\":null,\"stopPx\":null,\"pegOffsetValue\":null,\"pegPriceType\":\"\",\"currency\":\"USD\",\"settlCurrency\":\"XBt\",\"ordType\":\"Limit\",\"timeInForce\":\"GoodTillCancel\",\"execInst\":\"\",\"contingencyType\":\"\",\"exDestination\":\"XBME\",\n",
    "\n",
    "\"ordStatus\":\"New\",\n",
    "\n",
    "\"triggered\":\"\",\"workingIndicator\":true,\"ordRejReason\":\"\",\"simpleLeavesQty\":0.0048,\"leavesQty\":30,\"simpleCumQty\":0,\"cumQty\":0,\"avgPx\":null,\"multiLegReportingType\":\"SingleSecurity\",\n",
    "\n",
    "\"text\":\"Submission from testnet.bitmex.com\",\n",
    "\"transactTime\":\"2018-09-10T10:52:49.605Z\",\n",
    "\"timestamp\":\"2018-09-10T10:52:49.605Z\"}\n",
    "]}"
   ]
  },
  {
   "cell_type": "raw",
   "metadata": {},
   "source": [
    "insert && update:\n",
    "\n",
    "========================== MESSAGE ==========================\n",
    "{\"table\":\"order\",\n",
    "\"action\":\"insert\",\n",
    "\"data\":[{\n",
    "\"orderID\":\"1c4075ce-21eb-9adc-eb91-a08f041c1165\",\n",
    "\"clOrdID\":\"\",\n",
    "\"clOrdLinkID\":\"\",\n",
    "\"account\":101488,\n",
    "\"symbol\":\"XBTUSD\",\n",
    "\"side\":\"Sell\",\n",
    "\"simpleOrderQty\":null,\n",
    "\"orderQty\":30,\n",
    "\"price\":6500,\n",
    "\"displayQty\":null,\"stopPx\":null,\"pegOffsetValue\":null,\"pegPriceType\":\"\",\"currency\":\"USD\",\"settlCurrency\":\"XBt\",\"ordType\":\"Limit\",\"timeInForce\":\"GoodTillCancel\",\"execInst\":\"\",\"contingencyType\":\"\",\"exDestination\":\"XBME\",\"ordStatus\":\"New\",\"triggered\":\"\",\n",
    "\n",
    "\"workingIndicator\":false,\n",
    "\n",
    "\"ordRejReason\":\"\",\"simpleLeavesQty\":0.0046,\"leavesQty\":30,\"simpleCumQty\":0,\"cumQty\":0,\"avgPx\":null,\"multiLegReportingType\":\"SingleSecurity\",\n",
    "\"text\":\"Submission from testnet.bitmex.com\",\n",
    "\"transactTime\":\"2018-09-10T14:06:58.646Z\",\n",
    "\"timestamp\":\"2018-09-10T14:06:58.646Z\"}]}\n",
    "========================== MESSAGE ==========================\n",
    "{\"table\":\"order\",\n",
    "\"action\":\"update\",\n",
    "\"data\":[{\"orderID\":\"1c4075ce-21eb-9adc-eb91-a08f041c1165\",\n",
    "\n",
    "\"workingIndicator\":true,\n",
    "\n",
    "\"clOrdID\":\"\",\"account\":101488,\"symbol\":\"XBTUSD\",\"timestamp\":\"2018-09-10T14:06:58.646Z\"}]}r"
   ]
  },
  {
   "cell_type": "code",
   "execution_count": null,
   "metadata": {
    "collapsed": true
   },
   "outputs": [],
   "source": []
  }
 ],
 "metadata": {
  "kernelspec": {
   "display_name": "Python [Root]",
   "language": "python",
   "name": "Python [Root]"
  },
  "language_info": {
   "codemirror_mode": {
    "name": "ipython",
    "version": 3
   },
   "file_extension": ".py",
   "mimetype": "text/x-python",
   "name": "python",
   "nbconvert_exporter": "python",
   "pygments_lexer": "ipython3",
   "version": "3.5.2"
  }
 },
 "nbformat": 4,
 "nbformat_minor": 2
}
